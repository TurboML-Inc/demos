{
  "cells": [
    {
      "cell_type": "markdown",
      "metadata": {
        "id": "I-SdSFLmv-EX"
      },
      "source": [
        "# Streaming Anomaly Detection on Stock Data with TurboML\n",
        "\n",
        "This notebook demonstrates how to perform **real-time anomaly detection** using [TurboML](https://turboml.com/) on stock data fetched from **Alpha Vantage**.\n",
        "\n",
        "We will:\n",
        "1. Fetch stock price and volume data from Alpha Vantage (using their **intraday** endpoint as an example).\n",
        "2. Ingest data into TurboML in a push-based manner.\n",
        "3. Create feature transformations (SQL feature and a rolling aggregation) that will be computed **continuously**.\n",
        "4. Deploy an **unsupervised** **Random Cut Forest (RCF)** model to detect anomalies in real time."
      ]
    },
    {
      "cell_type": "markdown",
      "metadata": {
        "id": "c2ce3e03"
      },
      "source": [
        "Set up the environment and install TurboML's SDK."
      ]
    },
    {
      "cell_type": "code",
      "execution_count": null,
      "metadata": {
        "colab": {
          "base_uri": "https://localhost:8080/"
        },
        "id": "Tdd8L1BVznGF",
        "outputId": "85bca0ad-ee34-469d-a631-249dce176f56"
      },
      "outputs": [],
      "source": [
        "!pip install turboml-installer \n",
        "import turboml_installer ; turboml_installer.install_on_colab()"
      ]
    },
    {
      "cell_type": "markdown",
      "metadata": {
        "id": "PHffR74awgoX"
      },
      "source": [
        "## 1. Install and Import Required Libraries\n",
        "Alpha Vantage also requires an API key. You can sign up for a [free API key here](https://www.alphavantage.co/support/#api-key)."
      ]
    },
    {
      "cell_type": "code",
      "execution_count": 65,
      "metadata": {
        "id": "--vBKEV4zV_f"
      },
      "outputs": [],
      "source": [
        "import turboml as tb\n",
        "import pandas as pd\n",
        "import requests\n",
        "import time\n",
        "import matplotlib.pyplot as plt\n",
        "from tqdm import tqdm\n",
        "\n",
        "%matplotlib inline\n",
        "\n",
        "tb.init(backend_url=BACKEND_URL, api_key=API_KEY)"
      ]
    },
    {
      "cell_type": "markdown",
      "metadata": {
        "id": "uo8D72o7wrQD"
      },
      "source": [
        "## 2. Fetch Stock Data from Alpha Vantage\n",
        "We'll implement a helper function that fetches **intraday** data for a given symbol at a 1-minute interval (or any interval your Alpha Vantage plan supports).  \n",
        "We will parse the response into a pandas DataFrame with columns: `[timestamp, symbol, price, volume]`.  \n",
        "\n",
        "> **Important:** Replace `YOUR_ALPHA_VANTAGE_API_KEY` with your actual key."
      ]
    },
    {
      "cell_type": "code",
      "execution_count": 66,
      "metadata": {
        "id": "5kArUyAyqDOS"
      },
      "outputs": [],
      "source": [
        "# Replace with your actual Alpha Vantage API key\n",
        "ALPHA_VANTAGE_API_KEY = \"YOUR_ALPHA_VANTAGE_API_KEY\"\n",
        "\n",
        "def fetch_intraday_data(symbol=\"IBM\", interval=\"1min\", output_size=\"full\"):\n",
        "    \"\"\"\n",
        "    Fetch intraday stock data from Alpha Vantage for the given symbol.\n",
        "    interval can be '1min', '5min', '15min', '30min', or '60min'.\n",
        "    Returns a pandas DataFrame with columns:\n",
        "       [timestamp, symbol, price, volume]\n",
        "    \"\"\"\n",
        "    # Alpha Vantage Intraday API endpoint\n",
        "    url = (\n",
        "        f\"https://www.alphavantage.co/query?function=TIME_SERIES_INTRADAY\"\n",
        "        f\"&symbol={symbol}&interval={interval}&apikey={ALPHA_VANTAGE_API_KEY}\"\n",
        "        f\"&outputsize={output_size}\"\n",
        "    )\n",
        "\n",
        "    response = requests.get(url)\n",
        "    data_json = response.json()\n",
        "\n",
        "    # The JSON structure has a 'Time Series (1min)' key (or similar) that contains a dictionary of times\n",
        "    time_series_key = f\"Time Series ({interval})\"\n",
        "    if time_series_key not in data_json:\n",
        "        print(\"Error fetching data. Response:\", data_json)\n",
        "        return pd.DataFrame([])\n",
        "\n",
        "    ts_data = data_json[time_series_key]\n",
        "\n",
        "    # Each key in ts_data is a timestamp, and the value is a dict with '1. open', '2. high', '3. low', '4. close', '5. volume'\n",
        "    records = []\n",
        "    for ts, vals in ts_data.items():\n",
        "        # We can use the '4. close' price as a representative price\n",
        "        price = float(vals['4. close'])\n",
        "        volume = float(vals['5. volume'])\n",
        "        records.append({\n",
        "            \"timestamp\": pd.to_datetime(ts).value // 10**9,  # Convert to epoch seconds\n",
        "            \"symbol\": symbol,\n",
        "            \"price\": price,\n",
        "            \"volume\": volume\n",
        "        })\n",
        "\n",
        "    df = pd.DataFrame(records)\n",
        "    # Sort by timestamp ascending\n",
        "    df = df.sort_values(by=\"timestamp\").reset_index(drop=True)\n",
        "    return df\n"
      ]
    },
    {
      "cell_type": "markdown",
      "metadata": {
        "id": "sA4XJyLWw5pW"
      },
      "source": [
        "### Test Data Fetch\n",
        "Let's do a quick test fetch. We'll fetch intraday data points (Alpha Vantage returns whatever is available in their 'compact' data set, typically 100 data points)."
      ]
    },
    {
      "cell_type": "code",
      "execution_count": 67,
      "metadata": {
        "colab": {
          "base_uri": "https://localhost:8080/",
          "height": 206
        },
        "id": "pB5qqliPqJv8",
        "outputId": "5fd9bea2-59b8-4e82-ee01-a20bf8f08979"
      },
      "outputs": [
        {
          "data": {
            "application/vnd.google.colaboratory.intrinsic+json": {
              "summary": "{\n  \"name\": \"df_fetched\",\n  \"rows\": 12288,\n  \"fields\": [\n    {\n      \"column\": \"timestamp\",\n      \"properties\": {\n        \"dtype\": \"number\",\n        \"std\": 687803,\n        \"min\": 1732852800,\n        \"max\": 1735329240,\n        \"num_unique_values\": 12288,\n        \"samples\": [\n          1733770440,\n          1733750820,\n          1733415300\n        ],\n        \"semantic_type\": \"\",\n        \"description\": \"\"\n      }\n    },\n    {\n      \"column\": \"symbol\",\n      \"properties\": {\n        \"dtype\": \"category\",\n        \"num_unique_values\": 1,\n        \"samples\": [\n          \"IBM\"\n        ],\n        \"semantic_type\": \"\",\n        \"description\": \"\"\n      }\n    },\n    {\n      \"column\": \"price\",\n      \"properties\": {\n        \"dtype\": \"number\",\n        \"std\": 4.543179930569236,\n        \"min\": 218.56,\n        \"max\": 239.3422,\n        \"num_unique_values\": 3659,\n        \"samples\": [\n          227.79\n        ],\n        \"semantic_type\": \"\",\n        \"description\": \"\"\n      }\n    },\n    {\n      \"column\": \"volume\",\n      \"properties\": {\n        \"dtype\": \"number\",\n        \"std\": 164376.66232711184,\n        \"min\": 1.0,\n        \"max\": 12000302.0,\n        \"num_unique_values\": 5761,\n        \"samples\": [\n          22986.0\n        ],\n        \"semantic_type\": \"\",\n        \"description\": \"\"\n      }\n    }\n  ]\n}",
              "type": "dataframe",
              "variable_name": "df_fetched"
            },
            "text/html": [
              "\n",
              "  <div id=\"df-0f0cbb00-c51f-41bf-a7bb-509d26ad7e7d\" class=\"colab-df-container\">\n",
              "    <div>\n",
              "<style scoped>\n",
              "    .dataframe tbody tr th:only-of-type {\n",
              "        vertical-align: middle;\n",
              "    }\n",
              "\n",
              "    .dataframe tbody tr th {\n",
              "        vertical-align: top;\n",
              "    }\n",
              "\n",
              "    .dataframe thead th {\n",
              "        text-align: right;\n",
              "    }\n",
              "</style>\n",
              "<table border=\"1\" class=\"dataframe\">\n",
              "  <thead>\n",
              "    <tr style=\"text-align: right;\">\n",
              "      <th></th>\n",
              "      <th>timestamp</th>\n",
              "      <th>symbol</th>\n",
              "      <th>price</th>\n",
              "      <th>volume</th>\n",
              "    </tr>\n",
              "  </thead>\n",
              "  <tbody>\n",
              "    <tr>\n",
              "      <th>0</th>\n",
              "      <td>1732852800</td>\n",
              "      <td>IBM</td>\n",
              "      <td>227.00</td>\n",
              "      <td>22.0</td>\n",
              "    </tr>\n",
              "    <tr>\n",
              "      <th>1</th>\n",
              "      <td>1732852860</td>\n",
              "      <td>IBM</td>\n",
              "      <td>227.01</td>\n",
              "      <td>2.0</td>\n",
              "    </tr>\n",
              "    <tr>\n",
              "      <th>2</th>\n",
              "      <td>1732852920</td>\n",
              "      <td>IBM</td>\n",
              "      <td>227.01</td>\n",
              "      <td>9.0</td>\n",
              "    </tr>\n",
              "    <tr>\n",
              "      <th>3</th>\n",
              "      <td>1732852980</td>\n",
              "      <td>IBM</td>\n",
              "      <td>227.11</td>\n",
              "      <td>17.0</td>\n",
              "    </tr>\n",
              "    <tr>\n",
              "      <th>4</th>\n",
              "      <td>1732853040</td>\n",
              "      <td>IBM</td>\n",
              "      <td>227.48</td>\n",
              "      <td>8.0</td>\n",
              "    </tr>\n",
              "  </tbody>\n",
              "</table>\n",
              "</div>\n",
              "    <div class=\"colab-df-buttons\">\n",
              "\n",
              "  <div class=\"colab-df-container\">\n",
              "    <button class=\"colab-df-convert\" onclick=\"convertToInteractive('df-0f0cbb00-c51f-41bf-a7bb-509d26ad7e7d')\"\n",
              "            title=\"Convert this dataframe to an interactive table.\"\n",
              "            style=\"display:none;\">\n",
              "\n",
              "  <svg xmlns=\"http://www.w3.org/2000/svg\" height=\"24px\" viewBox=\"0 -960 960 960\">\n",
              "    <path d=\"M120-120v-720h720v720H120Zm60-500h600v-160H180v160Zm220 220h160v-160H400v160Zm0 220h160v-160H400v160ZM180-400h160v-160H180v160Zm440 0h160v-160H620v160ZM180-180h160v-160H180v160Zm440 0h160v-160H620v160Z\"/>\n",
              "  </svg>\n",
              "    </button>\n",
              "\n",
              "  <style>\n",
              "    .colab-df-container {\n",
              "      display:flex;\n",
              "      gap: 12px;\n",
              "    }\n",
              "\n",
              "    .colab-df-convert {\n",
              "      background-color: #E8F0FE;\n",
              "      border: none;\n",
              "      border-radius: 50%;\n",
              "      cursor: pointer;\n",
              "      display: none;\n",
              "      fill: #1967D2;\n",
              "      height: 32px;\n",
              "      padding: 0 0 0 0;\n",
              "      width: 32px;\n",
              "    }\n",
              "\n",
              "    .colab-df-convert:hover {\n",
              "      background-color: #E2EBFA;\n",
              "      box-shadow: 0px 1px 2px rgba(60, 64, 67, 0.3), 0px 1px 3px 1px rgba(60, 64, 67, 0.15);\n",
              "      fill: #174EA6;\n",
              "    }\n",
              "\n",
              "    .colab-df-buttons div {\n",
              "      margin-bottom: 4px;\n",
              "    }\n",
              "\n",
              "    [theme=dark] .colab-df-convert {\n",
              "      background-color: #3B4455;\n",
              "      fill: #D2E3FC;\n",
              "    }\n",
              "\n",
              "    [theme=dark] .colab-df-convert:hover {\n",
              "      background-color: #434B5C;\n",
              "      box-shadow: 0px 1px 3px 1px rgba(0, 0, 0, 0.15);\n",
              "      filter: drop-shadow(0px 1px 2px rgba(0, 0, 0, 0.3));\n",
              "      fill: #FFFFFF;\n",
              "    }\n",
              "  </style>\n",
              "\n",
              "    <script>\n",
              "      const buttonEl =\n",
              "        document.querySelector('#df-0f0cbb00-c51f-41bf-a7bb-509d26ad7e7d button.colab-df-convert');\n",
              "      buttonEl.style.display =\n",
              "        google.colab.kernel.accessAllowed ? 'block' : 'none';\n",
              "\n",
              "      async function convertToInteractive(key) {\n",
              "        const element = document.querySelector('#df-0f0cbb00-c51f-41bf-a7bb-509d26ad7e7d');\n",
              "        const dataTable =\n",
              "          await google.colab.kernel.invokeFunction('convertToInteractive',\n",
              "                                                    [key], {});\n",
              "        if (!dataTable) return;\n",
              "\n",
              "        const docLinkHtml = 'Like what you see? Visit the ' +\n",
              "          '<a target=\"_blank\" href=https://colab.research.google.com/notebooks/data_table.ipynb>data table notebook</a>'\n",
              "          + ' to learn more about interactive tables.';\n",
              "        element.innerHTML = '';\n",
              "        dataTable['output_type'] = 'display_data';\n",
              "        await google.colab.output.renderOutput(dataTable, element);\n",
              "        const docLink = document.createElement('div');\n",
              "        docLink.innerHTML = docLinkHtml;\n",
              "        element.appendChild(docLink);\n",
              "      }\n",
              "    </script>\n",
              "  </div>\n",
              "\n",
              "\n",
              "<div id=\"df-ae302d4a-a328-4110-957a-364afb1eb32a\">\n",
              "  <button class=\"colab-df-quickchart\" onclick=\"quickchart('df-ae302d4a-a328-4110-957a-364afb1eb32a')\"\n",
              "            title=\"Suggest charts\"\n",
              "            style=\"display:none;\">\n",
              "\n",
              "<svg xmlns=\"http://www.w3.org/2000/svg\" height=\"24px\"viewBox=\"0 0 24 24\"\n",
              "     width=\"24px\">\n",
              "    <g>\n",
              "        <path d=\"M19 3H5c-1.1 0-2 .9-2 2v14c0 1.1.9 2 2 2h14c1.1 0 2-.9 2-2V5c0-1.1-.9-2-2-2zM9 17H7v-7h2v7zm4 0h-2V7h2v10zm4 0h-2v-4h2v4z\"/>\n",
              "    </g>\n",
              "</svg>\n",
              "  </button>\n",
              "\n",
              "<style>\n",
              "  .colab-df-quickchart {\n",
              "      --bg-color: #E8F0FE;\n",
              "      --fill-color: #1967D2;\n",
              "      --hover-bg-color: #E2EBFA;\n",
              "      --hover-fill-color: #174EA6;\n",
              "      --disabled-fill-color: #AAA;\n",
              "      --disabled-bg-color: #DDD;\n",
              "  }\n",
              "\n",
              "  [theme=dark] .colab-df-quickchart {\n",
              "      --bg-color: #3B4455;\n",
              "      --fill-color: #D2E3FC;\n",
              "      --hover-bg-color: #434B5C;\n",
              "      --hover-fill-color: #FFFFFF;\n",
              "      --disabled-bg-color: #3B4455;\n",
              "      --disabled-fill-color: #666;\n",
              "  }\n",
              "\n",
              "  .colab-df-quickchart {\n",
              "    background-color: var(--bg-color);\n",
              "    border: none;\n",
              "    border-radius: 50%;\n",
              "    cursor: pointer;\n",
              "    display: none;\n",
              "    fill: var(--fill-color);\n",
              "    height: 32px;\n",
              "    padding: 0;\n",
              "    width: 32px;\n",
              "  }\n",
              "\n",
              "  .colab-df-quickchart:hover {\n",
              "    background-color: var(--hover-bg-color);\n",
              "    box-shadow: 0 1px 2px rgba(60, 64, 67, 0.3), 0 1px 3px 1px rgba(60, 64, 67, 0.15);\n",
              "    fill: var(--button-hover-fill-color);\n",
              "  }\n",
              "\n",
              "  .colab-df-quickchart-complete:disabled,\n",
              "  .colab-df-quickchart-complete:disabled:hover {\n",
              "    background-color: var(--disabled-bg-color);\n",
              "    fill: var(--disabled-fill-color);\n",
              "    box-shadow: none;\n",
              "  }\n",
              "\n",
              "  .colab-df-spinner {\n",
              "    border: 2px solid var(--fill-color);\n",
              "    border-color: transparent;\n",
              "    border-bottom-color: var(--fill-color);\n",
              "    animation:\n",
              "      spin 1s steps(1) infinite;\n",
              "  }\n",
              "\n",
              "  @keyframes spin {\n",
              "    0% {\n",
              "      border-color: transparent;\n",
              "      border-bottom-color: var(--fill-color);\n",
              "      border-left-color: var(--fill-color);\n",
              "    }\n",
              "    20% {\n",
              "      border-color: transparent;\n",
              "      border-left-color: var(--fill-color);\n",
              "      border-top-color: var(--fill-color);\n",
              "    }\n",
              "    30% {\n",
              "      border-color: transparent;\n",
              "      border-left-color: var(--fill-color);\n",
              "      border-top-color: var(--fill-color);\n",
              "      border-right-color: var(--fill-color);\n",
              "    }\n",
              "    40% {\n",
              "      border-color: transparent;\n",
              "      border-right-color: var(--fill-color);\n",
              "      border-top-color: var(--fill-color);\n",
              "    }\n",
              "    60% {\n",
              "      border-color: transparent;\n",
              "      border-right-color: var(--fill-color);\n",
              "    }\n",
              "    80% {\n",
              "      border-color: transparent;\n",
              "      border-right-color: var(--fill-color);\n",
              "      border-bottom-color: var(--fill-color);\n",
              "    }\n",
              "    90% {\n",
              "      border-color: transparent;\n",
              "      border-bottom-color: var(--fill-color);\n",
              "    }\n",
              "  }\n",
              "</style>\n",
              "\n",
              "  <script>\n",
              "    async function quickchart(key) {\n",
              "      const quickchartButtonEl =\n",
              "        document.querySelector('#' + key + ' button');\n",
              "      quickchartButtonEl.disabled = true;  // To prevent multiple clicks.\n",
              "      quickchartButtonEl.classList.add('colab-df-spinner');\n",
              "      try {\n",
              "        const charts = await google.colab.kernel.invokeFunction(\n",
              "            'suggestCharts', [key], {});\n",
              "      } catch (error) {\n",
              "        console.error('Error during call to suggestCharts:', error);\n",
              "      }\n",
              "      quickchartButtonEl.classList.remove('colab-df-spinner');\n",
              "      quickchartButtonEl.classList.add('colab-df-quickchart-complete');\n",
              "    }\n",
              "    (() => {\n",
              "      let quickchartButtonEl =\n",
              "        document.querySelector('#df-ae302d4a-a328-4110-957a-364afb1eb32a button');\n",
              "      quickchartButtonEl.style.display =\n",
              "        google.colab.kernel.accessAllowed ? 'block' : 'none';\n",
              "    })();\n",
              "  </script>\n",
              "</div>\n",
              "\n",
              "    </div>\n",
              "  </div>\n"
            ],
            "text/plain": [
              "    timestamp symbol   price  volume\n",
              "0  1732852800    IBM  227.00    22.0\n",
              "1  1732852860    IBM  227.01     2.0\n",
              "2  1732852920    IBM  227.01     9.0\n",
              "3  1732852980    IBM  227.11    17.0\n",
              "4  1732853040    IBM  227.48     8.0"
            ]
          },
          "execution_count": 67,
          "metadata": {},
          "output_type": "execute_result"
        }
      ],
      "source": [
        "# Example: fetch data for IBM at 1-minute intervals\n",
        "df_fetched = fetch_intraday_data(\"IBM\", \"1min\")\n",
        "df_fetched.head()"
      ]
    },
    {
      "cell_type": "markdown",
      "metadata": {
        "id": "T57p5VpSw_8e"
      },
      "source": [
        "## 3. Ingest Data into TurboML\n",
        "We'll use TurboML’s **push-based ingestion** approach by uploading the pandas DataFrame via **`tb.PandasDataset`**.  \n",
        "We’ll name the dataset `finance_data_av`.  \n",
        "\n",
        "> **Note:** Since timestamps are unique to each minute in this dataset, we can use **`timestamp`** as the primary key for simplicity."
      ]
    },
    {
      "cell_type": "code",
      "execution_count": 68,
      "metadata": {
        "colab": {
          "base_uri": "https://localhost:8080/"
        },
        "id": "H0prX7josIQF",
        "outputId": "115d50fe-e2dc-438a-fae5-8504d7e47c6a"
      },
      "outputs": [
        {
          "name": "stderr",
          "output_type": "stream",
          "text": [
            "INFO:turboml.common.dataloader:Uploading 12288 rows to dataset finance_data_av\n",
            "Progress: 100%|██████████| 12.3k/12.3k [00:00<00:00, 35.6krows/s]\n",
            "INFO:turboml.common.dataloader:Upload complete. Waiting for server to process messages.\n"
          ]
        },
        {
          "data": {
            "text/plain": [
              "PandasDataset(dataset_id=finance_data_av, key_field=timestamp, feature_engineering=<turboml.common.feature_engineering.FeatureEngineering object at 0x7b226ce71110>, streaming=True, schema=id=1 schema_type=<SchemaType.PROTOBUF: 'PROTOBUF'> schema_body='syntax = \"proto2\";\\nmessage finance_data_av {\\noptional int64 timestamp = 1;\\noptional string symbol = 2;\\noptional double price = 3;\\noptional double volume = 4;\\n}', input_df=        timestamp symbol     price  volume\n",
              "0      1732852800    IBM  227.0000    22.0\n",
              "1      1732852860    IBM  227.0100     2.0\n",
              "2      1732852920    IBM  227.0100     9.0\n",
              "3      1732852980    IBM  227.1100    17.0\n",
              "4      1732853040    IBM  227.4800     8.0\n",
              "...           ...    ...       ...     ...\n",
              "12283  1735328820    IBM  222.9000     2.0\n",
              "12284  1735329000    IBM  222.7450     2.0\n",
              "12285  1735329060    IBM  222.5542    66.0\n",
              "12286  1735329180    IBM  222.5000     6.0\n",
              "12287  1735329240    IBM  222.5122     2.0\n",
              "\n",
              "[12288 rows x 4 columns])"
            ]
          },
          "execution_count": 68,
          "metadata": {},
          "output_type": "execute_result"
        }
      ],
      "source": [
        "# Create a new dataset in TurboML\n",
        "# We'll assume you already have a TurboML instance running\n",
        "finance_dataset = tb.PandasDataset(\n",
        "    dataset_name=\"finance_data_av\",\n",
        "    dataframe=df_fetched,\n",
        "    key_field=\"timestamp\",\n",
        "    upload=True  # This actually uploads to TurboML\n",
        ")\n",
        "finance_dataset"
      ]
    },
    {
      "cell_type": "code",
      "execution_count": 69,
      "metadata": {
        "colab": {
          "base_uri": "https://localhost:8080/"
        },
        "id": "6ptC1mKWyBjU",
        "outputId": "5561bcd1-0807-4304-bcd0-285c9b08104d"
      },
      "outputs": [
        {
          "name": "stderr",
          "output_type": "stream",
          "text": [
            "INFO:turboml.common.dataloader:Uploading 12288 rows to dataset dummy_label_dataset\n",
            "Progress: 100%|██████████| 12.3k/12.3k [00:00<00:00, 29.4krows/s]\n",
            "INFO:turboml.common.dataloader:Upload complete. Waiting for server to process messages.\n"
          ]
        }
      ],
      "source": [
        "df_input = finance_dataset.feature_engineering.get_materialized_features()\n",
        "dummy_label_df = pd.DataFrame({\n",
        "    \"timestamp\": df_input[\"timestamp\"],      # match on your key field\n",
        "    \"dummy_label\": [0]*len(df_input)         # fill with zeros (or None)\n",
        "})\n",
        "#Upload to TurboML\n",
        "dummy_label_dataset = tb.PandasDataset(\n",
        "    dataset_name=\"dummy_label_dataset\",\n",
        "    key_field=\"timestamp\",\n",
        "    dataframe=dummy_label_df,\n",
        "    upload=True\n",
        ")\n",
        "#Get label field from dummy dataset\n",
        "dummy_label_field = dummy_label_dataset.get_label_field(label_field=\"dummy_label\")"
      ]
    },
    {
      "cell_type": "markdown",
      "metadata": {
        "id": "poFVzmagxKdM"
      },
      "source": [
        "## 4. Feature Engineering\n",
        "We’ll create:\n",
        "1. A **SQL feature** that multiplies `price * volume`.\n",
        "2. A **rolling aggregation** (time-windowed) for the last 1 hour to sum volumes.\n",
        "\n",
        "### 4.1 Register Timestamp\n",
        "We must let TurboML know which column is used as the time column for streaming aggregations."
      ]
    },
    {
      "cell_type": "code",
      "execution_count": 70,
      "metadata": {
        "id": "myUhjOqpxNdV"
      },
      "outputs": [],
      "source": [
        "finance_dataset.feature_engineering.register_timestamp(\n",
        "    column_name=\"timestamp\",   # Our existing column\n",
        "    format_type=\"epoch_seconds\"  # The data is in epoch seconds\n",
        ")\n",
        "\n",
        "# Quick demonstration of time formats if needed\n",
        "# print(tb.get_timestamp_formats())"
      ]
    },
    {
      "cell_type": "markdown",
      "metadata": {
        "id": "D7h0H7X_xQ5_"
      },
      "source": [
        "### 4.2 SQL Feature\n",
        "We'll create a new column called `price_volume_prod` which is simply `price * volume`."
      ]
    },
    {
      "cell_type": "code",
      "execution_count": 71,
      "metadata": {
        "id": "qtJVhq9IsmVv"
      },
      "outputs": [],
      "source": [
        "finance_dataset.feature_engineering.create_sql_features(\n",
        "    sql_definition='\"price\" * \"volume\"',\n",
        "    new_feature_name=\"price_volume_prod\"\n",
        ")"
      ]
    },
    {
      "cell_type": "markdown",
      "metadata": {
        "id": "1wdcz2G5xWj4"
      },
      "source": [
        "### 4.3 Rolling Aggregation\n",
        "We'll create a 1-hour rolling sum of volume per symbol.  \n",
        "> For intraday data, 1 hour may or may not be relevant, but this is just a demonstration of windowed aggregation in TurboML."
      ]
    },
    {
      "cell_type": "code",
      "execution_count": 72,
      "metadata": {
        "id": "gv32Rvt0xbFK"
      },
      "outputs": [],
      "source": [
        "finance_dataset.feature_engineering.create_aggregate_features(\n",
        "    column_to_operate=\"volume\",        # The field we want to aggregate\n",
        "    column_to_group=\"symbol\",         # Group by symbol\n",
        "    operation=\"SUM\",\n",
        "    new_feature_name=\"rolling_volume_1h\",\n",
        "    timestamp_column=\"timestamp\",\n",
        "    window_duration=1,                 # Window size is 1 hour\n",
        "    window_unit=\"hours\"               # 'minutes' or 'hours' or 'days'\n",
        ")"
      ]
    },
    {
      "cell_type": "markdown",
      "metadata": {
        "id": "XTh7r6Sexe6z"
      },
      "source": [
        "### 4.4 Materialize Features\n",
        "Now, let's tell TurboML to actually compute these features continuously.  \n",
        "Once materialized, these columns (`price_volume_prod`, `rolling_volume_1h`) will automatically update whenever new data arrives."
      ]
    },
    {
      "cell_type": "code",
      "execution_count": 73,
      "metadata": {
        "colab": {
          "base_uri": "https://localhost:8080/",
          "height": 381
        },
        "id": "emEZuLMKxhhp",
        "outputId": "49123a07-424a-4e61-c583-e947925f8b16"
      },
      "outputs": [
        {
          "name": "stdout",
          "output_type": "stream",
          "text": [
            "A snapshot of the materialized data:\n"
          ]
        },
        {
          "data": {
            "application/vnd.google.colaboratory.intrinsic+json": {
              "summary": "{\n  \"name\": \"df_local\",\n  \"rows\": 12288,\n  \"fields\": [\n    {\n      \"column\": \"timestamp\",\n      \"properties\": {\n        \"dtype\": \"number\",\n        \"std\": 687803,\n        \"min\": 1732852800,\n        \"max\": 1735329240,\n        \"num_unique_values\": 12288,\n        \"samples\": [\n          1733770440,\n          1733750820,\n          1733415300\n        ],\n        \"semantic_type\": \"\",\n        \"description\": \"\"\n      }\n    },\n    {\n      \"column\": \"symbol\",\n      \"properties\": {\n        \"dtype\": \"category\",\n        \"num_unique_values\": 1,\n        \"samples\": [\n          \"IBM\"\n        ],\n        \"semantic_type\": \"\",\n        \"description\": \"\"\n      }\n    },\n    {\n      \"column\": \"price\",\n      \"properties\": {\n        \"dtype\": \"number\",\n        \"std\": 4.543179930569236,\n        \"min\": 218.56,\n        \"max\": 239.3422,\n        \"num_unique_values\": 3659,\n        \"samples\": [\n          227.79\n        ],\n        \"semantic_type\": \"\",\n        \"description\": \"\"\n      }\n    },\n    {\n      \"column\": \"volume\",\n      \"properties\": {\n        \"dtype\": \"number\",\n        \"std\": 164376.66232711184,\n        \"min\": 1.0,\n        \"max\": 12000302.0,\n        \"num_unique_values\": 5761,\n        \"samples\": [\n          22986.0\n        ],\n        \"semantic_type\": \"\",\n        \"description\": \"\"\n      }\n    },\n    {\n      \"column\": \"price_volume_prod\",\n      \"properties\": {\n        \"dtype\": \"number\",\n        \"std\": 37024330.54236691,\n        \"min\": 220.13,\n        \"max\": 2680387454.7200003,\n        \"num_unique_values\": 11513,\n        \"samples\": [\n          695117.5\n        ],\n        \"semantic_type\": \"\",\n        \"description\": \"\"\n      }\n    },\n    {\n      \"column\": \"rolling_volume_1h\",\n      \"properties\": {\n        \"dtype\": \"number\",\n        \"std\": 1294926.3756660053,\n        \"min\": 1.0,\n        \"max\": 20890852.0,\n        \"num_unique_values\": 10939,\n        \"samples\": [\n          993067.0\n        ],\n        \"semantic_type\": \"\",\n        \"description\": \"\"\n      }\n    }\n  ]\n}",
              "type": "dataframe",
              "variable_name": "df_local"
            },
            "text/html": [
              "\n",
              "  <div id=\"df-41af9a08-8f48-49f4-b2e2-9bfff4f57c04\" class=\"colab-df-container\">\n",
              "    <div>\n",
              "<style scoped>\n",
              "    .dataframe tbody tr th:only-of-type {\n",
              "        vertical-align: middle;\n",
              "    }\n",
              "\n",
              "    .dataframe tbody tr th {\n",
              "        vertical-align: top;\n",
              "    }\n",
              "\n",
              "    .dataframe thead th {\n",
              "        text-align: right;\n",
              "    }\n",
              "</style>\n",
              "<table border=\"1\" class=\"dataframe\">\n",
              "  <thead>\n",
              "    <tr style=\"text-align: right;\">\n",
              "      <th></th>\n",
              "      <th>timestamp</th>\n",
              "      <th>symbol</th>\n",
              "      <th>price</th>\n",
              "      <th>volume</th>\n",
              "      <th>price_volume_prod</th>\n",
              "      <th>rolling_volume_1h</th>\n",
              "    </tr>\n",
              "  </thead>\n",
              "  <tbody>\n",
              "    <tr>\n",
              "      <th>0</th>\n",
              "      <td>1732852800</td>\n",
              "      <td>IBM</td>\n",
              "      <td>227.00</td>\n",
              "      <td>22.0</td>\n",
              "      <td>4994.00</td>\n",
              "      <td>22.0</td>\n",
              "    </tr>\n",
              "    <tr>\n",
              "      <th>1</th>\n",
              "      <td>1732852860</td>\n",
              "      <td>IBM</td>\n",
              "      <td>227.01</td>\n",
              "      <td>2.0</td>\n",
              "      <td>454.02</td>\n",
              "      <td>24.0</td>\n",
              "    </tr>\n",
              "    <tr>\n",
              "      <th>2</th>\n",
              "      <td>1732852920</td>\n",
              "      <td>IBM</td>\n",
              "      <td>227.01</td>\n",
              "      <td>9.0</td>\n",
              "      <td>2043.09</td>\n",
              "      <td>33.0</td>\n",
              "    </tr>\n",
              "    <tr>\n",
              "      <th>3</th>\n",
              "      <td>1732852980</td>\n",
              "      <td>IBM</td>\n",
              "      <td>227.11</td>\n",
              "      <td>17.0</td>\n",
              "      <td>3860.87</td>\n",
              "      <td>50.0</td>\n",
              "    </tr>\n",
              "    <tr>\n",
              "      <th>4</th>\n",
              "      <td>1732853040</td>\n",
              "      <td>IBM</td>\n",
              "      <td>227.48</td>\n",
              "      <td>8.0</td>\n",
              "      <td>1819.84</td>\n",
              "      <td>58.0</td>\n",
              "    </tr>\n",
              "    <tr>\n",
              "      <th>5</th>\n",
              "      <td>1732853100</td>\n",
              "      <td>IBM</td>\n",
              "      <td>227.03</td>\n",
              "      <td>19.0</td>\n",
              "      <td>4313.57</td>\n",
              "      <td>77.0</td>\n",
              "    </tr>\n",
              "    <tr>\n",
              "      <th>6</th>\n",
              "      <td>1732853160</td>\n",
              "      <td>IBM</td>\n",
              "      <td>227.40</td>\n",
              "      <td>1.0</td>\n",
              "      <td>227.40</td>\n",
              "      <td>78.0</td>\n",
              "    </tr>\n",
              "    <tr>\n",
              "      <th>7</th>\n",
              "      <td>1732853220</td>\n",
              "      <td>IBM</td>\n",
              "      <td>227.48</td>\n",
              "      <td>2.0</td>\n",
              "      <td>454.96</td>\n",
              "      <td>80.0</td>\n",
              "    </tr>\n",
              "    <tr>\n",
              "      <th>8</th>\n",
              "      <td>1732853280</td>\n",
              "      <td>IBM</td>\n",
              "      <td>227.08</td>\n",
              "      <td>2.0</td>\n",
              "      <td>454.16</td>\n",
              "      <td>82.0</td>\n",
              "    </tr>\n",
              "    <tr>\n",
              "      <th>9</th>\n",
              "      <td>1732853340</td>\n",
              "      <td>IBM</td>\n",
              "      <td>227.48</td>\n",
              "      <td>66.0</td>\n",
              "      <td>15013.68</td>\n",
              "      <td>148.0</td>\n",
              "    </tr>\n",
              "  </tbody>\n",
              "</table>\n",
              "</div>\n",
              "    <div class=\"colab-df-buttons\">\n",
              "\n",
              "  <div class=\"colab-df-container\">\n",
              "    <button class=\"colab-df-convert\" onclick=\"convertToInteractive('df-41af9a08-8f48-49f4-b2e2-9bfff4f57c04')\"\n",
              "            title=\"Convert this dataframe to an interactive table.\"\n",
              "            style=\"display:none;\">\n",
              "\n",
              "  <svg xmlns=\"http://www.w3.org/2000/svg\" height=\"24px\" viewBox=\"0 -960 960 960\">\n",
              "    <path d=\"M120-120v-720h720v720H120Zm60-500h600v-160H180v160Zm220 220h160v-160H400v160Zm0 220h160v-160H400v160ZM180-400h160v-160H180v160Zm440 0h160v-160H620v160ZM180-180h160v-160H180v160Zm440 0h160v-160H620v160Z\"/>\n",
              "  </svg>\n",
              "    </button>\n",
              "\n",
              "  <style>\n",
              "    .colab-df-container {\n",
              "      display:flex;\n",
              "      gap: 12px;\n",
              "    }\n",
              "\n",
              "    .colab-df-convert {\n",
              "      background-color: #E8F0FE;\n",
              "      border: none;\n",
              "      border-radius: 50%;\n",
              "      cursor: pointer;\n",
              "      display: none;\n",
              "      fill: #1967D2;\n",
              "      height: 32px;\n",
              "      padding: 0 0 0 0;\n",
              "      width: 32px;\n",
              "    }\n",
              "\n",
              "    .colab-df-convert:hover {\n",
              "      background-color: #E2EBFA;\n",
              "      box-shadow: 0px 1px 2px rgba(60, 64, 67, 0.3), 0px 1px 3px 1px rgba(60, 64, 67, 0.15);\n",
              "      fill: #174EA6;\n",
              "    }\n",
              "\n",
              "    .colab-df-buttons div {\n",
              "      margin-bottom: 4px;\n",
              "    }\n",
              "\n",
              "    [theme=dark] .colab-df-convert {\n",
              "      background-color: #3B4455;\n",
              "      fill: #D2E3FC;\n",
              "    }\n",
              "\n",
              "    [theme=dark] .colab-df-convert:hover {\n",
              "      background-color: #434B5C;\n",
              "      box-shadow: 0px 1px 3px 1px rgba(0, 0, 0, 0.15);\n",
              "      filter: drop-shadow(0px 1px 2px rgba(0, 0, 0, 0.3));\n",
              "      fill: #FFFFFF;\n",
              "    }\n",
              "  </style>\n",
              "\n",
              "    <script>\n",
              "      const buttonEl =\n",
              "        document.querySelector('#df-41af9a08-8f48-49f4-b2e2-9bfff4f57c04 button.colab-df-convert');\n",
              "      buttonEl.style.display =\n",
              "        google.colab.kernel.accessAllowed ? 'block' : 'none';\n",
              "\n",
              "      async function convertToInteractive(key) {\n",
              "        const element = document.querySelector('#df-41af9a08-8f48-49f4-b2e2-9bfff4f57c04');\n",
              "        const dataTable =\n",
              "          await google.colab.kernel.invokeFunction('convertToInteractive',\n",
              "                                                    [key], {});\n",
              "        if (!dataTable) return;\n",
              "\n",
              "        const docLinkHtml = 'Like what you see? Visit the ' +\n",
              "          '<a target=\"_blank\" href=https://colab.research.google.com/notebooks/data_table.ipynb>data table notebook</a>'\n",
              "          + ' to learn more about interactive tables.';\n",
              "        element.innerHTML = '';\n",
              "        dataTable['output_type'] = 'display_data';\n",
              "        await google.colab.output.renderOutput(dataTable, element);\n",
              "        const docLink = document.createElement('div');\n",
              "        docLink.innerHTML = docLinkHtml;\n",
              "        element.appendChild(docLink);\n",
              "      }\n",
              "    </script>\n",
              "  </div>\n",
              "\n",
              "\n",
              "<div id=\"df-830ad6d2-9760-4689-ab2c-37e24784f5a3\">\n",
              "  <button class=\"colab-df-quickchart\" onclick=\"quickchart('df-830ad6d2-9760-4689-ab2c-37e24784f5a3')\"\n",
              "            title=\"Suggest charts\"\n",
              "            style=\"display:none;\">\n",
              "\n",
              "<svg xmlns=\"http://www.w3.org/2000/svg\" height=\"24px\"viewBox=\"0 0 24 24\"\n",
              "     width=\"24px\">\n",
              "    <g>\n",
              "        <path d=\"M19 3H5c-1.1 0-2 .9-2 2v14c0 1.1.9 2 2 2h14c1.1 0 2-.9 2-2V5c0-1.1-.9-2-2-2zM9 17H7v-7h2v7zm4 0h-2V7h2v10zm4 0h-2v-4h2v4z\"/>\n",
              "    </g>\n",
              "</svg>\n",
              "  </button>\n",
              "\n",
              "<style>\n",
              "  .colab-df-quickchart {\n",
              "      --bg-color: #E8F0FE;\n",
              "      --fill-color: #1967D2;\n",
              "      --hover-bg-color: #E2EBFA;\n",
              "      --hover-fill-color: #174EA6;\n",
              "      --disabled-fill-color: #AAA;\n",
              "      --disabled-bg-color: #DDD;\n",
              "  }\n",
              "\n",
              "  [theme=dark] .colab-df-quickchart {\n",
              "      --bg-color: #3B4455;\n",
              "      --fill-color: #D2E3FC;\n",
              "      --hover-bg-color: #434B5C;\n",
              "      --hover-fill-color: #FFFFFF;\n",
              "      --disabled-bg-color: #3B4455;\n",
              "      --disabled-fill-color: #666;\n",
              "  }\n",
              "\n",
              "  .colab-df-quickchart {\n",
              "    background-color: var(--bg-color);\n",
              "    border: none;\n",
              "    border-radius: 50%;\n",
              "    cursor: pointer;\n",
              "    display: none;\n",
              "    fill: var(--fill-color);\n",
              "    height: 32px;\n",
              "    padding: 0;\n",
              "    width: 32px;\n",
              "  }\n",
              "\n",
              "  .colab-df-quickchart:hover {\n",
              "    background-color: var(--hover-bg-color);\n",
              "    box-shadow: 0 1px 2px rgba(60, 64, 67, 0.3), 0 1px 3px 1px rgba(60, 64, 67, 0.15);\n",
              "    fill: var(--button-hover-fill-color);\n",
              "  }\n",
              "\n",
              "  .colab-df-quickchart-complete:disabled,\n",
              "  .colab-df-quickchart-complete:disabled:hover {\n",
              "    background-color: var(--disabled-bg-color);\n",
              "    fill: var(--disabled-fill-color);\n",
              "    box-shadow: none;\n",
              "  }\n",
              "\n",
              "  .colab-df-spinner {\n",
              "    border: 2px solid var(--fill-color);\n",
              "    border-color: transparent;\n",
              "    border-bottom-color: var(--fill-color);\n",
              "    animation:\n",
              "      spin 1s steps(1) infinite;\n",
              "  }\n",
              "\n",
              "  @keyframes spin {\n",
              "    0% {\n",
              "      border-color: transparent;\n",
              "      border-bottom-color: var(--fill-color);\n",
              "      border-left-color: var(--fill-color);\n",
              "    }\n",
              "    20% {\n",
              "      border-color: transparent;\n",
              "      border-left-color: var(--fill-color);\n",
              "      border-top-color: var(--fill-color);\n",
              "    }\n",
              "    30% {\n",
              "      border-color: transparent;\n",
              "      border-left-color: var(--fill-color);\n",
              "      border-top-color: var(--fill-color);\n",
              "      border-right-color: var(--fill-color);\n",
              "    }\n",
              "    40% {\n",
              "      border-color: transparent;\n",
              "      border-right-color: var(--fill-color);\n",
              "      border-top-color: var(--fill-color);\n",
              "    }\n",
              "    60% {\n",
              "      border-color: transparent;\n",
              "      border-right-color: var(--fill-color);\n",
              "    }\n",
              "    80% {\n",
              "      border-color: transparent;\n",
              "      border-right-color: var(--fill-color);\n",
              "      border-bottom-color: var(--fill-color);\n",
              "    }\n",
              "    90% {\n",
              "      border-color: transparent;\n",
              "      border-bottom-color: var(--fill-color);\n",
              "    }\n",
              "  }\n",
              "</style>\n",
              "\n",
              "  <script>\n",
              "    async function quickchart(key) {\n",
              "      const quickchartButtonEl =\n",
              "        document.querySelector('#' + key + ' button');\n",
              "      quickchartButtonEl.disabled = true;  // To prevent multiple clicks.\n",
              "      quickchartButtonEl.classList.add('colab-df-spinner');\n",
              "      try {\n",
              "        const charts = await google.colab.kernel.invokeFunction(\n",
              "            'suggestCharts', [key], {});\n",
              "      } catch (error) {\n",
              "        console.error('Error during call to suggestCharts:', error);\n",
              "      }\n",
              "      quickchartButtonEl.classList.remove('colab-df-spinner');\n",
              "      quickchartButtonEl.classList.add('colab-df-quickchart-complete');\n",
              "    }\n",
              "    (() => {\n",
              "      let quickchartButtonEl =\n",
              "        document.querySelector('#df-830ad6d2-9760-4689-ab2c-37e24784f5a3 button');\n",
              "      quickchartButtonEl.style.display =\n",
              "        google.colab.kernel.accessAllowed ? 'block' : 'none';\n",
              "    })();\n",
              "  </script>\n",
              "</div>\n",
              "\n",
              "    </div>\n",
              "  </div>\n"
            ],
            "text/plain": [
              "    timestamp symbol   price  volume  price_volume_prod  rolling_volume_1h\n",
              "0  1732852800    IBM  227.00    22.0            4994.00               22.0\n",
              "1  1732852860    IBM  227.01     2.0             454.02               24.0\n",
              "2  1732852920    IBM  227.01     9.0            2043.09               33.0\n",
              "3  1732852980    IBM  227.11    17.0            3860.87               50.0\n",
              "4  1732853040    IBM  227.48     8.0            1819.84               58.0\n",
              "5  1732853100    IBM  227.03    19.0            4313.57               77.0\n",
              "6  1732853160    IBM  227.40     1.0             227.40               78.0\n",
              "7  1732853220    IBM  227.48     2.0             454.96               80.0\n",
              "8  1732853280    IBM  227.08     2.0             454.16               82.0\n",
              "9  1732853340    IBM  227.48    66.0           15013.68              148.0"
            ]
          },
          "execution_count": 73,
          "metadata": {},
          "output_type": "execute_result"
        }
      ],
      "source": [
        "finance_dataset.feature_engineering.materialize_features([\n",
        "    \"price_volume_prod\",\n",
        "    \"rolling_volume_1h\"\n",
        "])\n",
        "\n",
        "df_local = finance_dataset.feature_engineering.get_materialized_features()\n",
        "print(\"A snapshot of the materialized data:\")\n",
        "df_local.head(10)"
      ]
    },
    {
      "cell_type": "markdown",
      "metadata": {
        "id": "GEyE2KboxnPL"
      },
      "source": [
        "## 5. Deploy an Anomaly Detection Model\n",
        "We'll use **Random Cut Forest (RCF)**, which is good for unsupervised outlier/anomaly detection.  \n",
        "### 5.1 Choose the Input Fields\n",
        "We’ll pick numeric fields (`price, volume, price_volume_prod, rolling_volume_1h`) for RCF."
      ]
    },
    {
      "cell_type": "code",
      "execution_count": 74,
      "metadata": {
        "id": "2_hsHZpvsNo8"
      },
      "outputs": [],
      "source": [
        "rcf_model = tb.RCF(number_of_trees=50)\n",
        "\n",
        "# Which fields from our dataset do we want to feed into the model?\n",
        "numerical_fields = [\"price\", \"volume\", \"price_volume_prod\", \"rolling_volume_1h\"]\n",
        "model_inputs = finance_dataset.get_input_fields(numerical_fields=numerical_fields)\n",
        "\n",
        "# Deploy the model. (Unsupervised, labels are not needed but the topics needs to be in pipeline)\n",
        "deployed_rcf = rcf_model.deploy(\n",
        "    name=\"streaming_finance_anomaly_detector\",\n",
        "    input=model_inputs,\n",
        "    labels=dummy_label_field\n",
        ")"
      ]
    },
    {
      "cell_type": "markdown",
      "metadata": {
        "id": "TxvwhrhTSy8b"
      },
      "source": [
        "## 6. Continuous Streaming Components\n",
        "\n",
        "We'll implement functions to continuously fetch and process stock data from Alpha Vantage.\n",
        "\n",
        "### 6.1 Stream Data Generator\n",
        "First, let's create a function that yields chunks of stock data:"
      ]
    },
    {
      "cell_type": "code",
      "execution_count": 75,
      "metadata": {
        "id": "i1QVNkWWSsR2"
      },
      "outputs": [],
      "source": [
        "def stream_stock_data(symbol=\"IBM\", interval=\"1min\", chunk_size=10, delay=5):\n",
        "    \"\"\"Continuously fetch and stream stock data in chunks\"\"\"\n",
        "    while True:\n",
        "        try:\n",
        "            df = fetch_intraday_data(symbol, interval)\n",
        "            if df.empty:\n",
        "                print(\"No data received, waiting before retry...\")\n",
        "                time.sleep(delay)\n",
        "                continue\n",
        "\n",
        "            for i in range(0, len(df), chunk_size):\n",
        "                chunk = df.iloc[i:i+chunk_size]\n",
        "                yield chunk\n",
        "\n",
        "            time.sleep(delay)\n",
        "\n",
        "        except Exception as e:\n",
        "            print(f\"Error fetching data: {e}\")\n",
        "            time.sleep(delay)"
      ]
    },
    {
      "cell_type": "markdown",
      "metadata": {
        "id": "f-13CMPPVMYQ"
      },
      "source": [
        "### 6.2 Data Upload Handler\n",
        "Next, we'll create a handler for uploading data using TurboML's SDK:"
      ]
    },
    {
      "cell_type": "code",
      "execution_count": 76,
      "metadata": {
        "id": "mAOVH_vpVOrY"
      },
      "outputs": [],
      "source": [
        "def sdk_upload_df(dataset, df):\n",
        "    \"\"\"Upload data using TurboML SDK\"\"\"\n",
        "    dataset.upload_df(dataframe=df)"
      ]
    },
    {
      "cell_type": "markdown",
      "metadata": {
        "id": "xZMJ0o5BVS11"
      },
      "source": [
        "### 6.3 Streaming Process\n",
        "Now we'll create the main streaming function to handle continuous data processing"
      ]
    },
    {
      "cell_type": "code",
      "execution_count": 77,
      "metadata": {
        "id": "hBQyYeMGVZeA"
      },
      "outputs": [],
      "source": [
        "def run_continuous_streaming(finance_dataset, chunk_size=10, delay=5):\n",
        "    \"\"\"Stream stock data continuously to TurboML\"\"\"\n",
        "    stream = stream_stock_data(chunk_size=chunk_size, delay=delay)\n",
        "\n",
        "    with tqdm(desc=\"Streaming Progress\") as pbar:\n",
        "        try:\n",
        "            for chunk in stream:\n",
        "                start = time.perf_counter()\n",
        "                sdk_upload_df(finance_dataset, chunk)\n",
        "                end = time.perf_counter()\n",
        "\n",
        "                pbar.update(len(chunk))\n",
        "                print(f\"Uploaded {len(chunk)} records in {end - start:.3f} seconds\")\n",
        "\n",
        "                # Monitor features and model outputs\n",
        "                finance_dataset.sync_features()\n",
        "                materialized = finance_dataset.feature_engineering.get_materialized_features()\n",
        "                print(\"Latest materialized features shape:\", materialized.shape)\n",
        "\n",
        "                if deployed_rcf:\n",
        "                    outputs = deployed_rcf.get_outputs()\n",
        "                    if outputs:\n",
        "                        print(\"Latest anomaly score:\", outputs[-1][\"record\"].score)\n",
        "\n",
        "        except KeyboardInterrupt:\n",
        "            print(\"\\nStreaming stopped by user\")"
      ]
    },
    {
      "cell_type": "markdown",
      "metadata": {
        "id": "DAaXczMLVf9m"
      },
      "source": [
        "### 6.4 Start Streaming\n",
        "Let's configure and initiate the streaming process"
      ]
    },
    {
      "cell_type": "code",
      "execution_count": 78,
      "metadata": {
        "colab": {
          "base_uri": "https://localhost:8080/"
        },
        "id": "A8I7pu2oVjKT",
        "outputId": "d01b92c5-a887-470f-ab03-595b8acd7a57"
      },
      "outputs": [
        {
          "name": "stdout",
          "output_type": "stream",
          "text": [
            "\n",
            "Streaming Configuration:\n",
            "- Chunk Size: 10 records\n",
            "- Delay between API calls: 5 seconds\n",
            "- Upload method: SDK\n",
            "- Model monitoring: Enabled\n",
            "\n"
          ]
        },
        {
          "name": "stderr",
          "output_type": "stream",
          "text": [
            "\rStreaming Progress: 0it [00:00, ?it/s]INFO:turboml.common.dataloader:Uploading 10 rows to dataset finance_data_av\n",
            "\n",
            "Progress: 100%|██████████| 10.0/10.0 [00:00<00:00, 2.16krows/s]\n",
            "INFO:turboml.common.dataloader:Upload complete. Waiting for server to process messages.\n",
            "Streaming Progress: 10it [00:08,  1.12it/s]"
          ]
        },
        {
          "name": "stdout",
          "output_type": "stream",
          "text": [
            "Uploaded 10 records in 1.622 seconds\n",
            "Latest materialized features shape: (12288, 6)\n"
          ]
        },
        {
          "name": "stderr",
          "output_type": "stream",
          "text": [
            "INFO:turboml.common.dataloader:Yielded 5000 records (1 batches) in 1 seconds\n",
            "INFO:turboml.common.dataloader:Yielded 12288 records (3 batches) in 2 seconds\n"
          ]
        },
        {
          "name": "stdout",
          "output_type": "stream",
          "text": [
            "Latest anomaly score: 0.6437745690345764\n"
          ]
        },
        {
          "name": "stderr",
          "output_type": "stream",
          "text": [
            "INFO:turboml.common.dataloader:Uploading 10 rows to dataset finance_data_av\n",
            "\n",
            "Progress: 100%|██████████| 10.0/10.0 [00:00<00:00, 1.44krows/s]\n",
            "INFO:turboml.common.dataloader:Upload complete. Waiting for server to process messages.\n",
            "Streaming Progress: 20it [00:17,  1.15it/s]"
          ]
        },
        {
          "name": "stdout",
          "output_type": "stream",
          "text": [
            "Uploaded 10 records in 1.592 seconds\n",
            "Latest materialized features shape: (12288, 6)\n"
          ]
        },
        {
          "name": "stderr",
          "output_type": "stream",
          "text": [
            "INFO:turboml.common.dataloader:Yielded 5000 records (1 batches) in 1 seconds\n",
            "INFO:turboml.common.dataloader:Yielded 12288 records (3 batches) in 2 seconds\n"
          ]
        },
        {
          "name": "stdout",
          "output_type": "stream",
          "text": [
            "Latest anomaly score: 0.6437745690345764\n"
          ]
        },
        {
          "name": "stderr",
          "output_type": "stream",
          "text": [
            "INFO:turboml.common.dataloader:Uploading 10 rows to dataset finance_data_av\n",
            "\n",
            "Progress: 100%|██████████| 10.0/10.0 [00:00<00:00, 1.66krows/s]\n",
            "INFO:turboml.common.dataloader:Upload complete. Waiting for server to process messages.\n",
            "Streaming Progress: 30it [00:26,  1.14it/s]"
          ]
        },
        {
          "name": "stdout",
          "output_type": "stream",
          "text": [
            "Uploaded 10 records in 1.571 seconds\n",
            "Latest materialized features shape: (12288, 6)\n"
          ]
        },
        {
          "name": "stderr",
          "output_type": "stream",
          "text": [
            "INFO:turboml.common.dataloader:Yielded 5000 records (1 batches) in 1 seconds\n",
            "INFO:turboml.common.dataloader:Yielded 12288 records (3 batches) in 2 seconds\n"
          ]
        },
        {
          "name": "stdout",
          "output_type": "stream",
          "text": [
            "Latest anomaly score: 0.6437745690345764\n"
          ]
        },
        {
          "name": "stderr",
          "output_type": "stream",
          "text": [
            "INFO:turboml.common.dataloader:Uploading 10 rows to dataset finance_data_av\n",
            "\n",
            "Progress: 100%|██████████| 10.0/10.0 [00:00<00:00, 7.13krows/s]\n",
            "INFO:turboml.common.dataloader:Upload complete. Waiting for server to process messages.\n",
            "Streaming Progress: 40it [00:34,  1.15it/s]"
          ]
        },
        {
          "name": "stdout",
          "output_type": "stream",
          "text": [
            "Uploaded 10 records in 1.572 seconds\n",
            "Latest materialized features shape: (12288, 6)\n"
          ]
        },
        {
          "name": "stderr",
          "output_type": "stream",
          "text": [
            "\rStreaming Progress: 40it [00:39,  1.01it/s]"
          ]
        },
        {
          "name": "stdout",
          "output_type": "stream",
          "text": [
            "\n",
            "Streaming stopped by user\n"
          ]
        },
        {
          "name": "stderr",
          "output_type": "stream",
          "text": [
            "\n"
          ]
        }
      ],
      "source": [
        "CHUNK_SIZE = 10  # Records per batch\n",
        "STREAM_DELAY = 5 # Seconds between API calls\n",
        "\n",
        "print(f\"\"\"\n",
        "Streaming Configuration:\n",
        "- Chunk Size: {CHUNK_SIZE} records\n",
        "- Delay between API calls: {STREAM_DELAY} seconds\n",
        "- Upload method: SDK\n",
        "- Model monitoring: Enabled\n",
        "\"\"\")\n",
        "\n",
        "run_continuous_streaming(\n",
        "    finance_dataset,\n",
        "    chunk_size=CHUNK_SIZE,\n",
        "    delay=STREAM_DELAY\n",
        ")"
      ]
    },
    {
      "cell_type": "markdown",
      "metadata": {
        "id": "7ekYOSCfyQU4"
      },
      "source": [
        "## 7. Inspect Real-Time Outputs\n",
        "Once deployed, the model processes all existing (and future) records in `finance_data_av`.  \n",
        "We can call `get_outputs()` to see how many results have been generated so far and to view anomaly scores."
      ]
    },
    {
      "cell_type": "code",
      "execution_count": 79,
      "metadata": {
        "colab": {
          "base_uri": "https://localhost:8080/",
          "height": 589
        },
        "id": "pw-IuyFgySgO",
        "outputId": "78b1bb97-b9c7-4cc7-983d-2e0c8d5ca317"
      },
      "outputs": [
        {
          "name": "stderr",
          "output_type": "stream",
          "text": [
            "INFO:turboml.common.dataloader:Yielded 5000 records (1 batches) in 1 seconds\n",
            "INFO:turboml.common.dataloader:Yielded 12288 records (3 batches) in 2 seconds\n"
          ]
        },
        {
          "name": "stdout",
          "output_type": "stream",
          "text": [
            "Number of outputs so far: 12288\n",
            "Sample output: {'offset': 12287, 'record': key: \"1735329240\"\n",
            "score: 0.643774569\n",
            "feature_score: 2.68710155e-05\n",
            "feature_score: 0.000121300043\n",
            "feature_score: 0.0267220289\n",
            "feature_score: 0.973129749\n",
            "}\n"
          ]
        },
        {
          "data": {
            "image/png": "[encoded data removed]",
            "text/plain": [
              "<Figure size 1000x400 with 1 Axes>"
            ]
          },
          "metadata": {},
          "output_type": "display_data"
        }
      ],
      "source": [
        "outputs = deployed_rcf.get_outputs()\n",
        "print(f\"Number of outputs so far: {len(outputs)}\")\n",
        "if len(outputs) > 0:\n",
        "    print(\"Sample output:\", outputs[-1])\n",
        "\n",
        "# Let's plot the anomaly scores for all points we have\n",
        "if len(outputs) > 0:\n",
        "    anomaly_scores = [o[\"record\"].score for o in outputs]\n",
        "    plt.figure(figsize=(10, 4))\n",
        "    plt.plot(anomaly_scores, label=\"RCF Anomaly Score\")\n",
        "    plt.title(\"Random Cut Forest Anomaly Scores (initial data)\")\n",
        "    plt.xlabel(\"Data point index\")\n",
        "    plt.ylabel(\"Anomaly Score\")\n",
        "    plt.legend()\n",
        "    plt.show()"
      ]
    },
    {
      "cell_type": "markdown",
      "metadata": {
        "id": "-TEUgpGtbE14"
      },
      "source": [
        "Most stock activity shows normal patterns with scores between 0-2. However, there are several significant spikes reaching scores of 4-7, indicating moments of unusual market behavior that could represent important trading signals or risk events. The most notable anomaly spike reaches approximately 7.5, marking the most unusual event in the dataset."
      ]
    },
    {
      "cell_type": "markdown",
      "metadata": {
        "id": "L30eypxw0dPf"
      },
      "source": [
        "## 8. (Optional) Single-Record Inference via Model Endpoint\n",
        "Instead of streaming, you might want to do **synchronous** (request-response) inference for a single data point.  \n",
        "TurboML exposes a REST endpoint for each deployed model.  \n",
        "We can get the endpoint URL via `get_endpoints()`.**bold text**"
      ]
    },
    {
      "cell_type": "code",
      "execution_count": null,
      "metadata": {
        "colab": {
          "base_uri": "https://localhost:8080/"
        },
        "id": "eALUajj60iz1",
        "outputId": "89a22ef7-ce2f-4fcf-9f77-83858d609e67"
      },
      "outputs": [],
      "source": [
        "model_endpoints = deployed_rcf.get_endpoints()\n",
        "model_endpoints"
      ]
    },
    {
      "cell_type": "markdown",
      "metadata": {
        "id": "yxLmGXJG0m6e"
      },
      "source": [
        "### Example of a synchronous inference call\n",
        "```python\n",
        "test_point = {\n",
        "    \"timestamp\": int(time.time()),\n",
        "    \"symbol\": \"IBM\",\n",
        "    \"price\": 135.12,\n",
        "    \"volume\": 3000\n",
        "}\n",
        "# Make a POST request\n",
        "predict_url = model_endpoints[0]  # e.g. 'https://<BASE_URL>/streaming_finance_anomaly_detector/predict'\n",
        "resp = requests.post(predict_url, json=test_point, headers=tb.common.api.headers)\n",
        "print(\"Response:\", resp.json())\n",
        "```"
      ]
    },
    {
      "cell_type": "markdown",
      "metadata": {
        "id": "iRl9lR1Z0vZs"
      },
      "source": [
        "## 9. Drift Detection\n",
        "TurboML can **continuously** monitor drift in your dataset and model outputs. We'll register **univariate** drift on `price` (for demonstration) and **model drift** on the RCF output.\n",
        "\n",
        "### 9.1 Univariate Drift\n",
        "We'll track changes in the distribution of `price`. (You could also do `volume`, `price_volume_prod`, etc.)"
      ]
    },
    {
      "cell_type": "code",
      "execution_count": 81,
      "metadata": {
        "id": "IgBT9C6x0vGZ"
      },
      "outputs": [],
      "source": [
        "finance_dataset.register_univariate_drift(numerical_field=\"price\")"
      ]
    },
    {
      "cell_type": "markdown",
      "metadata": {
        "id": "xPv-B6AB06Vd"
      },
      "source": [
        "To **fetch** univariate drift results, we can call:\n",
        "```python\n",
        "drift_price = finance_dataset.get_univariate_drift(numerical_field=\"price\")\n",
        "```\n",
        "Each record has a `score` attribute."
      ]
    },
    {
      "cell_type": "code",
      "execution_count": 82,
      "metadata": {
        "colab": {
          "base_uri": "https://localhost:8080/",
          "height": 464
        },
        "id": "wW53rTglsz7g",
        "outputId": "024e5112-c6fa-49d9-ccf5-208fb3cbd036"
      },
      "outputs": [
        {
          "name": "stderr",
          "output_type": "stream",
          "text": [
            "INFO:turboml.common.dataloader:Yielded 5000 records (1 batches) in 1 seconds\n",
            "INFO:turboml.common.dataloader:Yielded 12288 records (3 batches) in 2 seconds\n"
          ]
        },
        {
          "name": "stdout",
          "output_type": "stream",
          "text": [
            "Number of univariate drift records for 'price': 12288\n"
          ]
        },
        {
          "data": {
            "image/png": "[encoded data removed]",
            "text/plain": [
              "<Figure size 800x400 with 1 Axes>"
            ]
          },
          "metadata": {},
          "output_type": "display_data"
        }
      ],
      "source": [
        "drift_price = finance_dataset.get_univariate_drift(numerical_field=\"price\")\n",
        "print(f\"Number of univariate drift records for 'price': {len(drift_price)}\")\n",
        "\n",
        "def plot_drift(drifts, title=\"Univariate Drift\", figsize=(8,4)):\n",
        "    plt.figure(figsize=figsize)\n",
        "    scores = [d[\"record\"].score for d in drifts]\n",
        "    plt.plot(scores, marker=\"o\")\n",
        "    plt.title(title)\n",
        "    plt.xlabel(\"Index\")\n",
        "    plt.ylabel(\"Drift Score\")\n",
        "    plt.show()\n",
        "\n",
        "if drift_price:\n",
        "    plot_drift(drift_price, title=\"Univariate Drift on Price\")"
      ]
    },
    {
      "cell_type": "markdown",
      "metadata": {
        "id": "QTlGyrIsbSC7"
      },
      "source": [
        "It shows a binary pattern where the price drift score alternates between 0 and 1, suggesting distinct shifts in price levels rather than gradual changes. These sharp transitions indicate moments when the stock price moves significantly from its previous distribution pattern, potentially representing important price level breakouts."
      ]
    },
    {
      "cell_type": "markdown",
      "metadata": {
        "id": "GPWGbkFf1FVm"
      },
      "source": [
        "### 9.2 Model Drift\n",
        "Similarly, we can detect changes in the distribution of the model's output (the RCF anomaly score).  \n",
        "We'll add drift detection to the deployed model by calling:\n",
        "```python\n",
        "deployed_rcf.add_drift()\n",
        "```\n",
        "Then we can fetch those drift records with:\n",
        "```python\n",
        "drift_model = deployed_rcf.get_drifts()\n",
        "```"
      ]
    },
    {
      "cell_type": "code",
      "execution_count": 83,
      "metadata": {
        "colab": {
          "base_uri": "https://localhost:8080/"
        },
        "id": "R6bfoRKz0lCs",
        "outputId": "7ffcfbc5-4aaa-4dc3-9c55-85c8cb9c68a8"
      },
      "outputs": [
        {
          "name": "stdout",
          "output_type": "stream",
          "text": [
            "Model output drift registered.\n"
          ]
        },
        {
          "name": "stderr",
          "output_type": "stream",
          "text": [
            "INFO:turboml.common.dataloader:Yielded 0 records (0 batches) in 1 seconds\n"
          ]
        },
        {
          "name": "stdout",
          "output_type": "stream",
          "text": [
            "Number of model drift records: 0\n"
          ]
        }
      ],
      "source": [
        "deployed_rcf.add_drift()\n",
        "print(\"Model output drift registered.\")\n",
        "\n",
        "drift_model = deployed_rcf.get_drifts()\n",
        "print(\"Number of model drift records:\", len(drift_model))\n",
        "\n",
        "if drift_model:\n",
        "    plot_drift(drift_model, title=\"Drift in Model Output (RCF)\")"
      ]
    },
    {
      "cell_type": "markdown",
      "metadata": {
        "id": "00TWjqih2x_B"
      },
      "source": [
        "Similar to univariate drift, the model drift score is consistently around 0, which means the distribution of the model’s outputs (the RCF anomaly scores) has remained stable. There is no substantial evidence that the model is encountering drastically different data than it was trained or initialized on."
      ]
    },
    {
      "cell_type": "markdown",
      "metadata": {
        "id": "DLYZN8b21THW"
      },
      "source": [
        "## 10.Model Evaluation"
      ]
    },
    {
      "cell_type": "code",
      "execution_count": null,
      "metadata": {
        "id": "3xccGyK-s3Bz"
      },
      "outputs": [],
      "source": [
        "deployed_rcf.add_metric(\"WindowedAUC\")\n",
        "model_auc_scores = deployed_rcf.get_evaluation(\"WindowedAUC\")\n",
        "print(\"Number of AUC records:\", len(model_auc_scores))\n",
        "\n",
        "def plot_metric(scores, title=\"Windowed AUC\", figsize=(8,4)):\n",
        "    plt.figure(figsize=figsize)\n",
        "    vals = [s.metric for s in scores]\n",
        "    plt.plot(vals, marker=\"o\", color=\"green\")\n",
        "    plt.title(title)\n",
        "    plt.xlabel(\"Data point index\")\n",
        "    plt.ylabel(\"AUC\")\n",
        "    plt.ylim([0,1])\n",
        "    plt.show()\n",
        "\n",
        "if model_auc_scores:\n",
        "  plot_metric(model_auc_scores, title=\"Windowed AUC over time\")"
      ]
    },
    {
      "cell_type": "markdown",
      "metadata": {
        "id": "TRXq_rRm10jV"
      },
      "source": [
        "## 11. Cleanup (Optional)\n",
        "If you want to **delete** your deployed model and its outputs:\n",
        "```python\n",
        "# deployed_rcf.delete()\n",
        "# This will remove the model and its output data.\n",
        "```"
      ]
    },
    {
      "cell_type": "markdown",
      "metadata": {
        "id": "gk_JIjfA2BjM"
      },
      "source": [
        "From here, you can:\n",
        "- Build more sophisticated features (e.g., [Python UDFs](https://docs.turboml.ai/feature-engineering.html#python-udf)).\n",
        "- Add **model evaluation** metrics if you have ground-truth labels for anomalies.\n",
        "- Use advanced **trigger-based updates** to re-train your model only when drift or performance issues are detected.\n",
        "- Integrate with alerts or dashboards for outlier (and drift) monitoring in real time.\n",
        "\n",
        "Happy streaming!  \n",
        "**- The TurboML Team**"
      ]
    }
  ],
  "metadata": {
    "colab": {
      "provenance": []
    },
    "kernelspec": {
      "display_name": "Python 3",
      "name": "python3"
    },
    "language_info": {
      "name": "python"
    }
  },
  "nbformat": 4,
  "nbformat_minor": 0
}
