{
  "cells": [
    {
      "cell_type": "markdown",
      "metadata": {
        "id": "uIrd_qleAO0r"
      },
      "source": [
        "# Benchmark Model's Single and Batch Inference Response Time\n",
        "\n",
        "This notebook aims to benchmark the average response time for model's single and batch inference. We are using `IEEE-CIS Fraud Detection` dataset downloaded using [amazon-science/FDB](https://github.com/amazon-science/fraud-dataset-benchmark), and TurboML's Adaptive XGBoost Model and Hoeffding Tree Classifier Model and will be analysing:\n",
        "\n",
        "1.   WindowedAccuracy comparison\n",
        "2.   Average Inference Response Time for single datapoint\n",
        "3.   Average Inference Response Time for varying batch sizes\n",
        "\n",
        "\n"
      ]
    },
    {
      "cell_type": "markdown",
      "metadata": {
        "id": "IA5qq7XECt-F"
      },
      "source": [
        "# Installing TurboML"
      ]
    },
    {
      "cell_type": "code",
      "execution_count": null,
      "metadata": {
        "id": "53xDWnk6AEjG"
      },
      "outputs": [],
      "source": [
        "!pip install turboml-installer\n",
        "import turboml_installer ; turboml_installer.install_on_colab()"
      ]
    },
    {
      "cell_type": "markdown",
      "metadata": {
        "id": "EgVLXAn0CyZH"
      },
      "source": [
        "Import and initialize the TurboML SDK"
      ]
    },
    {
      "cell_type": "code",
      "execution_count": null,
      "metadata": {
        "id": "wJcls4LtCv8S"
      },
      "outputs": [],
      "source": [
        "import pandas as pd\n",
        "import pickle\n",
        "import turboml as tb\n",
        "import os\n",
        "from sklearn.preprocessing import LabelEncoder\n",
        "import numpy as np\n",
        "import requests\n",
        "\n",
        "# Replace with your backend_url and api_key below\n",
        "tb.init(\n",
        "  backend_url=\"\",\n",
        "  api_key=\"\"\n",
        ")"
      ]
    },
    {
      "cell_type": "markdown",
      "metadata": {
        "id": "-61zaRbVDTGN"
      },
      "source": [
        "Setup plotly"
      ]
    },
    {
      "cell_type": "code",
      "execution_count": null,
      "metadata": {
        "colab": {
          "base_uri": "https://localhost:8080/"
        },
        "id": "6Iz_D_gVDTgg",
        "outputId": "1c2ae347-665a-4a8f-af9a-75c40c056d2c"
      },
      "outputs": [
        {
          "name": "stdout",
          "output_type": "stream",
          "text": [
            "Collecting kaleido\n",
            "  Downloading kaleido-0.2.1-py2.py3-none-manylinux1_x86_64.whl.metadata (15 kB)\n",
            "Collecting plotly\n",
            "  Using cached plotly-5.24.1-py3-none-any.whl.metadata (7.3 kB)\n",
            "Collecting tenacity>=6.2.0 (from plotly)\n",
            "  Using cached tenacity-9.0.0-py3-none-any.whl.metadata (1.2 kB)\n",
            "Collecting packaging (from plotly)\n",
            "  Downloading packaging-24.2-py3-none-any.whl.metadata (3.2 kB)\n",
            "Downloading kaleido-0.2.1-py2.py3-none-manylinux1_x86_64.whl (79.9 MB)\n",
            "\u001b[2K   \u001b[90m━━━━━━━━━━━━━━━━━━━━━━━━━━━━━━━━━━━━━━━━\u001b[0m \u001b[32m79.9/79.9 MB\u001b[0m \u001b[31m8.9 MB/s\u001b[0m eta \u001b[36m0:00:00\u001b[0m\n",
            "\u001b[?25hUsing cached plotly-5.24.1-py3-none-any.whl (19.1 MB)\n",
            "Using cached tenacity-9.0.0-py3-none-any.whl (28 kB)\n",
            "Downloading packaging-24.2-py3-none-any.whl (65 kB)\n",
            "\u001b[2K   \u001b[90m━━━━━━━━━━━━━━━━━━━━━━━━━━━━━━━━━━━━━━━━\u001b[0m \u001b[32m65.5/65.5 kB\u001b[0m \u001b[31m4.3 MB/s\u001b[0m eta \u001b[36m0:00:00\u001b[0m\n",
            "\u001b[?25hInstalling collected packages: kaleido, tenacity, packaging, plotly\n",
            "  Attempting uninstall: tenacity\n",
            "    Found existing installation: tenacity 9.0.0\n",
            "    Uninstalling tenacity-9.0.0:\n",
            "      Successfully uninstalled tenacity-9.0.0\n",
            "  Attempting uninstall: packaging\n",
            "    Found existing installation: packaging 23.2\n",
            "    Uninstalling packaging-23.2:\n",
            "      Successfully uninstalled packaging-23.2\n",
            "  Attempting uninstall: plotly\n",
            "    Found existing installation: plotly 5.24.1\n",
            "    Uninstalling plotly-5.24.1:\n",
            "      Successfully uninstalled plotly-5.24.1\n",
            "Successfully installed kaleido-0.2.1 packaging-24.2 plotly-5.24.1 tenacity-9.0.0\n"
          ]
        }
      ],
      "source": [
        "! pip install --force-reinstall -U kaleido plotly"
      ]
    },
    {
      "cell_type": "code",
      "execution_count": null,
      "metadata": {
        "id": "ZaNrKh1TDW0P"
      },
      "outputs": [],
      "source": [
        "import matplotlib.pyplot as plt\n",
        "import plotly.express as px\n",
        "import plotly.graph_objects as go\n",
        "import plotly.io as pio\n",
        "\n",
        "\n",
        "pio.kaleido.scope.default_format = \"svg\""
      ]
    },
    {
      "cell_type": "markdown",
      "metadata": {
        "id": "4l9PWflcDZr6"
      },
      "source": [
        "# Import `IEEE-CIS Fraud Detection` dataset using [amazon-science/FDB](https://github.com/amazon-science/fraud-dataset-benchmark)\n",
        "\n",
        "Kaggle token is needed to import the dataset, upload your `kaggle.json` to current directory and proceed."
      ]
    },
    {
      "cell_type": "code",
      "execution_count": null,
      "metadata": {
        "colab": {
          "base_uri": "https://localhost:8080/"
        },
        "id": "g-oESEZNDZ9l",
        "outputId": "79126a62-9574-4178-fb88-e538e7f1b2b1"
      },
      "outputs": [
        {
          "name": "stdout",
          "output_type": "stream",
          "text": [
            "Collecting kaggle\n",
            "  Downloading kaggle-1.6.17.tar.gz (82 kB)\n",
            "\u001b[?25l     \u001b[90m━━━━━━━━━━━━━━━━━━━━━━━━━━━━━━━━━━━━━━━━\u001b[0m \u001b[32m0.0/82.7 kB\u001b[0m \u001b[31m?\u001b[0m eta \u001b[36m-:--:--\u001b[0m\r\u001b[2K     \u001b[90m━━━━━━━━━━━━━━━━━━━━━━━━━━━━━━━━━━━━━━━━\u001b[0m \u001b[32m82.7/82.7 kB\u001b[0m \u001b[31m2.3 MB/s\u001b[0m eta \u001b[36m0:00:00\u001b[0m\n",
            "\u001b[?25h  Preparing metadata (setup.py) ... \u001b[?25l\u001b[?25hdone\n",
            "Collecting faker\n",
            "  Downloading Faker-33.1.0-py3-none-any.whl.metadata (15 kB)\n",
            "Requirement already satisfied: six>=1.10 in /usr/local/lib/python3.11/site-packages (from kaggle) (1.17.0)\n",
            "Requirement already satisfied: certifi>=2023.7.22 in /usr/local/lib/python3.11/site-packages (from kaggle) (2024.12.14)\n",
            "Requirement already satisfied: python-dateutil in /usr/local/lib/python3.11/site-packages (from kaggle) (2.9.0.post0)\n",
            "Requirement already satisfied: requests in /usr/local/lib/python3.11/site-packages (from kaggle) (2.32.3)\n",
            "Requirement already satisfied: tqdm in /usr/local/lib/python3.11/site-packages (from kaggle) (4.67.1)\n",
            "Collecting python-slugify (from kaggle)\n",
            "  Downloading python_slugify-8.0.4-py2.py3-none-any.whl.metadata (8.5 kB)\n",
            "Requirement already satisfied: urllib3 in /usr/local/lib/python3.11/site-packages (from kaggle) (2.1.0)\n",
            "Requirement already satisfied: bleach in /usr/local/lib/python3.11/site-packages (from kaggle) (6.2.0)\n",
            "Requirement already satisfied: typing-extensions in /usr/local/lib/python3.11/site-packages (from faker) (4.12.2)\n",
            "Requirement already satisfied: webencodings in /usr/local/lib/python3.11/site-packages (from bleach->kaggle) (0.5.1)\n",
            "Collecting text-unidecode>=1.3 (from python-slugify->kaggle)\n",
            "  Downloading text_unidecode-1.3-py2.py3-none-any.whl.metadata (2.4 kB)\n",
            "Requirement already satisfied: charset-normalizer<4,>=2 in /usr/local/lib/python3.11/site-packages (from requests->kaggle) (3.3.2)\n",
            "Requirement already satisfied: idna<4,>=2.5 in /usr/local/lib/python3.11/site-packages (from requests->kaggle) (3.6)\n",
            "Downloading Faker-33.1.0-py3-none-any.whl (1.9 MB)\n",
            "\u001b[2K   \u001b[90m━━━━━━━━━━━━━━━━━━━━━━━━━━━━━━━━━━━━━━━━\u001b[0m \u001b[32m1.9/1.9 MB\u001b[0m \u001b[31m25.9 MB/s\u001b[0m eta \u001b[36m0:00:00\u001b[0m\n",
            "\u001b[?25hDownloading python_slugify-8.0.4-py2.py3-none-any.whl (10 kB)\n",
            "Downloading text_unidecode-1.3-py2.py3-none-any.whl (78 kB)\n",
            "\u001b[2K   \u001b[90m━━━━━━━━━━━━━━━━━━━━━━━━━━━━━━━━━━━━━━━━\u001b[0m \u001b[32m78.2/78.2 kB\u001b[0m \u001b[31m5.9 MB/s\u001b[0m eta \u001b[36m0:00:00\u001b[0m\n",
            "\u001b[?25hBuilding wheels for collected packages: kaggle\n",
            "  Building wheel for kaggle (setup.py) ... \u001b[?25l\u001b[?25hdone\n",
            "  Created wheel for kaggle: filename=kaggle-1.6.17-py3-none-any.whl size=105786 sha256=d876a592d862be786412c5b0f4cc0ad912a95c020af20bc9f22fdfd8fc88e6ca\n",
            "  Stored in directory: /root/.cache/pip/wheels/ff/55/fb/b27a466be754d2a06ffe0e37b248d844f090a63b51becea85d\n",
            "Successfully built kaggle\n",
            "Installing collected packages: text-unidecode, python-slugify, kaggle, faker\n",
            "Successfully installed faker-33.1.0 kaggle-1.6.17 python-slugify-8.0.4 text-unidecode-1.3\n",
            "Cloning into 'fraud-dataset-benchmark'...\n",
            "remote: Enumerating objects: 258, done.\u001b[K\n",
            "remote: Counting objects: 100% (255/255), done.\u001b[K\n",
            "remote: Compressing objects: 100% (171/171), done.\u001b[K\n",
            "remote: Total 258 (delta 113), reused 170 (delta 75), pack-reused 3 (from 1)\u001b[K\n",
            "Receiving objects: 100% (258/258), 21.96 MiB | 30.85 MiB/s, done.\n",
            "Resolving deltas: 100% (113/113), done.\n",
            "Processing /content/fraud-dataset-benchmark\n",
            "  Preparing metadata (setup.py) ... \u001b[?25l\u001b[?25hdone\n",
            "Building wheels for collected packages: fraud-dataset-benchmark\n",
            "  Building wheel for fraud-dataset-benchmark (setup.py) ... \u001b[?25l\u001b[?25hdone\n",
            "  Created wheel for fraud-dataset-benchmark: filename=fraud_dataset_benchmark-1.0-py3-none-any.whl size=37012325 sha256=078dea1518f64849fa67f07301cce6ffd6818d9b4bddd46d14a4c4236dd6f932\n",
            "  Stored in directory: /root/.cache/pip/wheels/b4/f0/00/f9a721c437a762dadc400f0b838fa7b65771f7d41186a4a810\n",
            "Successfully built fraud-dataset-benchmark\n",
            "Installing collected packages: fraud-dataset-benchmark\n",
            "Successfully installed fraud-dataset-benchmark-1.0\n"
          ]
        }
      ],
      "source": [
        "! pip install kaggle faker\n",
        "! sudo mkdir /root/.config/kaggle\n",
        "! sudo cp kaggle.json /root/.config/kaggle/kaggle.json && sudo chmod 600 /root/.config/kaggle/kaggle.json\n",
        "! git clone https://github.com/amazon-science/fraud-dataset-benchmark.git && cd fraud-dataset-benchmark/ && pip install ."
      ]
    },
    {
      "cell_type": "code",
      "execution_count": null,
      "metadata": {
        "colab": {
          "base_uri": "https://localhost:8080/",
          "height": 1000
        },
        "id": "JMMHMbQgDhg9",
        "outputId": "fe5e8cf1-0a03-4f74-c4d4-36cb10b4de8e"
      },
      "outputs": [
        {
          "name": "stdout",
          "output_type": "stream",
          "text": [
            "Data download location /content/tmp\n"
          ]
        },
        {
          "name": "stderr",
          "output_type": "stream",
          "text": [
            "/usr/local/lib/python3.11/site-packages/fdb/preprocessing.py:260: SettingWithCopyWarning:\n",
            "\n",
            "\n",
            "A value is trying to be set on a copy of a slice from a DataFrame.\n",
            "Try using .loc[row_indexer,col_indexer] = value instead\n",
            "\n",
            "See the caveats in the documentation: https://pandas.pydata.org/pandas-docs/stable/user_guide/indexing.html#returning-a-view-versus-a-copy\n",
            "\n"
          ]
        },
        {
          "name": "stdout",
          "output_type": "stream",
          "text": [
            "ieeecis\n",
            "Train set: \n"
          ]
        },
        {
          "data": {
            "application/vnd.google.colaboratory.intrinsic+json": {
              "type": "dataframe"
            },
            "text/html": [
              "\n",
              "  <div id=\"df-1ba33e5f-8c20-46c3-b8c2-b780597bacc6\" class=\"colab-df-container\">\n",
              "    <div>\n",
              "<style scoped>\n",
              "    .dataframe tbody tr th:only-of-type {\n",
              "        vertical-align: middle;\n",
              "    }\n",
              "\n",
              "    .dataframe tbody tr th {\n",
              "        vertical-align: top;\n",
              "    }\n",
              "\n",
              "    .dataframe thead th {\n",
              "        text-align: right;\n",
              "    }\n",
              "</style>\n",
              "<table border=\"1\" class=\"dataframe\">\n",
              "  <thead>\n",
              "    <tr style=\"text-align: right;\">\n",
              "      <th></th>\n",
              "      <th>EVENT_LABEL</th>\n",
              "      <th>transactionamt</th>\n",
              "      <th>productcd</th>\n",
              "      <th>card1</th>\n",
              "      <th>card2</th>\n",
              "      <th>card3</th>\n",
              "      <th>card5</th>\n",
              "      <th>card6</th>\n",
              "      <th>addr1</th>\n",
              "      <th>dist1</th>\n",
              "      <th>...</th>\n",
              "      <th>id_17</th>\n",
              "      <th>id_19</th>\n",
              "      <th>id_20</th>\n",
              "      <th>devicetype</th>\n",
              "      <th>deviceinfo</th>\n",
              "      <th>EVENT_ID</th>\n",
              "      <th>ENTITY_ID</th>\n",
              "      <th>EVENT_TIMESTAMP</th>\n",
              "      <th>LABEL_TIMESTAMP</th>\n",
              "      <th>ENTITY_TYPE</th>\n",
              "    </tr>\n",
              "    <tr>\n",
              "      <th>TransactionID</th>\n",
              "      <th></th>\n",
              "      <th></th>\n",
              "      <th></th>\n",
              "      <th></th>\n",
              "      <th></th>\n",
              "      <th></th>\n",
              "      <th></th>\n",
              "      <th></th>\n",
              "      <th></th>\n",
              "      <th></th>\n",
              "      <th></th>\n",
              "      <th></th>\n",
              "      <th></th>\n",
              "      <th></th>\n",
              "      <th></th>\n",
              "      <th></th>\n",
              "      <th></th>\n",
              "      <th></th>\n",
              "      <th></th>\n",
              "      <th></th>\n",
              "      <th></th>\n",
              "    </tr>\n",
              "  </thead>\n",
              "  <tbody>\n",
              "    <tr>\n",
              "      <th>2987000.0</th>\n",
              "      <td>0</td>\n",
              "      <td>68.5</td>\n",
              "      <td>W</td>\n",
              "      <td>13926.0</td>\n",
              "      <td>NaN</td>\n",
              "      <td>150.0</td>\n",
              "      <td>142.0</td>\n",
              "      <td>credit</td>\n",
              "      <td>315.0</td>\n",
              "      <td>19.0</td>\n",
              "      <td>...</td>\n",
              "      <td>NaN</td>\n",
              "      <td>NaN</td>\n",
              "      <td>NaN</td>\n",
              "      <td>NaN</td>\n",
              "      <td>NaN</td>\n",
              "      <td>7e2d7ef8-80d4-41fd-9e6b-374b257fa9bf</td>\n",
              "      <td>13926.0_315.0_-13.0</td>\n",
              "      <td>2021-01-02T00:00:00Z</td>\n",
              "      <td>2024-12-31T07:13:11Z</td>\n",
              "      <td>user</td>\n",
              "    </tr>\n",
              "    <tr>\n",
              "      <th>2987001.0</th>\n",
              "      <td>0</td>\n",
              "      <td>29.0</td>\n",
              "      <td>W</td>\n",
              "      <td>2755.0</td>\n",
              "      <td>404.0</td>\n",
              "      <td>150.0</td>\n",
              "      <td>102.0</td>\n",
              "      <td>credit</td>\n",
              "      <td>325.0</td>\n",
              "      <td>NaN</td>\n",
              "      <td>...</td>\n",
              "      <td>NaN</td>\n",
              "      <td>NaN</td>\n",
              "      <td>NaN</td>\n",
              "      <td>NaN</td>\n",
              "      <td>NaN</td>\n",
              "      <td>8ccd03c2-e096-4b4e-bf6d-0b7149d72d4d</td>\n",
              "      <td>2755.0_325.0_1.0</td>\n",
              "      <td>2021-01-02T00:00:01Z</td>\n",
              "      <td>2024-12-31T07:13:11Z</td>\n",
              "      <td>user</td>\n",
              "    </tr>\n",
              "    <tr>\n",
              "      <th>2987002.0</th>\n",
              "      <td>0</td>\n",
              "      <td>59.0</td>\n",
              "      <td>W</td>\n",
              "      <td>4663.0</td>\n",
              "      <td>490.0</td>\n",
              "      <td>150.0</td>\n",
              "      <td>166.0</td>\n",
              "      <td>debit</td>\n",
              "      <td>330.0</td>\n",
              "      <td>287.0</td>\n",
              "      <td>...</td>\n",
              "      <td>NaN</td>\n",
              "      <td>NaN</td>\n",
              "      <td>NaN</td>\n",
              "      <td>NaN</td>\n",
              "      <td>NaN</td>\n",
              "      <td>437a6180-09ff-4209-97f2-d934dc5b163d</td>\n",
              "      <td>4663.0_330.0_1.0</td>\n",
              "      <td>2021-01-02T00:01:09Z</td>\n",
              "      <td>2024-12-31T07:13:11Z</td>\n",
              "      <td>user</td>\n",
              "    </tr>\n",
              "    <tr>\n",
              "      <th>2987003.0</th>\n",
              "      <td>0</td>\n",
              "      <td>50.0</td>\n",
              "      <td>W</td>\n",
              "      <td>18132.0</td>\n",
              "      <td>567.0</td>\n",
              "      <td>150.0</td>\n",
              "      <td>117.0</td>\n",
              "      <td>debit</td>\n",
              "      <td>476.0</td>\n",
              "      <td>NaN</td>\n",
              "      <td>...</td>\n",
              "      <td>NaN</td>\n",
              "      <td>NaN</td>\n",
              "      <td>NaN</td>\n",
              "      <td>NaN</td>\n",
              "      <td>NaN</td>\n",
              "      <td>70877878-11d2-4000-8637-c4e4081c857f</td>\n",
              "      <td>18132.0_476.0_-111.0</td>\n",
              "      <td>2021-01-02T00:01:39Z</td>\n",
              "      <td>2024-12-31T07:13:11Z</td>\n",
              "      <td>user</td>\n",
              "    </tr>\n",
              "    <tr>\n",
              "      <th>2987004.0</th>\n",
              "      <td>0</td>\n",
              "      <td>50.0</td>\n",
              "      <td>H</td>\n",
              "      <td>4497.0</td>\n",
              "      <td>514.0</td>\n",
              "      <td>150.0</td>\n",
              "      <td>102.0</td>\n",
              "      <td>credit</td>\n",
              "      <td>420.0</td>\n",
              "      <td>NaN</td>\n",
              "      <td>...</td>\n",
              "      <td>166.0</td>\n",
              "      <td>542.0</td>\n",
              "      <td>144.0</td>\n",
              "      <td>mobile</td>\n",
              "      <td>SAMSUNG SM-G892A Build/NRD90M</td>\n",
              "      <td>107699fc-e9ed-4fb5-b6f6-1d095f7a8cd6</td>\n",
              "      <td>4497.0_420.0_1.0</td>\n",
              "      <td>2021-01-02T00:01:46Z</td>\n",
              "      <td>2024-12-31T07:13:11Z</td>\n",
              "      <td>user</td>\n",
              "    </tr>\n",
              "  </tbody>\n",
              "</table>\n",
              "<p>5 rows × 73 columns</p>\n",
              "</div>\n",
              "    <div class=\"colab-df-buttons\">\n",
              "\n",
              "  <div class=\"colab-df-container\">\n",
              "    <button class=\"colab-df-convert\" onclick=\"convertToInteractive('df-1ba33e5f-8c20-46c3-b8c2-b780597bacc6')\"\n",
              "            title=\"Convert this dataframe to an interactive table.\"\n",
              "            style=\"display:none;\">\n",
              "\n",
              "  <svg xmlns=\"http://www.w3.org/2000/svg\" height=\"24px\" viewBox=\"0 -960 960 960\">\n",
              "    <path d=\"M120-120v-720h720v720H120Zm60-500h600v-160H180v160Zm220 220h160v-160H400v160Zm0 220h160v-160H400v160ZM180-400h160v-160H180v160Zm440 0h160v-160H620v160ZM180-180h160v-160H180v160Zm440 0h160v-160H620v160Z\"/>\n",
              "  </svg>\n",
              "    </button>\n",
              "\n",
              "  <style>\n",
              "    .colab-df-container {\n",
              "      display:flex;\n",
              "      gap: 12px;\n",
              "    }\n",
              "\n",
              "    .colab-df-convert {\n",
              "      background-color: #E8F0FE;\n",
              "      border: none;\n",
              "      border-radius: 50%;\n",
              "      cursor: pointer;\n",
              "      display: none;\n",
              "      fill: #1967D2;\n",
              "      height: 32px;\n",
              "      padding: 0 0 0 0;\n",
              "      width: 32px;\n",
              "    }\n",
              "\n",
              "    .colab-df-convert:hover {\n",
              "      background-color: #E2EBFA;\n",
              "      box-shadow: 0px 1px 2px rgba(60, 64, 67, 0.3), 0px 1px 3px 1px rgba(60, 64, 67, 0.15);\n",
              "      fill: #174EA6;\n",
              "    }\n",
              "\n",
              "    .colab-df-buttons div {\n",
              "      margin-bottom: 4px;\n",
              "    }\n",
              "\n",
              "    [theme=dark] .colab-df-convert {\n",
              "      background-color: #3B4455;\n",
              "      fill: #D2E3FC;\n",
              "    }\n",
              "\n",
              "    [theme=dark] .colab-df-convert:hover {\n",
              "      background-color: #434B5C;\n",
              "      box-shadow: 0px 1px 3px 1px rgba(0, 0, 0, 0.15);\n",
              "      filter: drop-shadow(0px 1px 2px rgba(0, 0, 0, 0.3));\n",
              "      fill: #FFFFFF;\n",
              "    }\n",
              "  </style>\n",
              "\n",
              "    <script>\n",
              "      const buttonEl =\n",
              "        document.querySelector('#df-1ba33e5f-8c20-46c3-b8c2-b780597bacc6 button.colab-df-convert');\n",
              "      buttonEl.style.display =\n",
              "        google.colab.kernel.accessAllowed ? 'block' : 'none';\n",
              "\n",
              "      async function convertToInteractive(key) {\n",
              "        const element = document.querySelector('#df-1ba33e5f-8c20-46c3-b8c2-b780597bacc6');\n",
              "        const dataTable =\n",
              "          await google.colab.kernel.invokeFunction('convertToInteractive',\n",
              "                                                    [key], {});\n",
              "        if (!dataTable) return;\n",
              "\n",
              "        const docLinkHtml = 'Like what you see? Visit the ' +\n",
              "          '<a target=\"_blank\" href=https://colab.research.google.com/notebooks/data_table.ipynb>data table notebook</a>'\n",
              "          + ' to learn more about interactive tables.';\n",
              "        element.innerHTML = '';\n",
              "        dataTable['output_type'] = 'display_data';\n",
              "        await google.colab.output.renderOutput(dataTable, element);\n",
              "        const docLink = document.createElement('div');\n",
              "        docLink.innerHTML = docLinkHtml;\n",
              "        element.appendChild(docLink);\n",
              "      }\n",
              "    </script>\n",
              "  </div>\n",
              "\n",
              "\n",
              "<div id=\"df-344b4ea9-8baa-4cdf-82af-499feb91bf81\">\n",
              "  <button class=\"colab-df-quickchart\" onclick=\"quickchart('df-344b4ea9-8baa-4cdf-82af-499feb91bf81')\"\n",
              "            title=\"Suggest charts\"\n",
              "            style=\"display:none;\">\n",
              "\n",
              "<svg xmlns=\"http://www.w3.org/2000/svg\" height=\"24px\"viewBox=\"0 0 24 24\"\n",
              "     width=\"24px\">\n",
              "    <g>\n",
              "        <path d=\"M19 3H5c-1.1 0-2 .9-2 2v14c0 1.1.9 2 2 2h14c1.1 0 2-.9 2-2V5c0-1.1-.9-2-2-2zM9 17H7v-7h2v7zm4 0h-2V7h2v10zm4 0h-2v-4h2v4z\"/>\n",
              "    </g>\n",
              "</svg>\n",
              "  </button>\n",
              "\n",
              "<style>\n",
              "  .colab-df-quickchart {\n",
              "      --bg-color: #E8F0FE;\n",
              "      --fill-color: #1967D2;\n",
              "      --hover-bg-color: #E2EBFA;\n",
              "      --hover-fill-color: #174EA6;\n",
              "      --disabled-fill-color: #AAA;\n",
              "      --disabled-bg-color: #DDD;\n",
              "  }\n",
              "\n",
              "  [theme=dark] .colab-df-quickchart {\n",
              "      --bg-color: #3B4455;\n",
              "      --fill-color: #D2E3FC;\n",
              "      --hover-bg-color: #434B5C;\n",
              "      --hover-fill-color: #FFFFFF;\n",
              "      --disabled-bg-color: #3B4455;\n",
              "      --disabled-fill-color: #666;\n",
              "  }\n",
              "\n",
              "  .colab-df-quickchart {\n",
              "    background-color: var(--bg-color);\n",
              "    border: none;\n",
              "    border-radius: 50%;\n",
              "    cursor: pointer;\n",
              "    display: none;\n",
              "    fill: var(--fill-color);\n",
              "    height: 32px;\n",
              "    padding: 0;\n",
              "    width: 32px;\n",
              "  }\n",
              "\n",
              "  .colab-df-quickchart:hover {\n",
              "    background-color: var(--hover-bg-color);\n",
              "    box-shadow: 0 1px 2px rgba(60, 64, 67, 0.3), 0 1px 3px 1px rgba(60, 64, 67, 0.15);\n",
              "    fill: var(--button-hover-fill-color);\n",
              "  }\n",
              "\n",
              "  .colab-df-quickchart-complete:disabled,\n",
              "  .colab-df-quickchart-complete:disabled:hover {\n",
              "    background-color: var(--disabled-bg-color);\n",
              "    fill: var(--disabled-fill-color);\n",
              "    box-shadow: none;\n",
              "  }\n",
              "\n",
              "  .colab-df-spinner {\n",
              "    border: 2px solid var(--fill-color);\n",
              "    border-color: transparent;\n",
              "    border-bottom-color: var(--fill-color);\n",
              "    animation:\n",
              "      spin 1s steps(1) infinite;\n",
              "  }\n",
              "\n",
              "  @keyframes spin {\n",
              "    0% {\n",
              "      border-color: transparent;\n",
              "      border-bottom-color: var(--fill-color);\n",
              "      border-left-color: var(--fill-color);\n",
              "    }\n",
              "    20% {\n",
              "      border-color: transparent;\n",
              "      border-left-color: var(--fill-color);\n",
              "      border-top-color: var(--fill-color);\n",
              "    }\n",
              "    30% {\n",
              "      border-color: transparent;\n",
              "      border-left-color: var(--fill-color);\n",
              "      border-top-color: var(--fill-color);\n",
              "      border-right-color: var(--fill-color);\n",
              "    }\n",
              "    40% {\n",
              "      border-color: transparent;\n",
              "      border-right-color: var(--fill-color);\n",
              "      border-top-color: var(--fill-color);\n",
              "    }\n",
              "    60% {\n",
              "      border-color: transparent;\n",
              "      border-right-color: var(--fill-color);\n",
              "    }\n",
              "    80% {\n",
              "      border-color: transparent;\n",
              "      border-right-color: var(--fill-color);\n",
              "      border-bottom-color: var(--fill-color);\n",
              "    }\n",
              "    90% {\n",
              "      border-color: transparent;\n",
              "      border-bottom-color: var(--fill-color);\n",
              "    }\n",
              "  }\n",
              "</style>\n",
              "\n",
              "  <script>\n",
              "    async function quickchart(key) {\n",
              "      const quickchartButtonEl =\n",
              "        document.querySelector('#' + key + ' button');\n",
              "      quickchartButtonEl.disabled = true;  // To prevent multiple clicks.\n",
              "      quickchartButtonEl.classList.add('colab-df-spinner');\n",
              "      try {\n",
              "        const charts = await google.colab.kernel.invokeFunction(\n",
              "            'suggestCharts', [key], {});\n",
              "      } catch (error) {\n",
              "        console.error('Error during call to suggestCharts:', error);\n",
              "      }\n",
              "      quickchartButtonEl.classList.remove('colab-df-spinner');\n",
              "      quickchartButtonEl.classList.add('colab-df-quickchart-complete');\n",
              "    }\n",
              "    (() => {\n",
              "      let quickchartButtonEl =\n",
              "        document.querySelector('#df-344b4ea9-8baa-4cdf-82af-499feb91bf81 button');\n",
              "      quickchartButtonEl.style.display =\n",
              "        google.colab.kernel.accessAllowed ? 'block' : 'none';\n",
              "    })();\n",
              "  </script>\n",
              "</div>\n",
              "\n",
              "    </div>\n",
              "  </div>\n"
            ],
            "text/plain": [
              "               EVENT_LABEL  transactionamt productcd    card1  card2  card3  \\\n",
              "TransactionID                                                                 \n",
              "2987000.0                0            68.5         W  13926.0    NaN  150.0   \n",
              "2987001.0                0            29.0         W   2755.0  404.0  150.0   \n",
              "2987002.0                0            59.0         W   4663.0  490.0  150.0   \n",
              "2987003.0                0            50.0         W  18132.0  567.0  150.0   \n",
              "2987004.0                0            50.0         H   4497.0  514.0  150.0   \n",
              "\n",
              "               card5   card6  addr1  dist1  ...  id_17  id_19  id_20  \\\n",
              "TransactionID                               ...                        \n",
              "2987000.0      142.0  credit  315.0   19.0  ...    NaN    NaN    NaN   \n",
              "2987001.0      102.0  credit  325.0    NaN  ...    NaN    NaN    NaN   \n",
              "2987002.0      166.0   debit  330.0  287.0  ...    NaN    NaN    NaN   \n",
              "2987003.0      117.0   debit  476.0    NaN  ...    NaN    NaN    NaN   \n",
              "2987004.0      102.0  credit  420.0    NaN  ...  166.0  542.0  144.0   \n",
              "\n",
              "               devicetype                     deviceinfo  \\\n",
              "TransactionID                                              \n",
              "2987000.0             NaN                            NaN   \n",
              "2987001.0             NaN                            NaN   \n",
              "2987002.0             NaN                            NaN   \n",
              "2987003.0             NaN                            NaN   \n",
              "2987004.0          mobile  SAMSUNG SM-G892A Build/NRD90M   \n",
              "\n",
              "                                           EVENT_ID             ENTITY_ID  \\\n",
              "TransactionID                                                               \n",
              "2987000.0      7e2d7ef8-80d4-41fd-9e6b-374b257fa9bf   13926.0_315.0_-13.0   \n",
              "2987001.0      8ccd03c2-e096-4b4e-bf6d-0b7149d72d4d      2755.0_325.0_1.0   \n",
              "2987002.0      437a6180-09ff-4209-97f2-d934dc5b163d      4663.0_330.0_1.0   \n",
              "2987003.0      70877878-11d2-4000-8637-c4e4081c857f  18132.0_476.0_-111.0   \n",
              "2987004.0      107699fc-e9ed-4fb5-b6f6-1d095f7a8cd6      4497.0_420.0_1.0   \n",
              "\n",
              "                    EVENT_TIMESTAMP       LABEL_TIMESTAMP  ENTITY_TYPE  \n",
              "TransactionID                                                           \n",
              "2987000.0      2021-01-02T00:00:00Z  2024-12-31T07:13:11Z         user  \n",
              "2987001.0      2021-01-02T00:00:01Z  2024-12-31T07:13:11Z         user  \n",
              "2987002.0      2021-01-02T00:01:09Z  2024-12-31T07:13:11Z         user  \n",
              "2987003.0      2021-01-02T00:01:39Z  2024-12-31T07:13:11Z         user  \n",
              "2987004.0      2021-01-02T00:01:46Z  2024-12-31T07:13:11Z         user  \n",
              "\n",
              "[5 rows x 73 columns]"
            ]
          },
          "metadata": {},
          "output_type": "display_data"
        },
        {
          "name": "stdout",
          "output_type": "stream",
          "text": [
            "73\n",
            "(561013, 73)\n",
            "Test set: \n"
          ]
        },
        {
          "data": {
            "application/vnd.google.colaboratory.intrinsic+json": {
              "type": "dataframe"
            },
            "text/html": [
              "\n",
              "  <div id=\"df-a4542f49-972e-4749-b349-82f1353cc45b\" class=\"colab-df-container\">\n",
              "    <div>\n",
              "<style scoped>\n",
              "    .dataframe tbody tr th:only-of-type {\n",
              "        vertical-align: middle;\n",
              "    }\n",
              "\n",
              "    .dataframe tbody tr th {\n",
              "        vertical-align: top;\n",
              "    }\n",
              "\n",
              "    .dataframe thead th {\n",
              "        text-align: right;\n",
              "    }\n",
              "</style>\n",
              "<table border=\"1\" class=\"dataframe\">\n",
              "  <thead>\n",
              "    <tr style=\"text-align: right;\">\n",
              "      <th></th>\n",
              "      <th>transactionamt</th>\n",
              "      <th>productcd</th>\n",
              "      <th>card1</th>\n",
              "      <th>card2</th>\n",
              "      <th>card3</th>\n",
              "      <th>card5</th>\n",
              "      <th>card6</th>\n",
              "      <th>addr1</th>\n",
              "      <th>dist1</th>\n",
              "      <th>p_emaildomain</th>\n",
              "      <th>...</th>\n",
              "      <th>id_13</th>\n",
              "      <th>id_17</th>\n",
              "      <th>id_19</th>\n",
              "      <th>id_20</th>\n",
              "      <th>devicetype</th>\n",
              "      <th>deviceinfo</th>\n",
              "      <th>EVENT_ID</th>\n",
              "      <th>ENTITY_ID</th>\n",
              "      <th>EVENT_TIMESTAMP</th>\n",
              "      <th>ENTITY_TYPE</th>\n",
              "    </tr>\n",
              "    <tr>\n",
              "      <th>TransactionID</th>\n",
              "      <th></th>\n",
              "      <th></th>\n",
              "      <th></th>\n",
              "      <th></th>\n",
              "      <th></th>\n",
              "      <th></th>\n",
              "      <th></th>\n",
              "      <th></th>\n",
              "      <th></th>\n",
              "      <th></th>\n",
              "      <th></th>\n",
              "      <th></th>\n",
              "      <th></th>\n",
              "      <th></th>\n",
              "      <th></th>\n",
              "      <th></th>\n",
              "      <th></th>\n",
              "      <th></th>\n",
              "      <th></th>\n",
              "      <th></th>\n",
              "      <th></th>\n",
              "    </tr>\n",
              "  </thead>\n",
              "  <tbody>\n",
              "    <tr>\n",
              "      <th>3548013.0</th>\n",
              "      <td>125.000000</td>\n",
              "      <td>S</td>\n",
              "      <td>15775.0</td>\n",
              "      <td>481.0</td>\n",
              "      <td>150.0</td>\n",
              "      <td>102.0</td>\n",
              "      <td>credit</td>\n",
              "      <td>330.0</td>\n",
              "      <td>NaN</td>\n",
              "      <td>NaN</td>\n",
              "      <td>...</td>\n",
              "      <td>52.0</td>\n",
              "      <td>166.0</td>\n",
              "      <td>633.0</td>\n",
              "      <td>533.0</td>\n",
              "      <td>desktop</td>\n",
              "      <td>Windows</td>\n",
              "      <td>f7694eae-43b9-4b6e-b2e4-fb7e54c7b775</td>\n",
              "      <td>15775.0_330.0_129.0</td>\n",
              "      <td>2021-06-21T23:11:15Z</td>\n",
              "      <td>user</td>\n",
              "    </tr>\n",
              "    <tr>\n",
              "      <th>3548014.0</th>\n",
              "      <td>125.000000</td>\n",
              "      <td>S</td>\n",
              "      <td>15775.0</td>\n",
              "      <td>481.0</td>\n",
              "      <td>150.0</td>\n",
              "      <td>102.0</td>\n",
              "      <td>credit</td>\n",
              "      <td>330.0</td>\n",
              "      <td>NaN</td>\n",
              "      <td>NaN</td>\n",
              "      <td>...</td>\n",
              "      <td>52.0</td>\n",
              "      <td>166.0</td>\n",
              "      <td>633.0</td>\n",
              "      <td>533.0</td>\n",
              "      <td>desktop</td>\n",
              "      <td>Windows</td>\n",
              "      <td>5ac01558-a9de-4a13-ae69-2ffb2b371a05</td>\n",
              "      <td>15775.0_330.0_129.0</td>\n",
              "      <td>2021-06-21T23:11:29Z</td>\n",
              "      <td>user</td>\n",
              "    </tr>\n",
              "    <tr>\n",
              "      <th>3548015.0</th>\n",
              "      <td>125.000000</td>\n",
              "      <td>S</td>\n",
              "      <td>15775.0</td>\n",
              "      <td>481.0</td>\n",
              "      <td>150.0</td>\n",
              "      <td>102.0</td>\n",
              "      <td>credit</td>\n",
              "      <td>330.0</td>\n",
              "      <td>NaN</td>\n",
              "      <td>NaN</td>\n",
              "      <td>...</td>\n",
              "      <td>52.0</td>\n",
              "      <td>166.0</td>\n",
              "      <td>633.0</td>\n",
              "      <td>533.0</td>\n",
              "      <td>desktop</td>\n",
              "      <td>Windows</td>\n",
              "      <td>609e04fb-5333-4215-98b4-93a469bf7a5e</td>\n",
              "      <td>15775.0_330.0_129.0</td>\n",
              "      <td>2021-06-21T23:11:45Z</td>\n",
              "      <td>user</td>\n",
              "    </tr>\n",
              "    <tr>\n",
              "      <th>3548016.0</th>\n",
              "      <td>125.000000</td>\n",
              "      <td>S</td>\n",
              "      <td>15775.0</td>\n",
              "      <td>481.0</td>\n",
              "      <td>150.0</td>\n",
              "      <td>102.0</td>\n",
              "      <td>credit</td>\n",
              "      <td>330.0</td>\n",
              "      <td>NaN</td>\n",
              "      <td>NaN</td>\n",
              "      <td>...</td>\n",
              "      <td>52.0</td>\n",
              "      <td>166.0</td>\n",
              "      <td>633.0</td>\n",
              "      <td>533.0</td>\n",
              "      <td>desktop</td>\n",
              "      <td>Windows</td>\n",
              "      <td>b06da596-412a-4b3f-9e95-b03aedd7455a</td>\n",
              "      <td>15775.0_330.0_129.0</td>\n",
              "      <td>2021-06-21T23:12:00Z</td>\n",
              "      <td>user</td>\n",
              "    </tr>\n",
              "    <tr>\n",
              "      <th>3548017.0</th>\n",
              "      <td>31.950001</td>\n",
              "      <td>W</td>\n",
              "      <td>9500.0</td>\n",
              "      <td>321.0</td>\n",
              "      <td>150.0</td>\n",
              "      <td>226.0</td>\n",
              "      <td>debit</td>\n",
              "      <td>204.0</td>\n",
              "      <td>74.0</td>\n",
              "      <td>NaN</td>\n",
              "      <td>...</td>\n",
              "      <td>NaN</td>\n",
              "      <td>NaN</td>\n",
              "      <td>NaN</td>\n",
              "      <td>NaN</td>\n",
              "      <td>NaN</td>\n",
              "      <td>NaN</td>\n",
              "      <td>e5808b15-9ead-4833-85b7-821a6f1f1f1d</td>\n",
              "      <td>9500.0_204.0_150.0</td>\n",
              "      <td>2021-06-21T23:12:11Z</td>\n",
              "      <td>user</td>\n",
              "    </tr>\n",
              "  </tbody>\n",
              "</table>\n",
              "<p>5 rows × 71 columns</p>\n",
              "</div>\n",
              "    <div class=\"colab-df-buttons\">\n",
              "\n",
              "  <div class=\"colab-df-container\">\n",
              "    <button class=\"colab-df-convert\" onclick=\"convertToInteractive('df-a4542f49-972e-4749-b349-82f1353cc45b')\"\n",
              "            title=\"Convert this dataframe to an interactive table.\"\n",
              "            style=\"display:none;\">\n",
              "\n",
              "  <svg xmlns=\"http://www.w3.org/2000/svg\" height=\"24px\" viewBox=\"0 -960 960 960\">\n",
              "    <path d=\"M120-120v-720h720v720H120Zm60-500h600v-160H180v160Zm220 220h160v-160H400v160Zm0 220h160v-160H400v160ZM180-400h160v-160H180v160Zm440 0h160v-160H620v160ZM180-180h160v-160H180v160Zm440 0h160v-160H620v160Z\"/>\n",
              "  </svg>\n",
              "    </button>\n",
              "\n",
              "  <style>\n",
              "    .colab-df-container {\n",
              "      display:flex;\n",
              "      gap: 12px;\n",
              "    }\n",
              "\n",
              "    .colab-df-convert {\n",
              "      background-color: #E8F0FE;\n",
              "      border: none;\n",
              "      border-radius: 50%;\n",
              "      cursor: pointer;\n",
              "      display: none;\n",
              "      fill: #1967D2;\n",
              "      height: 32px;\n",
              "      padding: 0 0 0 0;\n",
              "      width: 32px;\n",
              "    }\n",
              "\n",
              "    .colab-df-convert:hover {\n",
              "      background-color: #E2EBFA;\n",
              "      box-shadow: 0px 1px 2px rgba(60, 64, 67, 0.3), 0px 1px 3px 1px rgba(60, 64, 67, 0.15);\n",
              "      fill: #174EA6;\n",
              "    }\n",
              "\n",
              "    .colab-df-buttons div {\n",
              "      margin-bottom: 4px;\n",
              "    }\n",
              "\n",
              "    [theme=dark] .colab-df-convert {\n",
              "      background-color: #3B4455;\n",
              "      fill: #D2E3FC;\n",
              "    }\n",
              "\n",
              "    [theme=dark] .colab-df-convert:hover {\n",
              "      background-color: #434B5C;\n",
              "      box-shadow: 0px 1px 3px 1px rgba(0, 0, 0, 0.15);\n",
              "      filter: drop-shadow(0px 1px 2px rgba(0, 0, 0, 0.3));\n",
              "      fill: #FFFFFF;\n",
              "    }\n",
              "  </style>\n",
              "\n",
              "    <script>\n",
              "      const buttonEl =\n",
              "        document.querySelector('#df-a4542f49-972e-4749-b349-82f1353cc45b button.colab-df-convert');\n",
              "      buttonEl.style.display =\n",
              "        google.colab.kernel.accessAllowed ? 'block' : 'none';\n",
              "\n",
              "      async function convertToInteractive(key) {\n",
              "        const element = document.querySelector('#df-a4542f49-972e-4749-b349-82f1353cc45b');\n",
              "        const dataTable =\n",
              "          await google.colab.kernel.invokeFunction('convertToInteractive',\n",
              "                                                    [key], {});\n",
              "        if (!dataTable) return;\n",
              "\n",
              "        const docLinkHtml = 'Like what you see? Visit the ' +\n",
              "          '<a target=\"_blank\" href=https://colab.research.google.com/notebooks/data_table.ipynb>data table notebook</a>'\n",
              "          + ' to learn more about interactive tables.';\n",
              "        element.innerHTML = '';\n",
              "        dataTable['output_type'] = 'display_data';\n",
              "        await google.colab.output.renderOutput(dataTable, element);\n",
              "        const docLink = document.createElement('div');\n",
              "        docLink.innerHTML = docLinkHtml;\n",
              "        element.appendChild(docLink);\n",
              "      }\n",
              "    </script>\n",
              "  </div>\n",
              "\n",
              "\n",
              "<div id=\"df-ae39b593-7119-4f4c-a9cf-26246867e442\">\n",
              "  <button class=\"colab-df-quickchart\" onclick=\"quickchart('df-ae39b593-7119-4f4c-a9cf-26246867e442')\"\n",
              "            title=\"Suggest charts\"\n",
              "            style=\"display:none;\">\n",
              "\n",
              "<svg xmlns=\"http://www.w3.org/2000/svg\" height=\"24px\"viewBox=\"0 0 24 24\"\n",
              "     width=\"24px\">\n",
              "    <g>\n",
              "        <path d=\"M19 3H5c-1.1 0-2 .9-2 2v14c0 1.1.9 2 2 2h14c1.1 0 2-.9 2-2V5c0-1.1-.9-2-2-2zM9 17H7v-7h2v7zm4 0h-2V7h2v10zm4 0h-2v-4h2v4z\"/>\n",
              "    </g>\n",
              "</svg>\n",
              "  </button>\n",
              "\n",
              "<style>\n",
              "  .colab-df-quickchart {\n",
              "      --bg-color: #E8F0FE;\n",
              "      --fill-color: #1967D2;\n",
              "      --hover-bg-color: #E2EBFA;\n",
              "      --hover-fill-color: #174EA6;\n",
              "      --disabled-fill-color: #AAA;\n",
              "      --disabled-bg-color: #DDD;\n",
              "  }\n",
              "\n",
              "  [theme=dark] .colab-df-quickchart {\n",
              "      --bg-color: #3B4455;\n",
              "      --fill-color: #D2E3FC;\n",
              "      --hover-bg-color: #434B5C;\n",
              "      --hover-fill-color: #FFFFFF;\n",
              "      --disabled-bg-color: #3B4455;\n",
              "      --disabled-fill-color: #666;\n",
              "  }\n",
              "\n",
              "  .colab-df-quickchart {\n",
              "    background-color: var(--bg-color);\n",
              "    border: none;\n",
              "    border-radius: 50%;\n",
              "    cursor: pointer;\n",
              "    display: none;\n",
              "    fill: var(--fill-color);\n",
              "    height: 32px;\n",
              "    padding: 0;\n",
              "    width: 32px;\n",
              "  }\n",
              "\n",
              "  .colab-df-quickchart:hover {\n",
              "    background-color: var(--hover-bg-color);\n",
              "    box-shadow: 0 1px 2px rgba(60, 64, 67, 0.3), 0 1px 3px 1px rgba(60, 64, 67, 0.15);\n",
              "    fill: var(--button-hover-fill-color);\n",
              "  }\n",
              "\n",
              "  .colab-df-quickchart-complete:disabled,\n",
              "  .colab-df-quickchart-complete:disabled:hover {\n",
              "    background-color: var(--disabled-bg-color);\n",
              "    fill: var(--disabled-fill-color);\n",
              "    box-shadow: none;\n",
              "  }\n",
              "\n",
              "  .colab-df-spinner {\n",
              "    border: 2px solid var(--fill-color);\n",
              "    border-color: transparent;\n",
              "    border-bottom-color: var(--fill-color);\n",
              "    animation:\n",
              "      spin 1s steps(1) infinite;\n",
              "  }\n",
              "\n",
              "  @keyframes spin {\n",
              "    0% {\n",
              "      border-color: transparent;\n",
              "      border-bottom-color: var(--fill-color);\n",
              "      border-left-color: var(--fill-color);\n",
              "    }\n",
              "    20% {\n",
              "      border-color: transparent;\n",
              "      border-left-color: var(--fill-color);\n",
              "      border-top-color: var(--fill-color);\n",
              "    }\n",
              "    30% {\n",
              "      border-color: transparent;\n",
              "      border-left-color: var(--fill-color);\n",
              "      border-top-color: var(--fill-color);\n",
              "      border-right-color: var(--fill-color);\n",
              "    }\n",
              "    40% {\n",
              "      border-color: transparent;\n",
              "      border-right-color: var(--fill-color);\n",
              "      border-top-color: var(--fill-color);\n",
              "    }\n",
              "    60% {\n",
              "      border-color: transparent;\n",
              "      border-right-color: var(--fill-color);\n",
              "    }\n",
              "    80% {\n",
              "      border-color: transparent;\n",
              "      border-right-color: var(--fill-color);\n",
              "      border-bottom-color: var(--fill-color);\n",
              "    }\n",
              "    90% {\n",
              "      border-color: transparent;\n",
              "      border-bottom-color: var(--fill-color);\n",
              "    }\n",
              "  }\n",
              "</style>\n",
              "\n",
              "  <script>\n",
              "    async function quickchart(key) {\n",
              "      const quickchartButtonEl =\n",
              "        document.querySelector('#' + key + ' button');\n",
              "      quickchartButtonEl.disabled = true;  // To prevent multiple clicks.\n",
              "      quickchartButtonEl.classList.add('colab-df-spinner');\n",
              "      try {\n",
              "        const charts = await google.colab.kernel.invokeFunction(\n",
              "            'suggestCharts', [key], {});\n",
              "      } catch (error) {\n",
              "        console.error('Error during call to suggestCharts:', error);\n",
              "      }\n",
              "      quickchartButtonEl.classList.remove('colab-df-spinner');\n",
              "      quickchartButtonEl.classList.add('colab-df-quickchart-complete');\n",
              "    }\n",
              "    (() => {\n",
              "      let quickchartButtonEl =\n",
              "        document.querySelector('#df-ae39b593-7119-4f4c-a9cf-26246867e442 button');\n",
              "      quickchartButtonEl.style.display =\n",
              "        google.colab.kernel.accessAllowed ? 'block' : 'none';\n",
              "    })();\n",
              "  </script>\n",
              "</div>\n",
              "\n",
              "    </div>\n",
              "  </div>\n"
            ],
            "text/plain": [
              "               transactionamt productcd    card1  card2  card3  card5   card6  \\\n",
              "TransactionID                                                                   \n",
              "3548013.0          125.000000         S  15775.0  481.0  150.0  102.0  credit   \n",
              "3548014.0          125.000000         S  15775.0  481.0  150.0  102.0  credit   \n",
              "3548015.0          125.000000         S  15775.0  481.0  150.0  102.0  credit   \n",
              "3548016.0          125.000000         S  15775.0  481.0  150.0  102.0  credit   \n",
              "3548017.0           31.950001         W   9500.0  321.0  150.0  226.0   debit   \n",
              "\n",
              "               addr1  dist1 p_emaildomain  ... id_13  id_17  id_19  id_20  \\\n",
              "TransactionID                              ...                              \n",
              "3548013.0      330.0    NaN           NaN  ...  52.0  166.0  633.0  533.0   \n",
              "3548014.0      330.0    NaN           NaN  ...  52.0  166.0  633.0  533.0   \n",
              "3548015.0      330.0    NaN           NaN  ...  52.0  166.0  633.0  533.0   \n",
              "3548016.0      330.0    NaN           NaN  ...  52.0  166.0  633.0  533.0   \n",
              "3548017.0      204.0   74.0           NaN  ...   NaN    NaN    NaN    NaN   \n",
              "\n",
              "               devicetype  deviceinfo                              EVENT_ID  \\\n",
              "TransactionID                                                                 \n",
              "3548013.0         desktop     Windows  f7694eae-43b9-4b6e-b2e4-fb7e54c7b775   \n",
              "3548014.0         desktop     Windows  5ac01558-a9de-4a13-ae69-2ffb2b371a05   \n",
              "3548015.0         desktop     Windows  609e04fb-5333-4215-98b4-93a469bf7a5e   \n",
              "3548016.0         desktop     Windows  b06da596-412a-4b3f-9e95-b03aedd7455a   \n",
              "3548017.0             NaN         NaN  e5808b15-9ead-4833-85b7-821a6f1f1f1d   \n",
              "\n",
              "                         ENTITY_ID       EVENT_TIMESTAMP  ENTITY_TYPE  \n",
              "TransactionID                                                          \n",
              "3548013.0      15775.0_330.0_129.0  2021-06-21T23:11:15Z         user  \n",
              "3548014.0      15775.0_330.0_129.0  2021-06-21T23:11:29Z         user  \n",
              "3548015.0      15775.0_330.0_129.0  2021-06-21T23:11:45Z         user  \n",
              "3548016.0      15775.0_330.0_129.0  2021-06-21T23:12:00Z         user  \n",
              "3548017.0       9500.0_204.0_150.0  2021-06-21T23:12:11Z         user  \n",
              "\n",
              "[5 rows x 71 columns]"
            ]
          },
          "metadata": {},
          "output_type": "display_data"
        },
        {
          "name": "stdout",
          "output_type": "stream",
          "text": [
            "(29527, 71)\n",
            "Test scores\n"
          ]
        },
        {
          "data": {
            "application/vnd.google.colaboratory.intrinsic+json": {
              "summary": "{\n  \"name\": \"print('=========')\",\n  \"rows\": 5,\n  \"fields\": [\n    {\n      \"column\": \"TransactionID\",\n      \"properties\": {\n        \"dtype\": \"float32\",\n        \"num_unique_values\": 5,\n        \"samples\": [\n          3548014.0,\n          3548017.0,\n          3548015.0\n        ],\n        \"semantic_type\": \"\",\n        \"description\": \"\"\n      }\n    },\n    {\n      \"column\": \"EVENT_LABEL\",\n      \"properties\": {\n        \"dtype\": \"number\",\n        \"std\": 0,\n        \"min\": 0,\n        \"max\": 0,\n        \"num_unique_values\": 1,\n        \"samples\": [\n          0\n        ],\n        \"semantic_type\": \"\",\n        \"description\": \"\"\n      }\n    },\n    {\n      \"column\": \"EVENT_ID\",\n      \"properties\": {\n        \"dtype\": \"string\",\n        \"num_unique_values\": 5,\n        \"samples\": [\n          \"5ac01558-a9de-4a13-ae69-2ffb2b371a05\"\n        ],\n        \"semantic_type\": \"\",\n        \"description\": \"\"\n      }\n    }\n  ]\n}",
              "type": "dataframe"
            },
            "text/html": [
              "\n",
              "  <div id=\"df-53740d1a-19c7-4a65-98e9-a122d5bdcb12\" class=\"colab-df-container\">\n",
              "    <div>\n",
              "<style scoped>\n",
              "    .dataframe tbody tr th:only-of-type {\n",
              "        vertical-align: middle;\n",
              "    }\n",
              "\n",
              "    .dataframe tbody tr th {\n",
              "        vertical-align: top;\n",
              "    }\n",
              "\n",
              "    .dataframe thead th {\n",
              "        text-align: right;\n",
              "    }\n",
              "</style>\n",
              "<table border=\"1\" class=\"dataframe\">\n",
              "  <thead>\n",
              "    <tr style=\"text-align: right;\">\n",
              "      <th></th>\n",
              "      <th>EVENT_LABEL</th>\n",
              "      <th>EVENT_ID</th>\n",
              "    </tr>\n",
              "    <tr>\n",
              "      <th>TransactionID</th>\n",
              "      <th></th>\n",
              "      <th></th>\n",
              "    </tr>\n",
              "  </thead>\n",
              "  <tbody>\n",
              "    <tr>\n",
              "      <th>3548013.0</th>\n",
              "      <td>0</td>\n",
              "      <td>f7694eae-43b9-4b6e-b2e4-fb7e54c7b775</td>\n",
              "    </tr>\n",
              "    <tr>\n",
              "      <th>3548014.0</th>\n",
              "      <td>0</td>\n",
              "      <td>5ac01558-a9de-4a13-ae69-2ffb2b371a05</td>\n",
              "    </tr>\n",
              "    <tr>\n",
              "      <th>3548015.0</th>\n",
              "      <td>0</td>\n",
              "      <td>609e04fb-5333-4215-98b4-93a469bf7a5e</td>\n",
              "    </tr>\n",
              "    <tr>\n",
              "      <th>3548016.0</th>\n",
              "      <td>0</td>\n",
              "      <td>b06da596-412a-4b3f-9e95-b03aedd7455a</td>\n",
              "    </tr>\n",
              "    <tr>\n",
              "      <th>3548017.0</th>\n",
              "      <td>0</td>\n",
              "      <td>e5808b15-9ead-4833-85b7-821a6f1f1f1d</td>\n",
              "    </tr>\n",
              "  </tbody>\n",
              "</table>\n",
              "</div>\n",
              "    <div class=\"colab-df-buttons\">\n",
              "\n",
              "  <div class=\"colab-df-container\">\n",
              "    <button class=\"colab-df-convert\" onclick=\"convertToInteractive('df-53740d1a-19c7-4a65-98e9-a122d5bdcb12')\"\n",
              "            title=\"Convert this dataframe to an interactive table.\"\n",
              "            style=\"display:none;\">\n",
              "\n",
              "  <svg xmlns=\"http://www.w3.org/2000/svg\" height=\"24px\" viewBox=\"0 -960 960 960\">\n",
              "    <path d=\"M120-120v-720h720v720H120Zm60-500h600v-160H180v160Zm220 220h160v-160H400v160Zm0 220h160v-160H400v160ZM180-400h160v-160H180v160Zm440 0h160v-160H620v160ZM180-180h160v-160H180v160Zm440 0h160v-160H620v160Z\"/>\n",
              "  </svg>\n",
              "    </button>\n",
              "\n",
              "  <style>\n",
              "    .colab-df-container {\n",
              "      display:flex;\n",
              "      gap: 12px;\n",
              "    }\n",
              "\n",
              "    .colab-df-convert {\n",
              "      background-color: #E8F0FE;\n",
              "      border: none;\n",
              "      border-radius: 50%;\n",
              "      cursor: pointer;\n",
              "      display: none;\n",
              "      fill: #1967D2;\n",
              "      height: 32px;\n",
              "      padding: 0 0 0 0;\n",
              "      width: 32px;\n",
              "    }\n",
              "\n",
              "    .colab-df-convert:hover {\n",
              "      background-color: #E2EBFA;\n",
              "      box-shadow: 0px 1px 2px rgba(60, 64, 67, 0.3), 0px 1px 3px 1px rgba(60, 64, 67, 0.15);\n",
              "      fill: #174EA6;\n",
              "    }\n",
              "\n",
              "    .colab-df-buttons div {\n",
              "      margin-bottom: 4px;\n",
              "    }\n",
              "\n",
              "    [theme=dark] .colab-df-convert {\n",
              "      background-color: #3B4455;\n",
              "      fill: #D2E3FC;\n",
              "    }\n",
              "\n",
              "    [theme=dark] .colab-df-convert:hover {\n",
              "      background-color: #434B5C;\n",
              "      box-shadow: 0px 1px 3px 1px rgba(0, 0, 0, 0.15);\n",
              "      filter: drop-shadow(0px 1px 2px rgba(0, 0, 0, 0.3));\n",
              "      fill: #FFFFFF;\n",
              "    }\n",
              "  </style>\n",
              "\n",
              "    <script>\n",
              "      const buttonEl =\n",
              "        document.querySelector('#df-53740d1a-19c7-4a65-98e9-a122d5bdcb12 button.colab-df-convert');\n",
              "      buttonEl.style.display =\n",
              "        google.colab.kernel.accessAllowed ? 'block' : 'none';\n",
              "\n",
              "      async function convertToInteractive(key) {\n",
              "        const element = document.querySelector('#df-53740d1a-19c7-4a65-98e9-a122d5bdcb12');\n",
              "        const dataTable =\n",
              "          await google.colab.kernel.invokeFunction('convertToInteractive',\n",
              "                                                    [key], {});\n",
              "        if (!dataTable) return;\n",
              "\n",
              "        const docLinkHtml = 'Like what you see? Visit the ' +\n",
              "          '<a target=\"_blank\" href=https://colab.research.google.com/notebooks/data_table.ipynb>data table notebook</a>'\n",
              "          + ' to learn more about interactive tables.';\n",
              "        element.innerHTML = '';\n",
              "        dataTable['output_type'] = 'display_data';\n",
              "        await google.colab.output.renderOutput(dataTable, element);\n",
              "        const docLink = document.createElement('div');\n",
              "        docLink.innerHTML = docLinkHtml;\n",
              "        element.appendChild(docLink);\n",
              "      }\n",
              "    </script>\n",
              "  </div>\n",
              "\n",
              "\n",
              "<div id=\"df-12c513ef-d52e-479a-9f08-8191771b5195\">\n",
              "  <button class=\"colab-df-quickchart\" onclick=\"quickchart('df-12c513ef-d52e-479a-9f08-8191771b5195')\"\n",
              "            title=\"Suggest charts\"\n",
              "            style=\"display:none;\">\n",
              "\n",
              "<svg xmlns=\"http://www.w3.org/2000/svg\" height=\"24px\"viewBox=\"0 0 24 24\"\n",
              "     width=\"24px\">\n",
              "    <g>\n",
              "        <path d=\"M19 3H5c-1.1 0-2 .9-2 2v14c0 1.1.9 2 2 2h14c1.1 0 2-.9 2-2V5c0-1.1-.9-2-2-2zM9 17H7v-7h2v7zm4 0h-2V7h2v10zm4 0h-2v-4h2v4z\"/>\n",
              "    </g>\n",
              "</svg>\n",
              "  </button>\n",
              "\n",
              "<style>\n",
              "  .colab-df-quickchart {\n",
              "      --bg-color: #E8F0FE;\n",
              "      --fill-color: #1967D2;\n",
              "      --hover-bg-color: #E2EBFA;\n",
              "      --hover-fill-color: #174EA6;\n",
              "      --disabled-fill-color: #AAA;\n",
              "      --disabled-bg-color: #DDD;\n",
              "  }\n",
              "\n",
              "  [theme=dark] .colab-df-quickchart {\n",
              "      --bg-color: #3B4455;\n",
              "      --fill-color: #D2E3FC;\n",
              "      --hover-bg-color: #434B5C;\n",
              "      --hover-fill-color: #FFFFFF;\n",
              "      --disabled-bg-color: #3B4455;\n",
              "      --disabled-fill-color: #666;\n",
              "  }\n",
              "\n",
              "  .colab-df-quickchart {\n",
              "    background-color: var(--bg-color);\n",
              "    border: none;\n",
              "    border-radius: 50%;\n",
              "    cursor: pointer;\n",
              "    display: none;\n",
              "    fill: var(--fill-color);\n",
              "    height: 32px;\n",
              "    padding: 0;\n",
              "    width: 32px;\n",
              "  }\n",
              "\n",
              "  .colab-df-quickchart:hover {\n",
              "    background-color: var(--hover-bg-color);\n",
              "    box-shadow: 0 1px 2px rgba(60, 64, 67, 0.3), 0 1px 3px 1px rgba(60, 64, 67, 0.15);\n",
              "    fill: var(--button-hover-fill-color);\n",
              "  }\n",
              "\n",
              "  .colab-df-quickchart-complete:disabled,\n",
              "  .colab-df-quickchart-complete:disabled:hover {\n",
              "    background-color: var(--disabled-bg-color);\n",
              "    fill: var(--disabled-fill-color);\n",
              "    box-shadow: none;\n",
              "  }\n",
              "\n",
              "  .colab-df-spinner {\n",
              "    border: 2px solid var(--fill-color);\n",
              "    border-color: transparent;\n",
              "    border-bottom-color: var(--fill-color);\n",
              "    animation:\n",
              "      spin 1s steps(1) infinite;\n",
              "  }\n",
              "\n",
              "  @keyframes spin {\n",
              "    0% {\n",
              "      border-color: transparent;\n",
              "      border-bottom-color: var(--fill-color);\n",
              "      border-left-color: var(--fill-color);\n",
              "    }\n",
              "    20% {\n",
              "      border-color: transparent;\n",
              "      border-left-color: var(--fill-color);\n",
              "      border-top-color: var(--fill-color);\n",
              "    }\n",
              "    30% {\n",
              "      border-color: transparent;\n",
              "      border-left-color: var(--fill-color);\n",
              "      border-top-color: var(--fill-color);\n",
              "      border-right-color: var(--fill-color);\n",
              "    }\n",
              "    40% {\n",
              "      border-color: transparent;\n",
              "      border-right-color: var(--fill-color);\n",
              "      border-top-color: var(--fill-color);\n",
              "    }\n",
              "    60% {\n",
              "      border-color: transparent;\n",
              "      border-right-color: var(--fill-color);\n",
              "    }\n",
              "    80% {\n",
              "      border-color: transparent;\n",
              "      border-right-color: var(--fill-color);\n",
              "      border-bottom-color: var(--fill-color);\n",
              "    }\n",
              "    90% {\n",
              "      border-color: transparent;\n",
              "      border-bottom-color: var(--fill-color);\n",
              "    }\n",
              "  }\n",
              "</style>\n",
              "\n",
              "  <script>\n",
              "    async function quickchart(key) {\n",
              "      const quickchartButtonEl =\n",
              "        document.querySelector('#' + key + ' button');\n",
              "      quickchartButtonEl.disabled = true;  // To prevent multiple clicks.\n",
              "      quickchartButtonEl.classList.add('colab-df-spinner');\n",
              "      try {\n",
              "        const charts = await google.colab.kernel.invokeFunction(\n",
              "            'suggestCharts', [key], {});\n",
              "      } catch (error) {\n",
              "        console.error('Error during call to suggestCharts:', error);\n",
              "      }\n",
              "      quickchartButtonEl.classList.remove('colab-df-spinner');\n",
              "      quickchartButtonEl.classList.add('colab-df-quickchart-complete');\n",
              "    }\n",
              "    (() => {\n",
              "      let quickchartButtonEl =\n",
              "        document.querySelector('#df-12c513ef-d52e-479a-9f08-8191771b5195 button');\n",
              "      quickchartButtonEl.style.display =\n",
              "        google.colab.kernel.accessAllowed ? 'block' : 'none';\n",
              "    })();\n",
              "  </script>\n",
              "</div>\n",
              "\n",
              "    </div>\n",
              "  </div>\n"
            ],
            "text/plain": [
              "               EVENT_LABEL                              EVENT_ID\n",
              "TransactionID                                                   \n",
              "3548013.0                0  f7694eae-43b9-4b6e-b2e4-fb7e54c7b775\n",
              "3548014.0                0  5ac01558-a9de-4a13-ae69-2ffb2b371a05\n",
              "3548015.0                0  609e04fb-5333-4215-98b4-93a469bf7a5e\n",
              "3548016.0                0  b06da596-412a-4b3f-9e95-b03aedd7455a\n",
              "3548017.0                0  e5808b15-9ead-4833-85b7-821a6f1f1f1d"
            ]
          },
          "metadata": {},
          "output_type": "display_data"
        },
        {
          "name": "stdout",
          "output_type": "stream",
          "text": [
            "EVENT_LABEL\n",
            "0    28358\n",
            "1     1169\n",
            "Name: count, dtype: int64\n",
            "EVENT_LABEL\n",
            "0    0.965252\n",
            "1    0.034748\n",
            "Name: proportion, dtype: float64\n",
            "=========\n"
          ]
        }
      ],
      "source": [
        "from fdb.datasets import FraudDatasetBenchmark\n",
        "\n",
        "key = 'ieeecis'\n",
        "\n",
        "obj = FraudDatasetBenchmark(\n",
        "    key=key,\n",
        "    delete_downloaded=False,\n",
        "    add_random_values_if_real_na = {\n",
        "        \"EVENT_TIMESTAMP\": True,\n",
        "        \"LABEL_TIMESTAMP\": True,\n",
        "        \"ENTITY_ID\": True,\n",
        "        \"ENTITY_TYPE\": True,\n",
        "        \"ENTITY_ID\": True,\n",
        "        \"EVENT_ID\": True\n",
        "        }\n",
        "    )\n",
        "print(obj.key)\n",
        "\n",
        "print('Train set: ')\n",
        "display(obj.train.head())\n",
        "print(len(obj.train.columns))\n",
        "print(obj.train.shape)\n",
        "\n",
        "print('Test set: ')\n",
        "display(obj.test.head())\n",
        "print(obj.test.shape)\n",
        "\n",
        "print('Test scores')\n",
        "display(obj.test_labels.head())\n",
        "print(obj.test_labels['EVENT_LABEL'].value_counts())\n",
        "print(obj.train['EVENT_LABEL'].value_counts(normalize=True))\n",
        "print('=========')"
      ]
    },
    {
      "cell_type": "markdown",
      "metadata": {
        "id": "JIGwmJcRDltD"
      },
      "source": [
        "Encode categorical columns and preprocess dataset."
      ]
    },
    {
      "cell_type": "code",
      "execution_count": null,
      "metadata": {
        "id": "djPrCW2UDmJO"
      },
      "outputs": [],
      "source": [
        "label_encoder = LabelEncoder()\n",
        "categorical_cols = ['productcd', 'card6', 'p_emaildomain','r_emaildomain', 'devicetype', 'deviceinfo']\n",
        "\n",
        "# encode categorical columns\n",
        "ieee_dataset_train = obj.train.reset_index()\n",
        "ieee_dataset_train[categorical_cols] = ieee_dataset_train[categorical_cols].apply(lambda col: label_encoder.fit_transform(col))\n",
        "\n",
        "ieee_dataset_train.replace([np.inf, -np.inf, np.nan], 0, inplace=True)\n",
        "ieee_dataset_train.dropna(inplace=True)"
      ]
    },
    {
      "cell_type": "markdown",
      "metadata": {
        "id": "Q6HVPguhEwOa"
      },
      "source": [
        "Uploading datasets."
      ]
    },
    {
      "cell_type": "code",
      "execution_count": null,
      "metadata": {
        "colab": {
          "base_uri": "https://localhost:8080/"
        },
        "id": "cekwekW_EUZK",
        "outputId": "ac0610b8-78df-4259-d327-5782662ac7b1"
      },
      "outputs": [
        {
          "name": "stderr",
          "output_type": "stream",
          "text": [
            "INFO:turboml.common.dataloader:Uploading 561013 rows to dataset ieee_features\n",
            "Progress: 100%|██████████| 561k/561k [00:20<00:00, 26.8krows/s]\n",
            "INFO:turboml.common.dataloader:Upload complete. Waiting for server to process messages.\n",
            "INFO:turboml.common.dataloader:Uploading 561013 rows to dataset ieee_labels\n",
            "Progress: 100%|██████████| 561k/561k [00:02<00:00, 195krows/s]\n",
            "INFO:turboml.common.dataloader:Upload complete. Waiting for server to process messages.\n"
          ]
        }
      ],
      "source": [
        "ieee_features_df = ieee_dataset_train.drop(columns=['EVENT_LABEL', 'EVENT_ID', 'ENTITY_ID', 'EVENT_TIMESTAMP', 'LABEL_TIMESTAMP', 'ENTITY_TYPE','TransactionID']).reset_index()\n",
        "ieee_labels_df = ieee_dataset_train['EVENT_LABEL'].reset_index()\n",
        "\n",
        "\n",
        "ieee_features = tb.OnlineDataset.from_pd(\n",
        "  id=\"ieee_features\",\n",
        "  df=ieee_features_df,\n",
        "  key_field=\"index\",\n",
        "  load_if_exists=True\n",
        ")\n",
        "\n",
        "ieee_labels = tb.OnlineDataset.from_pd(\n",
        "  id=\"ieee_labels\",\n",
        "  df=ieee_labels_df,\n",
        "  key_field=\"index\",\n",
        "  load_if_exists=True\n",
        ")"
      ]
    },
    {
      "cell_type": "markdown",
      "metadata": {
        "id": "hKOz5um9Es1S"
      },
      "source": [
        "# Benchmarking Models"
      ]
    },
    {
      "cell_type": "code",
      "execution_count": null,
      "metadata": {
        "id": "OPopWCyxEugM"
      },
      "outputs": [],
      "source": [
        "numerical_fields = [\n",
        "    \"transactionamt\", \"productcd\", \"card1\", \"card2\", \"card3\", \"card5\", \"card6\",\n",
        "    \"addr1\", \"dist1\", \"p_emaildomain\", \"r_emaildomain\", \"c1\", \"c2\", \"c4\", \"c5\", \"c6\", \"c7\", \"c8\", \"c9\", \"c10\",\n",
        "    \"c11\", \"c12\", \"c13\", \"c14\", \"v62\", \"v70\", \"v76\", \"v78\", \"v82\", \"v91\", \"v127\", \"v130\", \"v139\", \"v160\", \"v165\",\n",
        "    \"v187\", \"v203\", \"v207\", \"v209\", \"v210\", \"v221\", \"v234\", \"v257\", \"v258\", \"v261\", \"v264\", \"v266\", \"v267\",\n",
        "    \"v271\", \"v274\", \"v277\", \"v283\", \"v285\", \"v289\", \"v291\", \"v294\", \"id_01\", \"id_02\", \"id_05\", \"id_06\", \"id_09\",\n",
        "    \"id_13\", \"id_17\", \"id_19\", \"id_20\", \"devicetype\", \"deviceinfo\"\n",
        "]\n",
        "features = ieee_features.get_model_inputs(numerical_fields=numerical_fields)\n",
        "label = ieee_labels.get_model_labels(label_field=\"EVENT_LABEL\")"
      ]
    },
    {
      "cell_type": "markdown",
      "metadata": {
        "id": "O3RaWWFEFNrb"
      },
      "source": [
        "Use TurboML models"
      ]
    },
    {
      "cell_type": "code",
      "execution_count": null,
      "metadata": {
        "id": "6qnIYARlE-j1"
      },
      "outputs": [],
      "source": [
        "axgb_model =  tb.AdaptiveXGBoost(n_classes=2, max_depth=12,learning_rate=0.05)\n",
        "htc_model = tb.HoeffdingTreeClassifier(n_classes=2)"
      ]
    },
    {
      "cell_type": "markdown",
      "metadata": {
        "id": "9QpO12kJFRRo"
      },
      "source": [
        "Deploy Models"
      ]
    },
    {
      "cell_type": "code",
      "execution_count": null,
      "metadata": {
        "id": "yFf_zdGCFS2U"
      },
      "outputs": [],
      "source": [
        "deployed_axgb_model = axgb_model.deploy(name=\"axgb_model\", input=features, labels=label)\n",
        "deployed_htc_model = htc_model.deploy(name=\"htc_model\", input=features, labels=label)"
      ]
    },
    {
      "cell_type": "code",
      "execution_count": null,
      "metadata": {
        "colab": {
          "base_uri": "https://localhost:8080/"
        },
        "id": "QrIH0-vcFZDM",
        "outputId": "dd85f356-1d07-454e-a124-cbd90dcb4f66"
      },
      "outputs": [
        {
          "name": "stderr",
          "output_type": "stream",
          "text": [
            "INFO:turboml.common.dataloader:Yielded 5000 records (1 batches) in 1 seconds\n",
            "INFO:turboml.common.dataloader:Yielded 195000 records (39 batches) in 5 seconds\n",
            "INFO:turboml.common.dataloader:Yielded 215000 records (43 batches) in 8 seconds\n",
            "INFO:turboml.common.dataloader:Yielded 250000 records (50 batches) in 12 seconds\n",
            "INFO:turboml.common.dataloader:Yielded 275000 records (55 batches) in 15 seconds\n",
            "INFO:turboml.common.dataloader:Yielded 305000 records (61 batches) in 18 seconds\n",
            "INFO:turboml.common.dataloader:Yielded 335000 records (67 batches) in 21 seconds\n",
            "INFO:turboml.common.dataloader:Yielded 365000 records (73 batches) in 24 seconds\n",
            "INFO:turboml.common.dataloader:Yielded 395000 records (79 batches) in 27 seconds\n",
            "INFO:turboml.common.dataloader:Yielded 425000 records (85 batches) in 31 seconds\n",
            "INFO:turboml.common.dataloader:Yielded 455000 records (91 batches) in 34 seconds\n",
            "INFO:turboml.common.dataloader:Yielded 485000 records (97 batches) in 37 seconds\n",
            "INFO:turboml.common.dataloader:Yielded 515000 records (103 batches) in 40 seconds\n",
            "INFO:turboml.common.dataloader:Yielded 535000 records (107 batches) in 43 seconds\n",
            "INFO:turboml.common.dataloader:Yielded 560000 records (112 batches) in 47 seconds\n",
            "INFO:turboml.common.dataloader:Yielded 561013 records (113 batches) in 49 seconds\n",
            "INFO:turboml.common.dataloader:Yielded 5000 records (1 batches) in 1 seconds\n",
            "INFO:turboml.common.dataloader:Yielded 485000 records (97 batches) in 4 seconds\n",
            "INFO:turboml.common.dataloader:Yielded 561013 records (113 batches) in 6 seconds\n"
          ]
        }
      ],
      "source": [
        "output_axgb = deployed_axgb_model.get_outputs()\n",
        "output_htc = deployed_htc_model.get_outputs()"
      ]
    },
    {
      "cell_type": "code",
      "execution_count": null,
      "metadata": {
        "id": "qvFZO0DQFtZt"
      },
      "outputs": [],
      "source": [
        "deployed_axgb_model.add_metric(\"WindowedAccuracy\")\n",
        "deployed_htc_model.add_metric(\"WindowedAccuracy\")"
      ]
    },
    {
      "cell_type": "markdown",
      "metadata": {
        "id": "DJGFUEKYF5D6"
      },
      "source": [
        "Get WindowedAccuracy for last 100 windows."
      ]
    },
    {
      "cell_type": "code",
      "execution_count": null,
      "metadata": {
        "colab": {
          "base_uri": "https://localhost:8080/"
        },
        "id": "5_6o_ioeFzF1",
        "outputId": "5ed45075-1d6a-4a6d-d239-afca57eb7168"
      },
      "outputs": [
        {
          "name": "stdout",
          "output_type": "stream",
          "text": [
            "Adaptive XGBoost:  0.9639999866485596\n",
            "Hoeffding Tree Classifier:  0.9639999866485596\n"
          ]
        }
      ],
      "source": [
        "# Taking middle 50 window accuracies\n",
        "axgb_accuracy = deployed_axgb_model.get_evaluation(\"WindowedAccuracy\")[-100:-50]\n",
        "htc_accuracy = deployed_htc_model.get_evaluation(\"WindowedAccuracy\")[-100:-50]\n",
        "print(f\"Adaptive XGBoost:  {axgb_accuracy[-1].metric}\")\n",
        "print(f\"Hoeffding Tree Classifier:  {htc_accuracy[-1].metric}\")"
      ]
    },
    {
      "cell_type": "markdown",
      "metadata": {
        "id": "Gk1nV0V4GKq0"
      },
      "source": [
        "# Plot Graph: Accuracy Comparison"
      ]
    },
    {
      "cell_type": "code",
      "execution_count": null,
      "metadata": {
        "colab": {
          "base_uri": "https://localhost:8080/",
          "height": 521
        },
        "id": "7lOcD5v5GNKJ",
        "outputId": "21ae89b2-290d-4104-d96f-e7a795d0a996"
      },
      "outputs": [
        {
          "data": {
            "image/svg+xml": [
              "<svg class=\"main-svg\" xmlns=\"http://www.w3.org/2000/svg\" xmlns:xlink=\"http://www.w3.org/1999/xlink\" width=\"700\" height=\"500\" style=\"\" viewBox=\"0 0 700 500\"><rect x=\"0\" y=\"0\" width=\"700\" height=\"500\" style=\"fill: rgb(17, 17, 17); fill-opacity: 1;\"/><defs id=\"defs-3d04d9\"><g class=\"clips\"><clipPath id=\"clip3d04d9xyplot\" class=\"plotclip\"><rect width=\"475\" height=\"320\"/></clipPath><clipPath class=\"axesclip\" id=\"clip3d04d9x\"><rect x=\"80\" y=\"0\" width=\"475\" height=\"500\"/></clipPath><clipPath class=\"axesclip\" id=\"clip3d04d9y\"><rect x=\"0\" y=\"100\" width=\"700\" height=\"320\"/></clipPath><clipPath class=\"axesclip\" id=\"clip3d04d9xy\"><rect x=\"80\" y=\"100\" width=\"475\" height=\"320\"/></clipPath></g><g class=\"gradients\"/><g class=\"patterns\"/></defs><g class=\"bglayer\"/><g class=\"layer-below\"><g class=\"imagelayer\"/><g class=\"shapelayer\"/></g><g class=\"cartesianlayer\"><g class=\"subplot xy\"><g class=\"layer-subplot\"><g class=\"shapelayer\"/><g class=\"imagelayer\"/></g><g class=\"minor-gridlayer\"><g class=\"x\"/><g class=\"y\"/></g><g class=\"gridlayer\"><g class=\"x\"><path class=\"xgrid crisp\" transform=\"translate(81.79,0)\" d=\"M0,100v320\" style=\"stroke: rgb(40, 52, 66); stroke-opacity: 1; stroke-width: 1px;\"/><path class=\"xgrid crisp\" transform=\"translate(167.5,0)\" d=\"M0,100v320\" style=\"stroke: rgb(40, 52, 66); stroke-opacity: 1; stroke-width: 1px;\"/><path class=\"xgrid crisp\" transform=\"translate(253.21,0)\" d=\"M0,100v320\" style=\"stroke: rgb(40, 52, 66); stroke-opacity: 1; stroke-width: 1px;\"/><path class=\"xgrid crisp\" transform=\"translate(338.93,0)\" d=\"M0,100v320\" style=\"stroke: rgb(40, 52, 66); stroke-opacity: 1; stroke-width: 1px;\"/><path class=\"xgrid crisp\" transform=\"translate(424.64,0)\" d=\"M0,100v320\" style=\"stroke: rgb(40, 52, 66); stroke-opacity: 1; stroke-width: 1px;\"/><path class=\"xgrid crisp\" transform=\"translate(510.36,0)\" d=\"M0,100v320\" style=\"stroke: rgb(40, 52, 66); stroke-opacity: 1; stroke-width: 1px;\"/></g><g class=\"y\"><path class=\"ygrid crisp\" transform=\"translate(0,388.05)\" d=\"M80,0h475\" style=\"stroke: rgb(40, 52, 66); stroke-opacity: 1; stroke-width: 1px;\"/><path class=\"ygrid crisp\" transform=\"translate(0,339.27)\" d=\"M80,0h475\" style=\"stroke: rgb(40, 52, 66); stroke-opacity: 1; stroke-width: 1px;\"/><path class=\"ygrid crisp\" transform=\"translate(0,290.49)\" d=\"M80,0h475\" style=\"stroke: rgb(40, 52, 66); stroke-opacity: 1; stroke-width: 1px;\"/><path class=\"ygrid crisp\" transform=\"translate(0,241.71)\" d=\"M80,0h475\" style=\"stroke: rgb(40, 52, 66); stroke-opacity: 1; stroke-width: 1px;\"/><path class=\"ygrid crisp\" transform=\"translate(0,192.92000000000002)\" d=\"M80,0h475\" style=\"stroke: rgb(40, 52, 66); stroke-opacity: 1; stroke-width: 1px;\"/><path class=\"ygrid crisp\" transform=\"translate(0,144.14)\" d=\"M80,0h475\" style=\"stroke: rgb(40, 52, 66); stroke-opacity: 1; stroke-width: 1px;\"/></g></g><g class=\"zerolinelayer\"/><g class=\"layer-between\"><g class=\"shapelayer\"/><g class=\"imagelayer\"/></g><path class=\"xlines-below\"/><path class=\"ylines-below\"/><g class=\"overlines-below\"/><g class=\"xaxislayer-below\"/><g class=\"yaxislayer-below\"/><g class=\"overaxes-below\"/><g class=\"overplot\"><g class=\"xy\" transform=\"translate(80,100)\" clip-path=\"url(#clip3d04d9xyplot)\"><g class=\"scatterlayer mlayer\"><g class=\"trace scatter tracefa090c\" style=\"stroke-miterlimit: 2; opacity: 1;\"><g class=\"fills\"/><g class=\"errorbars\"/><g class=\"lines\"><path class=\"js-line\" d=\"M27.5,85.61L36.07,80.73L44.64,170.98L53.21,88.05L61.79,124.63L70.36,85.61L78.93,83.17L87.5,141.71L96.07,107.56L104.64,88.05L113.21,127.07L121.79,105.12L130.36,117.32L138.93,131.95L147.5,85.61L156.07,100.24L164.64,68.53L173.21,90.48L181.79,117.32L190.36,80.73L198.93,88.05L207.5,63.65L216.07,85.61L224.64,136.83L233.21,83.17L241.79,95.36L250.36,112.44L258.93,85.61L267.5,92.92L276.07,97.8L284.64,300.25L293.21,129.51L301.79,73.41L310.36,78.29L318.93,90.48L327.5,112.44L336.07,68.53L344.64,88.05L353.21,63.65L361.79,66.09L370.36,44.14L378.93,95.36L387.5,95.36L396.07,83.17L404.64,56.34L413.21,58.78L421.79,73.41L430.36,80.73L438.93,68.53L447.5,83.17\" style=\"vector-effect: none; fill: none; stroke: rgb(99, 110, 250); stroke-opacity: 1; stroke-width: 2px; opacity: 1;\"/></g><g class=\"points\"><path class=\"point\" transform=\"translate(27.5,85.61)\" d=\"M3,0A3,3 0 1,1 0,-3A3,3 0 0,1 3,0Z\" style=\"opacity: 1; stroke-width: 0px; fill: rgb(99, 110, 250); fill-opacity: 1;\"/><path class=\"point\" transform=\"translate(36.07,80.73)\" d=\"M3,0A3,3 0 1,1 0,-3A3,3 0 0,1 3,0Z\" style=\"opacity: 1; stroke-width: 0px; fill: rgb(99, 110, 250); fill-opacity: 1;\"/><path class=\"point\" transform=\"translate(44.64,170.98)\" d=\"M3,0A3,3 0 1,1 0,-3A3,3 0 0,1 3,0Z\" style=\"opacity: 1; stroke-width: 0px; fill: rgb(99, 110, 250); fill-opacity: 1;\"/><path class=\"point\" transform=\"translate(53.21,88.05)\" d=\"M3,0A3,3 0 1,1 0,-3A3,3 0 0,1 3,0Z\" style=\"opacity: 1; stroke-width: 0px; fill: rgb(99, 110, 250); fill-opacity: 1;\"/><path class=\"point\" transform=\"translate(61.79,124.63)\" d=\"M3,0A3,3 0 1,1 0,-3A3,3 0 0,1 3,0Z\" style=\"opacity: 1; stroke-width: 0px; fill: rgb(99, 110, 250); fill-opacity: 1;\"/><path class=\"point\" transform=\"translate(70.36,85.61)\" d=\"M3,0A3,3 0 1,1 0,-3A3,3 0 0,1 3,0Z\" style=\"opacity: 1; stroke-width: 0px; fill: rgb(99, 110, 250); fill-opacity: 1;\"/><path class=\"point\" transform=\"translate(78.93,83.17)\" d=\"M3,0A3,3 0 1,1 0,-3A3,3 0 0,1 3,0Z\" style=\"opacity: 1; stroke-width: 0px; fill: rgb(99, 110, 250); fill-opacity: 1;\"/><path class=\"point\" transform=\"translate(87.5,141.71)\" d=\"M3,0A3,3 0 1,1 0,-3A3,3 0 0,1 3,0Z\" style=\"opacity: 1; stroke-width: 0px; fill: rgb(99, 110, 250); fill-opacity: 1;\"/><path class=\"point\" transform=\"translate(96.07,107.56)\" d=\"M3,0A3,3 0 1,1 0,-3A3,3 0 0,1 3,0Z\" style=\"opacity: 1; stroke-width: 0px; fill: rgb(99, 110, 250); fill-opacity: 1;\"/><path class=\"point\" transform=\"translate(104.64,88.05)\" d=\"M3,0A3,3 0 1,1 0,-3A3,3 0 0,1 3,0Z\" style=\"opacity: 1; stroke-width: 0px; fill: rgb(99, 110, 250); fill-opacity: 1;\"/><path class=\"point\" transform=\"translate(113.21,127.07)\" d=\"M3,0A3,3 0 1,1 0,-3A3,3 0 0,1 3,0Z\" style=\"opacity: 1; stroke-width: 0px; fill: rgb(99, 110, 250); fill-opacity: 1;\"/><path class=\"point\" transform=\"translate(121.79,105.12)\" d=\"M3,0A3,3 0 1,1 0,-3A3,3 0 0,1 3,0Z\" style=\"opacity: 1; stroke-width: 0px; fill: rgb(99, 110, 250); fill-opacity: 1;\"/><path class=\"point\" transform=\"translate(130.36,117.32)\" d=\"M3,0A3,3 0 1,1 0,-3A3,3 0 0,1 3,0Z\" style=\"opacity: 1; stroke-width: 0px; fill: rgb(99, 110, 250); fill-opacity: 1;\"/><path class=\"point\" transform=\"translate(138.93,131.95)\" d=\"M3,0A3,3 0 1,1 0,-3A3,3 0 0,1 3,0Z\" style=\"opacity: 1; stroke-width: 0px; fill: rgb(99, 110, 250); fill-opacity: 1;\"/><path class=\"point\" transform=\"translate(147.5,85.61)\" d=\"M3,0A3,3 0 1,1 0,-3A3,3 0 0,1 3,0Z\" style=\"opacity: 1; stroke-width: 0px; fill: rgb(99, 110, 250); fill-opacity: 1;\"/><path class=\"point\" transform=\"translate(156.07,100.24)\" d=\"M3,0A3,3 0 1,1 0,-3A3,3 0 0,1 3,0Z\" style=\"opacity: 1; stroke-width: 0px; fill: rgb(99, 110, 250); fill-opacity: 1;\"/><path class=\"point\" transform=\"translate(164.64,68.53)\" d=\"M3,0A3,3 0 1,1 0,-3A3,3 0 0,1 3,0Z\" style=\"opacity: 1; stroke-width: 0px; fill: rgb(99, 110, 250); fill-opacity: 1;\"/><path class=\"point\" transform=\"translate(173.21,90.48)\" d=\"M3,0A3,3 0 1,1 0,-3A3,3 0 0,1 3,0Z\" style=\"opacity: 1; stroke-width: 0px; fill: rgb(99, 110, 250); fill-opacity: 1;\"/><path class=\"point\" transform=\"translate(181.79,117.32)\" d=\"M3,0A3,3 0 1,1 0,-3A3,3 0 0,1 3,0Z\" style=\"opacity: 1; stroke-width: 0px; fill: rgb(99, 110, 250); fill-opacity: 1;\"/><path class=\"point\" transform=\"translate(190.36,80.73)\" d=\"M3,0A3,3 0 1,1 0,-3A3,3 0 0,1 3,0Z\" style=\"opacity: 1; stroke-width: 0px; fill: rgb(99, 110, 250); fill-opacity: 1;\"/><path class=\"point\" transform=\"translate(198.93,88.05)\" d=\"M3,0A3,3 0 1,1 0,-3A3,3 0 0,1 3,0Z\" style=\"opacity: 1; stroke-width: 0px; fill: rgb(99, 110, 250); fill-opacity: 1;\"/><path class=\"point\" transform=\"translate(207.5,63.65)\" d=\"M3,0A3,3 0 1,1 0,-3A3,3 0 0,1 3,0Z\" style=\"opacity: 1; stroke-width: 0px; fill: rgb(99, 110, 250); fill-opacity: 1;\"/><path class=\"point\" transform=\"translate(216.07,85.61)\" d=\"M3,0A3,3 0 1,1 0,-3A3,3 0 0,1 3,0Z\" style=\"opacity: 1; stroke-width: 0px; fill: rgb(99, 110, 250); fill-opacity: 1;\"/><path class=\"point\" transform=\"translate(224.64,136.83)\" d=\"M3,0A3,3 0 1,1 0,-3A3,3 0 0,1 3,0Z\" style=\"opacity: 1; stroke-width: 0px; fill: rgb(99, 110, 250); fill-opacity: 1;\"/><path class=\"point\" transform=\"translate(233.21,83.17)\" d=\"M3,0A3,3 0 1,1 0,-3A3,3 0 0,1 3,0Z\" style=\"opacity: 1; stroke-width: 0px; fill: rgb(99, 110, 250); fill-opacity: 1;\"/><path class=\"point\" transform=\"translate(241.79,95.36)\" d=\"M3,0A3,3 0 1,1 0,-3A3,3 0 0,1 3,0Z\" style=\"opacity: 1; stroke-width: 0px; fill: rgb(99, 110, 250); fill-opacity: 1;\"/><path class=\"point\" transform=\"translate(250.36,112.44)\" d=\"M3,0A3,3 0 1,1 0,-3A3,3 0 0,1 3,0Z\" style=\"opacity: 1; stroke-width: 0px; fill: rgb(99, 110, 250); fill-opacity: 1;\"/><path class=\"point\" transform=\"translate(258.93,85.61)\" d=\"M3,0A3,3 0 1,1 0,-3A3,3 0 0,1 3,0Z\" style=\"opacity: 1; stroke-width: 0px; fill: rgb(99, 110, 250); fill-opacity: 1;\"/><path class=\"point\" transform=\"translate(267.5,92.92)\" d=\"M3,0A3,3 0 1,1 0,-3A3,3 0 0,1 3,0Z\" style=\"opacity: 1; stroke-width: 0px; fill: rgb(99, 110, 250); fill-opacity: 1;\"/><path class=\"point\" transform=\"translate(276.07,97.8)\" d=\"M3,0A3,3 0 1,1 0,-3A3,3 0 0,1 3,0Z\" style=\"opacity: 1; stroke-width: 0px; fill: rgb(99, 110, 250); fill-opacity: 1;\"/><path class=\"point\" transform=\"translate(284.64,300.25)\" d=\"M3,0A3,3 0 1,1 0,-3A3,3 0 0,1 3,0Z\" style=\"opacity: 1; stroke-width: 0px; fill: rgb(99, 110, 250); fill-opacity: 1;\"/><path class=\"point\" transform=\"translate(293.21,129.51)\" d=\"M3,0A3,3 0 1,1 0,-3A3,3 0 0,1 3,0Z\" style=\"opacity: 1; stroke-width: 0px; fill: rgb(99, 110, 250); fill-opacity: 1;\"/><path class=\"point\" transform=\"translate(301.79,73.41)\" d=\"M3,0A3,3 0 1,1 0,-3A3,3 0 0,1 3,0Z\" style=\"opacity: 1; stroke-width: 0px; fill: rgb(99, 110, 250); fill-opacity: 1;\"/><path class=\"point\" transform=\"translate(310.36,78.29)\" d=\"M3,0A3,3 0 1,1 0,-3A3,3 0 0,1 3,0Z\" style=\"opacity: 1; stroke-width: 0px; fill: rgb(99, 110, 250); fill-opacity: 1;\"/><path class=\"point\" transform=\"translate(318.93,90.48)\" d=\"M3,0A3,3 0 1,1 0,-3A3,3 0 0,1 3,0Z\" style=\"opacity: 1; stroke-width: 0px; fill: rgb(99, 110, 250); fill-opacity: 1;\"/><path class=\"point\" transform=\"translate(327.5,112.44)\" d=\"M3,0A3,3 0 1,1 0,-3A3,3 0 0,1 3,0Z\" style=\"opacity: 1; stroke-width: 0px; fill: rgb(99, 110, 250); fill-opacity: 1;\"/><path class=\"point\" transform=\"translate(336.07,68.53)\" d=\"M3,0A3,3 0 1,1 0,-3A3,3 0 0,1 3,0Z\" style=\"opacity: 1; stroke-width: 0px; fill: rgb(99, 110, 250); fill-opacity: 1;\"/><path class=\"point\" transform=\"translate(344.64,88.05)\" d=\"M3,0A3,3 0 1,1 0,-3A3,3 0 0,1 3,0Z\" style=\"opacity: 1; stroke-width: 0px; fill: rgb(99, 110, 250); fill-opacity: 1;\"/><path class=\"point\" transform=\"translate(353.21,63.65)\" d=\"M3,0A3,3 0 1,1 0,-3A3,3 0 0,1 3,0Z\" style=\"opacity: 1; stroke-width: 0px; fill: rgb(99, 110, 250); fill-opacity: 1;\"/><path class=\"point\" transform=\"translate(361.79,66.09)\" d=\"M3,0A3,3 0 1,1 0,-3A3,3 0 0,1 3,0Z\" style=\"opacity: 1; stroke-width: 0px; fill: rgb(99, 110, 250); fill-opacity: 1;\"/><path class=\"point\" transform=\"translate(370.36,44.14)\" d=\"M3,0A3,3 0 1,1 0,-3A3,3 0 0,1 3,0Z\" style=\"opacity: 1; stroke-width: 0px; fill: rgb(99, 110, 250); fill-opacity: 1;\"/><path class=\"point\" transform=\"translate(378.93,95.36)\" d=\"M3,0A3,3 0 1,1 0,-3A3,3 0 0,1 3,0Z\" style=\"opacity: 1; stroke-width: 0px; fill: rgb(99, 110, 250); fill-opacity: 1;\"/><path class=\"point\" transform=\"translate(387.5,95.36)\" d=\"M3,0A3,3 0 1,1 0,-3A3,3 0 0,1 3,0Z\" style=\"opacity: 1; stroke-width: 0px; fill: rgb(99, 110, 250); fill-opacity: 1;\"/><path class=\"point\" transform=\"translate(396.07,83.17)\" d=\"M3,0A3,3 0 1,1 0,-3A3,3 0 0,1 3,0Z\" style=\"opacity: 1; stroke-width: 0px; fill: rgb(99, 110, 250); fill-opacity: 1;\"/><path class=\"point\" transform=\"translate(404.64,56.34)\" d=\"M3,0A3,3 0 1,1 0,-3A3,3 0 0,1 3,0Z\" style=\"opacity: 1; stroke-width: 0px; fill: rgb(99, 110, 250); fill-opacity: 1;\"/><path class=\"point\" transform=\"translate(413.21,58.78)\" d=\"M3,0A3,3 0 1,1 0,-3A3,3 0 0,1 3,0Z\" style=\"opacity: 1; stroke-width: 0px; fill: rgb(99, 110, 250); fill-opacity: 1;\"/><path class=\"point\" transform=\"translate(421.79,73.41)\" d=\"M3,0A3,3 0 1,1 0,-3A3,3 0 0,1 3,0Z\" style=\"opacity: 1; stroke-width: 0px; fill: rgb(99, 110, 250); fill-opacity: 1;\"/><path class=\"point\" transform=\"translate(430.36,80.73)\" d=\"M3,0A3,3 0 1,1 0,-3A3,3 0 0,1 3,0Z\" style=\"opacity: 1; stroke-width: 0px; fill: rgb(99, 110, 250); fill-opacity: 1;\"/><path class=\"point\" transform=\"translate(438.93,68.53)\" d=\"M3,0A3,3 0 1,1 0,-3A3,3 0 0,1 3,0Z\" style=\"opacity: 1; stroke-width: 0px; fill: rgb(99, 110, 250); fill-opacity: 1;\"/><path class=\"point\" transform=\"translate(447.5,83.17)\" d=\"M3,0A3,3 0 1,1 0,-3A3,3 0 0,1 3,0Z\" style=\"opacity: 1; stroke-width: 0px; fill: rgb(99, 110, 250); fill-opacity: 1;\"/></g><g class=\"text\"/></g><g class=\"trace scatter trace22a9b5\" style=\"stroke-miterlimit: 2; opacity: 1;\"><g class=\"fills\"/><g class=\"errorbars\"/><g class=\"lines\"><path class=\"js-line\" d=\"M27.5,44.14L36.07,53.9L44.64,102.68L53.21,70.97L61.79,83.17L70.36,46.58L78.93,51.46L87.5,105.12L96.07,70.97L113.21,110L121.79,95.36L130.36,97.8L138.93,117.32L147.5,97.8L156.07,105.12L164.64,51.46L173.21,66.09L181.79,85.61L190.36,85.61L198.93,80.73L207.5,39.26L216.07,66.09L224.64,97.8L233.21,56.34L241.79,61.22L250.36,100.24L258.93,53.9L267.5,49.02L276.07,49.02L284.64,88.05L293.21,78.29L301.79,61.22L310.36,56.34L318.93,49.02L327.5,110L336.07,88.05L344.64,61.22L353.21,66.09L361.79,75.85L370.36,41.7L378.93,63.65L387.5,80.73L396.07,49.02L404.64,46.58L413.21,139.27L421.79,85.61L430.36,51.46L438.93,19.75L447.5,83.17\" style=\"vector-effect: none; fill: none; stroke: rgb(239, 85, 59); stroke-opacity: 1; stroke-width: 2px; opacity: 1;\"/></g><g class=\"points\"><path class=\"point\" transform=\"translate(27.5,44.14)\" d=\"M3,0A3,3 0 1,1 0,-3A3,3 0 0,1 3,0Z\" style=\"opacity: 1; stroke-width: 0px; fill: rgb(239, 85, 59); fill-opacity: 1;\"/><path class=\"point\" transform=\"translate(36.07,53.9)\" d=\"M3,0A3,3 0 1,1 0,-3A3,3 0 0,1 3,0Z\" style=\"opacity: 1; stroke-width: 0px; fill: rgb(239, 85, 59); fill-opacity: 1;\"/><path class=\"point\" transform=\"translate(44.64,102.68)\" d=\"M3,0A3,3 0 1,1 0,-3A3,3 0 0,1 3,0Z\" style=\"opacity: 1; stroke-width: 0px; fill: rgb(239, 85, 59); fill-opacity: 1;\"/><path class=\"point\" transform=\"translate(53.21,70.97)\" d=\"M3,0A3,3 0 1,1 0,-3A3,3 0 0,1 3,0Z\" style=\"opacity: 1; stroke-width: 0px; fill: rgb(239, 85, 59); fill-opacity: 1;\"/><path class=\"point\" transform=\"translate(61.79,83.17)\" d=\"M3,0A3,3 0 1,1 0,-3A3,3 0 0,1 3,0Z\" style=\"opacity: 1; stroke-width: 0px; fill: rgb(239, 85, 59); fill-opacity: 1;\"/><path class=\"point\" transform=\"translate(70.36,46.58)\" d=\"M3,0A3,3 0 1,1 0,-3A3,3 0 0,1 3,0Z\" style=\"opacity: 1; stroke-width: 0px; fill: rgb(239, 85, 59); fill-opacity: 1;\"/><path class=\"point\" transform=\"translate(78.93,51.46)\" d=\"M3,0A3,3 0 1,1 0,-3A3,3 0 0,1 3,0Z\" style=\"opacity: 1; stroke-width: 0px; fill: rgb(239, 85, 59); fill-opacity: 1;\"/><path class=\"point\" transform=\"translate(87.5,105.12)\" d=\"M3,0A3,3 0 1,1 0,-3A3,3 0 0,1 3,0Z\" style=\"opacity: 1; stroke-width: 0px; fill: rgb(239, 85, 59); fill-opacity: 1;\"/><path class=\"point\" transform=\"translate(96.07,70.97)\" d=\"M3,0A3,3 0 1,1 0,-3A3,3 0 0,1 3,0Z\" style=\"opacity: 1; stroke-width: 0px; fill: rgb(239, 85, 59); fill-opacity: 1;\"/><path class=\"point\" transform=\"translate(104.64,90.48)\" d=\"M3,0A3,3 0 1,1 0,-3A3,3 0 0,1 3,0Z\" style=\"opacity: 1; stroke-width: 0px; fill: rgb(239, 85, 59); fill-opacity: 1;\"/><path class=\"point\" transform=\"translate(113.21,110)\" d=\"M3,0A3,3 0 1,1 0,-3A3,3 0 0,1 3,0Z\" style=\"opacity: 1; stroke-width: 0px; fill: rgb(239, 85, 59); fill-opacity: 1;\"/><path class=\"point\" transform=\"translate(121.79,95.36)\" d=\"M3,0A3,3 0 1,1 0,-3A3,3 0 0,1 3,0Z\" style=\"opacity: 1; stroke-width: 0px; fill: rgb(239, 85, 59); fill-opacity: 1;\"/><path class=\"point\" transform=\"translate(130.36,97.8)\" d=\"M3,0A3,3 0 1,1 0,-3A3,3 0 0,1 3,0Z\" style=\"opacity: 1; stroke-width: 0px; fill: rgb(239, 85, 59); fill-opacity: 1;\"/><path class=\"point\" transform=\"translate(138.93,117.32)\" d=\"M3,0A3,3 0 1,1 0,-3A3,3 0 0,1 3,0Z\" style=\"opacity: 1; stroke-width: 0px; fill: rgb(239, 85, 59); fill-opacity: 1;\"/><path class=\"point\" transform=\"translate(147.5,97.8)\" d=\"M3,0A3,3 0 1,1 0,-3A3,3 0 0,1 3,0Z\" style=\"opacity: 1; stroke-width: 0px; fill: rgb(239, 85, 59); fill-opacity: 1;\"/><path class=\"point\" transform=\"translate(156.07,105.12)\" d=\"M3,0A3,3 0 1,1 0,-3A3,3 0 0,1 3,0Z\" style=\"opacity: 1; stroke-width: 0px; fill: rgb(239, 85, 59); fill-opacity: 1;\"/><path class=\"point\" transform=\"translate(164.64,51.46)\" d=\"M3,0A3,3 0 1,1 0,-3A3,3 0 0,1 3,0Z\" style=\"opacity: 1; stroke-width: 0px; fill: rgb(239, 85, 59); fill-opacity: 1;\"/><path class=\"point\" transform=\"translate(173.21,66.09)\" d=\"M3,0A3,3 0 1,1 0,-3A3,3 0 0,1 3,0Z\" style=\"opacity: 1; stroke-width: 0px; fill: rgb(239, 85, 59); fill-opacity: 1;\"/><path class=\"point\" transform=\"translate(181.79,85.61)\" d=\"M3,0A3,3 0 1,1 0,-3A3,3 0 0,1 3,0Z\" style=\"opacity: 1; stroke-width: 0px; fill: rgb(239, 85, 59); fill-opacity: 1;\"/><path class=\"point\" transform=\"translate(190.36,85.61)\" d=\"M3,0A3,3 0 1,1 0,-3A3,3 0 0,1 3,0Z\" style=\"opacity: 1; stroke-width: 0px; fill: rgb(239, 85, 59); fill-opacity: 1;\"/><path class=\"point\" transform=\"translate(198.93,80.73)\" d=\"M3,0A3,3 0 1,1 0,-3A3,3 0 0,1 3,0Z\" style=\"opacity: 1; stroke-width: 0px; fill: rgb(239, 85, 59); fill-opacity: 1;\"/><path class=\"point\" transform=\"translate(207.5,39.26)\" d=\"M3,0A3,3 0 1,1 0,-3A3,3 0 0,1 3,0Z\" style=\"opacity: 1; stroke-width: 0px; fill: rgb(239, 85, 59); fill-opacity: 1;\"/><path class=\"point\" transform=\"translate(216.07,66.09)\" d=\"M3,0A3,3 0 1,1 0,-3A3,3 0 0,1 3,0Z\" style=\"opacity: 1; stroke-width: 0px; fill: rgb(239, 85, 59); fill-opacity: 1;\"/><path class=\"point\" transform=\"translate(224.64,97.8)\" d=\"M3,0A3,3 0 1,1 0,-3A3,3 0 0,1 3,0Z\" style=\"opacity: 1; stroke-width: 0px; fill: rgb(239, 85, 59); fill-opacity: 1;\"/><path class=\"point\" transform=\"translate(233.21,56.34)\" d=\"M3,0A3,3 0 1,1 0,-3A3,3 0 0,1 3,0Z\" style=\"opacity: 1; stroke-width: 0px; fill: rgb(239, 85, 59); fill-opacity: 1;\"/><path class=\"point\" transform=\"translate(241.79,61.22)\" d=\"M3,0A3,3 0 1,1 0,-3A3,3 0 0,1 3,0Z\" style=\"opacity: 1; stroke-width: 0px; fill: rgb(239, 85, 59); fill-opacity: 1;\"/><path class=\"point\" transform=\"translate(250.36,100.24)\" d=\"M3,0A3,3 0 1,1 0,-3A3,3 0 0,1 3,0Z\" style=\"opacity: 1; stroke-width: 0px; fill: rgb(239, 85, 59); fill-opacity: 1;\"/><path class=\"point\" transform=\"translate(258.93,53.9)\" d=\"M3,0A3,3 0 1,1 0,-3A3,3 0 0,1 3,0Z\" style=\"opacity: 1; stroke-width: 0px; fill: rgb(239, 85, 59); fill-opacity: 1;\"/><path class=\"point\" transform=\"translate(267.5,49.02)\" d=\"M3,0A3,3 0 1,1 0,-3A3,3 0 0,1 3,0Z\" style=\"opacity: 1; stroke-width: 0px; fill: rgb(239, 85, 59); fill-opacity: 1;\"/><path class=\"point\" transform=\"translate(276.07,49.02)\" d=\"M3,0A3,3 0 1,1 0,-3A3,3 0 0,1 3,0Z\" style=\"opacity: 1; stroke-width: 0px; fill: rgb(239, 85, 59); fill-opacity: 1;\"/><path class=\"point\" transform=\"translate(284.64,88.05)\" d=\"M3,0A3,3 0 1,1 0,-3A3,3 0 0,1 3,0Z\" style=\"opacity: 1; stroke-width: 0px; fill: rgb(239, 85, 59); fill-opacity: 1;\"/><path class=\"point\" transform=\"translate(293.21,78.29)\" d=\"M3,0A3,3 0 1,1 0,-3A3,3 0 0,1 3,0Z\" style=\"opacity: 1; stroke-width: 0px; fill: rgb(239, 85, 59); fill-opacity: 1;\"/><path class=\"point\" transform=\"translate(301.79,61.22)\" d=\"M3,0A3,3 0 1,1 0,-3A3,3 0 0,1 3,0Z\" style=\"opacity: 1; stroke-width: 0px; fill: rgb(239, 85, 59); fill-opacity: 1;\"/><path class=\"point\" transform=\"translate(310.36,56.34)\" d=\"M3,0A3,3 0 1,1 0,-3A3,3 0 0,1 3,0Z\" style=\"opacity: 1; stroke-width: 0px; fill: rgb(239, 85, 59); fill-opacity: 1;\"/><path class=\"point\" transform=\"translate(318.93,49.02)\" d=\"M3,0A3,3 0 1,1 0,-3A3,3 0 0,1 3,0Z\" style=\"opacity: 1; stroke-width: 0px; fill: rgb(239, 85, 59); fill-opacity: 1;\"/><path class=\"point\" transform=\"translate(327.5,110)\" d=\"M3,0A3,3 0 1,1 0,-3A3,3 0 0,1 3,0Z\" style=\"opacity: 1; stroke-width: 0px; fill: rgb(239, 85, 59); fill-opacity: 1;\"/><path class=\"point\" transform=\"translate(336.07,88.05)\" d=\"M3,0A3,3 0 1,1 0,-3A3,3 0 0,1 3,0Z\" style=\"opacity: 1; stroke-width: 0px; fill: rgb(239, 85, 59); fill-opacity: 1;\"/><path class=\"point\" transform=\"translate(344.64,61.22)\" d=\"M3,0A3,3 0 1,1 0,-3A3,3 0 0,1 3,0Z\" style=\"opacity: 1; stroke-width: 0px; fill: rgb(239, 85, 59); fill-opacity: 1;\"/><path class=\"point\" transform=\"translate(353.21,66.09)\" d=\"M3,0A3,3 0 1,1 0,-3A3,3 0 0,1 3,0Z\" style=\"opacity: 1; stroke-width: 0px; fill: rgb(239, 85, 59); fill-opacity: 1;\"/><path class=\"point\" transform=\"translate(361.79,75.85)\" d=\"M3,0A3,3 0 1,1 0,-3A3,3 0 0,1 3,0Z\" style=\"opacity: 1; stroke-width: 0px; fill: rgb(239, 85, 59); fill-opacity: 1;\"/><path class=\"point\" transform=\"translate(370.36,41.7)\" d=\"M3,0A3,3 0 1,1 0,-3A3,3 0 0,1 3,0Z\" style=\"opacity: 1; stroke-width: 0px; fill: rgb(239, 85, 59); fill-opacity: 1;\"/><path class=\"point\" transform=\"translate(378.93,63.65)\" d=\"M3,0A3,3 0 1,1 0,-3A3,3 0 0,1 3,0Z\" style=\"opacity: 1; stroke-width: 0px; fill: rgb(239, 85, 59); fill-opacity: 1;\"/><path class=\"point\" transform=\"translate(387.5,80.73)\" d=\"M3,0A3,3 0 1,1 0,-3A3,3 0 0,1 3,0Z\" style=\"opacity: 1; stroke-width: 0px; fill: rgb(239, 85, 59); fill-opacity: 1;\"/><path class=\"point\" transform=\"translate(396.07,49.02)\" d=\"M3,0A3,3 0 1,1 0,-3A3,3 0 0,1 3,0Z\" style=\"opacity: 1; stroke-width: 0px; fill: rgb(239, 85, 59); fill-opacity: 1;\"/><path class=\"point\" transform=\"translate(404.64,46.58)\" d=\"M3,0A3,3 0 1,1 0,-3A3,3 0 0,1 3,0Z\" style=\"opacity: 1; stroke-width: 0px; fill: rgb(239, 85, 59); fill-opacity: 1;\"/><path class=\"point\" transform=\"translate(413.21,139.27)\" d=\"M3,0A3,3 0 1,1 0,-3A3,3 0 0,1 3,0Z\" style=\"opacity: 1; stroke-width: 0px; fill: rgb(239, 85, 59); fill-opacity: 1;\"/><path class=\"point\" transform=\"translate(421.79,85.61)\" d=\"M3,0A3,3 0 1,1 0,-3A3,3 0 0,1 3,0Z\" style=\"opacity: 1; stroke-width: 0px; fill: rgb(239, 85, 59); fill-opacity: 1;\"/><path class=\"point\" transform=\"translate(430.36,51.46)\" d=\"M3,0A3,3 0 1,1 0,-3A3,3 0 0,1 3,0Z\" style=\"opacity: 1; stroke-width: 0px; fill: rgb(239, 85, 59); fill-opacity: 1;\"/><path class=\"point\" transform=\"translate(438.93,19.75)\" d=\"M3,0A3,3 0 1,1 0,-3A3,3 0 0,1 3,0Z\" style=\"opacity: 1; stroke-width: 0px; fill: rgb(239, 85, 59); fill-opacity: 1;\"/><path class=\"point\" transform=\"translate(447.5,83.17)\" d=\"M3,0A3,3 0 1,1 0,-3A3,3 0 0,1 3,0Z\" style=\"opacity: 1; stroke-width: 0px; fill: rgb(239, 85, 59); fill-opacity: 1;\"/></g><g class=\"text\"/></g></g></g></g><path class=\"xlines-above crisp\" d=\"M0,0\" style=\"fill: none;\"/><path class=\"ylines-above crisp\" d=\"M0,0\" style=\"fill: none;\"/><g class=\"overlines-above\"/><g class=\"xaxislayer-above\"><g class=\"xtick\"><text text-anchor=\"middle\" x=\"0\" y=\"433\" transform=\"translate(81.79,0)\" style=\"font-family: 'Open Sans', verdana, arial, sans-serif; font-size: 12px; fill: rgb(242, 245, 250); fill-opacity: 1; white-space: pre; opacity: 1;\">460</text></g><g class=\"xtick\"><text text-anchor=\"middle\" x=\"0\" y=\"433\" style=\"font-family: 'Open Sans', verdana, arial, sans-serif; font-size: 12px; fill: rgb(242, 245, 250); fill-opacity: 1; white-space: pre; opacity: 1;\" transform=\"translate(167.5,0)\">470</text></g><g class=\"xtick\"><text text-anchor=\"middle\" x=\"0\" y=\"433\" style=\"font-family: 'Open Sans', verdana, arial, sans-serif; font-size: 12px; fill: rgb(242, 245, 250); fill-opacity: 1; white-space: pre; opacity: 1;\" transform=\"translate(253.21,0)\">480</text></g><g class=\"xtick\"><text text-anchor=\"middle\" x=\"0\" y=\"433\" style=\"font-family: 'Open Sans', verdana, arial, sans-serif; font-size: 12px; fill: rgb(242, 245, 250); fill-opacity: 1; white-space: pre; opacity: 1;\" transform=\"translate(338.93,0)\">490</text></g><g class=\"xtick\"><text text-anchor=\"middle\" x=\"0\" y=\"433\" style=\"font-family: 'Open Sans', verdana, arial, sans-serif; font-size: 12px; fill: rgb(242, 245, 250); fill-opacity: 1; white-space: pre; opacity: 1;\" transform=\"translate(424.64,0)\">500</text></g><g class=\"xtick\"><text text-anchor=\"middle\" x=\"0\" y=\"433\" style=\"font-family: 'Open Sans', verdana, arial, sans-serif; font-size: 12px; fill: rgb(242, 245, 250); fill-opacity: 1; white-space: pre; opacity: 1;\" transform=\"translate(510.36,0)\">510</text></g></g><g class=\"yaxislayer-above\"><g class=\"ytick\"><text text-anchor=\"end\" x=\"79\" y=\"4.199999999999999\" transform=\"translate(0,388.05)\" style=\"font-family: 'Open Sans', verdana, arial, sans-serif; font-size: 12px; fill: rgb(242, 245, 250); fill-opacity: 1; white-space: pre; opacity: 1;\">0.88</text></g><g class=\"ytick\"><text text-anchor=\"end\" x=\"79\" y=\"4.199999999999999\" style=\"font-family: 'Open Sans', verdana, arial, sans-serif; font-size: 12px; fill: rgb(242, 245, 250); fill-opacity: 1; white-space: pre; opacity: 1;\" transform=\"translate(0,339.27)\">0.9</text></g><g class=\"ytick\"><text text-anchor=\"end\" x=\"79\" y=\"4.199999999999999\" style=\"font-family: 'Open Sans', verdana, arial, sans-serif; font-size: 12px; fill: rgb(242, 245, 250); fill-opacity: 1; white-space: pre; opacity: 1;\" transform=\"translate(0,290.49)\">0.92</text></g><g class=\"ytick\"><text text-anchor=\"end\" x=\"79\" y=\"4.199999999999999\" style=\"font-family: 'Open Sans', verdana, arial, sans-serif; font-size: 12px; fill: rgb(242, 245, 250); fill-opacity: 1; white-space: pre; opacity: 1;\" transform=\"translate(0,241.71)\">0.94</text></g><g class=\"ytick\"><text text-anchor=\"end\" x=\"79\" y=\"4.199999999999999\" style=\"font-family: 'Open Sans', verdana, arial, sans-serif; font-size: 12px; fill: rgb(242, 245, 250); fill-opacity: 1; white-space: pre; opacity: 1;\" transform=\"translate(0,192.92000000000002)\">0.96</text></g><g class=\"ytick\"><text text-anchor=\"end\" x=\"79\" y=\"4.199999999999999\" style=\"font-family: 'Open Sans', verdana, arial, sans-serif; font-size: 12px; fill: rgb(242, 245, 250); fill-opacity: 1; white-space: pre; opacity: 1;\" transform=\"translate(0,144.14)\">0.98</text></g></g><g class=\"overaxes-above\"/></g></g><g class=\"polarlayer\"/><g class=\"smithlayer\"/><g class=\"ternarylayer\"/><g class=\"geolayer\"/><g class=\"funnelarealayer\"/><g class=\"pielayer\"/><g class=\"iciclelayer\"/><g class=\"treemaplayer\"/><g class=\"sunburstlayer\"/><g class=\"glimages\"/><defs id=\"topdefs-3d04d9\"><g class=\"clips\"/><clipPath id=\"legend3d04d9\"><rect width=\"123\" height=\"48\" x=\"0\" y=\"0\"/></clipPath></defs><g class=\"layer-above\"><g class=\"imagelayer\"/><g class=\"shapelayer\"/></g><g class=\"infolayer\"><g class=\"legend\" pointer-events=\"all\" transform=\"translate(564.5,100)\"><rect class=\"bg\" shape-rendering=\"crispEdges\" width=\"123\" height=\"48\" x=\"0\" y=\"0\" style=\"stroke: rgb(68, 68, 68); stroke-opacity: 1; fill: rgb(17, 17, 17); fill-opacity: 1; stroke-width: 0px;\"/><g class=\"scrollbox\" transform=\"\" clip-path=\"url(#legend3d04d9)\"><g class=\"groups\"><g class=\"traces\" transform=\"translate(0,14.5)\" style=\"opacity: 1;\"><text class=\"legendtext\" text-anchor=\"start\" x=\"40\" y=\"4.680000000000001\" style=\"font-family: 'Open Sans', verdana, arial, sans-serif; font-size: 12px; fill: rgb(242, 245, 250); fill-opacity: 1; white-space: pre;\">axgb accuracy</text><g class=\"layers\" style=\"opacity: 1;\"><g class=\"legendfill\"/><g class=\"legendlines\"><path class=\"js-line\" d=\"M5,0h30\" style=\"fill: none; stroke: rgb(99, 110, 250); stroke-opacity: 1; stroke-width: 2px;\"/></g><g class=\"legendsymbols\"><g class=\"legendpoints\"><path class=\"scatterpts\" transform=\"translate(20,0)\" d=\"M3,0A3,3 0 1,1 0,-3A3,3 0 0,1 3,0Z\" style=\"opacity: 1; stroke-width: 0px; fill: rgb(99, 110, 250); fill-opacity: 1;\"/></g></g></g><rect class=\"legendtoggle\" x=\"0\" y=\"-9.5\" width=\"117.375\" height=\"19\" style=\"fill: rgb(0, 0, 0); fill-opacity: 0;\"/></g><g class=\"traces\" transform=\"translate(0,33.5)\" style=\"opacity: 1;\"><text class=\"legendtext\" text-anchor=\"start\" x=\"40\" y=\"4.680000000000001\" style=\"font-family: 'Open Sans', verdana, arial, sans-serif; font-size: 12px; fill: rgb(242, 245, 250); fill-opacity: 1; white-space: pre;\">htc accuracy</text><g class=\"layers\" style=\"opacity: 1;\"><g class=\"legendfill\"/><g class=\"legendlines\"><path class=\"js-line\" d=\"M5,0h30\" style=\"fill: none; stroke: rgb(239, 85, 59); stroke-opacity: 1; stroke-width: 2px;\"/></g><g class=\"legendsymbols\"><g class=\"legendpoints\"><path class=\"scatterpts\" transform=\"translate(20,0)\" d=\"M3,0A3,3 0 1,1 0,-3A3,3 0 0,1 3,0Z\" style=\"opacity: 1; stroke-width: 0px; fill: rgb(239, 85, 59); fill-opacity: 1;\"/></g></g></g><rect class=\"legendtoggle\" x=\"0\" y=\"-9.5\" width=\"117.375\" height=\"19\" style=\"fill: rgb(0, 0, 0); fill-opacity: 0;\"/></g></g></g><rect class=\"scrollbar\" rx=\"20\" ry=\"3\" width=\"0\" height=\"0\" x=\"0\" y=\"0\" style=\"fill: rgb(128, 139, 164); fill-opacity: 1;\"/></g><g class=\"g-gtitle\"><text class=\"gtitle\" x=\"35\" y=\"50\" text-anchor=\"start\" dy=\"0em\" style=\"opacity: 1; font-family: 'Open Sans', verdana, arial, sans-serif; font-size: 17px; fill: rgb(242, 245, 250); fill-opacity: 1; white-space: pre;\">Accuracy Comparison</text></g><g class=\"g-xtitle\"><text class=\"xtitle\" x=\"317.5\" y=\"460.3\" text-anchor=\"middle\" style=\"opacity: 1; font-family: 'Open Sans', verdana, arial, sans-serif; font-size: 14px; fill: rgb(242, 245, 250); fill-opacity: 1; white-space: pre;\">Window</text></g><g class=\"g-ytitle\"><text class=\"ytitle\" transform=\"rotate(-90,36.240625,260)\" x=\"36.240625\" y=\"260\" text-anchor=\"middle\" style=\"opacity: 1; font-family: 'Open Sans', verdana, arial, sans-serif; font-size: 14px; fill: rgb(242, 245, 250); fill-opacity: 1; white-space: pre;\">Accuracy</text></g></g></svg>"
            ]
          },
          "metadata": {},
          "output_type": "display_data"
        }
      ],
      "source": [
        "fig = go.Figure()\n",
        "\n",
        "fig.add_trace(go.Scatter(\n",
        "    x=[item.index for item in axgb_accuracy],\n",
        "    y=[item.metric for item in axgb_accuracy],\n",
        "    mode='lines+markers',\n",
        "    name='axgb accuracy'\n",
        "))\n",
        "\n",
        "fig.add_trace(go.Scatter(\n",
        "    x=[item.index for item in htc_accuracy],\n",
        "    y=[item.metric for item in htc_accuracy],\n",
        "    mode='lines+markers',\n",
        "    name='htc accuracy'\n",
        "))\n",
        "\n",
        "\n",
        "fig.update_layout(\n",
        "    title=\"Accuracy Comparison\",\n",
        "    xaxis_title=\"Window\",\n",
        "    yaxis_title=\"Accuracy\",\n",
        "    template=\"plotly_dark\"\n",
        ")\n",
        "\n",
        "fig.show(\"svg\")"
      ]
    },
    {
      "cell_type": "markdown",
      "metadata": {
        "id": "wh_87BPMS5Ir"
      },
      "source": [
        "This plot compares the windowed accuracy of the TurboML's Adaptive XGBoost Model and the HTC Model across different windows."
      ]
    },
    {
      "cell_type": "markdown",
      "metadata": {
        "id": "WITUAaqGGjnT"
      },
      "source": [
        "## Model Inference Response Time"
      ]
    },
    {
      "cell_type": "markdown",
      "metadata": {
        "id": "U-LioK8FHLxx"
      },
      "source": [
        "Initialize timer"
      ]
    },
    {
      "cell_type": "code",
      "execution_count": null,
      "metadata": {
        "id": "uFH3IJgBHaNf"
      },
      "outputs": [],
      "source": [
        "import time\n",
        "\n",
        "class TimeTracker:\n",
        "    def __init__(self):\n",
        "        self.start_times = {}\n",
        "        self.end_times = {}\n",
        "        self.checkpoints = {}\n",
        "        self.intervals = {}\n",
        "\n",
        "    def start(self, label=\"default\"):\n",
        "        \"\"\"Start the timer for a specific label.\"\"\"\n",
        "        self.start_times[label] = time.time()\n",
        "        self.checkpoints[label] = [self.start_times[label]]\n",
        "        self.intervals[label] = []\n",
        "        print(f\"Timer '{label}' started.\")\n",
        "\n",
        "    def checkpoint(self, label=\"default\", note=None):\n",
        "        \"\"\"Record an intermediate checkpoint for the specified label.\"\"\"\n",
        "        if label not in self.start_times:\n",
        "            raise ValueError(f\"Timer '{label}' has not been started.\")\n",
        "        now = time.time()\n",
        "        elapsed = now - self.checkpoints[label][-1]\n",
        "        self.checkpoints[label].append(now)\n",
        "        self.intervals[label].append(elapsed)\n",
        "        time_elapsed_msg = f\"Time elapsed {elapsed:.4f} seconds\"\n",
        "        if note:\n",
        "            time_elapsed_msg += f\" - {note}\"\n",
        "        print(time_elapsed_msg)\n",
        "\n",
        "    def stop(self, label=\"default\"):\n",
        "        \"\"\"Stop the timer for a specific label and return elapsed time.\"\"\"\n",
        "        if label not in self.start_times:\n",
        "            raise ValueError(f\"Timer '{label}' has not been started.\")\n",
        "        self.end_times[label] = time.time()\n",
        "        elapsed = self.end_times[label] - self.start_times[label]\n",
        "        print(f\"Timer '{label}' stopped. Elapsed time: {elapsed:.4f} seconds\")\n",
        "        return elapsed\n",
        "\n",
        "    def total_time(self, label=\"default\"):\n",
        "        \"\"\"Get total elapsed time between start and stop for a label.\"\"\"\n",
        "        if label not in self.start_times or label not in self.end_times:\n",
        "            raise ValueError(f\"Timer '{label}' must be started and stopped.\")\n",
        "        return self.end_times[label] - self.start_times[label]\n",
        "\n",
        "    def reset(self, label=\"default\"):\n",
        "        \"\"\"Reset the timer for the specified label.\"\"\"\n",
        "        self.start_times.pop(label, None)\n",
        "        self.end_times.pop(label, None)\n",
        "        self.checkpoints.pop(label, None)\n",
        "        print(f\"Timer '{label}' has been reset.\")\n",
        "\n",
        "    def get_intervals(self, label=\"default\"):\n",
        "        \"\"\"Get intervals for a specific label.\"\"\"\n",
        "        return self.intervals[label]\n",
        "\n",
        "    def get_intervals_starts_with(self, label=\"default\"):\n",
        "        \"\"\"Get intervals for label that starts with a specific prefix.\"\"\"\n",
        "        return {k: v for k, v in self.intervals.items() if k.startswith(label)}\n",
        "\n",
        "# initialize timer\n",
        "timer = TimeTracker()"
      ]
    },
    {
      "cell_type": "markdown",
      "metadata": {
        "id": "K8kYGDwfGywG"
      },
      "source": [
        "Model endpoints are used to get inference for single datapoint."
      ]
    },
    {
      "cell_type": "code",
      "execution_count": null,
      "metadata": {
        "colab": {
          "base_uri": "https://localhost:8080/"
        },
        "id": "L9SC7bVsGxRb",
        "outputId": "07832fc3-de9a-4dfe-a08f-277e14430ca8"
      },
      "outputs": [
        {
          "name": "stdout",
          "output_type": "stream",
          "text": [
            "https://crouching-chowchow.api.turboml.online/model/_turboml.axgb_model/predict\n",
            "https://crouching-chowchow.api.turboml.online/model/_turboml.htc_model/predict\n"
          ]
        }
      ],
      "source": [
        "axgb_model_endpoint = deployed_axgb_model.get_endpoints()[0]\n",
        "htc_model_endpoint = deployed_htc_model.get_endpoints()[0]\n",
        "print(axgb_model_endpoint)\n",
        "print(htc_model_endpoint)"
      ]
    },
    {
      "cell_type": "markdown",
      "metadata": {
        "id": "ENOC9553JlPU"
      },
      "source": [
        "# Single datapoint inference using model endpoint"
      ]
    },
    {
      "cell_type": "code",
      "execution_count": null,
      "metadata": {
        "colab": {
          "base_uri": "https://localhost:8080/"
        },
        "id": "DCpLUdPbHGS-",
        "outputId": "8972a7d2-af30-460f-b1c4-075c67d860a5"
      },
      "outputs": [
        {
          "name": "stdout",
          "output_type": "stream",
          "text": [
            "Timer 'axgb_response_time' has been reset.\n",
            "Timer 'axgb_response_time' started.\n",
            "Time elapsed 0.2581 seconds\n",
            "Time elapsed 0.2581 seconds\n",
            "Time elapsed 0.2575 seconds\n",
            "Time elapsed 0.2584 seconds\n",
            "Time elapsed 0.2594 seconds\n",
            "Time elapsed 0.2592 seconds\n",
            "Time elapsed 0.2592 seconds\n",
            "Time elapsed 0.2601 seconds\n",
            "Time elapsed 0.2601 seconds\n",
            "Time elapsed 0.2604 seconds\n",
            "Time elapsed 0.2599 seconds\n",
            "Time elapsed 0.2596 seconds\n",
            "Time elapsed 0.2592 seconds\n",
            "Time elapsed 0.2597 seconds\n",
            "Time elapsed 0.2585 seconds\n",
            "Time elapsed 0.2593 seconds\n",
            "Time elapsed 0.2601 seconds\n",
            "Time elapsed 0.2603 seconds\n",
            "Time elapsed 0.2594 seconds\n",
            "Time elapsed 0.2594 seconds\n",
            "Timer 'axgb_response_time' stopped. Elapsed time: 5.1867 seconds\n",
            "Timer 'htc_response_time' has been reset.\n",
            "Timer 'htc_response_time' started.\n",
            "Time elapsed 0.2643 seconds\n",
            "Time elapsed 0.2651 seconds\n",
            "Time elapsed 0.2647 seconds\n",
            "Time elapsed 0.2646 seconds\n",
            "Time elapsed 0.2646 seconds\n",
            "Time elapsed 0.2646 seconds\n",
            "Time elapsed 0.2644 seconds\n",
            "Time elapsed 0.2645 seconds\n",
            "Time elapsed 0.2623 seconds\n",
            "Time elapsed 0.2623 seconds\n",
            "Time elapsed 0.2619 seconds\n",
            "Time elapsed 0.2624 seconds\n",
            "Time elapsed 0.2626 seconds\n",
            "Time elapsed 0.2622 seconds\n",
            "Time elapsed 0.2619 seconds\n",
            "Time elapsed 0.2624 seconds\n",
            "Time elapsed 0.2629 seconds\n",
            "Time elapsed 0.2631 seconds\n",
            "Time elapsed 0.2632 seconds\n",
            "Time elapsed 0.2625 seconds\n",
            "Timer 'htc_response_time' stopped. Elapsed time: 5.2667 seconds\n"
          ]
        }
      ],
      "source": [
        "with requests.Session() as session:\n",
        "    test_resp = session.post(\n",
        "      axgb_model_endpoint, json=ieee_features_df.iloc[0].to_dict(), headers=tb.common.api.headers\n",
        "    )\n",
        "    timer.reset(\"axgb_response_time\")\n",
        "    timer.start(\"axgb_response_time\")\n",
        "    for i in range(20):\n",
        "      resp = session.post(\n",
        "        axgb_model_endpoint, json=ieee_features_df.iloc[i].to_dict(), headers=tb.common.api.headers\n",
        "      )\n",
        "      timer.checkpoint(\"axgb_response_time\")\n",
        "    timer.stop(\"axgb_response_time\")\n",
        "\n",
        "with requests.Session() as session:\n",
        "    test_resp = session.post(\n",
        "      htc_model_endpoint, json=ieee_features_df.iloc[0].to_dict(), headers=tb.common.api.headers\n",
        "    )\n",
        "    timer.reset(\"htc_response_time\")\n",
        "    timer.start(\"htc_response_time\")\n",
        "    for i in range(20):\n",
        "      resp = session.post(\n",
        "        htc_model_endpoint, json=ieee_features_df.iloc[i].to_dict(), headers=tb.common.api.headers\n",
        "      )\n",
        "      timer.checkpoint(\"htc_response_time\")\n",
        "    timer.stop(\"htc_response_time\")\n"
      ]
    },
    {
      "cell_type": "code",
      "execution_count": null,
      "metadata": {
        "colab": {
          "base_uri": "https://localhost:8080/"
        },
        "id": "hnNMrabMoEwk",
        "outputId": "420edf23-2640-411c-da69-306921ccb699"
      },
      "outputs": [
        {
          "name": "stdout",
          "output_type": "stream",
          "text": [
            "  Summary:   \n",
            "=============\n",
            "Average response time for Adaptive XGBoost Model: 0.2593 seconds\n",
            "Average response time for Hoeffding Tree Classifier Model: 0.2633 seconds\n"
          ]
        }
      ],
      "source": [
        "average_axgb = sum(timer.get_intervals(\"axgb_response_time\")) / len(timer.get_intervals(\"axgb_response_time\"))\n",
        "average_htc = sum(timer.get_intervals(\"htc_response_time\")) / len(timer.get_intervals(\"htc_response_time\"))\n",
        "\n",
        "print(\"  Summary:   \")\n",
        "print(\"=============\")\n",
        "print(f\"Average response time for Adaptive XGBoost Model: {average_axgb:.4f} seconds\")\n",
        "print(f\"Average response time for Hoeffding Tree Classifier Model: {average_htc:.4f} seconds\")"
      ]
    },
    {
      "cell_type": "markdown",
      "metadata": {
        "id": "uPieF-waf1ow"
      },
      "source": [
        "## Plot graph\n",
        "Model Inference Response Time (Single Datapoint)"
      ]
    },
    {
      "cell_type": "code",
      "execution_count": null,
      "metadata": {
        "colab": {
          "base_uri": "https://localhost:8080/",
          "height": 521
        },
        "id": "Ip8OoEZMfJ_7",
        "outputId": "f2bb962e-b214-42f4-c8ee-72179468c7ff"
      },
      "outputs": [
        {
          "data": {
            "image/svg+xml": [
              "<svg class=\"main-svg\" xmlns=\"http://www.w3.org/2000/svg\" xmlns:xlink=\"http://www.w3.org/1999/xlink\" width=\"700\" height=\"500\" style=\"\" viewBox=\"0 0 700 500\"><rect x=\"0\" y=\"0\" width=\"700\" height=\"500\" style=\"fill: rgb(17, 17, 17); fill-opacity: 1;\"/><defs id=\"defs-d146e6\"><g class=\"clips\"><clipPath id=\"clipd146e6xyplot\" class=\"plotclip\"><rect width=\"442\" height=\"320\"/></clipPath><clipPath class=\"axesclip\" id=\"clipd146e6x\"><rect x=\"80\" y=\"0\" width=\"442\" height=\"500\"/></clipPath><clipPath class=\"axesclip\" id=\"clipd146e6y\"><rect x=\"0\" y=\"100\" width=\"700\" height=\"320\"/></clipPath><clipPath class=\"axesclip\" id=\"clipd146e6xy\"><rect x=\"80\" y=\"100\" width=\"442\" height=\"320\"/></clipPath></g><g class=\"gradients\"/><g class=\"patterns\"/></defs><g class=\"bglayer\"/><g class=\"layer-below\"><g class=\"imagelayer\"/><g class=\"shapelayer\"/></g><g class=\"cartesianlayer\"><g class=\"subplot xy\"><g class=\"layer-subplot\"><g class=\"shapelayer\"/><g class=\"imagelayer\"/></g><g class=\"minor-gridlayer\"><g class=\"x\"/><g class=\"y\"/></g><g class=\"gridlayer\"><g class=\"x\"><path class=\"xgrid crisp\" transform=\"translate(208.56,0)\" d=\"M0,100v320\" style=\"stroke: rgb(40, 52, 66); stroke-opacity: 1; stroke-width: 1px;\"/><path class=\"xgrid crisp\" transform=\"translate(311.27,0)\" d=\"M0,100v320\" style=\"stroke: rgb(40, 52, 66); stroke-opacity: 1; stroke-width: 1px;\"/><path class=\"xgrid crisp\" transform=\"translate(413.98,0)\" d=\"M0,100v320\" style=\"stroke: rgb(40, 52, 66); stroke-opacity: 1; stroke-width: 1px;\"/><path class=\"xgrid crisp\" transform=\"translate(516.69,0)\" d=\"M0,100v320\" style=\"stroke: rgb(40, 52, 66); stroke-opacity: 1; stroke-width: 1px;\"/></g><g class=\"y\"><path class=\"ygrid crisp\" transform=\"translate(0,382.84)\" d=\"M80,0h442\" style=\"stroke: rgb(40, 52, 66); stroke-opacity: 1; stroke-width: 1px;\"/><path class=\"ygrid crisp\" transform=\"translate(0,346.03999999999996)\" d=\"M80,0h442\" style=\"stroke: rgb(40, 52, 66); stroke-opacity: 1; stroke-width: 1px;\"/><path class=\"ygrid crisp\" transform=\"translate(0,309.24)\" d=\"M80,0h442\" style=\"stroke: rgb(40, 52, 66); stroke-opacity: 1; stroke-width: 1px;\"/><path class=\"ygrid crisp\" transform=\"translate(0,272.44)\" d=\"M80,0h442\" style=\"stroke: rgb(40, 52, 66); stroke-opacity: 1; stroke-width: 1px;\"/><path class=\"ygrid crisp\" transform=\"translate(0,235.64)\" d=\"M80,0h442\" style=\"stroke: rgb(40, 52, 66); stroke-opacity: 1; stroke-width: 1px;\"/><path class=\"ygrid crisp\" transform=\"translate(0,198.84)\" d=\"M80,0h442\" style=\"stroke: rgb(40, 52, 66); stroke-opacity: 1; stroke-width: 1px;\"/><path class=\"ygrid crisp\" transform=\"translate(0,162.04)\" d=\"M80,0h442\" style=\"stroke: rgb(40, 52, 66); stroke-opacity: 1; stroke-width: 1px;\"/><path class=\"ygrid crisp\" transform=\"translate(0,125.24)\" d=\"M80,0h442\" style=\"stroke: rgb(40, 52, 66); stroke-opacity: 1; stroke-width: 1px;\"/></g></g><g class=\"zerolinelayer\"><path class=\"xzl zl crisp\" transform=\"translate(105.85,0)\" d=\"M0,100v320\" style=\"stroke: rgb(40, 52, 66); stroke-opacity: 1; stroke-width: 2px;\"/></g><g class=\"layer-between\"><g class=\"shapelayer\"/><g class=\"imagelayer\"/></g><path class=\"xlines-below\"/><path class=\"ylines-below\"/><g class=\"overlines-below\"/><g class=\"xaxislayer-below\"/><g class=\"yaxislayer-below\"/><g class=\"overaxes-below\"/><g class=\"overplot\"><g class=\"xy\" transform=\"translate(80,100)\" clip-path=\"url(#clipd146e6xyplot)\"><g class=\"scatterlayer mlayer\"><g class=\"trace scatter trace571b92\" style=\"stroke-miterlimit: 2; opacity: 1;\"><g class=\"fills\"/><g class=\"errorbars\"/><g class=\"lines\"><path class=\"js-line\" d=\"M25.85,277.7L46.39,277.93L66.93,300.25L87.48,268.17L108.02,229.77L128.56,238.75L149.1,239.73L169.64,206.4L190.19,206.38L210.73,196.19L231.27,213.44L251.81,224.22L272.36,238.5L292.9,218.81L313.44,264.4L333.98,236.78L354.52,205.14L375.07,197.26L395.61,231.75L416.15,230.2\" style=\"vector-effect: none; fill: none; stroke: rgb(99, 110, 250); stroke-opacity: 1; stroke-width: 2px; opacity: 1;\"/></g><g class=\"points\"><path class=\"point\" transform=\"translate(25.85,277.7)\" d=\"M3,0A3,3 0 1,1 0,-3A3,3 0 0,1 3,0Z\" style=\"opacity: 1; stroke-width: 0px; fill: rgb(99, 110, 250); fill-opacity: 1;\"/><path class=\"point\" transform=\"translate(46.39,277.93)\" d=\"M3,0A3,3 0 1,1 0,-3A3,3 0 0,1 3,0Z\" style=\"opacity: 1; stroke-width: 0px; fill: rgb(99, 110, 250); fill-opacity: 1;\"/><path class=\"point\" transform=\"translate(66.93,300.25)\" d=\"M3,0A3,3 0 1,1 0,-3A3,3 0 0,1 3,0Z\" style=\"opacity: 1; stroke-width: 0px; fill: rgb(99, 110, 250); fill-opacity: 1;\"/><path class=\"point\" transform=\"translate(87.48,268.17)\" d=\"M3,0A3,3 0 1,1 0,-3A3,3 0 0,1 3,0Z\" style=\"opacity: 1; stroke-width: 0px; fill: rgb(99, 110, 250); fill-opacity: 1;\"/><path class=\"point\" transform=\"translate(108.02,229.77)\" d=\"M3,0A3,3 0 1,1 0,-3A3,3 0 0,1 3,0Z\" style=\"opacity: 1; stroke-width: 0px; fill: rgb(99, 110, 250); fill-opacity: 1;\"/><path class=\"point\" transform=\"translate(128.56,238.75)\" d=\"M3,0A3,3 0 1,1 0,-3A3,3 0 0,1 3,0Z\" style=\"opacity: 1; stroke-width: 0px; fill: rgb(99, 110, 250); fill-opacity: 1;\"/><path class=\"point\" transform=\"translate(149.1,239.73)\" d=\"M3,0A3,3 0 1,1 0,-3A3,3 0 0,1 3,0Z\" style=\"opacity: 1; stroke-width: 0px; fill: rgb(99, 110, 250); fill-opacity: 1;\"/><path class=\"point\" transform=\"translate(169.64,206.4)\" d=\"M3,0A3,3 0 1,1 0,-3A3,3 0 0,1 3,0Z\" style=\"opacity: 1; stroke-width: 0px; fill: rgb(99, 110, 250); fill-opacity: 1;\"/><path class=\"point\" transform=\"translate(190.19,206.38)\" d=\"M3,0A3,3 0 1,1 0,-3A3,3 0 0,1 3,0Z\" style=\"opacity: 1; stroke-width: 0px; fill: rgb(99, 110, 250); fill-opacity: 1;\"/><path class=\"point\" transform=\"translate(210.73,196.19)\" d=\"M3,0A3,3 0 1,1 0,-3A3,3 0 0,1 3,0Z\" style=\"opacity: 1; stroke-width: 0px; fill: rgb(99, 110, 250); fill-opacity: 1;\"/><path class=\"point\" transform=\"translate(231.27,213.44)\" d=\"M3,0A3,3 0 1,1 0,-3A3,3 0 0,1 3,0Z\" style=\"opacity: 1; stroke-width: 0px; fill: rgb(99, 110, 250); fill-opacity: 1;\"/><path class=\"point\" transform=\"translate(251.81,224.22)\" d=\"M3,0A3,3 0 1,1 0,-3A3,3 0 0,1 3,0Z\" style=\"opacity: 1; stroke-width: 0px; fill: rgb(99, 110, 250); fill-opacity: 1;\"/><path class=\"point\" transform=\"translate(272.36,238.5)\" d=\"M3,0A3,3 0 1,1 0,-3A3,3 0 0,1 3,0Z\" style=\"opacity: 1; stroke-width: 0px; fill: rgb(99, 110, 250); fill-opacity: 1;\"/><path class=\"point\" transform=\"translate(292.9,218.81)\" d=\"M3,0A3,3 0 1,1 0,-3A3,3 0 0,1 3,0Z\" style=\"opacity: 1; stroke-width: 0px; fill: rgb(99, 110, 250); fill-opacity: 1;\"/><path class=\"point\" transform=\"translate(313.44,264.4)\" d=\"M3,0A3,3 0 1,1 0,-3A3,3 0 0,1 3,0Z\" style=\"opacity: 1; stroke-width: 0px; fill: rgb(99, 110, 250); fill-opacity: 1;\"/><path class=\"point\" transform=\"translate(333.98,236.78)\" d=\"M3,0A3,3 0 1,1 0,-3A3,3 0 0,1 3,0Z\" style=\"opacity: 1; stroke-width: 0px; fill: rgb(99, 110, 250); fill-opacity: 1;\"/><path class=\"point\" transform=\"translate(354.52,205.14)\" d=\"M3,0A3,3 0 1,1 0,-3A3,3 0 0,1 3,0Z\" style=\"opacity: 1; stroke-width: 0px; fill: rgb(99, 110, 250); fill-opacity: 1;\"/><path class=\"point\" transform=\"translate(375.07,197.26)\" d=\"M3,0A3,3 0 1,1 0,-3A3,3 0 0,1 3,0Z\" style=\"opacity: 1; stroke-width: 0px; fill: rgb(99, 110, 250); fill-opacity: 1;\"/><path class=\"point\" transform=\"translate(395.61,231.75)\" d=\"M3,0A3,3 0 1,1 0,-3A3,3 0 0,1 3,0Z\" style=\"opacity: 1; stroke-width: 0px; fill: rgb(99, 110, 250); fill-opacity: 1;\"/><path class=\"point\" transform=\"translate(416.15,230.2)\" d=\"M3,0A3,3 0 1,1 0,-3A3,3 0 0,1 3,0Z\" style=\"opacity: 1; stroke-width: 0px; fill: rgb(99, 110, 250); fill-opacity: 1;\"/></g><g class=\"text\"/></g><g class=\"trace scatter trace624a63\" style=\"stroke-miterlimit: 2; opacity: 1;\"><g class=\"fills\"/><g class=\"errorbars\"/><g class=\"lines\"><path class=\"js-line\" d=\"M25.85,49.56L46.39,19.75L66.93,37.99L87.48,38.73L108.02,40.49L128.56,40.24L149.1,47.3L169.64,43.97L190.19,125.6L210.73,122.81L231.27,138.38L251.81,120.68L272.36,112.3L292.9,128.55L313.44,140.82L333.98,119.39L354.52,102.55L375.07,96.53L395.61,91.33L416.15,118.9\" style=\"vector-effect: none; fill: none; stroke: rgb(239, 85, 59); stroke-opacity: 1; stroke-width: 2px; opacity: 1;\"/></g><g class=\"points\"><path class=\"point\" transform=\"translate(25.85,49.56)\" d=\"M3,0A3,3 0 1,1 0,-3A3,3 0 0,1 3,0Z\" style=\"opacity: 1; stroke-width: 0px; fill: rgb(239, 85, 59); fill-opacity: 1;\"/><path class=\"point\" transform=\"translate(46.39,19.75)\" d=\"M3,0A3,3 0 1,1 0,-3A3,3 0 0,1 3,0Z\" style=\"opacity: 1; stroke-width: 0px; fill: rgb(239, 85, 59); fill-opacity: 1;\"/><path class=\"point\" transform=\"translate(66.93,37.99)\" d=\"M3,0A3,3 0 1,1 0,-3A3,3 0 0,1 3,0Z\" style=\"opacity: 1; stroke-width: 0px; fill: rgb(239, 85, 59); fill-opacity: 1;\"/><path class=\"point\" transform=\"translate(87.48,38.73)\" d=\"M3,0A3,3 0 1,1 0,-3A3,3 0 0,1 3,0Z\" style=\"opacity: 1; stroke-width: 0px; fill: rgb(239, 85, 59); fill-opacity: 1;\"/><path class=\"point\" transform=\"translate(108.02,40.49)\" d=\"M3,0A3,3 0 1,1 0,-3A3,3 0 0,1 3,0Z\" style=\"opacity: 1; stroke-width: 0px; fill: rgb(239, 85, 59); fill-opacity: 1;\"/><path class=\"point\" transform=\"translate(128.56,40.24)\" d=\"M3,0A3,3 0 1,1 0,-3A3,3 0 0,1 3,0Z\" style=\"opacity: 1; stroke-width: 0px; fill: rgb(239, 85, 59); fill-opacity: 1;\"/><path class=\"point\" transform=\"translate(149.1,47.3)\" d=\"M3,0A3,3 0 1,1 0,-3A3,3 0 0,1 3,0Z\" style=\"opacity: 1; stroke-width: 0px; fill: rgb(239, 85, 59); fill-opacity: 1;\"/><path class=\"point\" transform=\"translate(169.64,43.97)\" d=\"M3,0A3,3 0 1,1 0,-3A3,3 0 0,1 3,0Z\" style=\"opacity: 1; stroke-width: 0px; fill: rgb(239, 85, 59); fill-opacity: 1;\"/><path class=\"point\" transform=\"translate(190.19,125.6)\" d=\"M3,0A3,3 0 1,1 0,-3A3,3 0 0,1 3,0Z\" style=\"opacity: 1; stroke-width: 0px; fill: rgb(239, 85, 59); fill-opacity: 1;\"/><path class=\"point\" transform=\"translate(210.73,122.81)\" d=\"M3,0A3,3 0 1,1 0,-3A3,3 0 0,1 3,0Z\" style=\"opacity: 1; stroke-width: 0px; fill: rgb(239, 85, 59); fill-opacity: 1;\"/><path class=\"point\" transform=\"translate(231.27,138.38)\" d=\"M3,0A3,3 0 1,1 0,-3A3,3 0 0,1 3,0Z\" style=\"opacity: 1; stroke-width: 0px; fill: rgb(239, 85, 59); fill-opacity: 1;\"/><path class=\"point\" transform=\"translate(251.81,120.68)\" d=\"M3,0A3,3 0 1,1 0,-3A3,3 0 0,1 3,0Z\" style=\"opacity: 1; stroke-width: 0px; fill: rgb(239, 85, 59); fill-opacity: 1;\"/><path class=\"point\" transform=\"translate(272.36,112.3)\" d=\"M3,0A3,3 0 1,1 0,-3A3,3 0 0,1 3,0Z\" style=\"opacity: 1; stroke-width: 0px; fill: rgb(239, 85, 59); fill-opacity: 1;\"/><path class=\"point\" transform=\"translate(292.9,128.55)\" d=\"M3,0A3,3 0 1,1 0,-3A3,3 0 0,1 3,0Z\" style=\"opacity: 1; stroke-width: 0px; fill: rgb(239, 85, 59); fill-opacity: 1;\"/><path class=\"point\" transform=\"translate(313.44,140.82)\" d=\"M3,0A3,3 0 1,1 0,-3A3,3 0 0,1 3,0Z\" style=\"opacity: 1; stroke-width: 0px; fill: rgb(239, 85, 59); fill-opacity: 1;\"/><path class=\"point\" transform=\"translate(333.98,119.39)\" d=\"M3,0A3,3 0 1,1 0,-3A3,3 0 0,1 3,0Z\" style=\"opacity: 1; stroke-width: 0px; fill: rgb(239, 85, 59); fill-opacity: 1;\"/><path class=\"point\" transform=\"translate(354.52,102.55)\" d=\"M3,0A3,3 0 1,1 0,-3A3,3 0 0,1 3,0Z\" style=\"opacity: 1; stroke-width: 0px; fill: rgb(239, 85, 59); fill-opacity: 1;\"/><path class=\"point\" transform=\"translate(375.07,96.53)\" d=\"M3,0A3,3 0 1,1 0,-3A3,3 0 0,1 3,0Z\" style=\"opacity: 1; stroke-width: 0px; fill: rgb(239, 85, 59); fill-opacity: 1;\"/><path class=\"point\" transform=\"translate(395.61,91.33)\" d=\"M3,0A3,3 0 1,1 0,-3A3,3 0 0,1 3,0Z\" style=\"opacity: 1; stroke-width: 0px; fill: rgb(239, 85, 59); fill-opacity: 1;\"/><path class=\"point\" transform=\"translate(416.15,118.9)\" d=\"M3,0A3,3 0 1,1 0,-3A3,3 0 0,1 3,0Z\" style=\"opacity: 1; stroke-width: 0px; fill: rgb(239, 85, 59); fill-opacity: 1;\"/></g><g class=\"text\"/></g></g></g></g><path class=\"xlines-above crisp\" d=\"M0,0\" style=\"fill: none;\"/><path class=\"ylines-above crisp\" d=\"M0,0\" style=\"fill: none;\"/><g class=\"overlines-above\"/><g class=\"xaxislayer-above\"><g class=\"xtick\"><text text-anchor=\"middle\" x=\"0\" y=\"433\" transform=\"translate(105.85,0)\" style=\"font-family: 'Open Sans', verdana, arial, sans-serif; font-size: 12px; fill: rgb(242, 245, 250); fill-opacity: 1; white-space: pre; opacity: 1;\">0</text></g><g class=\"xtick\"><text text-anchor=\"middle\" x=\"0\" y=\"433\" style=\"font-family: 'Open Sans', verdana, arial, sans-serif; font-size: 12px; fill: rgb(242, 245, 250); fill-opacity: 1; white-space: pre; opacity: 1;\" transform=\"translate(208.56,0)\">5</text></g><g class=\"xtick\"><text text-anchor=\"middle\" x=\"0\" y=\"433\" style=\"font-family: 'Open Sans', verdana, arial, sans-serif; font-size: 12px; fill: rgb(242, 245, 250); fill-opacity: 1; white-space: pre; opacity: 1;\" transform=\"translate(311.27,0)\">10</text></g><g class=\"xtick\"><text text-anchor=\"middle\" x=\"0\" y=\"433\" style=\"font-family: 'Open Sans', verdana, arial, sans-serif; font-size: 12px; fill: rgb(242, 245, 250); fill-opacity: 1; white-space: pre; opacity: 1;\" transform=\"translate(413.98,0)\">15</text></g><g class=\"xtick\"><text text-anchor=\"middle\" x=\"0\" y=\"433\" style=\"font-family: 'Open Sans', verdana, arial, sans-serif; font-size: 12px; fill: rgb(242, 245, 250); fill-opacity: 1; white-space: pre; opacity: 1;\" transform=\"translate(516.69,0)\">20</text></g></g><g class=\"yaxislayer-above\"><g class=\"ytick\"><text text-anchor=\"end\" x=\"79\" y=\"4.199999999999999\" transform=\"translate(0,419.64)\" style=\"font-family: 'Open Sans', verdana, arial, sans-serif; font-size: 12px; fill: rgb(242, 245, 250); fill-opacity: 1; white-space: pre; opacity: 1;\">0.257</text></g><g class=\"ytick\"><text text-anchor=\"end\" x=\"79\" y=\"4.199999999999999\" style=\"font-family: 'Open Sans', verdana, arial, sans-serif; font-size: 12px; fill: rgb(242, 245, 250); fill-opacity: 1; white-space: pre; opacity: 1;\" transform=\"translate(0,382.84)\">0.258</text></g><g class=\"ytick\"><text text-anchor=\"end\" x=\"79\" y=\"4.199999999999999\" style=\"font-family: 'Open Sans', verdana, arial, sans-serif; font-size: 12px; fill: rgb(242, 245, 250); fill-opacity: 1; white-space: pre; opacity: 1;\" transform=\"translate(0,346.03999999999996)\">0.259</text></g><g class=\"ytick\"><text text-anchor=\"end\" x=\"79\" y=\"4.199999999999999\" style=\"font-family: 'Open Sans', verdana, arial, sans-serif; font-size: 12px; fill: rgb(242, 245, 250); fill-opacity: 1; white-space: pre; opacity: 1;\" transform=\"translate(0,309.24)\">0.26</text></g><g class=\"ytick\"><text text-anchor=\"end\" x=\"79\" y=\"4.199999999999999\" style=\"font-family: 'Open Sans', verdana, arial, sans-serif; font-size: 12px; fill: rgb(242, 245, 250); fill-opacity: 1; white-space: pre; opacity: 1;\" transform=\"translate(0,272.44)\">0.261</text></g><g class=\"ytick\"><text text-anchor=\"end\" x=\"79\" y=\"4.199999999999999\" style=\"font-family: 'Open Sans', verdana, arial, sans-serif; font-size: 12px; fill: rgb(242, 245, 250); fill-opacity: 1; white-space: pre; opacity: 1;\" transform=\"translate(0,235.64)\">0.262</text></g><g class=\"ytick\"><text text-anchor=\"end\" x=\"79\" y=\"4.199999999999999\" style=\"font-family: 'Open Sans', verdana, arial, sans-serif; font-size: 12px; fill: rgb(242, 245, 250); fill-opacity: 1; white-space: pre; opacity: 1;\" transform=\"translate(0,198.84)\">0.263</text></g><g class=\"ytick\"><text text-anchor=\"end\" x=\"79\" y=\"4.199999999999999\" style=\"font-family: 'Open Sans', verdana, arial, sans-serif; font-size: 12px; fill: rgb(242, 245, 250); fill-opacity: 1; white-space: pre; opacity: 1;\" transform=\"translate(0,162.04)\">0.264</text></g><g class=\"ytick\"><text text-anchor=\"end\" x=\"79\" y=\"4.199999999999999\" style=\"font-family: 'Open Sans', verdana, arial, sans-serif; font-size: 12px; fill: rgb(242, 245, 250); fill-opacity: 1; white-space: pre; opacity: 1;\" transform=\"translate(0,125.24)\">0.265</text></g></g><g class=\"overaxes-above\"/></g></g><g class=\"polarlayer\"/><g class=\"smithlayer\"/><g class=\"ternarylayer\"/><g class=\"geolayer\"/><g class=\"funnelarealayer\"/><g class=\"pielayer\"/><g class=\"iciclelayer\"/><g class=\"treemaplayer\"/><g class=\"sunburstlayer\"/><g class=\"glimages\"/><defs id=\"topdefs-d146e6\"><g class=\"clips\"/><clipPath id=\"legendd146e6\"><rect width=\"157\" height=\"48\" x=\"0\" y=\"0\"/></clipPath></defs><g class=\"layer-above\"><g class=\"imagelayer\"/><g class=\"shapelayer\"/></g><g class=\"infolayer\"><g class=\"legend\" pointer-events=\"all\" transform=\"translate(530.84,100)\"><rect class=\"bg\" shape-rendering=\"crispEdges\" style=\"stroke: rgb(68, 68, 68); stroke-opacity: 1; fill: rgb(17, 17, 17); fill-opacity: 1; stroke-width: 0px;\" width=\"157\" height=\"48\" x=\"0\" y=\"0\"/><g class=\"scrollbox\" transform=\"\" clip-path=\"url(#legendd146e6)\"><g class=\"groups\"><g class=\"traces\" transform=\"translate(0,14.5)\" style=\"opacity: 1;\"><text class=\"legendtext\" text-anchor=\"start\" x=\"40\" y=\"4.680000000000001\" style=\"font-family: 'Open Sans', verdana, arial, sans-serif; font-size: 12px; fill: rgb(242, 245, 250); fill-opacity: 1; white-space: pre;\">axgb_response_time</text><g class=\"layers\" style=\"opacity: 1;\"><g class=\"legendfill\"/><g class=\"legendlines\"><path class=\"js-line\" d=\"M5,0h30\" style=\"fill: none; stroke: rgb(99, 110, 250); stroke-opacity: 1; stroke-width: 2px;\"/></g><g class=\"legendsymbols\"><g class=\"legendpoints\"><path class=\"scatterpts\" transform=\"translate(20,0)\" d=\"M3,0A3,3 0 1,1 0,-3A3,3 0 0,1 3,0Z\" style=\"opacity: 1; stroke-width: 0px; fill: rgb(99, 110, 250); fill-opacity: 1;\"/></g></g></g><rect class=\"legendtoggle\" x=\"0\" y=\"-9.5\" width=\"151.734375\" height=\"19\" style=\"fill: rgb(0, 0, 0); fill-opacity: 0;\"/></g><g class=\"traces\" transform=\"translate(0,33.5)\" style=\"opacity: 1;\"><text class=\"legendtext\" text-anchor=\"start\" x=\"40\" y=\"4.680000000000001\" style=\"font-family: 'Open Sans', verdana, arial, sans-serif; font-size: 12px; fill: rgb(242, 245, 250); fill-opacity: 1; white-space: pre;\">htc_response_time</text><g class=\"layers\" style=\"opacity: 1;\"><g class=\"legendfill\"/><g class=\"legendlines\"><path class=\"js-line\" d=\"M5,0h30\" style=\"fill: none; stroke: rgb(239, 85, 59); stroke-opacity: 1; stroke-width: 2px;\"/></g><g class=\"legendsymbols\"><g class=\"legendpoints\"><path class=\"scatterpts\" transform=\"translate(20,0)\" d=\"M3,0A3,3 0 1,1 0,-3A3,3 0 0,1 3,0Z\" style=\"opacity: 1; stroke-width: 0px; fill: rgb(239, 85, 59); fill-opacity: 1;\"/></g></g></g><rect class=\"legendtoggle\" x=\"0\" y=\"-9.5\" width=\"151.734375\" height=\"19\" style=\"fill: rgb(0, 0, 0); fill-opacity: 0;\"/></g></g></g><rect class=\"scrollbar\" rx=\"20\" ry=\"3\" width=\"0\" height=\"0\" style=\"fill: rgb(128, 139, 164); fill-opacity: 1;\" x=\"0\" y=\"0\"/></g><g class=\"g-gtitle\"><text class=\"gtitle\" x=\"35\" y=\"50\" text-anchor=\"start\" dy=\"0em\" style=\"opacity: 1; font-family: 'Open Sans', verdana, arial, sans-serif; font-size: 17px; fill: rgb(242, 245, 250); fill-opacity: 1; white-space: pre;\">Model Inference Response Time (Single Datapoint)</text></g><g class=\"g-xtitle\"><text class=\"xtitle\" x=\"301\" y=\"460.3\" text-anchor=\"middle\" style=\"opacity: 1; font-family: 'Open Sans', verdana, arial, sans-serif; font-size: 14px; fill: rgb(242, 245, 250); fill-opacity: 1; white-space: pre;\">Request Number</text></g><g class=\"g-ytitle\"><text class=\"ytitle\" transform=\"rotate(-90,29.56875,260)\" x=\"29.56875\" y=\"260\" text-anchor=\"middle\" style=\"opacity: 1; font-family: 'Open Sans', verdana, arial, sans-serif; font-size: 14px; fill: rgb(242, 245, 250); fill-opacity: 1; white-space: pre;\">Response Time (seconds)</text></g></g></svg>"
            ]
          },
          "metadata": {},
          "output_type": "display_data"
        }
      ],
      "source": [
        "# Create the Plotly figure\n",
        "fig = go.Figure()\n",
        "\n",
        "# Add traces for each response time\n",
        "for model_name, response_times in timer.intervals.items():\n",
        "    fig.add_trace(go.Scatter(\n",
        "        x=list(range(len(response_times))),\n",
        "        y=response_times,\n",
        "        mode='lines+markers',\n",
        "        name=model_name\n",
        "    ))\n",
        "\n",
        "# Update layout\n",
        "fig.update_layout(\n",
        "    title='Model Inference Response Time (Single Datapoint)',\n",
        "    xaxis_title='Request Number',\n",
        "    yaxis_title='Response Time (seconds)',\n",
        "    template=\"plotly_dark\"\n",
        ")\n",
        "\n",
        "# Show the plot\n",
        "fig.show(\"svg\")"
      ]
    },
    {
      "cell_type": "markdown",
      "metadata": {
        "id": "8A-qTQz_PRGg"
      },
      "source": [
        "The above plot shows the model inference response time (single datapoint) via POST request for Adaptive XG Boost model and HTC model. On average, the response time for the Adaptive XGBoost model is `259ms`, slightly outperforming the HTC model, which averages `263ms`."
      ]
    },
    {
      "cell_type": "markdown",
      "metadata": {
        "id": "tgTkL3NuJuo7"
      },
      "source": [
        "# Batch Model Inference"
      ]
    },
    {
      "cell_type": "code",
      "execution_count": null,
      "metadata": {
        "colab": {
          "base_uri": "https://localhost:8080/"
        },
        "id": "tRVdb61oIhd4",
        "outputId": "3b088159-f789-404f-98ae-6bf659f1f72f"
      },
      "outputs": [
        {
          "name": "stdout",
          "output_type": "stream",
          "text": [
            "Timer 'inference_axgb_model_100' started.\n"
          ]
        },
        {
          "name": "stderr",
          "output_type": "stream",
          "text": [
            "INFO:turboml.common.internal:Starting to upload data... Total rows: 100\n",
            "Progress: 100%|██████████| 1.00/1.00 [00:00<00:00, 444chunk/s]\n",
            "INFO:turboml.common.internal:Completed data upload.\n",
            "INFO:turboml.common.internal:Starting to upload data... Total rows: 100\n",
            "Progress: 100%|██████████| 1.00/1.00 [00:00<00:00, 624chunk/s]\n",
            "INFO:turboml.common.internal:Completed data upload.\n"
          ]
        },
        {
          "name": "stdout",
          "output_type": "stream",
          "text": [
            "Time elapsed 4.0645 seconds\n"
          ]
        },
        {
          "name": "stderr",
          "output_type": "stream",
          "text": [
            "INFO:turboml.common.internal:Starting to upload data... Total rows: 100\n",
            "Progress: 100%|██████████| 1.00/1.00 [00:00<00:00, 496chunk/s]\n",
            "INFO:turboml.common.internal:Completed data upload.\n",
            "INFO:turboml.common.internal:Starting to upload data... Total rows: 100\n",
            "Progress: 100%|██████████| 1.00/1.00 [00:00<00:00, 771chunk/s]\n",
            "INFO:turboml.common.internal:Completed data upload.\n"
          ]
        },
        {
          "name": "stdout",
          "output_type": "stream",
          "text": [
            "Time elapsed 3.9307 seconds\n"
          ]
        },
        {
          "name": "stderr",
          "output_type": "stream",
          "text": [
            "INFO:turboml.common.internal:Starting to upload data... Total rows: 100\n",
            "Progress: 100%|██████████| 1.00/1.00 [00:00<00:00, 835chunk/s]\n",
            "INFO:turboml.common.internal:Completed data upload.\n",
            "INFO:turboml.common.internal:Starting to upload data... Total rows: 100\n",
            "Progress: 100%|██████████| 1.00/1.00 [00:00<00:00, 873chunk/s]\n",
            "INFO:turboml.common.internal:Completed data upload.\n"
          ]
        },
        {
          "name": "stdout",
          "output_type": "stream",
          "text": [
            "Time elapsed 3.9274 seconds\n"
          ]
        },
        {
          "name": "stderr",
          "output_type": "stream",
          "text": [
            "INFO:turboml.common.internal:Starting to upload data... Total rows: 100\n",
            "Progress: 100%|██████████| 1.00/1.00 [00:00<00:00, 701chunk/s]\n",
            "INFO:turboml.common.internal:Completed data upload.\n",
            "INFO:turboml.common.internal:Starting to upload data... Total rows: 100\n",
            "Progress: 100%|██████████| 1.00/1.00 [00:00<00:00, 758chunk/s]\n",
            "INFO:turboml.common.internal:Completed data upload.\n"
          ]
        },
        {
          "name": "stdout",
          "output_type": "stream",
          "text": [
            "Time elapsed 3.9533 seconds\n"
          ]
        },
        {
          "name": "stderr",
          "output_type": "stream",
          "text": [
            "INFO:turboml.common.internal:Starting to upload data... Total rows: 100\n",
            "Progress: 100%|██████████| 1.00/1.00 [00:00<00:00, 734chunk/s]\n",
            "INFO:turboml.common.internal:Completed data upload.\n",
            "INFO:turboml.common.internal:Starting to upload data... Total rows: 100\n",
            "Progress: 100%|██████████| 1.00/1.00 [00:00<00:00, 910chunk/s]\n",
            "INFO:turboml.common.internal:Completed data upload.\n"
          ]
        },
        {
          "name": "stdout",
          "output_type": "stream",
          "text": [
            "Time elapsed 3.8790 seconds\n",
            "Timer 'inference_axgb_model_100' stopped. Elapsed time: 19.7550 seconds\n",
            "Timer 'inference_axgb_model_1000' started.\n"
          ]
        },
        {
          "name": "stderr",
          "output_type": "stream",
          "text": [
            "INFO:turboml.common.internal:Starting to upload data... Total rows: 1000\n",
            "Progress: 100%|██████████| 1.00/1.00 [00:00<00:00, 1.32chunk/s]\n",
            "INFO:turboml.common.internal:Completed data upload.\n",
            "INFO:turboml.common.internal:Starting to upload data... Total rows: 1000\n",
            "Progress: 100%|██████████| 1.00/1.00 [00:00<00:00, 1.37chunk/s]\n",
            "INFO:turboml.common.internal:Completed data upload.\n"
          ]
        },
        {
          "name": "stdout",
          "output_type": "stream",
          "text": [
            "Time elapsed 5.9856 seconds\n"
          ]
        },
        {
          "name": "stderr",
          "output_type": "stream",
          "text": [
            "INFO:turboml.common.internal:Starting to upload data... Total rows: 1000\n",
            "Progress: 100%|██████████| 1.00/1.00 [00:00<00:00, 1.33chunk/s]\n",
            "INFO:turboml.common.internal:Completed data upload.\n",
            "INFO:turboml.common.internal:Starting to upload data... Total rows: 1000\n",
            "Progress: 100%|██████████| 1.00/1.00 [00:00<00:00, 1.33chunk/s]\n",
            "INFO:turboml.common.internal:Completed data upload.\n"
          ]
        },
        {
          "name": "stdout",
          "output_type": "stream",
          "text": [
            "Time elapsed 6.0873 seconds\n"
          ]
        },
        {
          "name": "stderr",
          "output_type": "stream",
          "text": [
            "INFO:turboml.common.internal:Starting to upload data... Total rows: 1000\n",
            "Progress: 100%|██████████| 1.00/1.00 [00:00<00:00, 1.35chunk/s]\n",
            "INFO:turboml.common.internal:Completed data upload.\n",
            "INFO:turboml.common.internal:Starting to upload data... Total rows: 1000\n",
            "Progress: 100%|██████████| 1.00/1.00 [00:00<00:00, 1.29chunk/s]\n",
            "INFO:turboml.common.internal:Completed data upload.\n"
          ]
        },
        {
          "name": "stdout",
          "output_type": "stream",
          "text": [
            "Time elapsed 6.0706 seconds\n"
          ]
        },
        {
          "name": "stderr",
          "output_type": "stream",
          "text": [
            "INFO:turboml.common.internal:Starting to upload data... Total rows: 1000\n",
            "Progress: 100%|██████████| 1.00/1.00 [00:00<00:00, 1.30chunk/s]\n",
            "INFO:turboml.common.internal:Completed data upload.\n",
            "INFO:turboml.common.internal:Starting to upload data... Total rows: 1000\n",
            "Progress: 100%|██████████| 1.00/1.00 [00:01<00:00, 1.00s/chunk]\n",
            "INFO:turboml.common.internal:Completed data upload.\n"
          ]
        },
        {
          "name": "stdout",
          "output_type": "stream",
          "text": [
            "Time elapsed 6.5098 seconds\n"
          ]
        },
        {
          "name": "stderr",
          "output_type": "stream",
          "text": [
            "INFO:turboml.common.internal:Starting to upload data... Total rows: 1000\n",
            "Progress: 100%|██████████| 1.00/1.00 [00:00<00:00, 1.01chunk/s]\n",
            "INFO:turboml.common.internal:Completed data upload.\n",
            "INFO:turboml.common.internal:Starting to upload data... Total rows: 1000\n",
            "Progress: 100%|██████████| 1.00/1.00 [00:00<00:00, 1.38chunk/s]\n",
            "INFO:turboml.common.internal:Completed data upload.\n"
          ]
        },
        {
          "name": "stdout",
          "output_type": "stream",
          "text": [
            "Time elapsed 6.3338 seconds\n",
            "Timer 'inference_axgb_model_1000' stopped. Elapsed time: 30.9878 seconds\n",
            "Timer 'inference_axgb_model_5000' started.\n"
          ]
        },
        {
          "name": "stderr",
          "output_type": "stream",
          "text": [
            "INFO:turboml.common.internal:Starting to upload data... Total rows: 5000\n",
            "Progress: 100%|██████████| 1.00/1.00 [00:01<00:00, 1.77s/chunk]\n",
            "INFO:turboml.common.internal:Completed data upload.\n",
            "INFO:turboml.common.internal:Starting to upload data... Total rows: 5000\n",
            "Progress: 100%|██████████| 5.00/5.00 [00:01<00:00, 2.80chunk/s]\n",
            "INFO:turboml.common.internal:Completed data upload.\n"
          ]
        },
        {
          "name": "stdout",
          "output_type": "stream",
          "text": [
            "Time elapsed 9.8325 seconds\n"
          ]
        },
        {
          "name": "stderr",
          "output_type": "stream",
          "text": [
            "INFO:turboml.common.internal:Starting to upload data... Total rows: 5000\n",
            "Progress: 100%|██████████| 1.00/1.00 [00:01<00:00, 1.74s/chunk]\n",
            "INFO:turboml.common.internal:Completed data upload.\n",
            "INFO:turboml.common.internal:Starting to upload data... Total rows: 5000\n",
            "Progress: 100%|██████████| 5.00/5.00 [00:01<00:00, 3.97chunk/s]\n",
            "INFO:turboml.common.internal:Completed data upload.\n"
          ]
        },
        {
          "name": "stdout",
          "output_type": "stream",
          "text": [
            "Time elapsed 8.5415 seconds\n"
          ]
        },
        {
          "name": "stderr",
          "output_type": "stream",
          "text": [
            "INFO:turboml.common.internal:Starting to upload data... Total rows: 5000\n",
            "Progress: 100%|██████████| 1.00/1.00 [00:01<00:00, 1.74s/chunk]\n",
            "INFO:turboml.common.internal:Completed data upload.\n",
            "INFO:turboml.common.internal:Starting to upload data... Total rows: 5000\n",
            "Progress: 100%|██████████| 5.00/5.00 [00:01<00:00, 3.89chunk/s]\n",
            "INFO:turboml.common.internal:Completed data upload.\n"
          ]
        },
        {
          "name": "stdout",
          "output_type": "stream",
          "text": [
            "Time elapsed 8.5657 seconds\n"
          ]
        },
        {
          "name": "stderr",
          "output_type": "stream",
          "text": [
            "INFO:turboml.common.internal:Starting to upload data... Total rows: 5000\n",
            "Progress: 100%|██████████| 1.00/1.00 [00:01<00:00, 1.76s/chunk]\n",
            "INFO:turboml.common.internal:Completed data upload.\n",
            "INFO:turboml.common.internal:Starting to upload data... Total rows: 5000\n",
            "Progress: 100%|██████████| 5.00/5.00 [00:01<00:00, 3.95chunk/s]\n",
            "INFO:turboml.common.internal:Completed data upload.\n"
          ]
        },
        {
          "name": "stdout",
          "output_type": "stream",
          "text": [
            "Time elapsed 8.7037 seconds\n"
          ]
        },
        {
          "name": "stderr",
          "output_type": "stream",
          "text": [
            "INFO:turboml.common.internal:Starting to upload data... Total rows: 5000\n",
            "Progress: 100%|██████████| 1.00/1.00 [00:01<00:00, 1.76s/chunk]\n",
            "INFO:turboml.common.internal:Completed data upload.\n",
            "INFO:turboml.common.internal:Starting to upload data... Total rows: 5000\n",
            "Progress: 100%|██████████| 5.00/5.00 [00:01<00:00, 3.87chunk/s]\n",
            "INFO:turboml.common.internal:Completed data upload.\n"
          ]
        },
        {
          "name": "stdout",
          "output_type": "stream",
          "text": [
            "Time elapsed 9.4790 seconds\n",
            "Timer 'inference_axgb_model_5000' stopped. Elapsed time: 45.1227 seconds\n",
            "Timer 'inference_axgb_model_10000' started.\n"
          ]
        },
        {
          "name": "stderr",
          "output_type": "stream",
          "text": [
            "INFO:turboml.common.internal:Starting to upload data... Total rows: 10000\n",
            "Progress:  50%|█████     | 1.00/2.00 [00:02<00:02, 2.06s/chunk]\n",
            "INFO:turboml.common.internal:Completed data upload.\n",
            "INFO:turboml.common.internal:Starting to upload data... Total rows: 10000\n",
            "Progress: 100%|██████████| 10.0/10.0 [00:01<00:00, 6.53chunk/s]\n",
            "INFO:turboml.common.internal:Completed data upload.\n"
          ]
        },
        {
          "name": "stdout",
          "output_type": "stream",
          "text": [
            "Time elapsed 10.2670 seconds\n"
          ]
        },
        {
          "name": "stderr",
          "output_type": "stream",
          "text": [
            "INFO:turboml.common.internal:Starting to upload data... Total rows: 10000\n",
            "Progress:  50%|█████     | 1.00/2.00 [00:02<00:02, 2.26s/chunk]\n",
            "INFO:turboml.common.internal:Completed data upload.\n",
            "INFO:turboml.common.internal:Starting to upload data... Total rows: 10000\n",
            "Progress: 100%|██████████| 10.0/10.0 [00:01<00:00, 6.44chunk/s]\n",
            "INFO:turboml.common.internal:Completed data upload.\n"
          ]
        },
        {
          "name": "stdout",
          "output_type": "stream",
          "text": [
            "Time elapsed 10.2782 seconds\n"
          ]
        },
        {
          "name": "stderr",
          "output_type": "stream",
          "text": [
            "INFO:turboml.common.internal:Starting to upload data... Total rows: 10000\n",
            "Progress:  50%|█████     | 1.00/2.00 [00:02<00:02, 2.27s/chunk]\n",
            "INFO:turboml.common.internal:Completed data upload.\n",
            "INFO:turboml.common.internal:Starting to upload data... Total rows: 10000\n",
            "Progress: 100%|██████████| 10.0/10.0 [00:01<00:00, 6.58chunk/s]\n",
            "INFO:turboml.common.internal:Completed data upload.\n"
          ]
        },
        {
          "name": "stdout",
          "output_type": "stream",
          "text": [
            "Time elapsed 10.5444 seconds\n"
          ]
        },
        {
          "name": "stderr",
          "output_type": "stream",
          "text": [
            "INFO:turboml.common.internal:Starting to upload data... Total rows: 10000\n",
            "Progress:  50%|█████     | 1.00/2.00 [00:02<00:02, 2.27s/chunk]\n",
            "INFO:turboml.common.internal:Completed data upload.\n",
            "INFO:turboml.common.internal:Starting to upload data... Total rows: 10000\n",
            "Progress: 100%|██████████| 10.0/10.0 [00:01<00:00, 6.67chunk/s]\n",
            "INFO:turboml.common.internal:Completed data upload.\n"
          ]
        },
        {
          "name": "stdout",
          "output_type": "stream",
          "text": [
            "Time elapsed 10.3848 seconds\n"
          ]
        },
        {
          "name": "stderr",
          "output_type": "stream",
          "text": [
            "INFO:turboml.common.internal:Starting to upload data... Total rows: 10000\n",
            "Progress:  50%|█████     | 1.00/2.00 [00:02<00:02, 2.29s/chunk]\n",
            "INFO:turboml.common.internal:Completed data upload.\n",
            "INFO:turboml.common.internal:Starting to upload data... Total rows: 10000\n",
            "Progress: 100%|██████████| 10.0/10.0 [00:02<00:00, 4.95chunk/s]\n",
            "INFO:turboml.common.internal:Completed data upload.\n"
          ]
        },
        {
          "name": "stdout",
          "output_type": "stream",
          "text": [
            "Time elapsed 10.6192 seconds\n",
            "Timer 'inference_axgb_model_10000' stopped. Elapsed time: 52.0938 seconds\n",
            "Timer 'inference_axgb_model_50000' started.\n"
          ]
        },
        {
          "name": "stderr",
          "output_type": "stream",
          "text": [
            "INFO:turboml.common.internal:Starting to upload data... Total rows: 50000\n",
            "Progress:  83%|████████▎ | 5.00/6.00 [00:08<00:01, 1.76s/chunk]\n",
            "INFO:turboml.common.internal:Completed data upload.\n",
            "INFO:turboml.common.internal:Starting to upload data... Total rows: 50000\n",
            "Progress: 100%|██████████| 49.0/49.0 [00:03<00:00, 15.9chunk/s]\n",
            "INFO:turboml.common.internal:Completed data upload.\n"
          ]
        },
        {
          "name": "stdout",
          "output_type": "stream",
          "text": [
            "Time elapsed 19.4134 seconds\n"
          ]
        },
        {
          "name": "stderr",
          "output_type": "stream",
          "text": [
            "INFO:turboml.common.internal:Starting to upload data... Total rows: 50000\n",
            "Progress:  83%|████████▎ | 5.00/6.00 [00:08<00:01, 1.71s/chunk]\n",
            "INFO:turboml.common.internal:Completed data upload.\n",
            "INFO:turboml.common.internal:Starting to upload data... Total rows: 50000\n",
            "Progress: 100%|██████████| 49.0/49.0 [00:03<00:00, 15.9chunk/s]\n",
            "INFO:turboml.common.internal:Completed data upload.\n"
          ]
        },
        {
          "name": "stdout",
          "output_type": "stream",
          "text": [
            "Time elapsed 18.9964 seconds\n"
          ]
        },
        {
          "name": "stderr",
          "output_type": "stream",
          "text": [
            "INFO:turboml.common.internal:Starting to upload data... Total rows: 50000\n",
            "Progress:  83%|████████▎ | 5.00/6.00 [00:08<00:01, 1.64s/chunk]\n",
            "INFO:turboml.common.internal:Completed data upload.\n",
            "INFO:turboml.common.internal:Starting to upload data... Total rows: 50000\n",
            "Progress: 100%|██████████| 49.0/49.0 [00:03<00:00, 16.1chunk/s]\n",
            "INFO:turboml.common.internal:Completed data upload.\n"
          ]
        },
        {
          "name": "stdout",
          "output_type": "stream",
          "text": [
            "Time elapsed 19.4033 seconds\n"
          ]
        },
        {
          "name": "stderr",
          "output_type": "stream",
          "text": [
            "INFO:turboml.common.internal:Starting to upload data... Total rows: 50000\n",
            "Progress:  83%|████████▎ | 5.00/6.00 [00:08<00:01, 1.61s/chunk]\n",
            "INFO:turboml.common.internal:Completed data upload.\n",
            "INFO:turboml.common.internal:Starting to upload data... Total rows: 50000\n",
            "Progress: 100%|██████████| 49.0/49.0 [00:03<00:00, 15.8chunk/s]\n",
            "INFO:turboml.common.internal:Completed data upload.\n"
          ]
        },
        {
          "name": "stdout",
          "output_type": "stream",
          "text": [
            "Time elapsed 18.6752 seconds\n"
          ]
        },
        {
          "name": "stderr",
          "output_type": "stream",
          "text": [
            "INFO:turboml.common.internal:Starting to upload data... Total rows: 50000\n",
            "Progress:  83%|████████▎ | 5.00/6.00 [00:08<00:01, 1.65s/chunk]\n",
            "INFO:turboml.common.internal:Completed data upload.\n",
            "INFO:turboml.common.internal:Starting to upload data... Total rows: 50000\n",
            "Progress: 100%|██████████| 49.0/49.0 [00:03<00:00, 15.8chunk/s]\n",
            "INFO:turboml.common.internal:Completed data upload.\n"
          ]
        },
        {
          "name": "stdout",
          "output_type": "stream",
          "text": [
            "Time elapsed 18.9047 seconds\n",
            "Timer 'inference_axgb_model_50000' stopped. Elapsed time: 95.3933 seconds\n",
            "Timer 'inference_axgb_model_100000' started.\n"
          ]
        },
        {
          "name": "stderr",
          "output_type": "stream",
          "text": [
            "INFO:turboml.common.internal:Starting to upload data... Total rows: 100000\n",
            "Progress:  91%|█████████ | 10.0/11.0 [00:13<00:01, 1.33s/chunk]\n",
            "INFO:turboml.common.internal:Completed data upload.\n",
            "INFO:turboml.common.internal:Starting to upload data... Total rows: 100000\n",
            "Progress: 100%|██████████| 98.0/98.0 [00:04<00:00, 20.1chunk/s]\n",
            "INFO:turboml.common.internal:Completed data upload.\n"
          ]
        },
        {
          "name": "stdout",
          "output_type": "stream",
          "text": [
            "Time elapsed 30.1925 seconds\n"
          ]
        },
        {
          "name": "stderr",
          "output_type": "stream",
          "text": [
            "INFO:turboml.common.internal:Starting to upload data... Total rows: 100000\n",
            "Progress:  91%|█████████ | 10.0/11.0 [00:13<00:01, 1.37s/chunk]\n",
            "INFO:turboml.common.internal:Completed data upload.\n",
            "INFO:turboml.common.internal:Starting to upload data... Total rows: 100000\n",
            "Progress: 100%|██████████| 98.0/98.0 [00:04<00:00, 20.1chunk/s]\n",
            "INFO:turboml.common.internal:Completed data upload.\n"
          ]
        },
        {
          "name": "stdout",
          "output_type": "stream",
          "text": [
            "Time elapsed 28.1139 seconds\n"
          ]
        },
        {
          "name": "stderr",
          "output_type": "stream",
          "text": [
            "INFO:turboml.common.internal:Starting to upload data... Total rows: 100000\n",
            "Progress:  91%|█████████ | 10.0/11.0 [00:13<00:01, 1.37s/chunk]\n",
            "INFO:turboml.common.internal:Completed data upload.\n",
            "INFO:turboml.common.internal:Starting to upload data... Total rows: 100000\n",
            "Progress: 100%|██████████| 98.0/98.0 [00:04<00:00, 20.2chunk/s]\n",
            "INFO:turboml.common.internal:Completed data upload.\n"
          ]
        },
        {
          "name": "stdout",
          "output_type": "stream",
          "text": [
            "Time elapsed 29.6018 seconds\n"
          ]
        },
        {
          "name": "stderr",
          "output_type": "stream",
          "text": [
            "INFO:turboml.common.internal:Starting to upload data... Total rows: 100000\n",
            "Progress:  91%|█████████ | 10.0/11.0 [00:13<00:01, 1.40s/chunk]\n",
            "INFO:turboml.common.internal:Completed data upload.\n",
            "INFO:turboml.common.internal:Starting to upload data... Total rows: 100000\n",
            "Progress: 100%|██████████| 98.0/98.0 [00:05<00:00, 19.3chunk/s]\n",
            "INFO:turboml.common.internal:Completed data upload.\n"
          ]
        },
        {
          "name": "stdout",
          "output_type": "stream",
          "text": [
            "Time elapsed 29.5318 seconds\n"
          ]
        },
        {
          "name": "stderr",
          "output_type": "stream",
          "text": [
            "INFO:turboml.common.internal:Starting to upload data... Total rows: 100000\n",
            "Progress:  91%|█████████ | 10.0/11.0 [00:13<00:01, 1.33s/chunk]\n",
            "INFO:turboml.common.internal:Completed data upload.\n",
            "INFO:turboml.common.internal:Starting to upload data... Total rows: 100000\n",
            "Progress: 100%|██████████| 98.0/98.0 [00:04<00:00, 20.4chunk/s]\n",
            "INFO:turboml.common.internal:Completed data upload.\n"
          ]
        },
        {
          "name": "stdout",
          "output_type": "stream",
          "text": [
            "Time elapsed 28.8763 seconds\n",
            "Timer 'inference_axgb_model_100000' stopped. Elapsed time: 146.3165 seconds\n",
            "Timer 'inference_htc_model_100' started.\n"
          ]
        },
        {
          "name": "stderr",
          "output_type": "stream",
          "text": [
            "INFO:turboml.common.internal:Starting to upload data... Total rows: 100\n",
            "Progress: 100%|██████████| 1.00/1.00 [00:00<00:00, 753chunk/s]\n",
            "INFO:turboml.common.internal:Completed data upload.\n",
            "INFO:turboml.common.internal:Starting to upload data... Total rows: 100\n",
            "Progress: 100%|██████████| 1.00/1.00 [00:00<00:00, 314chunk/s]\n",
            "INFO:turboml.common.internal:Completed data upload.\n"
          ]
        },
        {
          "name": "stdout",
          "output_type": "stream",
          "text": [
            "Time elapsed 3.9611 seconds\n"
          ]
        },
        {
          "name": "stderr",
          "output_type": "stream",
          "text": [
            "INFO:turboml.common.internal:Starting to upload data... Total rows: 100\n",
            "Progress: 100%|██████████| 1.00/1.00 [00:00<00:00, 789chunk/s]\n",
            "INFO:turboml.common.internal:Completed data upload.\n",
            "INFO:turboml.common.internal:Starting to upload data... Total rows: 100\n",
            "Progress: 100%|██████████| 1.00/1.00 [00:00<00:00, 790chunk/s]\n",
            "INFO:turboml.common.internal:Completed data upload.\n"
          ]
        },
        {
          "name": "stdout",
          "output_type": "stream",
          "text": [
            "Time elapsed 3.9152 seconds\n"
          ]
        },
        {
          "name": "stderr",
          "output_type": "stream",
          "text": [
            "INFO:turboml.common.internal:Starting to upload data... Total rows: 100\n",
            "Progress: 100%|██████████| 1.00/1.00 [00:00<00:00, 852chunk/s]\n",
            "INFO:turboml.common.internal:Completed data upload.\n",
            "INFO:turboml.common.internal:Starting to upload data... Total rows: 100\n",
            "Progress: 100%|██████████| 1.00/1.00 [00:00<00:00, 707chunk/s]\n",
            "INFO:turboml.common.internal:Completed data upload.\n"
          ]
        },
        {
          "name": "stdout",
          "output_type": "stream",
          "text": [
            "Time elapsed 3.9276 seconds\n"
          ]
        },
        {
          "name": "stderr",
          "output_type": "stream",
          "text": [
            "INFO:turboml.common.internal:Starting to upload data... Total rows: 100\n",
            "Progress: 100%|██████████| 1.00/1.00 [00:00<00:00, 808chunk/s]\n",
            "INFO:turboml.common.internal:Completed data upload.\n",
            "INFO:turboml.common.internal:Starting to upload data... Total rows: 100\n",
            "Progress: 100%|██████████| 1.00/1.00 [00:00<00:00, 813chunk/s]\n",
            "INFO:turboml.common.internal:Completed data upload.\n"
          ]
        },
        {
          "name": "stdout",
          "output_type": "stream",
          "text": [
            "Time elapsed 3.9284 seconds\n"
          ]
        },
        {
          "name": "stderr",
          "output_type": "stream",
          "text": [
            "INFO:turboml.common.internal:Starting to upload data... Total rows: 100\n",
            "Progress: 100%|██████████| 1.00/1.00 [00:00<00:00, 935chunk/s]\n",
            "INFO:turboml.common.internal:Completed data upload.\n",
            "INFO:turboml.common.internal:Starting to upload data... Total rows: 100\n",
            "Progress: 100%|██████████| 1.00/1.00 [00:00<00:00, 851chunk/s]\n",
            "INFO:turboml.common.internal:Completed data upload.\n"
          ]
        },
        {
          "name": "stdout",
          "output_type": "stream",
          "text": [
            "Time elapsed 3.9371 seconds\n",
            "Timer 'inference_htc_model_100' stopped. Elapsed time: 19.6696 seconds\n",
            "Timer 'inference_htc_model_1000' started.\n"
          ]
        },
        {
          "name": "stderr",
          "output_type": "stream",
          "text": [
            "INFO:turboml.common.internal:Starting to upload data... Total rows: 1000\n",
            "Progress: 100%|██████████| 1.00/1.00 [00:00<00:00, 1.30chunk/s]\n",
            "INFO:turboml.common.internal:Completed data upload.\n",
            "INFO:turboml.common.internal:Starting to upload data... Total rows: 1000\n",
            "Progress: 100%|██████████| 1.00/1.00 [00:00<00:00, 1.32chunk/s]\n",
            "INFO:turboml.common.internal:Completed data upload.\n"
          ]
        },
        {
          "name": "stdout",
          "output_type": "stream",
          "text": [
            "Time elapsed 6.0800 seconds\n"
          ]
        },
        {
          "name": "stderr",
          "output_type": "stream",
          "text": [
            "INFO:turboml.common.internal:Starting to upload data... Total rows: 1000\n",
            "Progress: 100%|██████████| 1.00/1.00 [00:00<00:00, 1.31chunk/s]\n",
            "INFO:turboml.common.internal:Completed data upload.\n",
            "INFO:turboml.common.internal:Starting to upload data... Total rows: 1000\n",
            "Progress: 100%|██████████| 1.00/1.00 [00:00<00:00, 1.33chunk/s]\n",
            "INFO:turboml.common.internal:Completed data upload.\n"
          ]
        },
        {
          "name": "stdout",
          "output_type": "stream",
          "text": [
            "Time elapsed 6.0045 seconds\n"
          ]
        },
        {
          "name": "stderr",
          "output_type": "stream",
          "text": [
            "INFO:turboml.common.internal:Starting to upload data... Total rows: 1000\n",
            "Progress: 100%|██████████| 1.00/1.00 [00:00<00:00, 1.31chunk/s]\n",
            "INFO:turboml.common.internal:Completed data upload.\n",
            "INFO:turboml.common.internal:Starting to upload data... Total rows: 1000\n",
            "Progress: 100%|██████████| 1.00/1.00 [00:00<00:00, 1.33chunk/s]\n",
            "INFO:turboml.common.internal:Completed data upload.\n"
          ]
        },
        {
          "name": "stdout",
          "output_type": "stream",
          "text": [
            "Time elapsed 6.2626 seconds\n"
          ]
        },
        {
          "name": "stderr",
          "output_type": "stream",
          "text": [
            "INFO:turboml.common.internal:Starting to upload data... Total rows: 1000\n",
            "Progress: 100%|██████████| 1.00/1.00 [00:00<00:00, 1.34chunk/s]\n",
            "INFO:turboml.common.internal:Completed data upload.\n",
            "INFO:turboml.common.internal:Starting to upload data... Total rows: 1000\n",
            "Progress: 100%|██████████| 1.00/1.00 [00:00<00:00, 1.32chunk/s]\n",
            "INFO:turboml.common.internal:Completed data upload.\n"
          ]
        },
        {
          "name": "stdout",
          "output_type": "stream",
          "text": [
            "Time elapsed 6.1438 seconds\n"
          ]
        },
        {
          "name": "stderr",
          "output_type": "stream",
          "text": [
            "INFO:turboml.common.internal:Starting to upload data... Total rows: 1000\n",
            "Progress: 100%|██████████| 1.00/1.00 [00:01<00:00, 1.01s/chunk]\n",
            "INFO:turboml.common.internal:Completed data upload.\n",
            "INFO:turboml.common.internal:Starting to upload data... Total rows: 1000\n",
            "Progress: 100%|██████████| 1.00/1.00 [00:00<00:00, 1.33chunk/s]\n",
            "INFO:turboml.common.internal:Completed data upload.\n"
          ]
        },
        {
          "name": "stdout",
          "output_type": "stream",
          "text": [
            "Time elapsed 6.2461 seconds\n",
            "Timer 'inference_htc_model_1000' stopped. Elapsed time: 30.7372 seconds\n",
            "Timer 'inference_htc_model_5000' started.\n"
          ]
        },
        {
          "name": "stderr",
          "output_type": "stream",
          "text": [
            "INFO:turboml.common.internal:Starting to upload data... Total rows: 5000\n",
            "Progress: 100%|██████████| 1.00/1.00 [00:01<00:00, 1.57s/chunk]\n",
            "INFO:turboml.common.internal:Completed data upload.\n",
            "INFO:turboml.common.internal:Starting to upload data... Total rows: 5000\n",
            "Progress: 100%|██████████| 5.00/5.00 [00:01<00:00, 3.90chunk/s]\n",
            "INFO:turboml.common.internal:Completed data upload.\n"
          ]
        },
        {
          "name": "stdout",
          "output_type": "stream",
          "text": [
            "Time elapsed 8.7086 seconds\n"
          ]
        },
        {
          "name": "stderr",
          "output_type": "stream",
          "text": [
            "INFO:turboml.common.internal:Starting to upload data... Total rows: 5000\n",
            "Progress: 100%|██████████| 1.00/1.00 [00:01<00:00, 1.77s/chunk]\n",
            "INFO:turboml.common.internal:Completed data upload.\n",
            "INFO:turboml.common.internal:Starting to upload data... Total rows: 5000\n",
            "Progress: 100%|██████████| 5.00/5.00 [00:01<00:00, 3.95chunk/s]\n",
            "INFO:turboml.common.internal:Completed data upload.\n"
          ]
        },
        {
          "name": "stdout",
          "output_type": "stream",
          "text": [
            "Time elapsed 8.5879 seconds\n"
          ]
        },
        {
          "name": "stderr",
          "output_type": "stream",
          "text": [
            "INFO:turboml.common.internal:Starting to upload data... Total rows: 5000\n",
            "Progress: 100%|██████████| 1.00/1.00 [00:01<00:00, 1.80s/chunk]\n",
            "INFO:turboml.common.internal:Completed data upload.\n",
            "INFO:turboml.common.internal:Starting to upload data... Total rows: 5000\n",
            "Progress: 100%|██████████| 5.00/5.00 [00:01<00:00, 3.89chunk/s]\n",
            "INFO:turboml.common.internal:Completed data upload.\n"
          ]
        },
        {
          "name": "stdout",
          "output_type": "stream",
          "text": [
            "Time elapsed 8.7350 seconds\n"
          ]
        },
        {
          "name": "stderr",
          "output_type": "stream",
          "text": [
            "INFO:turboml.common.internal:Starting to upload data... Total rows: 5000\n",
            "Progress: 100%|██████████| 1.00/1.00 [00:01<00:00, 1.77s/chunk]\n",
            "INFO:turboml.common.internal:Completed data upload.\n",
            "INFO:turboml.common.internal:Starting to upload data... Total rows: 5000\n",
            "Progress: 100%|██████████| 5.00/5.00 [00:01<00:00, 3.94chunk/s]\n",
            "INFO:turboml.common.internal:Completed data upload.\n"
          ]
        },
        {
          "name": "stdout",
          "output_type": "stream",
          "text": [
            "Time elapsed 8.3195 seconds\n"
          ]
        },
        {
          "name": "stderr",
          "output_type": "stream",
          "text": [
            "INFO:turboml.common.internal:Starting to upload data... Total rows: 5000\n",
            "Progress: 100%|██████████| 1.00/1.00 [00:01<00:00, 1.76s/chunk]\n",
            "INFO:turboml.common.internal:Completed data upload.\n",
            "INFO:turboml.common.internal:Starting to upload data... Total rows: 5000\n",
            "Progress: 100%|██████████| 5.00/5.00 [00:01<00:00, 3.94chunk/s]\n",
            "INFO:turboml.common.internal:Completed data upload.\n"
          ]
        },
        {
          "name": "stdout",
          "output_type": "stream",
          "text": [
            "Time elapsed 8.3989 seconds\n",
            "Timer 'inference_htc_model_5000' stopped. Elapsed time: 42.7501 seconds\n",
            "Timer 'inference_htc_model_10000' started.\n"
          ]
        },
        {
          "name": "stderr",
          "output_type": "stream",
          "text": [
            "INFO:turboml.common.internal:Starting to upload data... Total rows: 10000\n",
            "Progress:  50%|█████     | 1.00/2.00 [00:02<00:02, 2.28s/chunk]\n",
            "INFO:turboml.common.internal:Completed data upload.\n",
            "INFO:turboml.common.internal:Starting to upload data... Total rows: 10000\n",
            "Progress: 100%|██████████| 10.0/10.0 [00:01<00:00, 6.54chunk/s]\n",
            "INFO:turboml.common.internal:Completed data upload.\n"
          ]
        },
        {
          "name": "stdout",
          "output_type": "stream",
          "text": [
            "Time elapsed 9.9626 seconds\n"
          ]
        },
        {
          "name": "stderr",
          "output_type": "stream",
          "text": [
            "INFO:turboml.common.internal:Starting to upload data... Total rows: 10000\n",
            "Progress:  50%|█████     | 1.00/2.00 [00:02<00:02, 2.24s/chunk]\n",
            "INFO:turboml.common.internal:Completed data upload.\n",
            "INFO:turboml.common.internal:Starting to upload data... Total rows: 10000\n",
            "Progress: 100%|██████████| 10.0/10.0 [00:01<00:00, 6.60chunk/s]\n",
            "INFO:turboml.common.internal:Completed data upload.\n"
          ]
        },
        {
          "name": "stdout",
          "output_type": "stream",
          "text": [
            "Time elapsed 10.6790 seconds\n"
          ]
        },
        {
          "name": "stderr",
          "output_type": "stream",
          "text": [
            "INFO:turboml.common.internal:Starting to upload data... Total rows: 10000\n",
            "Progress:  50%|█████     | 1.00/2.00 [00:02<00:02, 2.27s/chunk]\n",
            "INFO:turboml.common.internal:Completed data upload.\n",
            "INFO:turboml.common.internal:Starting to upload data... Total rows: 10000\n",
            "Progress: 100%|██████████| 10.0/10.0 [00:01<00:00, 6.56chunk/s]\n",
            "INFO:turboml.common.internal:Completed data upload.\n"
          ]
        },
        {
          "name": "stdout",
          "output_type": "stream",
          "text": [
            "Time elapsed 9.9045 seconds\n"
          ]
        },
        {
          "name": "stderr",
          "output_type": "stream",
          "text": [
            "INFO:turboml.common.internal:Starting to upload data... Total rows: 10000\n",
            "Progress:  50%|█████     | 1.00/2.00 [00:02<00:02, 2.28s/chunk]\n",
            "INFO:turboml.common.internal:Completed data upload.\n",
            "INFO:turboml.common.internal:Starting to upload data... Total rows: 10000\n",
            "Progress: 100%|██████████| 10.0/10.0 [00:01<00:00, 6.62chunk/s]\n",
            "INFO:turboml.common.internal:Completed data upload.\n"
          ]
        },
        {
          "name": "stdout",
          "output_type": "stream",
          "text": [
            "Time elapsed 9.7190 seconds\n"
          ]
        },
        {
          "name": "stderr",
          "output_type": "stream",
          "text": [
            "INFO:turboml.common.internal:Starting to upload data... Total rows: 10000\n",
            "Progress:  50%|█████     | 1.00/2.00 [00:02<00:02, 2.31s/chunk]\n",
            "INFO:turboml.common.internal:Completed data upload.\n",
            "INFO:turboml.common.internal:Starting to upload data... Total rows: 10000\n",
            "Progress: 100%|██████████| 10.0/10.0 [00:01<00:00, 5.55chunk/s]\n",
            "INFO:turboml.common.internal:Completed data upload.\n"
          ]
        },
        {
          "name": "stdout",
          "output_type": "stream",
          "text": [
            "Time elapsed 10.0832 seconds\n",
            "Timer 'inference_htc_model_10000' stopped. Elapsed time: 50.3485 seconds\n",
            "Timer 'inference_htc_model_50000' started.\n"
          ]
        },
        {
          "name": "stderr",
          "output_type": "stream",
          "text": [
            "INFO:turboml.common.internal:Starting to upload data... Total rows: 50000\n",
            "Progress:  83%|████████▎ | 5.00/6.00 [00:08<00:01, 1.73s/chunk]\n",
            "INFO:turboml.common.internal:Completed data upload.\n",
            "INFO:turboml.common.internal:Starting to upload data... Total rows: 50000\n",
            "Progress: 100%|██████████| 49.0/49.0 [00:03<00:00, 15.8chunk/s]\n",
            "INFO:turboml.common.internal:Completed data upload.\n"
          ]
        },
        {
          "name": "stdout",
          "output_type": "stream",
          "text": [
            "Time elapsed 16.9204 seconds\n"
          ]
        },
        {
          "name": "stderr",
          "output_type": "stream",
          "text": [
            "INFO:turboml.common.internal:Starting to upload data... Total rows: 50000\n",
            "Progress:  83%|████████▎ | 5.00/6.00 [00:08<00:01, 1.64s/chunk]\n",
            "INFO:turboml.common.internal:Completed data upload.\n",
            "INFO:turboml.common.internal:Starting to upload data... Total rows: 50000\n",
            "Progress: 100%|██████████| 49.0/49.0 [00:03<00:00, 15.9chunk/s]\n",
            "INFO:turboml.common.internal:Completed data upload.\n"
          ]
        },
        {
          "name": "stdout",
          "output_type": "stream",
          "text": [
            "Time elapsed 16.7048 seconds\n"
          ]
        },
        {
          "name": "stderr",
          "output_type": "stream",
          "text": [
            "INFO:turboml.common.internal:Starting to upload data... Total rows: 50000\n",
            "Progress:  83%|████████▎ | 5.00/6.00 [00:08<00:01, 1.68s/chunk]\n",
            "INFO:turboml.common.internal:Completed data upload.\n",
            "INFO:turboml.common.internal:Starting to upload data... Total rows: 50000\n",
            "Progress: 100%|██████████| 49.0/49.0 [00:03<00:00, 15.8chunk/s]\n",
            "INFO:turboml.common.internal:Completed data upload.\n"
          ]
        },
        {
          "name": "stdout",
          "output_type": "stream",
          "text": [
            "Time elapsed 18.3192 seconds\n"
          ]
        },
        {
          "name": "stderr",
          "output_type": "stream",
          "text": [
            "INFO:turboml.common.internal:Starting to upload data... Total rows: 50000\n",
            "Progress:  83%|████████▎ | 5.00/6.00 [00:08<00:01, 1.65s/chunk]\n",
            "INFO:turboml.common.internal:Completed data upload.\n",
            "INFO:turboml.common.internal:Starting to upload data... Total rows: 50000\n",
            "Progress: 100%|██████████| 49.0/49.0 [00:03<00:00, 16.0chunk/s]\n",
            "INFO:turboml.common.internal:Completed data upload.\n"
          ]
        },
        {
          "name": "stdout",
          "output_type": "stream",
          "text": [
            "Time elapsed 16.9904 seconds\n"
          ]
        },
        {
          "name": "stderr",
          "output_type": "stream",
          "text": [
            "INFO:turboml.common.internal:Starting to upload data... Total rows: 50000\n",
            "Progress:  83%|████████▎ | 5.00/6.00 [00:08<00:01, 1.68s/chunk]\n",
            "INFO:turboml.common.internal:Completed data upload.\n",
            "INFO:turboml.common.internal:Starting to upload data... Total rows: 50000\n",
            "Progress: 100%|██████████| 49.0/49.0 [00:03<00:00, 15.8chunk/s]\n",
            "INFO:turboml.common.internal:Completed data upload.\n"
          ]
        },
        {
          "name": "stdout",
          "output_type": "stream",
          "text": [
            "Time elapsed 17.0088 seconds\n",
            "Timer 'inference_htc_model_50000' stopped. Elapsed time: 85.9444 seconds\n",
            "Timer 'inference_htc_model_100000' started.\n"
          ]
        },
        {
          "name": "stderr",
          "output_type": "stream",
          "text": [
            "INFO:turboml.common.internal:Starting to upload data... Total rows: 100000\n",
            "Progress:  91%|█████████ | 10.0/11.0 [00:13<00:01, 1.37s/chunk]\n",
            "INFO:turboml.common.internal:Completed data upload.\n",
            "INFO:turboml.common.internal:Starting to upload data... Total rows: 100000\n",
            "Progress: 100%|██████████| 98.0/98.0 [00:04<00:00, 20.8chunk/s]\n",
            "INFO:turboml.common.internal:Completed data upload.\n"
          ]
        },
        {
          "name": "stdout",
          "output_type": "stream",
          "text": [
            "Time elapsed 26.3191 seconds\n"
          ]
        },
        {
          "name": "stderr",
          "output_type": "stream",
          "text": [
            "INFO:turboml.common.internal:Starting to upload data... Total rows: 100000\n",
            "Progress:  91%|█████████ | 10.0/11.0 [00:13<00:01, 1.37s/chunk]\n",
            "INFO:turboml.common.internal:Completed data upload.\n",
            "INFO:turboml.common.internal:Starting to upload data... Total rows: 100000\n",
            "Progress: 100%|██████████| 98.0/98.0 [00:04<00:00, 20.4chunk/s]\n",
            "INFO:turboml.common.internal:Completed data upload.\n"
          ]
        },
        {
          "name": "stdout",
          "output_type": "stream",
          "text": [
            "Time elapsed 25.0784 seconds\n"
          ]
        },
        {
          "name": "stderr",
          "output_type": "stream",
          "text": [
            "INFO:turboml.common.internal:Starting to upload data... Total rows: 100000\n",
            "Progress:  91%|█████████ | 10.0/11.0 [00:13<00:01, 1.39s/chunk]\n",
            "INFO:turboml.common.internal:Completed data upload.\n",
            "INFO:turboml.common.internal:Starting to upload data... Total rows: 100000\n",
            "Progress: 100%|██████████| 98.0/98.0 [00:04<00:00, 20.4chunk/s]\n",
            "INFO:turboml.common.internal:Completed data upload.\n"
          ]
        },
        {
          "name": "stdout",
          "output_type": "stream",
          "text": [
            "Time elapsed 25.2770 seconds\n"
          ]
        },
        {
          "name": "stderr",
          "output_type": "stream",
          "text": [
            "INFO:turboml.common.internal:Starting to upload data... Total rows: 100000\n",
            "Progress:  91%|█████████ | 10.0/11.0 [00:13<00:01, 1.37s/chunk]\n",
            "INFO:turboml.common.internal:Completed data upload.\n",
            "INFO:turboml.common.internal:Starting to upload data... Total rows: 100000\n",
            "Progress: 100%|██████████| 98.0/98.0 [00:04<00:00, 20.1chunk/s]\n",
            "INFO:turboml.common.internal:Completed data upload.\n"
          ]
        },
        {
          "name": "stdout",
          "output_type": "stream",
          "text": [
            "Time elapsed 25.2774 seconds\n"
          ]
        },
        {
          "name": "stderr",
          "output_type": "stream",
          "text": [
            "INFO:turboml.common.internal:Starting to upload data... Total rows: 100000\n",
            "Progress:  91%|█████████ | 10.0/11.0 [00:13<00:01, 1.37s/chunk]\n",
            "INFO:turboml.common.internal:Completed data upload.\n",
            "INFO:turboml.common.internal:Starting to upload data... Total rows: 100000\n",
            "Progress: 100%|██████████| 98.0/98.0 [00:04<00:00, 21.2chunk/s]\n",
            "INFO:turboml.common.internal:Completed data upload.\n"
          ]
        },
        {
          "name": "stdout",
          "output_type": "stream",
          "text": [
            "Time elapsed 25.2736 seconds\n",
            "Timer 'inference_htc_model_100000' stopped. Elapsed time: 127.2257 seconds\n"
          ]
        }
      ],
      "source": [
        "# check if intervals already stored\n",
        "filename = \"batch_inference_time_intervals.pkl\"\n",
        "if not os.path.exists(filename):\n",
        "    batch_sizes = [100,1000,5000,10000,50000,100000]\n",
        "\n",
        "    for size in batch_sizes:\n",
        "      timer.start(f\"inference_axgb_model_{size}\")\n",
        "      for i in range(5):\n",
        "        outputs = deployed_axgb_model.get_inference(ieee_features_df.head(size))\n",
        "        timer.checkpoint(f\"inference_axgb_model_{size}\")\n",
        "      timer.stop(f\"inference_axgb_model_{size}\")\n",
        "\n",
        "    for size in batch_sizes:\n",
        "      timer.start(f\"inference_htc_model_{size}\")\n",
        "      for i in range(5):\n",
        "        outputs = deployed_htc_model.get_inference(ieee_features_df.head(size))\n",
        "        timer.checkpoint(f\"inference_htc_model_{size}\")\n",
        "      timer.stop(f\"inference_htc_model_{size}\")\n",
        "\n",
        "    intervals = timer.intervals\n",
        "    with open(filename, \"wb\") as f:\n",
        "      pickle.dump(intervals, f)\n",
        "\n",
        "else:\n",
        "    with open(filename, \"rb\") as f:\n",
        "      intervals = pickle.load(f)"
      ]
    },
    {
      "cell_type": "markdown",
      "metadata": {
        "id": "aEzWlAeSK6uN"
      },
      "source": [
        "# Plot graphs"
      ]
    },
    {
      "cell_type": "markdown",
      "metadata": {
        "id": "oKLAIYvzfctZ"
      },
      "source": [
        "Model Batch Inference Time"
      ]
    },
    {
      "cell_type": "code",
      "execution_count": null,
      "metadata": {
        "colab": {
          "base_uri": "https://localhost:8080/",
          "height": 521
        },
        "id": "NVjK87hCK-Vy",
        "outputId": "167e6bee-c788-4920-ba8c-daf04817d55d"
      },
      "outputs": [
        {
          "data": {
            "image/svg+xml": [
              "<svg class=\"main-svg\" xmlns=\"http://www.w3.org/2000/svg\" xmlns:xlink=\"http://www.w3.org/1999/xlink\" width=\"700\" height=\"500\" style=\"\" viewBox=\"0 0 700 500\"><rect x=\"0\" y=\"0\" width=\"700\" height=\"500\" style=\"fill: rgb(17, 17, 17); fill-opacity: 1;\"/><defs id=\"defs-e7e87c\"><g class=\"clips\"><clipPath id=\"clipe7e87cxyplot\" class=\"plotclip\"><rect width=\"609\" height=\"345\"/></clipPath><clipPath class=\"axesclip\" id=\"clipe7e87cx\"><rect x=\"51\" y=\"0\" width=\"609\" height=\"500\"/></clipPath><clipPath class=\"axesclip\" id=\"clipe7e87cy\"><rect x=\"0\" y=\"40\" width=\"700\" height=\"345\"/></clipPath><clipPath class=\"axesclip\" id=\"clipe7e87cxy\"><rect x=\"51\" y=\"40\" width=\"609\" height=\"345\"/></clipPath></g><g class=\"gradients\"/><g class=\"patterns\"/></defs><g class=\"bglayer\"/><g class=\"layer-below\"><g class=\"imagelayer\"/><g class=\"shapelayer\"/></g><g class=\"cartesianlayer\"><g class=\"subplot xy\"><g class=\"layer-subplot\"><g class=\"shapelayer\"/><g class=\"imagelayer\"/></g><g class=\"minor-gridlayer\"><g class=\"x\"/><g class=\"y\"/></g><g class=\"gridlayer\"><g class=\"x\"><path class=\"xgrid crisp\" transform=\"translate(192.89,0)\" d=\"M0,40v345\" style=\"stroke: rgb(40, 52, 66); stroke-opacity: 1; stroke-width: 1px;\"/><path class=\"xgrid crisp\" transform=\"translate(301.12,0)\" d=\"M0,40v345\" style=\"stroke: rgb(40, 52, 66); stroke-opacity: 1; stroke-width: 1px;\"/><path class=\"xgrid crisp\" transform=\"translate(409.34,0)\" d=\"M0,40v345\" style=\"stroke: rgb(40, 52, 66); stroke-opacity: 1; stroke-width: 1px;\"/><path class=\"xgrid crisp\" transform=\"translate(517.5699999999999,0)\" d=\"M0,40v345\" style=\"stroke: rgb(40, 52, 66); stroke-opacity: 1; stroke-width: 1px;\"/><path class=\"xgrid crisp\" transform=\"translate(625.8,0)\" d=\"M0,40v345\" style=\"stroke: rgb(40, 52, 66); stroke-opacity: 1; stroke-width: 1px;\"/></g><g class=\"y\"><path class=\"ygrid crisp\" transform=\"translate(0,351.25)\" d=\"M51,0h609\" style=\"stroke: rgb(40, 52, 66); stroke-opacity: 1; stroke-width: 1px;\"/><path class=\"ygrid crisp\" transform=\"translate(0,291.43)\" d=\"M51,0h609\" style=\"stroke: rgb(40, 52, 66); stroke-opacity: 1; stroke-width: 1px;\"/><path class=\"ygrid crisp\" transform=\"translate(0,231.62)\" d=\"M51,0h609\" style=\"stroke: rgb(40, 52, 66); stroke-opacity: 1; stroke-width: 1px;\"/><path class=\"ygrid crisp\" transform=\"translate(0,171.81)\" d=\"M51,0h609\" style=\"stroke: rgb(40, 52, 66); stroke-opacity: 1; stroke-width: 1px;\"/><path class=\"ygrid crisp\" transform=\"translate(0,112)\" d=\"M51,0h609\" style=\"stroke: rgb(40, 52, 66); stroke-opacity: 1; stroke-width: 1px;\"/><path class=\"ygrid crisp\" transform=\"translate(0,52.19)\" d=\"M51,0h609\" style=\"stroke: rgb(40, 52, 66); stroke-opacity: 1; stroke-width: 1px;\"/></g></g><g class=\"zerolinelayer\"><path class=\"xzl zl crisp\" transform=\"translate(84.66,0)\" d=\"M0,40v345\" style=\"stroke: rgb(40, 52, 66); stroke-opacity: 1; stroke-width: 2px;\"/></g><g class=\"layer-between\"><g class=\"shapelayer\"/><g class=\"imagelayer\"/></g><path class=\"xlines-below\"/><path class=\"ylines-below\"/><g class=\"overlines-below\"/><g class=\"xaxislayer-below\"/><g class=\"yaxislayer-below\"/><g class=\"overaxes-below\"/><g class=\"overplot\"><g class=\"xy\" transform=\"translate(51,40)\" clip-path=\"url(#clipe7e87cxyplot)\"><g class=\"scatterlayer mlayer\"><g class=\"trace scatter trace5681bb\" style=\"stroke-miterlimit: 2; opacity: 1;\"><g class=\"fills\"/><g class=\"errorbars\"/><g class=\"lines\"><path class=\"js-line\" d=\"M34.2,323.8L39.07,296.92L60.72,263.1L87.77,246.43L304.23,142.83L574.8,21\" style=\"vector-effect: none; fill: none; stroke: rgb(0, 0, 255); stroke-opacity: 1; stroke-width: 2px; opacity: 1;\"/></g><g class=\"points\"><path class=\"point\" transform=\"translate(34.2,323.8)\" d=\"M3,0A3,3 0 1,1 0,-3A3,3 0 0,1 3,0Z\" style=\"opacity: 1; stroke-width: 0px; fill: rgb(0, 0, 255); fill-opacity: 1;\"/><path class=\"point\" transform=\"translate(39.07,296.92)\" d=\"M3,0A3,3 0 1,1 0,-3A3,3 0 0,1 3,0Z\" style=\"opacity: 1; stroke-width: 0px; fill: rgb(0, 0, 255); fill-opacity: 1;\"/><path class=\"point\" transform=\"translate(60.72,263.1)\" d=\"M3,0A3,3 0 1,1 0,-3A3,3 0 0,1 3,0Z\" style=\"opacity: 1; stroke-width: 0px; fill: rgb(0, 0, 255); fill-opacity: 1;\"/><path class=\"point\" transform=\"translate(87.77,246.43)\" d=\"M3,0A3,3 0 1,1 0,-3A3,3 0 0,1 3,0Z\" style=\"opacity: 1; stroke-width: 0px; fill: rgb(0, 0, 255); fill-opacity: 1;\"/><path class=\"point\" transform=\"translate(304.23,142.83)\" d=\"M3,0A3,3 0 1,1 0,-3A3,3 0 0,1 3,0Z\" style=\"opacity: 1; stroke-width: 0px; fill: rgb(0, 0, 255); fill-opacity: 1;\"/><path class=\"point\" transform=\"translate(574.8,21)\" d=\"M3,0A3,3 0 1,1 0,-3A3,3 0 0,1 3,0Z\" style=\"opacity: 1; stroke-width: 0px; fill: rgb(0, 0, 255); fill-opacity: 1;\"/></g><g class=\"text\"/></g><g class=\"trace scatter trace74c33f\" style=\"stroke-miterlimit: 2; opacity: 1;\"><g class=\"fills\"/><g class=\"errorbars\"/><g class=\"lines\"><path class=\"js-line\" d=\"M34.2,324L39.07,297.52L60.72,268.78L87.77,250.6L304.23,165.44L574.8,66.67\" style=\"vector-effect: none; fill: none; stroke: rgb(255, 0, 0); stroke-opacity: 1; stroke-width: 2px; opacity: 1;\"/></g><g class=\"points\"><path class=\"point\" transform=\"translate(34.2,324)\" d=\"M3,0A3,3 0 1,1 0,-3A3,3 0 0,1 3,0Z\" style=\"opacity: 1; stroke-width: 0px; fill: rgb(255, 0, 0); fill-opacity: 1;\"/><path class=\"point\" transform=\"translate(39.07,297.52)\" d=\"M3,0A3,3 0 1,1 0,-3A3,3 0 0,1 3,0Z\" style=\"opacity: 1; stroke-width: 0px; fill: rgb(255, 0, 0); fill-opacity: 1;\"/><path class=\"point\" transform=\"translate(60.72,268.78)\" d=\"M3,0A3,3 0 1,1 0,-3A3,3 0 0,1 3,0Z\" style=\"opacity: 1; stroke-width: 0px; fill: rgb(255, 0, 0); fill-opacity: 1;\"/><path class=\"point\" transform=\"translate(87.77,250.6)\" d=\"M3,0A3,3 0 1,1 0,-3A3,3 0 0,1 3,0Z\" style=\"opacity: 1; stroke-width: 0px; fill: rgb(255, 0, 0); fill-opacity: 1;\"/><path class=\"point\" transform=\"translate(304.23,165.44)\" d=\"M3,0A3,3 0 1,1 0,-3A3,3 0 0,1 3,0Z\" style=\"opacity: 1; stroke-width: 0px; fill: rgb(255, 0, 0); fill-opacity: 1;\"/><path class=\"point\" transform=\"translate(574.8,66.67)\" d=\"M3,0A3,3 0 1,1 0,-3A3,3 0 0,1 3,0Z\" style=\"opacity: 1; stroke-width: 0px; fill: rgb(255, 0, 0); fill-opacity: 1;\"/></g><g class=\"text\"/></g></g></g></g><path class=\"xlines-above crisp\" d=\"M0,0\" style=\"fill: none;\"/><path class=\"ylines-above crisp\" d=\"M0,0\" style=\"fill: none;\"/><g class=\"overlines-above\"/><g class=\"xaxislayer-above\"><g class=\"xtick\"><text text-anchor=\"middle\" x=\"0\" y=\"398\" transform=\"translate(84.66,0)\" style=\"font-family: 'Open Sans', verdana, arial, sans-serif; font-size: 12px; fill: rgb(242, 245, 250); fill-opacity: 1; white-space: pre; opacity: 1;\">0</text></g><g class=\"xtick\"><text text-anchor=\"middle\" x=\"0\" y=\"398\" style=\"font-family: 'Open Sans', verdana, arial, sans-serif; font-size: 12px; fill: rgb(242, 245, 250); fill-opacity: 1; white-space: pre; opacity: 1;\" transform=\"translate(192.89,0)\">20k</text></g><g class=\"xtick\"><text text-anchor=\"middle\" x=\"0\" y=\"398\" style=\"font-family: 'Open Sans', verdana, arial, sans-serif; font-size: 12px; fill: rgb(242, 245, 250); fill-opacity: 1; white-space: pre; opacity: 1;\" transform=\"translate(301.12,0)\">40k</text></g><g class=\"xtick\"><text text-anchor=\"middle\" x=\"0\" y=\"398\" style=\"font-family: 'Open Sans', verdana, arial, sans-serif; font-size: 12px; fill: rgb(242, 245, 250); fill-opacity: 1; white-space: pre; opacity: 1;\" transform=\"translate(409.34,0)\">60k</text></g><g class=\"xtick\"><text text-anchor=\"middle\" x=\"0\" y=\"398\" style=\"font-family: 'Open Sans', verdana, arial, sans-serif; font-size: 12px; fill: rgb(242, 245, 250); fill-opacity: 1; white-space: pre; opacity: 1;\" transform=\"translate(517.5699999999999,0)\">80k</text></g><g class=\"xtick\"><text text-anchor=\"middle\" x=\"0\" y=\"398\" style=\"font-family: 'Open Sans', verdana, arial, sans-serif; font-size: 12px; fill: rgb(242, 245, 250); fill-opacity: 1; white-space: pre; opacity: 1;\" transform=\"translate(625.8,0)\">100k</text></g></g><g class=\"yaxislayer-above\"><g class=\"ytick\"><text text-anchor=\"end\" x=\"50\" y=\"4.199999999999999\" transform=\"translate(0,351.25)\" style=\"font-family: 'Open Sans', verdana, arial, sans-serif; font-size: 12px; fill: rgb(242, 245, 250); fill-opacity: 1; white-space: pre; opacity: 1;\">5</text></g><g class=\"ytick\"><text text-anchor=\"end\" x=\"50\" y=\"4.199999999999999\" style=\"font-family: 'Open Sans', verdana, arial, sans-serif; font-size: 12px; fill: rgb(242, 245, 250); fill-opacity: 1; white-space: pre; opacity: 1;\" transform=\"translate(0,291.43)\">10</text></g><g class=\"ytick\"><text text-anchor=\"end\" x=\"50\" y=\"4.199999999999999\" style=\"font-family: 'Open Sans', verdana, arial, sans-serif; font-size: 12px; fill: rgb(242, 245, 250); fill-opacity: 1; white-space: pre; opacity: 1;\" transform=\"translate(0,231.62)\">15</text></g><g class=\"ytick\"><text text-anchor=\"end\" x=\"50\" y=\"4.199999999999999\" style=\"font-family: 'Open Sans', verdana, arial, sans-serif; font-size: 12px; fill: rgb(242, 245, 250); fill-opacity: 1; white-space: pre; opacity: 1;\" transform=\"translate(0,171.81)\">20</text></g><g class=\"ytick\"><text text-anchor=\"end\" x=\"50\" y=\"4.199999999999999\" style=\"font-family: 'Open Sans', verdana, arial, sans-serif; font-size: 12px; fill: rgb(242, 245, 250); fill-opacity: 1; white-space: pre; opacity: 1;\" transform=\"translate(0,112)\">25</text></g><g class=\"ytick\"><text text-anchor=\"end\" x=\"50\" y=\"4.199999999999999\" style=\"font-family: 'Open Sans', verdana, arial, sans-serif; font-size: 12px; fill: rgb(242, 245, 250); fill-opacity: 1; white-space: pre; opacity: 1;\" transform=\"translate(0,52.19)\">30</text></g></g><g class=\"overaxes-above\"/></g></g><g class=\"polarlayer\"/><g class=\"smithlayer\"/><g class=\"ternarylayer\"/><g class=\"geolayer\"/><g class=\"funnelarealayer\"/><g class=\"pielayer\"/><g class=\"iciclelayer\"/><g class=\"treemaplayer\"/><g class=\"sunburstlayer\"/><g class=\"glimages\"/><defs id=\"topdefs-e7e87c\"><g class=\"clips\"/><clipPath id=\"legende7e87c\"><rect width=\"300\" height=\"29\" x=\"0\" y=\"0\"/></clipPath></defs><g class=\"layer-above\"><g class=\"imagelayer\"/><g class=\"shapelayer\"/></g><g class=\"infolayer\"><g class=\"legend\" pointer-events=\"all\" transform=\"translate(205.5,459.5)\"><rect class=\"bg\" shape-rendering=\"crispEdges\" width=\"300\" height=\"29\" x=\"0\" y=\"0\" style=\"stroke: rgb(68, 68, 68); stroke-opacity: 1; fill: rgb(17, 17, 17); fill-opacity: 1; stroke-width: 0px;\"/><g class=\"scrollbox\" transform=\"\" clip-path=\"url(#legende7e87c)\"><text class=\"legendtitletext\" text-anchor=\"start\" x=\"2\" y=\"18.2\" style=\"font-family: 'Open Sans', verdana, arial, sans-serif; font-size: 14px; fill: rgb(242, 245, 250); fill-opacity: 1; white-space: pre;\">Legend</text><g class=\"groups\"><g class=\"traces\" transform=\"translate(56.71875,14.5)\" style=\"opacity: 1;\"><text class=\"legendtext\" text-anchor=\"start\" x=\"40\" y=\"4.680000000000001\" style=\"font-family: 'Open Sans', verdana, arial, sans-serif; font-size: 12px; fill: rgb(242, 245, 250); fill-opacity: 1; white-space: pre;\">AXGBoost Model</text><g class=\"layers\" style=\"opacity: 1;\"><g class=\"legendfill\"/><g class=\"legendlines\"><path class=\"js-line\" d=\"M5,0h30\" style=\"fill: none; stroke: rgb(0, 0, 255); stroke-opacity: 1; stroke-width: 2px;\"/></g><g class=\"legendsymbols\"><g class=\"legendpoints\"><path class=\"scatterpts\" transform=\"translate(20,0)\" d=\"M3,0A3,3 0 1,1 0,-3A3,3 0 0,1 3,0Z\" style=\"opacity: 1; stroke-width: 0px; fill: rgb(0, 0, 255); fill-opacity: 1;\"/></g></g></g><rect class=\"legendtoggle\" x=\"0\" y=\"-9.5\" width=\"134.546875\" height=\"19\" style=\"fill: rgb(0, 0, 0); fill-opacity: 0;\"/></g><g class=\"traces\" transform=\"translate(193.765625,14.5)\" style=\"opacity: 1;\"><text class=\"legendtext\" text-anchor=\"start\" x=\"40\" y=\"4.680000000000001\" style=\"font-family: 'Open Sans', verdana, arial, sans-serif; font-size: 12px; fill: rgb(242, 245, 250); fill-opacity: 1; white-space: pre;\">HTC Model</text><g class=\"layers\" style=\"opacity: 1;\"><g class=\"legendfill\"/><g class=\"legendlines\"><path class=\"js-line\" d=\"M5,0h30\" style=\"fill: none; stroke: rgb(255, 0, 0); stroke-opacity: 1; stroke-width: 2px;\"/></g><g class=\"legendsymbols\"><g class=\"legendpoints\"><path class=\"scatterpts\" transform=\"translate(20,0)\" d=\"M3,0A3,3 0 1,1 0,-3A3,3 0 0,1 3,0Z\" style=\"opacity: 1; stroke-width: 0px; fill: rgb(255, 0, 0); fill-opacity: 1;\"/></g></g></g><rect class=\"legendtoggle\" x=\"0\" y=\"-9.5\" width=\"103.1875\" height=\"19\" style=\"fill: rgb(0, 0, 0); fill-opacity: 0;\"/></g></g></g><rect class=\"scrollbar\" rx=\"20\" ry=\"3\" width=\"0\" height=\"0\" x=\"0\" y=\"0\" style=\"fill: rgb(128, 139, 164); fill-opacity: 1;\"/></g><g class=\"g-gtitle\"><text class=\"gtitle\" x=\"35\" y=\"20\" text-anchor=\"start\" dy=\"0em\" style=\"opacity: 1; font-family: 'Open Sans', verdana, arial, sans-serif; font-size: 17px; fill: rgb(242, 245, 250); fill-opacity: 1; white-space: pre;\">Model Batch Inference Time</text></g><g class=\"g-xtitle\"><text class=\"xtitle\" x=\"355.5\" y=\"425.3\" text-anchor=\"middle\" style=\"opacity: 1; font-family: 'Open Sans', verdana, arial, sans-serif; font-size: 14px; fill: rgb(242, 245, 250); fill-opacity: 1; white-space: pre;\">Batch Size</text></g><g class=\"g-ytitle\"><text class=\"ytitle\" transform=\"rotate(-90,17.240625,212.5)\" x=\"17.240625\" y=\"212.5\" text-anchor=\"middle\" style=\"opacity: 1; font-family: 'Open Sans', verdana, arial, sans-serif; font-size: 14px; fill: rgb(242, 245, 250); fill-opacity: 1; white-space: pre;\">Average Time Taken (seconds)</text></g></g></svg>"
            ]
          },
          "metadata": {},
          "output_type": "display_data"
        }
      ],
      "source": [
        "intervals_axgb = {key: values for key, values in intervals.items() if \"inference_axgb\" in key}\n",
        "intervals_htc = {key: values for key, values in intervals.items() if \"inference_htc\" in key}\n",
        "\n",
        "# Calculate averages for each size\n",
        "averages_axgb = {key: sum(values) / len(values) for key, values in intervals_axgb.items()}\n",
        "sizes_axgb = [int(key.split('_')[3]) for key in averages_axgb.keys()]\n",
        "average_times_axgb = list(averages_axgb.values())\n",
        "\n",
        "averages_htc = {key: sum(values) / len(values) for key, values in intervals_htc.items()}\n",
        "sizes_htc = [int(key.split('_')[3]) for key in averages_htc.keys()]\n",
        "average_times_htc = list(averages_htc.values())\n",
        "\n",
        "# Plot individual graphs and a combined graph\n",
        "fig = go.Figure()\n",
        "\n",
        "# Add the average line\n",
        "fig.add_trace(go.Scatter(\n",
        "    x=sizes_axgb,\n",
        "    y=average_times_axgb,\n",
        "    mode='lines+markers',\n",
        "    name='AXGBoost Model',\n",
        "    line=dict(color='blue', width=2)\n",
        "))\n",
        "\n",
        "# Add the average line\n",
        "fig.add_trace(go.Scatter(\n",
        "    x=sizes_htc,\n",
        "    y=average_times_htc,\n",
        "    mode='lines+markers',\n",
        "    name='HTC Model',\n",
        "    line=dict(color='red', width=2)\n",
        "))\n",
        "\n",
        "# Customize the layout\n",
        "fig.update_layout(\n",
        "    title=\"Model Batch Inference Time\",\n",
        "    xaxis_title=f\"Batch Size \",\n",
        "    yaxis_title=\"Average Time Taken (seconds)\",\n",
        "    template=\"plotly_dark\",\n",
        "    legend=dict(title=\"Legend\", orientation=\"h\", yanchor=\"bottom\", y=-0.3, xanchor=\"center\", x=0.5),\n",
        "    margin=dict(l=40, r=40, t=40, b=40)\n",
        ")\n",
        "\n",
        "# Show the figure\n",
        "fig.show(\"svg\")"
      ]
    },
    {
      "cell_type": "markdown",
      "metadata": {
        "id": "RIrt3ugfPW0k"
      },
      "source": [
        "The plot above shows the average inference time for two models, AXGBoost and HTC, across varying batch sizes of `[100,1k,5k,10k,50k,100k]`. The x-axis represents batch sizes, while the y-axis shows the average time taken (in seconds) for batch inference.\n",
        "\n"
      ]
    },
    {
      "cell_type": "markdown",
      "metadata": {
        "id": "EZKsh2lgfbs8"
      },
      "source": [
        "Model Batch Inference Time: Rows Per Second"
      ]
    },
    {
      "cell_type": "code",
      "execution_count": null,
      "metadata": {
        "colab": {
          "base_uri": "https://localhost:8080/",
          "height": 521
        },
        "id": "qTcdKsgVe18l",
        "outputId": "181c0fc2-59c7-4300-ca08-06abfc74c13e"
      },
      "outputs": [
        {
          "data": {
            "image/svg+xml": [
              "<svg class=\"main-svg\" xmlns=\"http://www.w3.org/2000/svg\" xmlns:xlink=\"http://www.w3.org/1999/xlink\" width=\"700\" height=\"500\" style=\"\" viewBox=\"0 0 700 500\"><rect x=\"0\" y=\"0\" width=\"700\" height=\"500\" style=\"fill: rgb(17, 17, 17); fill-opacity: 1;\"/><defs id=\"defs-5f4e23\"><g class=\"clips\"><clipPath id=\"clip5f4e23xyplot\" class=\"plotclip\"><rect width=\"595\" height=\"345\"/></clipPath><clipPath class=\"axesclip\" id=\"clip5f4e23x\"><rect x=\"65\" y=\"0\" width=\"595\" height=\"500\"/></clipPath><clipPath class=\"axesclip\" id=\"clip5f4e23y\"><rect x=\"0\" y=\"40\" width=\"700\" height=\"345\"/></clipPath><clipPath class=\"axesclip\" id=\"clip5f4e23xy\"><rect x=\"65\" y=\"40\" width=\"595\" height=\"345\"/></clipPath></g><g class=\"gradients\"/><g class=\"patterns\"/></defs><g class=\"bglayer\"/><g class=\"layer-below\"><g class=\"imagelayer\"/><g class=\"shapelayer\"/></g><g class=\"cartesianlayer\"><g class=\"subplot xy\"><g class=\"layer-subplot\"><g class=\"shapelayer\"/><g class=\"imagelayer\"/></g><g class=\"minor-gridlayer\"><g class=\"x\"/><g class=\"y\"/></g><g class=\"gridlayer\"><g class=\"x\"><path class=\"xgrid crisp\" transform=\"translate(203.68,0)\" d=\"M0,40v345\" style=\"stroke: rgb(40, 52, 66); stroke-opacity: 1; stroke-width: 1px;\"/><path class=\"xgrid crisp\" transform=\"translate(309.38,0)\" d=\"M0,40v345\" style=\"stroke: rgb(40, 52, 66); stroke-opacity: 1; stroke-width: 1px;\"/><path class=\"xgrid crisp\" transform=\"translate(415.09,0)\" d=\"M0,40v345\" style=\"stroke: rgb(40, 52, 66); stroke-opacity: 1; stroke-width: 1px;\"/><path class=\"xgrid crisp\" transform=\"translate(520.79,0)\" d=\"M0,40v345\" style=\"stroke: rgb(40, 52, 66); stroke-opacity: 1; stroke-width: 1px;\"/><path class=\"xgrid crisp\" transform=\"translate(626.5,0)\" d=\"M0,40v345\" style=\"stroke: rgb(40, 52, 66); stroke-opacity: 1; stroke-width: 1px;\"/></g><g class=\"y\"><path class=\"ygrid crisp\" transform=\"translate(0,327.16)\" d=\"M65,0h595\" style=\"stroke: rgb(40, 52, 66); stroke-opacity: 1; stroke-width: 1px;\"/><path class=\"ygrid crisp\" transform=\"translate(0,288.37)\" d=\"M65,0h595\" style=\"stroke: rgb(40, 52, 66); stroke-opacity: 1; stroke-width: 1px;\"/><path class=\"ygrid crisp\" transform=\"translate(0,249.57)\" d=\"M65,0h595\" style=\"stroke: rgb(40, 52, 66); stroke-opacity: 1; stroke-width: 1px;\"/><path class=\"ygrid crisp\" transform=\"translate(0,210.77)\" d=\"M65,0h595\" style=\"stroke: rgb(40, 52, 66); stroke-opacity: 1; stroke-width: 1px;\"/><path class=\"ygrid crisp\" transform=\"translate(0,171.97)\" d=\"M65,0h595\" style=\"stroke: rgb(40, 52, 66); stroke-opacity: 1; stroke-width: 1px;\"/><path class=\"ygrid crisp\" transform=\"translate(0,133.17000000000002)\" d=\"M65,0h595\" style=\"stroke: rgb(40, 52, 66); stroke-opacity: 1; stroke-width: 1px;\"/><path class=\"ygrid crisp\" transform=\"translate(0,94.37)\" d=\"M65,0h595\" style=\"stroke: rgb(40, 52, 66); stroke-opacity: 1; stroke-width: 1px;\"/><path class=\"ygrid crisp\" transform=\"translate(0,55.57)\" d=\"M65,0h595\" style=\"stroke: rgb(40, 52, 66); stroke-opacity: 1; stroke-width: 1px;\"/></g></g><g class=\"zerolinelayer\"><path class=\"xzl zl crisp\" transform=\"translate(97.97,0)\" d=\"M0,40v345\" style=\"stroke: rgb(40, 52, 66); stroke-opacity: 1; stroke-width: 2px;\"/><path class=\"yzl zl crisp\" transform=\"translate(0,365.96)\" d=\"M65,0h595\" style=\"stroke: rgb(40, 52, 66); stroke-opacity: 1; stroke-width: 2px;\"/></g><g class=\"layer-between\"><g class=\"shapelayer\"/><g class=\"imagelayer\"/></g><path class=\"xlines-below\"/><path class=\"ylines-below\"/><g class=\"overlines-below\"/><g class=\"xaxislayer-below\"/><g class=\"yaxislayer-below\"/><g class=\"overaxes-below\"/><g class=\"overplot\"><g class=\"xy\" transform=\"translate(65,40)\" clip-path=\"url(#clip5f4e23xyplot)\"><g class=\"scatterlayer mlayer\"><g class=\"trace scatter tracecc7d66\" style=\"stroke-miterlimit: 2; opacity: 1;\"><g class=\"fills\"/><g class=\"errorbars\"/><g class=\"lines\"><path class=\"js-line\" d=\"M33.5,324L38.26,313.44L59.4,282.97L85.82,251.48L297.24,122.6L561.5,60.79\" style=\"vector-effect: none; fill: none; stroke: rgb(0, 0, 255); stroke-opacity: 1; stroke-width: 2px; opacity: 1;\"/></g><g class=\"points\"><path class=\"point\" transform=\"translate(33.5,324)\" d=\"M3,0A3,3 0 1,1 0,-3A3,3 0 0,1 3,0Z\" style=\"opacity: 1; stroke-width: 0px; fill: rgb(0, 0, 255); fill-opacity: 1;\"/><path class=\"point\" transform=\"translate(38.26,313.44)\" d=\"M3,0A3,3 0 1,1 0,-3A3,3 0 0,1 3,0Z\" style=\"opacity: 1; stroke-width: 0px; fill: rgb(0, 0, 255); fill-opacity: 1;\"/><path class=\"point\" transform=\"translate(59.4,282.97)\" d=\"M3,0A3,3 0 1,1 0,-3A3,3 0 0,1 3,0Z\" style=\"opacity: 1; stroke-width: 0px; fill: rgb(0, 0, 255); fill-opacity: 1;\"/><path class=\"point\" transform=\"translate(85.82,251.48)\" d=\"M3,0A3,3 0 1,1 0,-3A3,3 0 0,1 3,0Z\" style=\"opacity: 1; stroke-width: 0px; fill: rgb(0, 0, 255); fill-opacity: 1;\"/><path class=\"point\" transform=\"translate(297.24,122.6)\" d=\"M3,0A3,3 0 1,1 0,-3A3,3 0 0,1 3,0Z\" style=\"opacity: 1; stroke-width: 0px; fill: rgb(0, 0, 255); fill-opacity: 1;\"/><path class=\"point\" transform=\"translate(561.5,60.79)\" d=\"M3,0A3,3 0 1,1 0,-3A3,3 0 0,1 3,0Z\" style=\"opacity: 1; stroke-width: 0px; fill: rgb(0, 0, 255); fill-opacity: 1;\"/></g><g class=\"text\"/></g><g class=\"trace scatter trace8a1689\" style=\"stroke-miterlimit: 2; opacity: 1;\"><g class=\"fills\"/><g class=\"errorbars\"/><g class=\"lines\"><path class=\"js-line\" d=\"M33.5,323.99L38.26,313.34L59.4,280.58L85.82,248.9L297.24,100.24L561.5,21\" style=\"vector-effect: none; fill: none; stroke: rgb(255, 0, 0); stroke-opacity: 1; stroke-width: 2px; opacity: 1;\"/></g><g class=\"points\"><path class=\"point\" transform=\"translate(33.5,323.99)\" d=\"M3,0A3,3 0 1,1 0,-3A3,3 0 0,1 3,0Z\" style=\"opacity: 1; stroke-width: 0px; fill: rgb(255, 0, 0); fill-opacity: 1;\"/><path class=\"point\" transform=\"translate(38.26,313.34)\" d=\"M3,0A3,3 0 1,1 0,-3A3,3 0 0,1 3,0Z\" style=\"opacity: 1; stroke-width: 0px; fill: rgb(255, 0, 0); fill-opacity: 1;\"/><path class=\"point\" transform=\"translate(59.4,280.58)\" d=\"M3,0A3,3 0 1,1 0,-3A3,3 0 0,1 3,0Z\" style=\"opacity: 1; stroke-width: 0px; fill: rgb(255, 0, 0); fill-opacity: 1;\"/><path class=\"point\" transform=\"translate(85.82,248.9)\" d=\"M3,0A3,3 0 1,1 0,-3A3,3 0 0,1 3,0Z\" style=\"opacity: 1; stroke-width: 0px; fill: rgb(255, 0, 0); fill-opacity: 1;\"/><path class=\"point\" transform=\"translate(297.24,100.24)\" d=\"M3,0A3,3 0 1,1 0,-3A3,3 0 0,1 3,0Z\" style=\"opacity: 1; stroke-width: 0px; fill: rgb(255, 0, 0); fill-opacity: 1;\"/><path class=\"point\" transform=\"translate(561.5,21)\" d=\"M3,0A3,3 0 1,1 0,-3A3,3 0 0,1 3,0Z\" style=\"opacity: 1; stroke-width: 0px; fill: rgb(255, 0, 0); fill-opacity: 1;\"/></g><g class=\"text\"/></g></g></g></g><path class=\"xlines-above crisp\" d=\"M0,0\" style=\"fill: none;\"/><path class=\"ylines-above crisp\" d=\"M0,0\" style=\"fill: none;\"/><g class=\"overlines-above\"/><g class=\"xaxislayer-above\"><g class=\"xtick\"><text text-anchor=\"middle\" x=\"0\" y=\"398\" transform=\"translate(97.97,0)\" style=\"font-family: 'Open Sans', verdana, arial, sans-serif; font-size: 12px; fill: rgb(242, 245, 250); fill-opacity: 1; white-space: pre; opacity: 1;\">0</text></g><g class=\"xtick\"><text text-anchor=\"middle\" x=\"0\" y=\"398\" style=\"font-family: 'Open Sans', verdana, arial, sans-serif; font-size: 12px; fill: rgb(242, 245, 250); fill-opacity: 1; white-space: pre; opacity: 1;\" transform=\"translate(203.68,0)\">20k</text></g><g class=\"xtick\"><text text-anchor=\"middle\" x=\"0\" y=\"398\" style=\"font-family: 'Open Sans', verdana, arial, sans-serif; font-size: 12px; fill: rgb(242, 245, 250); fill-opacity: 1; white-space: pre; opacity: 1;\" transform=\"translate(309.38,0)\">40k</text></g><g class=\"xtick\"><text text-anchor=\"middle\" x=\"0\" y=\"398\" style=\"font-family: 'Open Sans', verdana, arial, sans-serif; font-size: 12px; fill: rgb(242, 245, 250); fill-opacity: 1; white-space: pre; opacity: 1;\" transform=\"translate(415.09,0)\">60k</text></g><g class=\"xtick\"><text text-anchor=\"middle\" x=\"0\" y=\"398\" style=\"font-family: 'Open Sans', verdana, arial, sans-serif; font-size: 12px; fill: rgb(242, 245, 250); fill-opacity: 1; white-space: pre; opacity: 1;\" transform=\"translate(520.79,0)\">80k</text></g><g class=\"xtick\"><text text-anchor=\"middle\" x=\"0\" y=\"398\" style=\"font-family: 'Open Sans', verdana, arial, sans-serif; font-size: 12px; fill: rgb(242, 245, 250); fill-opacity: 1; white-space: pre; opacity: 1;\" transform=\"translate(626.5,0)\">100k</text></g></g><g class=\"yaxislayer-above\"><g class=\"ytick\"><text text-anchor=\"end\" x=\"64\" y=\"4.199999999999999\" transform=\"translate(0,365.96)\" style=\"font-family: 'Open Sans', verdana, arial, sans-serif; font-size: 12px; fill: rgb(242, 245, 250); fill-opacity: 1; white-space: pre; opacity: 1;\">0</text></g><g class=\"ytick\"><text text-anchor=\"end\" x=\"64\" y=\"4.199999999999999\" style=\"font-family: 'Open Sans', verdana, arial, sans-serif; font-size: 12px; fill: rgb(242, 245, 250); fill-opacity: 1; white-space: pre; opacity: 1;\" transform=\"translate(0,327.16)\">500</text></g><g class=\"ytick\"><text text-anchor=\"end\" x=\"64\" y=\"4.199999999999999\" style=\"font-family: 'Open Sans', verdana, arial, sans-serif; font-size: 12px; fill: rgb(242, 245, 250); fill-opacity: 1; white-space: pre; opacity: 1;\" transform=\"translate(0,288.37)\">1000</text></g><g class=\"ytick\"><text text-anchor=\"end\" x=\"64\" y=\"4.199999999999999\" style=\"font-family: 'Open Sans', verdana, arial, sans-serif; font-size: 12px; fill: rgb(242, 245, 250); fill-opacity: 1; white-space: pre; opacity: 1;\" transform=\"translate(0,249.57)\">1500</text></g><g class=\"ytick\"><text text-anchor=\"end\" x=\"64\" y=\"4.199999999999999\" style=\"font-family: 'Open Sans', verdana, arial, sans-serif; font-size: 12px; fill: rgb(242, 245, 250); fill-opacity: 1; white-space: pre; opacity: 1;\" transform=\"translate(0,210.77)\">2000</text></g><g class=\"ytick\"><text text-anchor=\"end\" x=\"64\" y=\"4.199999999999999\" style=\"font-family: 'Open Sans', verdana, arial, sans-serif; font-size: 12px; fill: rgb(242, 245, 250); fill-opacity: 1; white-space: pre; opacity: 1;\" transform=\"translate(0,171.97)\">2500</text></g><g class=\"ytick\"><text text-anchor=\"end\" x=\"64\" y=\"4.199999999999999\" style=\"font-family: 'Open Sans', verdana, arial, sans-serif; font-size: 12px; fill: rgb(242, 245, 250); fill-opacity: 1; white-space: pre; opacity: 1;\" transform=\"translate(0,133.17000000000002)\">3000</text></g><g class=\"ytick\"><text text-anchor=\"end\" x=\"64\" y=\"4.199999999999999\" style=\"font-family: 'Open Sans', verdana, arial, sans-serif; font-size: 12px; fill: rgb(242, 245, 250); fill-opacity: 1; white-space: pre; opacity: 1;\" transform=\"translate(0,94.37)\">3500</text></g><g class=\"ytick\"><text text-anchor=\"end\" x=\"64\" y=\"4.199999999999999\" style=\"font-family: 'Open Sans', verdana, arial, sans-serif; font-size: 12px; fill: rgb(242, 245, 250); fill-opacity: 1; white-space: pre; opacity: 1;\" transform=\"translate(0,55.57)\">4000</text></g></g><g class=\"overaxes-above\"/></g></g><g class=\"polarlayer\"/><g class=\"smithlayer\"/><g class=\"ternarylayer\"/><g class=\"geolayer\"/><g class=\"funnelarealayer\"/><g class=\"pielayer\"/><g class=\"iciclelayer\"/><g class=\"treemaplayer\"/><g class=\"sunburstlayer\"/><g class=\"glimages\"/><defs id=\"topdefs-5f4e23\"><g class=\"clips\"/><clipPath id=\"legend5f4e23\"><rect width=\"300\" height=\"29\" x=\"0\" y=\"0\"/></clipPath></defs><g class=\"layer-above\"><g class=\"imagelayer\"/><g class=\"shapelayer\"/></g><g class=\"infolayer\"><g class=\"legend\" pointer-events=\"all\" transform=\"translate(212.5,459.5)\"><rect class=\"bg\" shape-rendering=\"crispEdges\" style=\"stroke: rgb(68, 68, 68); stroke-opacity: 1; fill: rgb(17, 17, 17); fill-opacity: 1; stroke-width: 0px;\" width=\"300\" height=\"29\" x=\"0\" y=\"0\"/><g class=\"scrollbox\" transform=\"\" clip-path=\"url(#legend5f4e23)\"><text class=\"legendtitletext\" text-anchor=\"start\" x=\"2\" y=\"18.2\" style=\"font-family: 'Open Sans', verdana, arial, sans-serif; font-size: 14px; fill: rgb(242, 245, 250); fill-opacity: 1; white-space: pre;\">Legend</text><g class=\"groups\"><g class=\"traces\" transform=\"translate(56.71875,14.5)\" style=\"opacity: 1;\"><text class=\"legendtext\" text-anchor=\"start\" x=\"40\" y=\"4.680000000000001\" style=\"font-family: 'Open Sans', verdana, arial, sans-serif; font-size: 12px; fill: rgb(242, 245, 250); fill-opacity: 1; white-space: pre;\">AXGBoost Model</text><g class=\"layers\" style=\"opacity: 1;\"><g class=\"legendfill\"/><g class=\"legendlines\"><path class=\"js-line\" d=\"M5,0h30\" style=\"fill: none; stroke: rgb(0, 0, 255); stroke-opacity: 1; stroke-width: 2px;\"/></g><g class=\"legendsymbols\"><g class=\"legendpoints\"><path class=\"scatterpts\" transform=\"translate(20,0)\" d=\"M3,0A3,3 0 1,1 0,-3A3,3 0 0,1 3,0Z\" style=\"opacity: 1; stroke-width: 0px; fill: rgb(0, 0, 255); fill-opacity: 1;\"/></g></g></g><rect class=\"legendtoggle\" x=\"0\" y=\"-9.5\" width=\"134.546875\" height=\"19\" style=\"fill: rgb(0, 0, 0); fill-opacity: 0;\"/></g><g class=\"traces\" transform=\"translate(193.765625,14.5)\" style=\"opacity: 1;\"><text class=\"legendtext\" text-anchor=\"start\" x=\"40\" y=\"4.680000000000001\" style=\"font-family: 'Open Sans', verdana, arial, sans-serif; font-size: 12px; fill: rgb(242, 245, 250); fill-opacity: 1; white-space: pre;\">HTC Model</text><g class=\"layers\" style=\"opacity: 1;\"><g class=\"legendfill\"/><g class=\"legendlines\"><path class=\"js-line\" d=\"M5,0h30\" style=\"fill: none; stroke: rgb(255, 0, 0); stroke-opacity: 1; stroke-width: 2px;\"/></g><g class=\"legendsymbols\"><g class=\"legendpoints\"><path class=\"scatterpts\" transform=\"translate(20,0)\" d=\"M3,0A3,3 0 1,1 0,-3A3,3 0 0,1 3,0Z\" style=\"opacity: 1; stroke-width: 0px; fill: rgb(255, 0, 0); fill-opacity: 1;\"/></g></g></g><rect class=\"legendtoggle\" x=\"0\" y=\"-9.5\" width=\"103.1875\" height=\"19\" style=\"fill: rgb(0, 0, 0); fill-opacity: 0;\"/></g></g></g><rect class=\"scrollbar\" rx=\"20\" ry=\"3\" width=\"0\" height=\"0\" style=\"fill: rgb(128, 139, 164); fill-opacity: 1;\" x=\"0\" y=\"0\"/></g><g class=\"g-gtitle\"><text class=\"gtitle\" x=\"35\" y=\"20\" text-anchor=\"start\" dy=\"0em\" style=\"opacity: 1; font-family: 'Open Sans', verdana, arial, sans-serif; font-size: 17px; fill: rgb(242, 245, 250); fill-opacity: 1; white-space: pre;\">Model Batch Inference Time: Rows Per Second</text></g><g class=\"g-xtitle\"><text class=\"xtitle\" x=\"362.5\" y=\"425.3\" text-anchor=\"middle\" style=\"opacity: 1; font-family: 'Open Sans', verdana, arial, sans-serif; font-size: 14px; fill: rgb(242, 245, 250); fill-opacity: 1; white-space: pre;\">Batch Size</text></g><g class=\"g-ytitle\"><text class=\"ytitle\" transform=\"rotate(-90,17.896875,212.5)\" x=\"17.896875\" y=\"212.5\" text-anchor=\"middle\" style=\"opacity: 1; font-family: 'Open Sans', verdana, arial, sans-serif; font-size: 14px; fill: rgb(242, 245, 250); fill-opacity: 1; white-space: pre;\">Rows Per Second</text></g></g></svg>"
            ]
          },
          "metadata": {},
          "output_type": "display_data"
        }
      ],
      "source": [
        "# Calculate Rows Per Second (RPS)\n",
        "rps_axgb = {size: size / avg_time for size, avg_time in zip(sizes_axgb, averages_axgb.values())}\n",
        "rps_htc = {size: size / avg_time for size, avg_time in zip(sizes_htc, averages_htc.values())}\n",
        "\n",
        "\n",
        "# Plot individual graphs and a combined graph\n",
        "fig = go.Figure()\n",
        "\n",
        "\n",
        "# Add the average line\n",
        "fig.add_trace(go.Scatter(\n",
        "    x=sizes_axgb,\n",
        "    y=[rps_axgb[size] for size in sizes_axgb],\n",
        "    mode='lines+markers',\n",
        "    name='AXGBoost Model',\n",
        "    line=dict(color='blue', width=2)\n",
        "))\n",
        "\n",
        "# Add the average line\n",
        "fig.add_trace(go.Scatter(\n",
        "    x=sizes_htc,\n",
        "    y=[rps_htc[size] for size in sizes_htc],\n",
        "    mode='lines+markers',\n",
        "    name='HTC Model',\n",
        "    line=dict(color='red', width=2)\n",
        "))\n",
        "\n",
        "# Customize the layout\n",
        "fig.update_layout(\n",
        "    title=\"Model Batch Inference Time: Rows Per Second\",\n",
        "    xaxis_title=f\"Batch Size\",\n",
        "    yaxis_title=\"Rows Per Second\",\n",
        "    template=\"plotly_dark\",\n",
        "    legend=dict(title=\"Legend\", orientation=\"h\", yanchor=\"bottom\", y=-0.3, xanchor=\"center\", x=0.5),\n",
        "    margin=dict(l=40, r=40, t=40, b=40)\n",
        ")\n",
        "\n",
        "# Show the figure\n",
        "fig.show(\"svg\")"
      ]
    },
    {
      "cell_type": "markdown",
      "metadata": {
        "id": "AawJY4LdTuXM"
      },
      "source": [
        "The plot above shows the batch inference throughput (rows per second) of the AXGBoost model (blue line) and the HTC model (red line) across different batch sizes. Key observations and inferences include:\n",
        "\n",
        "- **Throughput Increases with Batch Size**: Both models demonstrate higher throughput as batch size increases, which is typical for batch processing due to better utilization of computational resources."
      ]
    }
  ],
  "metadata": {
    "colab": {
      "provenance": []
    },
    "kernelspec": {
      "display_name": "Python 3",
      "name": "python3"
    },
    "language_info": {
      "name": "python"
    }
  },
  "nbformat": 4,
  "nbformat_minor": 0
}
