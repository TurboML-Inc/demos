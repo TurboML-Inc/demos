{
  "nbformat": 4,
  "nbformat_minor": 0,
  "metadata": {
    "colab": {
      "provenance": []
    },
    "kernelspec": {
      "name": "python3",
      "display_name": "Python 3"
    },
    "language_info": {
      "name": "python"
    }
  },
  "cells": [
    {
      "cell_type": "markdown",
      "source": [
        "# Benchmark Model's Single and Batch Inference Response Time\n",
        "\n",
        "This notebook aims to benchmark the average response time for model's single and batch inference. We are using `IEEE-CIS Fraud Detection` dataset downloaded using [amazon-science/FDB](https://github.com/amazon-science/fraud-dataset-benchmark), and TurboML's Adaptive XGBoost Model and Hoeffding Tree Classifier Model and will be analysing:\n",
        "\n",
        "1.   WindowedAccuracy comparison\n",
        "2.   Average Inference Response Time for single datapoint\n",
        "3.   Average Inference Response Time for varying batch sizes\n",
        "\n",
        "\n"
      ],
      "metadata": {
        "id": "uIrd_qleAO0r"
      }
    },
    {
      "cell_type": "markdown",
      "source": [
        "# Installing TurboML"
      ],
      "metadata": {
        "id": "IA5qq7XECt-F"
      }
    },
    {
      "cell_type": "code",
      "execution_count": 1,
      "metadata": {
        "colab": {
          "base_uri": "https://localhost:8080/"
        },
        "id": "53xDWnk6AEjG",
        "outputId": "27221b95-1b5e-4e22-bf2c-98183585d83a"
      },
      "outputs": [
        {
          "output_type": "stream",
          "name": "stdout",
          "text": [
            "Cloning into 'colab-notebooks'...\n",
            "remote: Enumerating objects: 419, done.\u001b[K\n",
            "remote: Counting objects: 100% (419/419), done.\u001b[K\n",
            "remote: Compressing objects: 100% (130/130), done.\u001b[K\n",
            "remote: Total 419 (delta 334), reused 363 (delta 285), pack-reused 0 (from 0)\u001b[K\n",
            "Receiving objects: 100% (419/419), 15.12 MiB | 15.89 MiB/s, done.\n",
            "Resolving deltas: 100% (334/334), done.\n",
            "⏬ Downloading https://github.com/conda-forge/miniforge/releases/download/23.11.0-0/Mambaforge-23.11.0-0-Linux-x86_64.sh...\n",
            "📦 Installing...\n",
            "📌 Adjusting configuration...\n",
            "🩹 Patching environment...\n",
            "⏲ Done in 0:00:17\n",
            "🔁 Restarting kernel...\n",
            "Channels:\n",
            " - conda-forge\n",
            " - anaconda\n",
            "Platform: linux-64\n",
            "Collecting package metadata (repodata.json): ...working... done\n",
            "Solving environment: ...working... done\n",
            "\n",
            "## Package Plan ##\n",
            "\n",
            "  environment location: /usr/local\n",
            "\n",
            "  added / updated specs:\n",
            "    - anaconda::protobuf\n",
            "    - conda-forge::libstdcxx-ng\n",
            "    - conda-forge::libtorch\n",
            "    - conda-forge::ncurses\n",
            "    - conda-forge::pytorch\n",
            "    - conda-forge::torchaudio\n",
            "    - conda-forge::torchvision\n",
            "    - python=3.11\n",
            "\n",
            "\n",
            "The following packages will be downloaded:\n",
            "\n",
            "    package                    |            build\n",
            "    ---------------------------|-----------------\n",
            "    _openmp_mutex-4.5          |       2_kmp_llvm           6 KB  conda-forge\n",
            "    archspec-0.2.3             |     pyhd8ed1ab_0          48 KB  conda-forge\n",
            "    brotli-python-1.1.0        |  py311hfdbb021_2         342 KB  conda-forge\n",
            "    c-ares-1.34.4              |       hb9d3cd8_0         201 KB  conda-forge\n",
            "    ca-certificates-2024.12.14 |       hbcca054_0         153 KB  conda-forge\n",
            "    certifi-2024.12.14         |     pyhd8ed1ab_0         158 KB  conda-forge\n",
            "    cffi-1.17.1                |  py311hf29c0ef_0         295 KB  conda-forge\n",
            "    conda-24.11.2              |  py311h38be061_0         1.1 MB  conda-forge\n",
            "    cpp-expected-1.1.0         |       hf52228f_0          23 KB  conda-forge\n",
            "    cpython-3.11.11            |  py311hd8ed1ab_1          45 KB  conda-forge\n",
            "    filelock-3.16.1            |     pyhd8ed1ab_1          17 KB  conda-forge\n",
            "    fmt-11.0.2                 |       h434a139_0         194 KB  conda-forge\n",
            "    freetype-2.12.1            |       h267a509_2         620 KB  conda-forge\n",
            "    frozendict-2.4.6           |  py311h9ecbd09_0          31 KB  conda-forge\n",
            "    fsspec-2024.12.0           |     pyhd8ed1ab_0         135 KB  conda-forge\n",
            "    giflib-5.2.2               |       hd590300_0          75 KB  conda-forge\n",
            "    gmp-6.3.0                  |       hac33072_2         449 KB  conda-forge\n",
            "    gmpy2-2.1.5                |  py311h0f6cedb_3         198 KB  conda-forge\n",
            "    icu-75.1                   |       he02047a_0        11.6 MB  conda-forge\n",
            "    jinja2-3.1.5               |     pyhd8ed1ab_0         110 KB  conda-forge\n",
            "    jsonpointer-3.0.0          |  py311h38be061_1          17 KB  conda-forge\n",
            "    kaldi-5.5.1112             |   cpu_hd7b63f8_5        20.2 MB  conda-forge\n",
            "    krb5-1.21.3                |       h659f571_0         1.3 MB  conda-forge\n",
            "    lcms2-2.16                 |       hb7c19ff_0         239 KB  conda-forge\n",
            "    lerc-4.0.0                 |       h27087fc_0         275 KB  conda-forge\n",
            "    libabseil-20240116.2       | cxx17_he02047a_1         1.2 MB  conda-forge\n",
            "    libarchive-3.7.7           |       h4585015_3         857 KB  conda-forge\n",
            "    libblas-3.9.0              |26_linux64_openblas          16 KB  conda-forge\n",
            "    libcblas-3.9.0             |26_linux64_openblas          16 KB  conda-forge\n",
            "    libcurl-8.11.1             |       h332b0f4_0         413 KB  conda-forge\n",
            "    libdeflate-1.23            |       h4ddbbb0_0          71 KB  conda-forge\n",
            "    libexpat-2.6.4             |       h5888daf_0          72 KB  conda-forge\n",
            "    libgcc-14.2.0              |       h77fa898_1         829 KB  conda-forge\n",
            "    libgcc-ng-14.2.0           |       h69a702a_1          53 KB  conda-forge\n",
            "    libgfortran-14.2.0         |       h69a702a_1          53 KB  conda-forge\n",
            "    libgfortran5-14.2.0        |       hd5240d6_1         1.4 MB  conda-forge\n",
            "    libgomp-14.2.0             |       h77fa898_1         450 KB  conda-forge\n",
            "    libhwloc-2.11.2            |default_h0d58e46_1001         2.3 MB  conda-forge\n",
            "    libjpeg-turbo-3.0.0        |       hd590300_1         604 KB  conda-forge\n",
            "    liblapack-3.9.0            |26_linux64_openblas          16 KB  conda-forge\n",
            "    liblapacke-3.9.0           |26_linux64_openblas          16 KB  conda-forge\n",
            "    liblzma-5.6.3              |       hb9d3cd8_1         109 KB  conda-forge\n",
            "    libmamba-2.0.5             |       hf72d635_0         1.9 MB  conda-forge\n",
            "    libmambapy-2.0.5           |  py311h18a8eac_0         615 KB  conda-forge\n",
            "    libnghttp2-1.64.0          |       h161d5f1_0         632 KB  conda-forge\n",
            "    libopenblas-0.3.28         |pthreads_h94d23a6_1         5.3 MB  conda-forge\n",
            "    libpng-1.6.44              |       hadc24fc_0         284 KB  conda-forge\n",
            "    libprotobuf-4.25.3         |       hd5b35b9_1         2.7 MB  conda-forge\n",
            "    libsolv-0.7.30             |       h3509ff9_0         460 KB  conda-forge\n",
            "    libsqlite-3.47.2           |       hee588c1_0         853 KB  conda-forge\n",
            "    libssh2-1.11.1             |       hf672d98_0         297 KB  conda-forge\n",
            "    libstdcxx-14.2.0           |       hc0a3c3a_1         3.7 MB  conda-forge\n",
            "    libstdcxx-ng-14.2.0        |       h4852527_1          53 KB  conda-forge\n",
            "    libtiff-4.7.0              |       hd9ff511_3         418 KB  conda-forge\n",
            "    libtorch-2.4.1             |cpu_mkl_he3c781b_100        49.4 MB  conda-forge\n",
            "    libuv-1.49.2               |       hb9d3cd8_0         864 KB  conda-forge\n",
            "    libwebp-base-1.5.0         |       h851e524_0         420 KB  conda-forge\n",
            "    libxcb-1.17.0              |       h8a09558_0         387 KB  conda-forge\n",
            "    libxcrypt-4.4.36           |       hd590300_1          98 KB  conda-forge\n",
            "    libxml2-2.13.5             |       h8d12d68_1         674 KB  conda-forge\n",
            "    libzlib-1.3.1              |       hb9d3cd8_2          60 KB  conda-forge\n",
            "    llvm-openmp-19.1.6         |       h024ca30_0         3.1 MB  conda-forge\n",
            "    lz4-c-1.10.0               |       h5888daf_1         163 KB  conda-forge\n",
            "    mamba-2.0.5                |       hfdd0a45_0         466 KB  conda-forge\n",
            "    markupsafe-3.0.2           |  py311h2dc5d0c_1          25 KB  conda-forge\n",
            "    menuinst-2.2.0             |  py311h38be061_0         167 KB  conda-forge\n",
            "    mkl-2023.2.0               |   h84fe81f_50496       156.8 MB  conda-forge\n",
            "    mpc-1.3.1                  |       h24ddda3_1         114 KB  conda-forge\n",
            "    mpfr-4.2.1                 |       h90cbb55_3         620 KB  conda-forge\n",
            "    mpmath-1.3.0               |     pyhd8ed1ab_1         429 KB  conda-forge\n",
            "    ncurses-6.5                |       he02047a_1         868 KB  conda-forge\n",
            "    networkx-3.4.2             |     pyh267e887_2         1.2 MB  conda-forge\n",
            "    nlohmann_json-3.11.3       |       he02047a_1         120 KB  conda-forge\n",
            "    numpy-2.2.1                |  py311hf916aec_0         8.6 MB  conda-forge\n",
            "    openfst-1.8.3              |       h84d6215_3         5.2 MB  conda-forge\n",
            "    openjpeg-2.5.3             |       h5fbd93e_0         335 KB  conda-forge\n",
            "    openssl-3.4.0              |       hb9d3cd8_0         2.8 MB  conda-forge\n",
            "    pillow-11.0.0              |  py311h49e9ac3_0        40.5 MB  conda-forge\n",
            "    protobuf-4.25.3            |  py311h12ddb61_0         428 KB  anaconda\n",
            "    pthread-stubs-0.4          |    hb9d3cd8_1002           8 KB  conda-forge\n",
            "    pycosat-0.6.6              |  py311h9ecbd09_2          86 KB  conda-forge\n",
            "    python-3.11.11             |h9e4cc4f_1_cpython        29.2 MB  conda-forge\n",
            "    python_abi-3.11            |          5_cp311           6 KB  conda-forge\n",
            "    pytorch-2.4.1              |cpu_mkl_py311hb499fb8_100        34.2 MB  conda-forge\n",
            "    reproc-14.2.5.post0        |       hb9d3cd8_0          33 KB  conda-forge\n",
            "    reproc-cpp-14.2.5.post0    |       h5888daf_0          25 KB  conda-forge\n",
            "    ruamel.yaml-0.18.6         |  py311h9ecbd09_1         267 KB  conda-forge\n",
            "    ruamel.yaml.clib-0.2.8     |  py311h9ecbd09_1         144 KB  conda-forge\n",
            "    simdjson-3.11.3            |       h84d6215_0         241 KB  conda-forge\n",
            "    sleef-3.7                  |       h1b44611_2         1.8 MB  conda-forge\n",
            "    spdlog-1.14.1              |       hed91bc2_1         191 KB  conda-forge\n",
            "    sympy-1.13.3               |   pyh2585a3b_104         4.4 MB  conda-forge\n",
            "    tbb-2021.13.0              |       hceb3a55_1         172 KB  conda-forge\n",
            "    tk-8.6.13                  |       h2797004_0         3.1 MB  conda-forge\n",
            "    torchaudio-2.4.1           |cpu_py311h2433dea_2         4.5 MB  conda-forge\n",
            "    torchvision-0.19.1         |cpu_py311h8c76117_2        10.0 MB  conda-forge\n",
            "    typing_extensions-4.12.2   |     pyha770c72_1          39 KB  conda-forge\n",
            "    xorg-libxau-1.0.12         |       hb9d3cd8_0          14 KB  conda-forge\n",
            "    xorg-libxdmcp-1.1.5        |       hb9d3cd8_0          19 KB  conda-forge\n",
            "    zstandard-0.23.0           |  py311hbc35293_1         408 KB  conda-forge\n",
            "    zstd-1.5.6                 |       ha6fb4c9_0         542 KB  conda-forge\n",
            "    ------------------------------------------------------------\n",
            "                                           Total:       426.5 MB\n",
            "\n",
            "The following NEW packages will be INSTALLED:\n",
            "\n",
            "  cpp-expected       conda-forge/linux-64::cpp-expected-1.1.0-hf52228f_0 \n",
            "  cpython            conda-forge/noarch::cpython-3.11.11-py311hd8ed1ab_1 \n",
            "  filelock           conda-forge/noarch::filelock-3.16.1-pyhd8ed1ab_1 \n",
            "  freetype           conda-forge/linux-64::freetype-2.12.1-h267a509_2 \n",
            "  frozendict         conda-forge/linux-64::frozendict-2.4.6-py311h9ecbd09_0 \n",
            "  fsspec             conda-forge/noarch::fsspec-2024.12.0-pyhd8ed1ab_0 \n",
            "  giflib             conda-forge/linux-64::giflib-5.2.2-hd590300_0 \n",
            "  gmp                conda-forge/linux-64::gmp-6.3.0-hac33072_2 \n",
            "  gmpy2              conda-forge/linux-64::gmpy2-2.1.5-py311h0f6cedb_3 \n",
            "  jinja2             conda-forge/noarch::jinja2-3.1.5-pyhd8ed1ab_0 \n",
            "  kaldi              conda-forge/linux-64::kaldi-5.5.1112-cpu_hd7b63f8_5 \n",
            "  lcms2              conda-forge/linux-64::lcms2-2.16-hb7c19ff_0 \n",
            "  lerc               conda-forge/linux-64::lerc-4.0.0-h27087fc_0 \n",
            "  libabseil          conda-forge/linux-64::libabseil-20240116.2-cxx17_he02047a_1 \n",
            "  libblas            conda-forge/linux-64::libblas-3.9.0-26_linux64_openblas \n",
            "  libcblas           conda-forge/linux-64::libcblas-3.9.0-26_linux64_openblas \n",
            "  libdeflate         conda-forge/linux-64::libdeflate-1.23-h4ddbbb0_0 \n",
            "  libexpat           conda-forge/linux-64::libexpat-2.6.4-h5888daf_0 \n",
            "  libgcc             conda-forge/linux-64::libgcc-14.2.0-h77fa898_1 \n",
            "  libgfortran        conda-forge/linux-64::libgfortran-14.2.0-h69a702a_1 \n",
            "  libgfortran5       conda-forge/linux-64::libgfortran5-14.2.0-hd5240d6_1 \n",
            "  libhwloc           conda-forge/linux-64::libhwloc-2.11.2-default_h0d58e46_1001 \n",
            "  libjpeg-turbo      conda-forge/linux-64::libjpeg-turbo-3.0.0-hd590300_1 \n",
            "  liblapack          conda-forge/linux-64::liblapack-3.9.0-26_linux64_openblas \n",
            "  liblapacke         conda-forge/linux-64::liblapacke-3.9.0-26_linux64_openblas \n",
            "  liblzma            conda-forge/linux-64::liblzma-5.6.3-hb9d3cd8_1 \n",
            "  libopenblas        conda-forge/linux-64::libopenblas-0.3.28-pthreads_h94d23a6_1 \n",
            "  libpng             conda-forge/linux-64::libpng-1.6.44-hadc24fc_0 \n",
            "  libprotobuf        conda-forge/linux-64::libprotobuf-4.25.3-hd5b35b9_1 \n",
            "  libstdcxx          conda-forge/linux-64::libstdcxx-14.2.0-hc0a3c3a_1 \n",
            "  libtiff            conda-forge/linux-64::libtiff-4.7.0-hd9ff511_3 \n",
            "  libtorch           conda-forge/linux-64::libtorch-2.4.1-cpu_mkl_he3c781b_100 \n",
            "  libuv              conda-forge/linux-64::libuv-1.49.2-hb9d3cd8_0 \n",
            "  libwebp-base       conda-forge/linux-64::libwebp-base-1.5.0-h851e524_0 \n",
            "  libxcb             conda-forge/linux-64::libxcb-1.17.0-h8a09558_0 \n",
            "  libxcrypt          conda-forge/linux-64::libxcrypt-4.4.36-hd590300_1 \n",
            "  llvm-openmp        conda-forge/linux-64::llvm-openmp-19.1.6-h024ca30_0 \n",
            "  markupsafe         conda-forge/linux-64::markupsafe-3.0.2-py311h2dc5d0c_1 \n",
            "  mkl                conda-forge/linux-64::mkl-2023.2.0-h84fe81f_50496 \n",
            "  mpc                conda-forge/linux-64::mpc-1.3.1-h24ddda3_1 \n",
            "  mpfr               conda-forge/linux-64::mpfr-4.2.1-h90cbb55_3 \n",
            "  mpmath             conda-forge/noarch::mpmath-1.3.0-pyhd8ed1ab_1 \n",
            "  networkx           conda-forge/noarch::networkx-3.4.2-pyh267e887_2 \n",
            "  nlohmann_json      conda-forge/linux-64::nlohmann_json-3.11.3-he02047a_1 \n",
            "  numpy              conda-forge/linux-64::numpy-2.2.1-py311hf916aec_0 \n",
            "  openfst            conda-forge/linux-64::openfst-1.8.3-h84d6215_3 \n",
            "  openjpeg           conda-forge/linux-64::openjpeg-2.5.3-h5fbd93e_0 \n",
            "  pillow             conda-forge/linux-64::pillow-11.0.0-py311h49e9ac3_0 \n",
            "  protobuf           anaconda/linux-64::protobuf-4.25.3-py311h12ddb61_0 \n",
            "  pthread-stubs      conda-forge/linux-64::pthread-stubs-0.4-hb9d3cd8_1002 \n",
            "  pytorch            conda-forge/linux-64::pytorch-2.4.1-cpu_mkl_py311hb499fb8_100 \n",
            "  simdjson           conda-forge/linux-64::simdjson-3.11.3-h84d6215_0 \n",
            "  sleef              conda-forge/linux-64::sleef-3.7-h1b44611_2 \n",
            "  spdlog             conda-forge/linux-64::spdlog-1.14.1-hed91bc2_1 \n",
            "  sympy              conda-forge/noarch::sympy-1.13.3-pyh2585a3b_104 \n",
            "  tbb                conda-forge/linux-64::tbb-2021.13.0-hceb3a55_1 \n",
            "  torchaudio         conda-forge/linux-64::torchaudio-2.4.1-cpu_py311h2433dea_2 \n",
            "  torchvision        conda-forge/linux-64::torchvision-0.19.1-cpu_py311h8c76117_2 \n",
            "  typing_extensions  conda-forge/noarch::typing_extensions-4.12.2-pyha770c72_1 \n",
            "  xorg-libxau        conda-forge/linux-64::xorg-libxau-1.0.12-hb9d3cd8_0 \n",
            "  xorg-libxdmcp      conda-forge/linux-64::xorg-libxdmcp-1.1.5-hb9d3cd8_0 \n",
            "\n",
            "The following packages will be UPDATED:\n",
            "\n",
            "  archspec                               0.2.2-pyhd8ed1ab_0 --> 0.2.3-pyhd8ed1ab_0 \n",
            "  brotli-python                       1.1.0-py310hc6cd4ac_1 --> 1.1.0-py311hfdbb021_2 \n",
            "  c-ares                                  1.24.0-hd590300_0 --> 1.34.4-hb9d3cd8_0 \n",
            "  ca-certificates                     2023.11.17-hbcca054_0 --> 2024.12.14-hbcca054_0 \n",
            "  certifi                           2023.11.17-pyhd8ed1ab_0 --> 2024.12.14-pyhd8ed1ab_0 \n",
            "  cffi                               1.16.0-py310h2fee648_0 --> 1.17.1-py311hf29c0ef_0 \n",
            "  conda                             23.11.0-py310hff52083_1 --> 24.11.2-py311h38be061_0 \n",
            "  fmt                                     10.1.1-h00ab1b0_1 --> 11.0.2-h434a139_0 \n",
            "  icu                                       73.2-h59595ed_0 --> 75.1-he02047a_0 \n",
            "  jsonpointer                           2.4-py310hff52083_3 --> 3.0.0-py311h38be061_1 \n",
            "  krb5                                    1.21.2-h659d440_0 --> 1.21.3-h659f571_0 \n",
            "  libarchive                               3.7.2-h2aa1ff5_1 --> 3.7.7-h4585015_3 \n",
            "  libcurl                                  8.5.0-hca28451_0 --> 8.11.1-h332b0f4_0 \n",
            "  libgcc-ng                               13.2.0-h807b86a_3 --> 14.2.0-h69a702a_1 \n",
            "  libgomp                                 13.2.0-h807b86a_3 --> 14.2.0-h77fa898_1 \n",
            "  libmamba                                 1.5.5-had39da4_0 --> 2.0.5-hf72d635_0 \n",
            "  libmambapy                          1.5.5-py310h39ff949_0 --> 2.0.5-py311h18a8eac_0 \n",
            "  libnghttp2                              1.58.0-h47da74e_1 --> 1.64.0-h161d5f1_0 \n",
            "  libsolv                                 0.7.27-hfc55251_0 --> 0.7.30-h3509ff9_0 \n",
            "  libsqlite                               3.44.2-h2797004_0 --> 3.47.2-hee588c1_0 \n",
            "  libssh2                                 1.11.0-h0841786_0 --> 1.11.1-hf672d98_0 \n",
            "  libstdcxx-ng                            13.2.0-h7e041cc_3 --> 14.2.0-h4852527_1 \n",
            "  libxml2                                 2.12.3-h232c23b_0 --> 2.13.5-h8d12d68_1 \n",
            "  libzlib                                 1.2.13-hd590300_5 --> 1.3.1-hb9d3cd8_2 \n",
            "  lz4-c                                    1.9.4-hcb278e6_0 --> 1.10.0-h5888daf_1 \n",
            "  mamba                               1.5.5-py310h51d5547_0 --> 2.0.5-hfdd0a45_0 \n",
            "  menuinst                            2.0.1-py310hff52083_0 --> 2.2.0-py311h38be061_0 \n",
            "  ncurses                                    6.4-h59595ed_2 --> 6.5-he02047a_1 \n",
            "  openssl                                  3.2.0-hd590300_1 --> 3.4.0-hb9d3cd8_0 \n",
            "  pycosat                             0.6.6-py310h2372a71_0 --> 0.6.6-py311h9ecbd09_2 \n",
            "  python                         3.10.13-hd12c33a_0_cpython --> 3.11.11-h9e4cc4f_1_cpython \n",
            "  python_abi                                   3.10-4_cp310 --> 3.11-5_cp311 \n",
            "  reproc                            14.2.4.post0-hd590300_1 --> 14.2.5.post0-hb9d3cd8_0 \n",
            "  reproc-cpp                        14.2.4.post0-h59595ed_1 --> 14.2.5.post0-h5888daf_0 \n",
            "  ruamel.yaml                        0.18.5-py310h2372a71_0 --> 0.18.6-py311h9ecbd09_1 \n",
            "  ruamel.yaml.clib                    0.2.7-py310h2372a71_2 --> 0.2.8-py311h9ecbd09_1 \n",
            "  zstandard                          0.22.0-py310h1275a96_0 --> 0.23.0-py311hbc35293_1 \n",
            "  zstd                                     1.5.5-hfc55251_0 --> 1.5.6-ha6fb4c9_0 \n",
            "\n",
            "The following packages will be DOWNGRADED:\n",
            "\n",
            "  _openmp_mutex                                   4.5-2_gnu --> 4.5-2_kmp_llvm \n",
            "  tk                              8.6.13-noxft_h4845f30_101 --> 8.6.13-h2797004_0 \n",
            "\n",
            "\n",
            "Preparing transaction: ...working... done\n",
            "Verifying transaction: ...working... done\n",
            "Executing transaction: ...working... done\n",
            "Collecting ipython\n",
            "  Downloading ipython-8.31.0-py3-none-any.whl.metadata (4.9 kB)\n",
            "Collecting traitlets\n",
            "  Downloading traitlets-5.14.3-py3-none-any.whl.metadata (10 kB)\n",
            "Collecting jupyter\n",
            "  Downloading jupyter-1.1.1-py2.py3-none-any.whl.metadata (2.0 kB)\n",
            "Collecting psutil\n",
            "  Downloading psutil-6.1.1-cp36-abi3-manylinux_2_12_x86_64.manylinux2010_x86_64.manylinux_2_17_x86_64.manylinux2014_x86_64.whl.metadata (22 kB)\n",
            "Collecting matplotlib\n",
            "  Downloading matplotlib-3.10.0-cp311-cp311-manylinux_2_17_x86_64.manylinux2014_x86_64.whl.metadata (11 kB)\n",
            "Requirement already satisfied: setuptools in /usr/local/lib/python3.11/site-packages (68.2.2)\n",
            "Collecting ipython_genutils\n",
            "  Downloading ipython_genutils-0.2.0-py2.py3-none-any.whl.metadata (755 bytes)\n",
            "Collecting ipykernel\n",
            "  Downloading ipykernel-6.29.5-py3-none-any.whl.metadata (6.3 kB)\n",
            "Collecting jupyter_console\n",
            "  Downloading jupyter_console-6.6.3-py3-none-any.whl.metadata (5.8 kB)\n",
            "Collecting prompt_toolkit\n",
            "  Downloading prompt_toolkit-3.0.48-py3-none-any.whl.metadata (6.4 kB)\n",
            "Collecting httplib2\n",
            "  Downloading httplib2-0.22.0-py3-none-any.whl.metadata (2.6 kB)\n",
            "Collecting astor\n",
            "  Downloading astor-0.8.1-py2.py3-none-any.whl.metadata (4.2 kB)\n",
            "Collecting google-auth==2.27.0\n",
            "  Downloading google_auth-2.27.0-py2.py3-none-any.whl.metadata (4.7 kB)\n",
            "Collecting ipyparallel==8.8.0\n",
            "  Downloading ipyparallel-8.8.0-py3-none-any.whl.metadata (6.4 kB)\n",
            "Collecting pandas==2.2.2\n",
            "  Downloading pandas-2.2.2-cp311-cp311-manylinux_2_17_x86_64.manylinux2014_x86_64.whl.metadata (19 kB)\n",
            "Collecting portpicker==1.5.2\n",
            "  Downloading portpicker-1.5.2-py3-none-any.whl.metadata (1.4 kB)\n",
            "Collecting ipykernel\n",
            "  Downloading ipykernel-5.5.6-py3-none-any.whl.metadata (1.1 kB)\n",
            "Collecting ipython\n",
            "  Downloading ipython-7.34.0-py3-none-any.whl.metadata (4.3 kB)\n",
            "Collecting notebook==6.5.5\n",
            "  Downloading notebook-6.5.5-py3-none-any.whl.metadata (2.5 kB)\n",
            "Collecting requests==2.32.3\n",
            "  Downloading requests-2.32.3-py3-none-any.whl.metadata (4.6 kB)\n",
            "Collecting tornado==6.3.3\n",
            "  Downloading tornado-6.3.3-cp38-abi3-manylinux_2_5_x86_64.manylinux1_x86_64.manylinux_2_17_x86_64.manylinux2014_x86_64.whl.metadata (2.5 kB)\n",
            "Collecting jedi>=0.16 (from ipython)\n",
            "  Downloading jedi-0.19.2-py2.py3-none-any.whl.metadata (22 kB)\n",
            "Collecting decorator (from ipython)\n",
            "  Downloading decorator-5.1.1-py3-none-any.whl.metadata (4.0 kB)\n",
            "Collecting pickleshare (from ipython)\n",
            "  Downloading pickleshare-0.7.5-py2.py3-none-any.whl.metadata (1.5 kB)\n",
            "Collecting pygments (from ipython)\n",
            "  Downloading pygments-2.18.0-py3-none-any.whl.metadata (2.5 kB)\n",
            "Collecting backcall (from ipython)\n",
            "  Downloading backcall-0.2.0-py2.py3-none-any.whl.metadata (2.0 kB)\n",
            "Collecting matplotlib-inline (from ipython)\n",
            "  Downloading matplotlib_inline-0.1.7-py3-none-any.whl.metadata (3.9 kB)\n",
            "Collecting pexpect>4.3 (from ipython)\n",
            "  Downloading pexpect-4.9.0-py2.py3-none-any.whl.metadata (2.5 kB)\n",
            "Collecting jupyter-client (from ipykernel)\n",
            "  Downloading jupyter_client-8.6.3-py3-none-any.whl.metadata (8.3 kB)\n",
            "Collecting cachetools<6.0,>=2.0.0 (from google-auth==2.27.0)\n",
            "  Downloading cachetools-5.5.0-py3-none-any.whl.metadata (5.3 kB)\n",
            "Collecting pyasn1-modules>=0.2.1 (from google-auth==2.27.0)\n",
            "  Downloading pyasn1_modules-0.4.1-py3-none-any.whl.metadata (3.5 kB)\n",
            "Collecting rsa<5,>=3.1.4 (from google-auth==2.27.0)\n",
            "  Downloading rsa-4.9-py3-none-any.whl.metadata (4.2 kB)\n",
            "Collecting entrypoints (from ipyparallel==8.8.0)\n",
            "  Downloading entrypoints-0.4-py3-none-any.whl.metadata (2.6 kB)\n",
            "Collecting python-dateutil>=2.1 (from ipyparallel==8.8.0)\n",
            "  Downloading python_dateutil-2.9.0.post0-py2.py3-none-any.whl.metadata (8.4 kB)\n",
            "Collecting pyzmq>=18 (from ipyparallel==8.8.0)\n",
            "  Downloading pyzmq-26.2.0-cp311-cp311-manylinux_2_28_x86_64.whl.metadata (6.2 kB)\n",
            "Requirement already satisfied: tqdm in /usr/local/lib/python3.11/site-packages (from ipyparallel==8.8.0) (4.66.1)\n",
            "Requirement already satisfied: numpy>=1.23.2 in /usr/local/lib/python3.11/site-packages (from pandas==2.2.2) (2.2.1)\n",
            "Collecting pytz>=2020.1 (from pandas==2.2.2)\n",
            "  Downloading pytz-2024.2-py2.py3-none-any.whl.metadata (22 kB)\n",
            "Collecting tzdata>=2022.7 (from pandas==2.2.2)\n",
            "  Downloading tzdata-2024.2-py2.py3-none-any.whl.metadata (1.4 kB)\n",
            "Requirement already satisfied: jinja2 in /usr/local/lib/python3.11/site-packages (from notebook==6.5.5) (3.1.5)\n",
            "Collecting pyzmq>=18 (from ipyparallel==8.8.0)\n",
            "  Downloading pyzmq-24.0.1-cp311-cp311-manylinux_2_28_x86_64.whl.metadata (4.8 kB)\n",
            "Collecting argon2-cffi (from notebook==6.5.5)\n",
            "  Downloading argon2_cffi-23.1.0-py3-none-any.whl.metadata (5.2 kB)\n",
            "Collecting jupyter-core>=4.6.1 (from notebook==6.5.5)\n",
            "  Downloading jupyter_core-5.7.2-py3-none-any.whl.metadata (3.4 kB)\n",
            "Collecting jupyter-client (from ipykernel)\n",
            "  Downloading jupyter_client-7.4.9-py3-none-any.whl.metadata (8.5 kB)\n",
            "Collecting nbformat (from notebook==6.5.5)\n",
            "  Downloading nbformat-5.10.4-py3-none-any.whl.metadata (3.6 kB)\n",
            "Collecting nbconvert>=5 (from notebook==6.5.5)\n",
            "  Downloading nbconvert-7.16.4-py3-none-any.whl.metadata (8.5 kB)\n",
            "Collecting nest-asyncio>=1.5 (from notebook==6.5.5)\n",
            "  Downloading nest_asyncio-1.6.0-py3-none-any.whl.metadata (2.8 kB)\n",
            "Collecting Send2Trash>=1.8.0 (from notebook==6.5.5)\n",
            "  Downloading Send2Trash-1.8.3-py3-none-any.whl.metadata (4.0 kB)\n",
            "Collecting terminado>=0.8.3 (from notebook==6.5.5)\n",
            "  Downloading terminado-0.18.1-py3-none-any.whl.metadata (5.8 kB)\n",
            "Collecting prometheus-client (from notebook==6.5.5)\n",
            "  Downloading prometheus_client-0.21.1-py3-none-any.whl.metadata (1.8 kB)\n",
            "Collecting nbclassic>=0.4.7 (from notebook==6.5.5)\n",
            "  Downloading nbclassic-1.1.0-py3-none-any.whl.metadata (3.6 kB)\n",
            "Requirement already satisfied: charset-normalizer<4,>=2 in /usr/local/lib/python3.11/site-packages (from requests==2.32.3) (3.3.2)\n",
            "Requirement already satisfied: idna<4,>=2.5 in /usr/local/lib/python3.11/site-packages (from requests==2.32.3) (3.6)\n",
            "Requirement already satisfied: urllib3<3,>=1.21.1 in /usr/local/lib/python3.11/site-packages (from requests==2.32.3) (2.1.0)\n",
            "Requirement already satisfied: certifi>=2017.4.17 in /usr/local/lib/python3.11/site-packages (from requests==2.32.3) (2024.12.14)\n",
            "Collecting ipywidgets (from jupyter)\n",
            "  Downloading ipywidgets-8.1.5-py3-none-any.whl.metadata (2.3 kB)\n",
            "Collecting jupyterlab (from jupyter)\n",
            "  Downloading jupyterlab-4.3.4-py3-none-any.whl.metadata (16 kB)\n",
            "Collecting contourpy>=1.0.1 (from matplotlib)\n",
            "  Downloading contourpy-1.3.1-cp311-cp311-manylinux_2_17_x86_64.manylinux2014_x86_64.whl.metadata (5.4 kB)\n",
            "Collecting cycler>=0.10 (from matplotlib)\n",
            "  Downloading cycler-0.12.1-py3-none-any.whl.metadata (3.8 kB)\n",
            "Collecting fonttools>=4.22.0 (from matplotlib)\n",
            "  Downloading fonttools-4.55.3-cp311-cp311-manylinux_2_17_x86_64.manylinux2014_x86_64.whl.metadata (165 kB)\n",
            "\u001b[2K     \u001b[90m━━━━━━━━━━━━━━━━━━━━━━━━━━━━━━━━━━━━━━━━\u001b[0m \u001b[32m165.1/165.1 kB\u001b[0m \u001b[31m4.2 MB/s\u001b[0m eta \u001b[36m0:00:00\u001b[0m\n",
            "\u001b[?25hCollecting kiwisolver>=1.3.1 (from matplotlib)\n",
            "  Downloading kiwisolver-1.4.8-cp311-cp311-manylinux_2_17_x86_64.manylinux2014_x86_64.whl.metadata (6.2 kB)\n",
            "Requirement already satisfied: packaging>=20.0 in /usr/local/lib/python3.11/site-packages (from matplotlib) (23.2)\n",
            "Requirement already satisfied: pillow>=8 in /usr/local/lib/python3.11/site-packages (from matplotlib) (11.0.0)\n",
            "Collecting pyparsing>=2.3.1 (from matplotlib)\n",
            "  Downloading pyparsing-3.2.0-py3-none-any.whl.metadata (5.0 kB)\n",
            "INFO: pip is looking at multiple versions of jupyter-console to determine which version is compatible with other requirements. This could take a while.\n",
            "Collecting jupyter_console\n",
            "  Downloading jupyter_console-6.6.2-py3-none-any.whl.metadata (5.8 kB)\n",
            "  Downloading jupyter_console-6.6.1-py3-none-any.whl.metadata (5.8 kB)\n",
            "  Downloading jupyter_console-6.6.0-py3-none-any.whl.metadata (5.8 kB)\n",
            "  Downloading jupyter_console-6.5.1-py3-none-any.whl.metadata (1.4 kB)\n",
            "  Downloading jupyter_console-6.5.0-py3-none-any.whl.metadata (1.4 kB)\n",
            "  Downloading jupyter_console-6.4.4-py3-none-any.whl.metadata (1.2 kB)\n",
            "Collecting wcwidth (from prompt_toolkit)\n",
            "  Downloading wcwidth-0.2.13-py2.py3-none-any.whl.metadata (14 kB)\n",
            "Collecting parso<0.9.0,>=0.8.4 (from jedi>=0.16->ipython)\n",
            "  Downloading parso-0.8.4-py2.py3-none-any.whl.metadata (7.7 kB)\n",
            "Requirement already satisfied: platformdirs>=2.5 in /usr/local/lib/python3.11/site-packages (from jupyter-core>=4.6.1->notebook==6.5.5) (4.1.0)\n",
            "Collecting notebook-shim>=0.2.3 (from nbclassic>=0.4.7->notebook==6.5.5)\n",
            "  Downloading notebook_shim-0.2.4-py3-none-any.whl.metadata (4.0 kB)\n",
            "Collecting beautifulsoup4 (from nbconvert>=5->notebook==6.5.5)\n",
            "  Downloading beautifulsoup4-4.12.3-py3-none-any.whl.metadata (3.8 kB)\n",
            "Collecting bleach!=5.0.0 (from nbconvert>=5->notebook==6.5.5)\n",
            "  Downloading bleach-6.2.0-py3-none-any.whl.metadata (30 kB)\n",
            "Collecting defusedxml (from nbconvert>=5->notebook==6.5.5)\n",
            "  Downloading defusedxml-0.7.1-py2.py3-none-any.whl.metadata (32 kB)\n",
            "Collecting jupyterlab-pygments (from nbconvert>=5->notebook==6.5.5)\n",
            "  Downloading jupyterlab_pygments-0.3.0-py3-none-any.whl.metadata (4.4 kB)\n",
            "Requirement already satisfied: markupsafe>=2.0 in /usr/local/lib/python3.11/site-packages (from nbconvert>=5->notebook==6.5.5) (3.0.2)\n",
            "Collecting mistune<4,>=2.0.3 (from nbconvert>=5->notebook==6.5.5)\n",
            "  Downloading mistune-3.1.0-py3-none-any.whl.metadata (1.7 kB)\n",
            "Collecting nbclient>=0.5.0 (from nbconvert>=5->notebook==6.5.5)\n",
            "  Downloading nbclient-0.10.2-py3-none-any.whl.metadata (8.3 kB)\n",
            "Collecting pandocfilters>=1.4.1 (from nbconvert>=5->notebook==6.5.5)\n",
            "  Downloading pandocfilters-1.5.1-py2.py3-none-any.whl.metadata (9.0 kB)\n",
            "Collecting tinycss2 (from nbconvert>=5->notebook==6.5.5)\n",
            "  Downloading tinycss2-1.4.0-py3-none-any.whl.metadata (3.0 kB)\n",
            "Collecting fastjsonschema>=2.15 (from nbformat->notebook==6.5.5)\n",
            "  Downloading fastjsonschema-2.21.1-py3-none-any.whl.metadata (2.2 kB)\n",
            "Collecting jsonschema>=2.6 (from nbformat->notebook==6.5.5)\n",
            "  Downloading jsonschema-4.23.0-py3-none-any.whl.metadata (7.9 kB)\n",
            "Collecting ptyprocess>=0.5 (from pexpect>4.3->ipython)\n",
            "  Downloading ptyprocess-0.7.0-py2.py3-none-any.whl.metadata (1.3 kB)\n",
            "Collecting pyasn1<0.7.0,>=0.4.6 (from pyasn1-modules>=0.2.1->google-auth==2.27.0)\n",
            "  Downloading pyasn1-0.6.1-py3-none-any.whl.metadata (8.4 kB)\n",
            "Collecting six>=1.5 (from python-dateutil>=2.1->ipyparallel==8.8.0)\n",
            "  Downloading six-1.17.0-py2.py3-none-any.whl.metadata (1.7 kB)\n",
            "Collecting argon2-cffi-bindings (from argon2-cffi->notebook==6.5.5)\n",
            "  Downloading argon2_cffi_bindings-21.2.0-cp36-abi3-manylinux_2_17_x86_64.manylinux2014_x86_64.whl.metadata (6.7 kB)\n",
            "Collecting comm>=0.1.3 (from ipywidgets->jupyter)\n",
            "  Downloading comm-0.2.2-py3-none-any.whl.metadata (3.7 kB)\n",
            "Collecting widgetsnbextension~=4.0.12 (from ipywidgets->jupyter)\n",
            "  Downloading widgetsnbextension-4.0.13-py3-none-any.whl.metadata (1.6 kB)\n",
            "Collecting jupyterlab-widgets~=3.0.12 (from ipywidgets->jupyter)\n",
            "  Downloading jupyterlab_widgets-3.0.13-py3-none-any.whl.metadata (4.1 kB)\n",
            "Collecting async-lru>=1.0.0 (from jupyterlab->jupyter)\n",
            "  Downloading async_lru-2.0.4-py3-none-any.whl.metadata (4.5 kB)\n",
            "Collecting httpx>=0.25.0 (from jupyterlab->jupyter)\n",
            "  Downloading httpx-0.28.1-py3-none-any.whl.metadata (7.1 kB)\n",
            "INFO: pip is looking at multiple versions of jupyterlab to determine which version is compatible with other requirements. This could take a while.\n",
            "Collecting jupyterlab (from jupyter)\n",
            "  Downloading jupyterlab-4.3.3-py3-none-any.whl.metadata (16 kB)\n",
            "  Downloading jupyterlab-4.3.2-py3-none-any.whl.metadata (16 kB)\n",
            "  Downloading jupyterlab-4.3.1-py3-none-any.whl.metadata (16 kB)\n",
            "  Downloading jupyterlab-4.3.0-py3-none-any.whl.metadata (16 kB)\n",
            "  Downloading jupyterlab-4.2.6-py3-none-any.whl.metadata (16 kB)\n",
            "  Downloading jupyterlab-4.2.5-py3-none-any.whl.metadata (16 kB)\n",
            "  Downloading jupyterlab-4.2.4-py3-none-any.whl.metadata (16 kB)\n",
            "INFO: pip is still looking at multiple versions of jupyterlab to determine which version is compatible with other requirements. This could take a while.\n",
            "  Downloading jupyterlab-4.2.3-py3-none-any.whl.metadata (16 kB)\n",
            "  Downloading jupyterlab-4.2.2-py3-none-any.whl.metadata (16 kB)\n",
            "  Downloading jupyterlab-4.2.1-py3-none-any.whl.metadata (16 kB)\n",
            "  Downloading jupyterlab-4.2.0-py3-none-any.whl.metadata (16 kB)\n",
            "  Downloading jupyterlab-4.1.8-py3-none-any.whl.metadata (16 kB)\n",
            "INFO: This is taking longer than usual. You might need to provide the dependency resolver with stricter constraints to reduce runtime. See https://pip.pypa.io/warnings/backtracking for guidance. If you want to abort this run, press Ctrl + C.\n",
            "  Downloading jupyterlab-4.1.7-py3-none-any.whl.metadata (16 kB)\n",
            "  Downloading jupyterlab-4.1.6-py3-none-any.whl.metadata (16 kB)\n",
            "  Downloading jupyterlab-4.1.5-py3-none-any.whl.metadata (15 kB)\n",
            "Collecting jupyter-lsp>=2.0.0 (from jupyterlab->jupyter)\n",
            "  Downloading jupyter_lsp-2.2.5-py3-none-any.whl.metadata (1.8 kB)\n",
            "Collecting jupyter-server<3,>=2.4.0 (from jupyterlab->jupyter)\n",
            "  Downloading jupyter_server-2.15.0-py3-none-any.whl.metadata (8.4 kB)\n",
            "Collecting jupyterlab-server<3,>=2.19.0 (from jupyterlab->jupyter)\n",
            "  Downloading jupyterlab_server-2.27.3-py3-none-any.whl.metadata (5.9 kB)\n",
            "Collecting webencodings (from bleach!=5.0.0->nbconvert>=5->notebook==6.5.5)\n",
            "  Downloading webencodings-0.5.1-py2.py3-none-any.whl.metadata (2.1 kB)\n",
            "Collecting anyio (from httpx>=0.25.0->jupyterlab->jupyter)\n",
            "  Downloading anyio-4.7.0-py3-none-any.whl.metadata (4.7 kB)\n",
            "Collecting httpcore==1.* (from httpx>=0.25.0->jupyterlab->jupyter)\n",
            "  Downloading httpcore-1.0.7-py3-none-any.whl.metadata (21 kB)\n",
            "Collecting h11<0.15,>=0.13 (from httpcore==1.*->httpx>=0.25.0->jupyterlab->jupyter)\n",
            "  Downloading h11-0.14.0-py3-none-any.whl.metadata (8.2 kB)\n",
            "Collecting attrs>=22.2.0 (from jsonschema>=2.6->nbformat->notebook==6.5.5)\n",
            "  Downloading attrs-24.3.0-py3-none-any.whl.metadata (11 kB)\n",
            "Collecting jsonschema-specifications>=2023.03.6 (from jsonschema>=2.6->nbformat->notebook==6.5.5)\n",
            "  Downloading jsonschema_specifications-2024.10.1-py3-none-any.whl.metadata (3.0 kB)\n",
            "Collecting referencing>=0.28.4 (from jsonschema>=2.6->nbformat->notebook==6.5.5)\n",
            "  Downloading referencing-0.35.1-py3-none-any.whl.metadata (2.8 kB)\n",
            "Collecting rpds-py>=0.7.1 (from jsonschema>=2.6->nbformat->notebook==6.5.5)\n",
            "  Downloading rpds_py-0.22.3-cp311-cp311-manylinux_2_17_x86_64.manylinux2014_x86_64.whl.metadata (4.2 kB)\n",
            "Collecting jupyter-events>=0.11.0 (from jupyter-server<3,>=2.4.0->jupyterlab->jupyter)\n",
            "  Downloading jupyter_events-0.11.0-py3-none-any.whl.metadata (5.8 kB)\n",
            "Collecting jupyter-server-terminals>=0.4.4 (from jupyter-server<3,>=2.4.0->jupyterlab->jupyter)\n",
            "  Downloading jupyter_server_terminals-0.5.3-py3-none-any.whl.metadata (5.6 kB)\n",
            "Collecting overrides>=5.0 (from jupyter-server<3,>=2.4.0->jupyterlab->jupyter)\n",
            "  Downloading overrides-7.7.0-py3-none-any.whl.metadata (5.8 kB)\n",
            "Collecting websocket-client>=1.7 (from jupyter-server<3,>=2.4.0->jupyterlab->jupyter)\n",
            "  Downloading websocket_client-1.8.0-py3-none-any.whl.metadata (8.0 kB)\n",
            "Collecting babel>=2.10 (from jupyterlab-server<3,>=2.19.0->jupyterlab->jupyter)\n",
            "  Downloading babel-2.16.0-py3-none-any.whl.metadata (1.5 kB)\n",
            "Collecting json5>=0.9.0 (from jupyterlab-server<3,>=2.19.0->jupyterlab->jupyter)\n",
            "  Downloading json5-0.10.0-py3-none-any.whl.metadata (34 kB)\n",
            "Requirement already satisfied: cffi>=1.0.1 in /usr/local/lib/python3.11/site-packages (from argon2-cffi-bindings->argon2-cffi->notebook==6.5.5) (1.17.1)\n",
            "Collecting soupsieve>1.2 (from beautifulsoup4->nbconvert>=5->notebook==6.5.5)\n",
            "  Downloading soupsieve-2.6-py3-none-any.whl.metadata (4.6 kB)\n",
            "Collecting sniffio>=1.1 (from anyio->httpx>=0.25.0->jupyterlab->jupyter)\n",
            "  Downloading sniffio-1.3.1-py3-none-any.whl.metadata (3.9 kB)\n",
            "Requirement already satisfied: typing_extensions>=4.5 in /usr/local/lib/python3.11/site-packages (from anyio->httpx>=0.25.0->jupyterlab->jupyter) (4.12.2)\n",
            "Requirement already satisfied: pycparser in /usr/local/lib/python3.11/site-packages (from cffi>=1.0.1->argon2-cffi-bindings->argon2-cffi->notebook==6.5.5) (2.21)\n",
            "Collecting python-json-logger>=2.0.4 (from jupyter-events>=0.11.0->jupyter-server<3,>=2.4.0->jupyterlab->jupyter)\n",
            "  Downloading python_json_logger-3.2.1-py3-none-any.whl.metadata (4.1 kB)\n",
            "Collecting pyyaml>=5.3 (from jupyter-events>=0.11.0->jupyter-server<3,>=2.4.0->jupyterlab->jupyter)\n",
            "  Downloading PyYAML-6.0.2-cp311-cp311-manylinux_2_17_x86_64.manylinux2014_x86_64.whl.metadata (2.1 kB)\n",
            "Collecting rfc3339-validator (from jupyter-events>=0.11.0->jupyter-server<3,>=2.4.0->jupyterlab->jupyter)\n",
            "  Downloading rfc3339_validator-0.1.4-py2.py3-none-any.whl.metadata (1.5 kB)\n",
            "Collecting rfc3986-validator>=0.1.1 (from jupyter-events>=0.11.0->jupyter-server<3,>=2.4.0->jupyterlab->jupyter)\n",
            "  Downloading rfc3986_validator-0.1.1-py2.py3-none-any.whl.metadata (1.7 kB)\n",
            "Collecting fqdn (from jsonschema[format-nongpl]>=4.18.0->jupyter-events>=0.11.0->jupyter-server<3,>=2.4.0->jupyterlab->jupyter)\n",
            "  Downloading fqdn-1.5.1-py3-none-any.whl.metadata (1.4 kB)\n",
            "Collecting isoduration (from jsonschema[format-nongpl]>=4.18.0->jupyter-events>=0.11.0->jupyter-server<3,>=2.4.0->jupyterlab->jupyter)\n",
            "  Downloading isoduration-20.11.0-py3-none-any.whl.metadata (5.7 kB)\n",
            "Requirement already satisfied: jsonpointer>1.13 in /usr/local/lib/python3.11/site-packages (from jsonschema[format-nongpl]>=4.18.0->jupyter-events>=0.11.0->jupyter-server<3,>=2.4.0->jupyterlab->jupyter) (3.0.0)\n",
            "Collecting uri-template (from jsonschema[format-nongpl]>=4.18.0->jupyter-events>=0.11.0->jupyter-server<3,>=2.4.0->jupyterlab->jupyter)\n",
            "  Downloading uri_template-1.3.0-py3-none-any.whl.metadata (8.8 kB)\n",
            "Collecting webcolors>=24.6.0 (from jsonschema[format-nongpl]>=4.18.0->jupyter-events>=0.11.0->jupyter-server<3,>=2.4.0->jupyterlab->jupyter)\n",
            "  Downloading webcolors-24.11.1-py3-none-any.whl.metadata (2.2 kB)\n",
            "Collecting arrow>=0.15.0 (from isoduration->jsonschema[format-nongpl]>=4.18.0->jupyter-events>=0.11.0->jupyter-server<3,>=2.4.0->jupyterlab->jupyter)\n",
            "  Downloading arrow-1.3.0-py3-none-any.whl.metadata (7.5 kB)\n",
            "Collecting types-python-dateutil>=2.8.10 (from arrow>=0.15.0->isoduration->jsonschema[format-nongpl]>=4.18.0->jupyter-events>=0.11.0->jupyter-server<3,>=2.4.0->jupyterlab->jupyter)\n",
            "  Downloading types_python_dateutil-2.9.0.20241206-py3-none-any.whl.metadata (2.1 kB)\n",
            "Downloading ipython-7.34.0-py3-none-any.whl (793 kB)\n",
            "\u001b[2K   \u001b[90m━━━━━━━━━━━━━━━━━━━━━━━━━━━━━━━━━━━━━━━━\u001b[0m \u001b[32m793.8/793.8 kB\u001b[0m \u001b[31m20.4 MB/s\u001b[0m eta \u001b[36m0:00:00\u001b[0m\n",
            "\u001b[?25hDownloading ipykernel-5.5.6-py3-none-any.whl (121 kB)\n",
            "\u001b[2K   \u001b[90m━━━━━━━━━━━━━━━━━━━━━━━━━━━━━━━━━━━━━━━━\u001b[0m \u001b[32m121.0/121.0 kB\u001b[0m \u001b[31m8.3 MB/s\u001b[0m eta \u001b[36m0:00:00\u001b[0m\n",
            "\u001b[?25hDownloading google_auth-2.27.0-py2.py3-none-any.whl (186 kB)\n",
            "\u001b[2K   \u001b[90m━━━━━━━━━━━━━━━━━━━━━━━━━━━━━━━━━━━━━━━━\u001b[0m \u001b[32m186.8/186.8 kB\u001b[0m \u001b[31m11.4 MB/s\u001b[0m eta \u001b[36m0:00:00\u001b[0m\n",
            "\u001b[?25hDownloading ipyparallel-8.8.0-py3-none-any.whl (293 kB)\n",
            "\u001b[2K   \u001b[90m━━━━━━━━━━━━━━━━━━━━━━━━━━━━━━━━━━━━━━━━\u001b[0m \u001b[32m293.1/293.1 kB\u001b[0m \u001b[31m17.4 MB/s\u001b[0m eta \u001b[36m0:00:00\u001b[0m\n",
            "\u001b[?25hDownloading pandas-2.2.2-cp311-cp311-manylinux_2_17_x86_64.manylinux2014_x86_64.whl (13.0 MB)\n",
            "\u001b[2K   \u001b[90m━━━━━━━━━━━━━━━━━━━━━━━━━━━━━━━━━━━━━━━━\u001b[0m \u001b[32m13.0/13.0 MB\u001b[0m \u001b[31m80.3 MB/s\u001b[0m eta \u001b[36m0:00:00\u001b[0m\n",
            "\u001b[?25hDownloading portpicker-1.5.2-py3-none-any.whl (14 kB)\n",
            "Downloading notebook-6.5.5-py3-none-any.whl (529 kB)\n",
            "\u001b[2K   \u001b[90m━━━━━━━━━━━━━━━━━━━━━━━━━━━━━━━━━━━━━━━━\u001b[0m \u001b[32m529.8/529.8 kB\u001b[0m \u001b[31m29.6 MB/s\u001b[0m eta \u001b[36m0:00:00\u001b[0m\n",
            "\u001b[?25hDownloading requests-2.32.3-py3-none-any.whl (64 kB)\n",
            "\u001b[2K   \u001b[90m━━━━━━━━━━━━━━━━━━━━━━━━━━━━━━━━━━━━━━━━\u001b[0m \u001b[32m64.9/64.9 kB\u001b[0m \u001b[31m4.0 MB/s\u001b[0m eta \u001b[36m0:00:00\u001b[0m\n",
            "\u001b[?25hDownloading tornado-6.3.3-cp38-abi3-manylinux_2_5_x86_64.manylinux1_x86_64.manylinux_2_17_x86_64.manylinux2014_x86_64.whl (427 kB)\n",
            "\u001b[2K   \u001b[90m━━━━━━━━━━━━━━━━━━━━━━━━━━━━━━━━━━━━━━━━\u001b[0m \u001b[32m427.7/427.7 kB\u001b[0m \u001b[31m26.2 MB/s\u001b[0m eta \u001b[36m0:00:00\u001b[0m\n",
            "\u001b[?25hDownloading traitlets-5.14.3-py3-none-any.whl (85 kB)\n",
            "\u001b[2K   \u001b[90m━━━━━━━━━━━━━━━━━━━━━━━━━━━━━━━━━━━━━━━━\u001b[0m \u001b[32m85.4/85.4 kB\u001b[0m \u001b[31m6.3 MB/s\u001b[0m eta \u001b[36m0:00:00\u001b[0m\n",
            "\u001b[?25hDownloading jupyter-1.1.1-py2.py3-none-any.whl (2.7 kB)\n",
            "Downloading psutil-6.1.1-cp36-abi3-manylinux_2_12_x86_64.manylinux2010_x86_64.manylinux_2_17_x86_64.manylinux2014_x86_64.whl (287 kB)\n",
            "\u001b[2K   \u001b[90m━━━━━━━━━━━━━━━━━━━━━━━━━━━━━━━━━━━━━━━━\u001b[0m \u001b[32m287.5/287.5 kB\u001b[0m \u001b[31m18.3 MB/s\u001b[0m eta \u001b[36m0:00:00\u001b[0m\n",
            "\u001b[?25hDownloading matplotlib-3.10.0-cp311-cp311-manylinux_2_17_x86_64.manylinux2014_x86_64.whl (8.6 MB)\n",
            "\u001b[2K   \u001b[90m━━━━━━━━━━━━━━━━━━━━━━━━━━━━━━━━━━━━━━━━\u001b[0m \u001b[32m8.6/8.6 MB\u001b[0m \u001b[31m73.2 MB/s\u001b[0m eta \u001b[36m0:00:00\u001b[0m\n",
            "\u001b[?25hDownloading ipython_genutils-0.2.0-py2.py3-none-any.whl (26 kB)\n",
            "Downloading jupyter_console-6.4.4-py3-none-any.whl (22 kB)\n",
            "Downloading prompt_toolkit-3.0.48-py3-none-any.whl (386 kB)\n",
            "\u001b[2K   \u001b[90m━━━━━━━━━━━━━━━━━━━━━━━━━━━━━━━━━━━━━━━━\u001b[0m \u001b[32m386.6/386.6 kB\u001b[0m \u001b[31m25.6 MB/s\u001b[0m eta \u001b[36m0:00:00\u001b[0m\n",
            "\u001b[?25hDownloading httplib2-0.22.0-py3-none-any.whl (96 kB)\n",
            "\u001b[2K   \u001b[90m━━━━━━━━━━━━━━━━━━━━━━━━━━━━━━━━━━━━━━━━\u001b[0m \u001b[32m96.9/96.9 kB\u001b[0m \u001b[31m7.2 MB/s\u001b[0m eta \u001b[36m0:00:00\u001b[0m\n",
            "\u001b[?25hDownloading astor-0.8.1-py2.py3-none-any.whl (27 kB)\n",
            "Downloading cachetools-5.5.0-py3-none-any.whl (9.5 kB)\n",
            "Downloading contourpy-1.3.1-cp311-cp311-manylinux_2_17_x86_64.manylinux2014_x86_64.whl (326 kB)\n",
            "\u001b[2K   \u001b[90m━━━━━━━━━━━━━━━━━━━━━━━━━━━━━━━━━━━━━━━━\u001b[0m \u001b[32m326.2/326.2 kB\u001b[0m \u001b[31m21.4 MB/s\u001b[0m eta \u001b[36m0:00:00\u001b[0m\n",
            "\u001b[?25hDownloading cycler-0.12.1-py3-none-any.whl (8.3 kB)\n",
            "Downloading fonttools-4.55.3-cp311-cp311-manylinux_2_17_x86_64.manylinux2014_x86_64.whl (4.9 MB)\n",
            "\u001b[2K   \u001b[90m━━━━━━━━━━━━━━━━━━━━━━━━━━━━━━━━━━━━━━━━\u001b[0m \u001b[32m4.9/4.9 MB\u001b[0m \u001b[31m74.1 MB/s\u001b[0m eta \u001b[36m0:00:00\u001b[0m\n",
            "\u001b[?25hDownloading jedi-0.19.2-py2.py3-none-any.whl (1.6 MB)\n",
            "\u001b[2K   \u001b[90m━━━━━━━━━━━━━━━━━━━━━━━━━━━━━━━━━━━━━━━━\u001b[0m \u001b[32m1.6/1.6 MB\u001b[0m \u001b[31m49.5 MB/s\u001b[0m eta \u001b[36m0:00:00\u001b[0m\n",
            "\u001b[?25hDownloading jupyter_client-7.4.9-py3-none-any.whl (133 kB)\n",
            "\u001b[2K   \u001b[90m━━━━━━━━━━━━━━━━━━━━━━━━━━━━━━━━━━━━━━━━\u001b[0m \u001b[32m133.5/133.5 kB\u001b[0m \u001b[31m8.7 MB/s\u001b[0m eta \u001b[36m0:00:00\u001b[0m\n",
            "\u001b[?25hDownloading jupyter_core-5.7.2-py3-none-any.whl (28 kB)\n",
            "Downloading kiwisolver-1.4.8-cp311-cp311-manylinux_2_17_x86_64.manylinux2014_x86_64.whl (1.4 MB)\n",
            "\u001b[2K   \u001b[90m━━━━━━━━━━━━━━━━━━━━━━━━━━━━━━━━━━━━━━━━\u001b[0m \u001b[32m1.4/1.4 MB\u001b[0m \u001b[31m49.3 MB/s\u001b[0m eta \u001b[36m0:00:00\u001b[0m\n",
            "\u001b[?25hDownloading nbclassic-1.1.0-py3-none-any.whl (10.0 MB)\n",
            "\u001b[2K   \u001b[90m━━━━━━━━━━━━━━━━━━━━━━━━━━━━━━━━━━━━━━━━\u001b[0m \u001b[32m10.0/10.0 MB\u001b[0m \u001b[31m78.8 MB/s\u001b[0m eta \u001b[36m0:00:00\u001b[0m\n",
            "\u001b[?25hDownloading nbconvert-7.16.4-py3-none-any.whl (257 kB)\n",
            "\u001b[2K   \u001b[90m━━━━━━━━━━━━━━━━━━━━━━━━━━━━━━━━━━━━━━━━\u001b[0m \u001b[32m257.4/257.4 kB\u001b[0m \u001b[31m15.9 MB/s\u001b[0m eta \u001b[36m0:00:00\u001b[0m\n",
            "\u001b[?25hDownloading nbformat-5.10.4-py3-none-any.whl (78 kB)\n",
            "\u001b[2K   \u001b[90m━━━━━━━━━━━━━━━━━━━━━━━━━━━━━━━━━━━━━━━━\u001b[0m \u001b[32m78.5/78.5 kB\u001b[0m \u001b[31m5.1 MB/s\u001b[0m eta \u001b[36m0:00:00\u001b[0m\n",
            "\u001b[?25hDownloading nest_asyncio-1.6.0-py3-none-any.whl (5.2 kB)\n",
            "Downloading pexpect-4.9.0-py2.py3-none-any.whl (63 kB)\n",
            "\u001b[2K   \u001b[90m━━━━━━━━━━━━━━━━━━━━━━━━━━━━━━━━━━━━━━━━\u001b[0m \u001b[32m63.8/63.8 kB\u001b[0m \u001b[31m3.9 MB/s\u001b[0m eta \u001b[36m0:00:00\u001b[0m\n",
            "\u001b[?25hDownloading pyasn1_modules-0.4.1-py3-none-any.whl (181 kB)\n",
            "\u001b[2K   \u001b[90m━━━━━━━━━━━━━━━━━━━━━━━━━━━━━━━━━━━━━━━━\u001b[0m \u001b[32m181.5/181.5 kB\u001b[0m \u001b[31m11.4 MB/s\u001b[0m eta \u001b[36m0:00:00\u001b[0m\n",
            "\u001b[?25hDownloading pygments-2.18.0-py3-none-any.whl (1.2 MB)\n",
            "\u001b[2K   \u001b[90m━━━━━━━━━━━━━━━━━━━━━━━━━━━━━━━━━━━━━━━━\u001b[0m \u001b[32m1.2/1.2 MB\u001b[0m \u001b[31m43.1 MB/s\u001b[0m eta \u001b[36m0:00:00\u001b[0m\n",
            "\u001b[?25hDownloading pyparsing-3.2.0-py3-none-any.whl (106 kB)\n",
            "\u001b[2K   \u001b[90m━━━━━━━━━━━━━━━━━━━━━━━━━━━━━━━━━━━━━━━━\u001b[0m \u001b[32m106.9/106.9 kB\u001b[0m \u001b[31m5.9 MB/s\u001b[0m eta \u001b[36m0:00:00\u001b[0m\n",
            "\u001b[?25hDownloading python_dateutil-2.9.0.post0-py2.py3-none-any.whl (229 kB)\n",
            "\u001b[2K   \u001b[90m━━━━━━━━━━━━━━━━━━━━━━━━━━━━━━━━━━━━━━━━\u001b[0m \u001b[32m229.9/229.9 kB\u001b[0m \u001b[31m12.9 MB/s\u001b[0m eta \u001b[36m0:00:00\u001b[0m\n",
            "\u001b[?25hDownloading pytz-2024.2-py2.py3-none-any.whl (508 kB)\n",
            "\u001b[2K   \u001b[90m━━━━━━━━━━━━━━━━━━━━━━━━━━━━━━━━━━━━━━━━\u001b[0m \u001b[32m508.0/508.0 kB\u001b[0m \u001b[31m26.4 MB/s\u001b[0m eta \u001b[36m0:00:00\u001b[0m\n",
            "\u001b[?25hDownloading pyzmq-24.0.1-cp311-cp311-manylinux_2_28_x86_64.whl (1.1 MB)\n",
            "\u001b[2K   \u001b[90m━━━━━━━━━━━━━━━━━━━━━━━━━━━━━━━━━━━━━━━━\u001b[0m \u001b[32m1.1/1.1 MB\u001b[0m \u001b[31m42.4 MB/s\u001b[0m eta \u001b[36m0:00:00\u001b[0m\n",
            "\u001b[?25hDownloading rsa-4.9-py3-none-any.whl (34 kB)\n",
            "Downloading Send2Trash-1.8.3-py3-none-any.whl (18 kB)\n",
            "Downloading terminado-0.18.1-py3-none-any.whl (14 kB)\n",
            "Downloading tzdata-2024.2-py2.py3-none-any.whl (346 kB)\n",
            "\u001b[2K   \u001b[90m━━━━━━━━━━━━━━━━━━━━━━━━━━━━━━━━━━━━━━━━\u001b[0m \u001b[32m346.6/346.6 kB\u001b[0m \u001b[31m19.3 MB/s\u001b[0m eta \u001b[36m0:00:00\u001b[0m\n",
            "\u001b[?25hDownloading argon2_cffi-23.1.0-py3-none-any.whl (15 kB)\n",
            "Downloading backcall-0.2.0-py2.py3-none-any.whl (11 kB)\n",
            "Downloading decorator-5.1.1-py3-none-any.whl (9.1 kB)\n",
            "Downloading entrypoints-0.4-py3-none-any.whl (5.3 kB)\n",
            "Downloading ipywidgets-8.1.5-py3-none-any.whl (139 kB)\n",
            "\u001b[2K   \u001b[90m━━━━━━━━━━━━━━━━━━━━━━━━━━━━━━━━━━━━━━━━\u001b[0m \u001b[32m139.8/139.8 kB\u001b[0m \u001b[31m9.0 MB/s\u001b[0m eta \u001b[36m0:00:00\u001b[0m\n",
            "\u001b[?25hDownloading jupyterlab-4.1.5-py3-none-any.whl (11.4 MB)\n",
            "\u001b[2K   \u001b[90m━━━━━━━━━━━━━━━━━━━━━━━━━━━━━━━━━━━━━━━━\u001b[0m \u001b[32m11.4/11.4 MB\u001b[0m \u001b[31m77.1 MB/s\u001b[0m eta \u001b[36m0:00:00\u001b[0m\n",
            "\u001b[?25hDownloading matplotlib_inline-0.1.7-py3-none-any.whl (9.9 kB)\n",
            "Downloading pickleshare-0.7.5-py2.py3-none-any.whl (6.9 kB)\n",
            "Downloading prometheus_client-0.21.1-py3-none-any.whl (54 kB)\n",
            "\u001b[2K   \u001b[90m━━━━━━━━━━━━━━━━━━━━━━━━━━━━━━━━━━━━━━━━\u001b[0m \u001b[32m54.7/54.7 kB\u001b[0m \u001b[31m3.2 MB/s\u001b[0m eta \u001b[36m0:00:00\u001b[0m\n",
            "\u001b[?25hDownloading wcwidth-0.2.13-py2.py3-none-any.whl (34 kB)\n",
            "Downloading async_lru-2.0.4-py3-none-any.whl (6.1 kB)\n",
            "Downloading bleach-6.2.0-py3-none-any.whl (163 kB)\n",
            "\u001b[2K   \u001b[90m━━━━━━━━━━━━━━━━━━━━━━━━━━━━━━━━━━━━━━━━\u001b[0m \u001b[32m163.4/163.4 kB\u001b[0m \u001b[31m9.3 MB/s\u001b[0m eta \u001b[36m0:00:00\u001b[0m\n",
            "\u001b[?25hDownloading comm-0.2.2-py3-none-any.whl (7.2 kB)\n",
            "Downloading fastjsonschema-2.21.1-py3-none-any.whl (23 kB)\n",
            "Downloading httpx-0.28.1-py3-none-any.whl (73 kB)\n",
            "\u001b[2K   \u001b[90m━━━━━━━━━━━━━━━━━━━━━━━━━━━━━━━━━━━━━━━━\u001b[0m \u001b[32m73.5/73.5 kB\u001b[0m \u001b[31m3.7 MB/s\u001b[0m eta \u001b[36m0:00:00\u001b[0m\n",
            "\u001b[?25hDownloading httpcore-1.0.7-py3-none-any.whl (78 kB)\n",
            "\u001b[2K   \u001b[90m━━━━━━━━━━━━━━━━━━━━━━━━━━━━━━━━━━━━━━━━\u001b[0m \u001b[32m78.6/78.6 kB\u001b[0m \u001b[31m4.4 MB/s\u001b[0m eta \u001b[36m0:00:00\u001b[0m\n",
            "\u001b[?25hDownloading jsonschema-4.23.0-py3-none-any.whl (88 kB)\n",
            "\u001b[2K   \u001b[90m━━━━━━━━━━━━━━━━━━━━━━━━━━━━━━━━━━━━━━━━\u001b[0m \u001b[32m88.5/88.5 kB\u001b[0m \u001b[31m4.8 MB/s\u001b[0m eta \u001b[36m0:00:00\u001b[0m\n",
            "\u001b[?25hDownloading jupyter_lsp-2.2.5-py3-none-any.whl (69 kB)\n",
            "\u001b[2K   \u001b[90m━━━━━━━━━━━━━━━━━━━━━━━━━━━━━━━━━━━━━━━━\u001b[0m \u001b[32m69.1/69.1 kB\u001b[0m \u001b[31m3.9 MB/s\u001b[0m eta \u001b[36m0:00:00\u001b[0m\n",
            "\u001b[?25hDownloading jupyter_server-2.15.0-py3-none-any.whl (385 kB)\n",
            "\u001b[2K   \u001b[90m━━━━━━━━━━━━━━━━━━━━━━━━━━━━━━━━━━━━━━━━\u001b[0m \u001b[32m385.8/385.8 kB\u001b[0m \u001b[31m15.6 MB/s\u001b[0m eta \u001b[36m0:00:00\u001b[0m\n",
            "\u001b[?25hDownloading jupyterlab_server-2.27.3-py3-none-any.whl (59 kB)\n",
            "\u001b[2K   \u001b[90m━━━━━━━━━━━━━━━━━━━━━━━━━━━━━━━━━━━━━━━━\u001b[0m \u001b[32m59.7/59.7 kB\u001b[0m \u001b[31m2.2 MB/s\u001b[0m eta \u001b[36m0:00:00\u001b[0m\n",
            "\u001b[?25hDownloading jupyterlab_widgets-3.0.13-py3-none-any.whl (214 kB)\n",
            "\u001b[2K   \u001b[90m━━━━━━━━━━━━━━━━━━━━━━━━━━━━━━━━━━━━━━━━\u001b[0m \u001b[32m214.4/214.4 kB\u001b[0m \u001b[31m9.1 MB/s\u001b[0m eta \u001b[36m0:00:00\u001b[0m\n",
            "\u001b[?25hDownloading mistune-3.1.0-py3-none-any.whl (53 kB)\n",
            "\u001b[2K   \u001b[90m━━━━━━━━━━━━━━━━━━━━━━━━━━━━━━━━━━━━━━━━\u001b[0m \u001b[32m53.7/53.7 kB\u001b[0m \u001b[31m2.3 MB/s\u001b[0m eta \u001b[36m0:00:00\u001b[0m\n",
            "\u001b[?25hDownloading nbclient-0.10.2-py3-none-any.whl (25 kB)\n",
            "Downloading notebook_shim-0.2.4-py3-none-any.whl (13 kB)\n",
            "Downloading pandocfilters-1.5.1-py2.py3-none-any.whl (8.7 kB)\n",
            "Downloading parso-0.8.4-py2.py3-none-any.whl (103 kB)\n",
            "\u001b[2K   \u001b[90m━━━━━━━━━━━━━━━━━━━━━━━━━━━━━━━━━━━━━━━━\u001b[0m \u001b[32m103.7/103.7 kB\u001b[0m \u001b[31m5.4 MB/s\u001b[0m eta \u001b[36m0:00:00\u001b[0m\n",
            "\u001b[?25hDownloading ptyprocess-0.7.0-py2.py3-none-any.whl (13 kB)\n",
            "Downloading pyasn1-0.6.1-py3-none-any.whl (83 kB)\n",
            "\u001b[2K   \u001b[90m━━━━━━━━━━━━━━━━━━━━━━━━━━━━━━━━━━━━━━━━\u001b[0m \u001b[32m83.1/83.1 kB\u001b[0m \u001b[31m3.1 MB/s\u001b[0m eta \u001b[36m0:00:00\u001b[0m\n",
            "\u001b[?25hDownloading six-1.17.0-py2.py3-none-any.whl (11 kB)\n",
            "Downloading widgetsnbextension-4.0.13-py3-none-any.whl (2.3 MB)\n",
            "\u001b[2K   \u001b[90m━━━━━━━━━━━━━━━━━━━━━━━━━━━━━━━━━━━━━━━━\u001b[0m \u001b[32m2.3/2.3 MB\u001b[0m \u001b[31m57.6 MB/s\u001b[0m eta \u001b[36m0:00:00\u001b[0m\n",
            "\u001b[?25hDownloading argon2_cffi_bindings-21.2.0-cp36-abi3-manylinux_2_17_x86_64.manylinux2014_x86_64.whl (86 kB)\n",
            "\u001b[2K   \u001b[90m━━━━━━━━━━━━━━━━━━━━━━━━━━━━━━━━━━━━━━━━\u001b[0m \u001b[32m86.2/86.2 kB\u001b[0m \u001b[31m4.9 MB/s\u001b[0m eta \u001b[36m0:00:00\u001b[0m\n",
            "\u001b[?25hDownloading beautifulsoup4-4.12.3-py3-none-any.whl (147 kB)\n",
            "\u001b[2K   \u001b[90m━━━━━━━━━━━━━━━━━━━━━━━━━━━━━━━━━━━━━━━━\u001b[0m \u001b[32m147.9/147.9 kB\u001b[0m \u001b[31m9.3 MB/s\u001b[0m eta \u001b[36m0:00:00\u001b[0m\n",
            "\u001b[?25hDownloading defusedxml-0.7.1-py2.py3-none-any.whl (25 kB)\n",
            "Downloading jupyterlab_pygments-0.3.0-py3-none-any.whl (15 kB)\n",
            "Downloading tinycss2-1.4.0-py3-none-any.whl (26 kB)\n",
            "Downloading anyio-4.7.0-py3-none-any.whl (93 kB)\n",
            "\u001b[2K   \u001b[90m━━━━━━━━━━━━━━━━━━━━━━━━━━━━━━━━━━━━━━━━\u001b[0m \u001b[32m93.1/93.1 kB\u001b[0m \u001b[31m5.7 MB/s\u001b[0m eta \u001b[36m0:00:00\u001b[0m\n",
            "\u001b[?25hDownloading attrs-24.3.0-py3-none-any.whl (63 kB)\n",
            "\u001b[2K   \u001b[90m━━━━━━━━━━━━━━━━━━━━━━━━━━━━━━━━━━━━━━━━\u001b[0m \u001b[32m63.4/63.4 kB\u001b[0m \u001b[31m4.2 MB/s\u001b[0m eta \u001b[36m0:00:00\u001b[0m\n",
            "\u001b[?25hDownloading babel-2.16.0-py3-none-any.whl (9.6 MB)\n",
            "\u001b[2K   \u001b[90m━━━━━━━━━━━━━━━━━━━━━━━━━━━━━━━━━━━━━━━━\u001b[0m \u001b[32m9.6/9.6 MB\u001b[0m \u001b[31m79.1 MB/s\u001b[0m eta \u001b[36m0:00:00\u001b[0m\n",
            "\u001b[?25hDownloading json5-0.10.0-py3-none-any.whl (34 kB)\n",
            "Downloading jsonschema_specifications-2024.10.1-py3-none-any.whl (18 kB)\n",
            "Downloading jupyter_events-0.11.0-py3-none-any.whl (19 kB)\n",
            "Downloading jupyter_server_terminals-0.5.3-py3-none-any.whl (13 kB)\n",
            "Downloading overrides-7.7.0-py3-none-any.whl (17 kB)\n",
            "Downloading referencing-0.35.1-py3-none-any.whl (26 kB)\n",
            "Downloading rpds_py-0.22.3-cp311-cp311-manylinux_2_17_x86_64.manylinux2014_x86_64.whl (381 kB)\n",
            "\u001b[2K   \u001b[90m━━━━━━━━━━━━━━━━━━━━━━━━━━━━━━━━━━━━━━━━\u001b[0m \u001b[32m381.3/381.3 kB\u001b[0m \u001b[31m24.4 MB/s\u001b[0m eta \u001b[36m0:00:00\u001b[0m\n",
            "\u001b[?25hDownloading soupsieve-2.6-py3-none-any.whl (36 kB)\n",
            "Downloading webencodings-0.5.1-py2.py3-none-any.whl (11 kB)\n",
            "Downloading websocket_client-1.8.0-py3-none-any.whl (58 kB)\n",
            "\u001b[2K   \u001b[90m━━━━━━━━━━━━━━━━━━━━━━━━━━━━━━━━━━━━━━━━\u001b[0m \u001b[32m58.8/58.8 kB\u001b[0m \u001b[31m3.2 MB/s\u001b[0m eta \u001b[36m0:00:00\u001b[0m\n",
            "\u001b[?25hDownloading h11-0.14.0-py3-none-any.whl (58 kB)\n",
            "\u001b[2K   \u001b[90m━━━━━━━━━━━━━━━━━━━━━━━━━━━━━━━━━━━━━━━━\u001b[0m \u001b[32m58.3/58.3 kB\u001b[0m \u001b[31m4.0 MB/s\u001b[0m eta \u001b[36m0:00:00\u001b[0m\n",
            "\u001b[?25hDownloading python_json_logger-3.2.1-py3-none-any.whl (14 kB)\n",
            "Downloading PyYAML-6.0.2-cp311-cp311-manylinux_2_17_x86_64.manylinux2014_x86_64.whl (762 kB)\n",
            "\u001b[2K   \u001b[90m━━━━━━━━━━━━━━━━━━━━━━━━━━━━━━━━━━━━━━━━\u001b[0m \u001b[32m763.0/763.0 kB\u001b[0m \u001b[31m36.1 MB/s\u001b[0m eta \u001b[36m0:00:00\u001b[0m\n",
            "\u001b[?25hDownloading rfc3986_validator-0.1.1-py2.py3-none-any.whl (4.2 kB)\n",
            "Downloading sniffio-1.3.1-py3-none-any.whl (10 kB)\n",
            "Downloading rfc3339_validator-0.1.4-py2.py3-none-any.whl (3.5 kB)\n",
            "Downloading webcolors-24.11.1-py3-none-any.whl (14 kB)\n",
            "Downloading fqdn-1.5.1-py3-none-any.whl (9.1 kB)\n",
            "Downloading isoduration-20.11.0-py3-none-any.whl (11 kB)\n",
            "Downloading uri_template-1.3.0-py3-none-any.whl (11 kB)\n",
            "Downloading arrow-1.3.0-py3-none-any.whl (66 kB)\n",
            "\u001b[2K   \u001b[90m━━━━━━━━━━━━━━━━━━━━━━━━━━━━━━━━━━━━━━━━\u001b[0m \u001b[32m66.4/66.4 kB\u001b[0m \u001b[31m4.2 MB/s\u001b[0m eta \u001b[36m0:00:00\u001b[0m\n",
            "\u001b[?25hDownloading types_python_dateutil-2.9.0.20241206-py3-none-any.whl (14 kB)\n",
            "Installing collected packages: webencodings, wcwidth, pytz, ptyprocess, pickleshare, ipython_genutils, fastjsonschema, backcall, widgetsnbextension, websocket-client, webcolors, uri-template, tzdata, types-python-dateutil, traitlets, tornado, tinycss2, soupsieve, sniffio, six, Send2Trash, rpds-py, rfc3986-validator, requests, pyzmq, pyyaml, python-json-logger, pyparsing, pygments, pyasn1, psutil, prompt_toolkit, prometheus-client, pexpect, parso, pandocfilters, overrides, nest-asyncio, mistune, kiwisolver, jupyterlab-widgets, jupyterlab-pygments, json5, h11, fqdn, fonttools, entrypoints, defusedxml, decorator, cycler, contourpy, cachetools, bleach, babel, attrs, async-lru, astor, terminado, rsa, rfc3339-validator, referencing, python-dateutil, pyasn1-modules, portpicker, matplotlib-inline, jupyter-core, jedi, httplib2, httpcore, comm, beautifulsoup4, argon2-cffi-bindings, anyio, pandas, matplotlib, jupyter-server-terminals, jupyter-client, jsonschema-specifications, ipython, httpx, google-auth, arrow, argon2-cffi, jsonschema, isoduration, ipywidgets, ipykernel, nbformat, jupyter_console, ipyparallel, nbclient, jupyter-events, nbconvert, jupyter-server, notebook-shim, jupyterlab-server, jupyter-lsp, nbclassic, jupyterlab, notebook, jupyter\n",
            "  Attempting uninstall: requests\n",
            "    Found existing installation: requests 2.31.0\n",
            "    Uninstalling requests-2.31.0:\n",
            "      Successfully uninstalled requests-2.31.0\n",
            "Successfully installed Send2Trash-1.8.3 anyio-4.7.0 argon2-cffi-23.1.0 argon2-cffi-bindings-21.2.0 arrow-1.3.0 astor-0.8.1 async-lru-2.0.4 attrs-24.3.0 babel-2.16.0 backcall-0.2.0 beautifulsoup4-4.12.3 bleach-6.2.0 cachetools-5.5.0 comm-0.2.2 contourpy-1.3.1 cycler-0.12.1 decorator-5.1.1 defusedxml-0.7.1 entrypoints-0.4 fastjsonschema-2.21.1 fonttools-4.55.3 fqdn-1.5.1 google-auth-2.27.0 h11-0.14.0 httpcore-1.0.7 httplib2-0.22.0 httpx-0.28.1 ipykernel-5.5.6 ipyparallel-8.8.0 ipython-7.34.0 ipython_genutils-0.2.0 ipywidgets-8.1.5 isoduration-20.11.0 jedi-0.19.2 json5-0.10.0 jsonschema-4.23.0 jsonschema-specifications-2024.10.1 jupyter-1.1.1 jupyter-client-7.4.9 jupyter-core-5.7.2 jupyter-events-0.11.0 jupyter-lsp-2.2.5 jupyter-server-2.15.0 jupyter-server-terminals-0.5.3 jupyter_console-6.4.4 jupyterlab-4.1.5 jupyterlab-pygments-0.3.0 jupyterlab-server-2.27.3 jupyterlab-widgets-3.0.13 kiwisolver-1.4.8 matplotlib-3.10.0 matplotlib-inline-0.1.7 mistune-3.1.0 nbclassic-1.1.0 nbclient-0.10.2 nbconvert-7.16.4 nbformat-5.10.4 nest-asyncio-1.6.0 notebook-6.5.5 notebook-shim-0.2.4 overrides-7.7.0 pandas-2.2.2 pandocfilters-1.5.1 parso-0.8.4 pexpect-4.9.0 pickleshare-0.7.5 portpicker-1.5.2 prometheus-client-0.21.1 prompt_toolkit-3.0.48 psutil-6.1.1 ptyprocess-0.7.0 pyasn1-0.6.1 pyasn1-modules-0.4.1 pygments-2.18.0 pyparsing-3.2.0 python-dateutil-2.9.0.post0 python-json-logger-3.2.1 pytz-2024.2 pyyaml-6.0.2 pyzmq-24.0.1 referencing-0.35.1 requests-2.32.3 rfc3339-validator-0.1.4 rfc3986-validator-0.1.1 rpds-py-0.22.3 rsa-4.9 six-1.17.0 sniffio-1.3.1 soupsieve-2.6 terminado-0.18.1 tinycss2-1.4.0 tornado-6.3.3 traitlets-5.14.3 types-python-dateutil-2.9.0.20241206 tzdata-2024.2 uri-template-1.3.0 wcwidth-0.2.13 webcolors-24.11.1 webencodings-0.5.1 websocket-client-1.8.0 widgetsnbextension-4.0.13\n",
            "Collecting turboml-sdk\n",
            "  Downloading turboml_sdk-0.1.4-py3-none-any.whl.metadata (1.5 kB)\n",
            "Collecting cloudpickle<4,>=3 (from turboml-sdk)\n",
            "  Downloading cloudpickle-3.1.0-py3-none-any.whl.metadata (7.0 kB)\n",
            "Collecting datafusion<37.0.0,>=36.0.0 (from turboml-sdk)\n",
            "  Downloading datafusion-36.0.0-cp38-abi3-manylinux_2_17_x86_64.manylinux2014_x86_64.whl.metadata (9.6 kB)\n",
            "Collecting duckdb<2.0.0,>=1.1.3 (from turboml-sdk)\n",
            "  Downloading duckdb-1.1.3-cp311-cp311-manylinux_2_17_x86_64.manylinux2014_x86_64.whl.metadata (762 bytes)\n",
            "Requirement already satisfied: frozendict<3.0.0,>=2.3.10 in /usr/local/lib/python3.11/site-packages (from turboml-sdk) (2.4.6)\n",
            "Collecting ibis-framework<10.0.0,>=9.5.0 (from turboml-sdk)\n",
            "  Downloading ibis_framework-9.5.0-py3-none-any.whl.metadata (17 kB)\n",
            "Collecting pandas<3.0.0,>=2.2.3 (from turboml-sdk)\n",
            "  Downloading pandas-2.2.3-cp311-cp311-manylinux_2_17_x86_64.manylinux2014_x86_64.whl.metadata (89 kB)\n",
            "\u001b[2K     \u001b[90m━━━━━━━━━━━━━━━━━━━━━━━━━━━━━━━━━━━━━━━━\u001b[0m \u001b[32m89.9/89.9 kB\u001b[0m \u001b[31m4.0 MB/s\u001b[0m eta \u001b[36m0:00:00\u001b[0m\n",
            "\u001b[?25hCollecting plotly<6.0.0,>=5.18.0 (from turboml-sdk)\n",
            "  Downloading plotly-5.24.1-py3-none-any.whl.metadata (7.3 kB)\n",
            "Collecting protobuf<6.0.0,>=5.28.3 (from turboml-sdk)\n",
            "  Downloading protobuf-5.29.2-cp38-abi3-manylinux2014_x86_64.whl.metadata (592 bytes)\n",
            "Collecting protobuf-to-pydantic<0.4.0,>=0.3.0 (from turboml-sdk)\n",
            "  Downloading protobuf_to_pydantic-0.3.0.3-py3-none-any.whl.metadata (57 kB)\n",
            "\u001b[2K     \u001b[90m━━━━━━━━━━━━━━━━━━━━━━━━━━━━━━━━━━━━━━━━\u001b[0m \u001b[32m57.4/57.4 kB\u001b[0m \u001b[31m3.9 MB/s\u001b[0m eta \u001b[36m0:00:00\u001b[0m\n",
            "\u001b[?25hCollecting psycopg2-binary<3.0.0,>=2.9.9 (from turboml-sdk)\n",
            "  Downloading psycopg2_binary-2.9.10-cp311-cp311-manylinux_2_17_x86_64.manylinux2014_x86_64.whl.metadata (4.9 kB)\n",
            "Collecting psycopg<4.0.0,>=3.1.18 (from psycopg[binary]<4.0.0,>=3.1.18->turboml-sdk)\n",
            "  Downloading psycopg-3.2.3-py3-none-any.whl.metadata (4.3 kB)\n",
            "Collecting psycopg_pool<4.0.0,>=3.2.1 (from turboml-sdk)\n",
            "  Downloading psycopg_pool-3.2.4-py3-none-any.whl.metadata (2.6 kB)\n",
            "Collecting pyarrow<18.0.0 (from turboml-sdk)\n",
            "  Downloading pyarrow-17.0.0-cp311-cp311-manylinux_2_28_x86_64.whl.metadata (3.3 kB)\n",
            "Collecting pyarrow-hotfix<0.7,>=0.6 (from turboml-sdk)\n",
            "  Downloading pyarrow_hotfix-0.6-py3-none-any.whl.metadata (3.6 kB)\n",
            "Collecting pydantic<3.0.0,>=2.5.3 (from turboml-sdk)\n",
            "  Downloading pydantic-2.10.4-py3-none-any.whl.metadata (29 kB)\n",
            "Collecting pydantic-settings<3.0.0,>=2.3.4 (from turboml-sdk)\n",
            "  Downloading pydantic_settings-2.7.0-py3-none-any.whl.metadata (3.5 kB)\n",
            "Collecting pyjwt<3.0.0,>=2.8.0 (from pyjwt[crypto]<3.0.0,>=2.8.0->turboml-sdk)\n",
            "  Downloading PyJWT-2.10.1-py3-none-any.whl.metadata (4.0 kB)\n",
            "Requirement already satisfied: requests<3.0.0,>=2.31.0 in /usr/local/lib/python3.11/site-packages (from turboml-sdk) (2.32.3)\n",
            "Collecting risingwave<0.2.0,>=0.1.1 (from turboml-sdk)\n",
            "  Downloading risingwave-0.1.1-py3-none-any.whl.metadata (4.4 kB)\n",
            "Collecting scikit-learn<2.0.0,>=1.5.2 (from turboml-sdk)\n",
            "  Downloading scikit_learn-1.6.0-cp311-cp311-manylinux_2_17_x86_64.manylinux2014_x86_64.whl.metadata (18 kB)\n",
            "Collecting strenum<0.5.0,>=0.4.15 (from turboml-sdk)\n",
            "  Downloading StrEnum-0.4.15-py3-none-any.whl.metadata (5.3 kB)\n",
            "Collecting tqdm<5.0.0,>=4.66.5 (from turboml-sdk)\n",
            "  Downloading tqdm-4.67.1-py3-none-any.whl.metadata (57 kB)\n",
            "\u001b[2K     \u001b[90m━━━━━━━━━━━━━━━━━━━━━━━━━━━━━━━━━━━━━━━━\u001b[0m \u001b[32m57.7/57.7 kB\u001b[0m \u001b[31m3.7 MB/s\u001b[0m eta \u001b[36m0:00:00\u001b[0m\n",
            "\u001b[?25hCollecting turboml_bindings<0.2.0,>=0.1.0 (from turboml-sdk)\n",
            "  Downloading turboml_bindings-0.1.4-py311-none-manylinux_2_35_x86_64.whl.metadata (544 bytes)\n",
            "Collecting atpublic<6,>=2.3 (from ibis-framework<10.0.0,>=9.5.0->turboml-sdk)\n",
            "  Downloading atpublic-5.0-py3-none-any.whl.metadata (1.8 kB)\n",
            "Collecting parsy<3,>=2 (from ibis-framework<10.0.0,>=9.5.0->turboml-sdk)\n",
            "  Downloading parsy-2.1-py3-none-any.whl.metadata (3.3 kB)\n",
            "Requirement already satisfied: python-dateutil<3,>=2.8.2 in /usr/local/lib/python3.11/site-packages (from ibis-framework<10.0.0,>=9.5.0->turboml-sdk) (2.9.0.post0)\n",
            "Requirement already satisfied: pytz>=2022.7 in /usr/local/lib/python3.11/site-packages (from ibis-framework<10.0.0,>=9.5.0->turboml-sdk) (2024.2)\n",
            "Collecting sqlglot<25.21,>=23.4 (from ibis-framework<10.0.0,>=9.5.0->turboml-sdk)\n",
            "  Downloading sqlglot-25.20.2-py3-none-any.whl.metadata (19 kB)\n",
            "Collecting toolz<1,>=0.11 (from ibis-framework<10.0.0,>=9.5.0->turboml-sdk)\n",
            "  Downloading toolz-0.12.1-py3-none-any.whl.metadata (5.1 kB)\n",
            "Requirement already satisfied: typing-extensions<5,>=4.3.0 in /usr/local/lib/python3.11/site-packages (from ibis-framework<10.0.0,>=9.5.0->turboml-sdk) (4.12.2)\n",
            "Requirement already satisfied: numpy>=1.23.2 in /usr/local/lib/python3.11/site-packages (from pandas<3.0.0,>=2.2.3->turboml-sdk) (2.2.1)\n",
            "Requirement already satisfied: tzdata>=2022.7 in /usr/local/lib/python3.11/site-packages (from pandas<3.0.0,>=2.2.3->turboml-sdk) (2024.2)\n",
            "Collecting tenacity>=6.2.0 (from plotly<6.0.0,>=5.18.0->turboml-sdk)\n",
            "  Downloading tenacity-9.0.0-py3-none-any.whl.metadata (1.2 kB)\n",
            "Requirement already satisfied: packaging in /usr/local/lib/python3.11/site-packages (from plotly<6.0.0,>=5.18.0->turboml-sdk) (23.2)\n",
            "Collecting psycopg-binary==3.2.3 (from psycopg[binary]<4.0.0,>=3.1.18->turboml-sdk)\n",
            "  Downloading psycopg_binary-3.2.3-cp311-cp311-manylinux_2_17_x86_64.manylinux2014_x86_64.whl.metadata (2.8 kB)\n",
            "Collecting annotated-types>=0.6.0 (from pydantic<3.0.0,>=2.5.3->turboml-sdk)\n",
            "  Downloading annotated_types-0.7.0-py3-none-any.whl.metadata (15 kB)\n",
            "Collecting pydantic-core==2.27.2 (from pydantic<3.0.0,>=2.5.3->turboml-sdk)\n",
            "  Downloading pydantic_core-2.27.2-cp311-cp311-manylinux_2_17_x86_64.manylinux2014_x86_64.whl.metadata (6.6 kB)\n",
            "Collecting python-dotenv>=0.21.0 (from pydantic-settings<3.0.0,>=2.3.4->turboml-sdk)\n",
            "  Downloading python_dotenv-1.0.1-py3-none-any.whl.metadata (23 kB)\n",
            "Collecting cryptography>=3.4.0 (from pyjwt[crypto]<3.0.0,>=2.8.0->turboml-sdk)\n",
            "  Downloading cryptography-44.0.0-cp39-abi3-manylinux_2_28_x86_64.whl.metadata (5.7 kB)\n",
            "Requirement already satisfied: charset-normalizer<4,>=2 in /usr/local/lib/python3.11/site-packages (from requests<3.0.0,>=2.31.0->turboml-sdk) (3.3.2)\n",
            "Requirement already satisfied: idna<4,>=2.5 in /usr/local/lib/python3.11/site-packages (from requests<3.0.0,>=2.31.0->turboml-sdk) (3.6)\n",
            "Requirement already satisfied: urllib3<3,>=1.21.1 in /usr/local/lib/python3.11/site-packages (from requests<3.0.0,>=2.31.0->turboml-sdk) (2.1.0)\n",
            "Requirement already satisfied: certifi>=2017.4.17 in /usr/local/lib/python3.11/site-packages (from requests<3.0.0,>=2.31.0->turboml-sdk) (2024.12.14)\n",
            "Collecting scipy>=1.6.0 (from scikit-learn<2.0.0,>=1.5.2->turboml-sdk)\n",
            "  Downloading scipy-1.14.1-cp311-cp311-manylinux_2_17_x86_64.manylinux2014_x86_64.whl.metadata (60 kB)\n",
            "\u001b[2K     \u001b[90m━━━━━━━━━━━━━━━━━━━━━━━━━━━━━━━━━━━━━━━━\u001b[0m \u001b[32m60.8/60.8 kB\u001b[0m \u001b[31m3.1 MB/s\u001b[0m eta \u001b[36m0:00:00\u001b[0m\n",
            "\u001b[?25hCollecting joblib>=1.2.0 (from scikit-learn<2.0.0,>=1.5.2->turboml-sdk)\n",
            "  Downloading joblib-1.4.2-py3-none-any.whl.metadata (5.4 kB)\n",
            "Collecting threadpoolctl>=3.1.0 (from scikit-learn<2.0.0,>=1.5.2->turboml-sdk)\n",
            "  Downloading threadpoolctl-3.5.0-py3-none-any.whl.metadata (13 kB)\n",
            "Requirement already satisfied: cffi>=1.12 in /usr/local/lib/python3.11/site-packages (from cryptography>=3.4.0->pyjwt[crypto]<3.0.0,>=2.8.0->turboml-sdk) (1.17.1)\n",
            "Requirement already satisfied: six>=1.5 in /usr/local/lib/python3.11/site-packages (from python-dateutil<3,>=2.8.2->ibis-framework<10.0.0,>=9.5.0->turboml-sdk) (1.17.0)\n",
            "Requirement already satisfied: pycparser in /usr/local/lib/python3.11/site-packages (from cffi>=1.12->cryptography>=3.4.0->pyjwt[crypto]<3.0.0,>=2.8.0->turboml-sdk) (2.21)\n",
            "Downloading turboml_sdk-0.1.4-py3-none-any.whl (82 kB)\n",
            "\u001b[2K   \u001b[90m━━━━━━━━━━━━━━━━━━━━━━━━━━━━━━━━━━━━━━━━\u001b[0m \u001b[32m82.8/82.8 kB\u001b[0m \u001b[31m4.9 MB/s\u001b[0m eta \u001b[36m0:00:00\u001b[0m\n",
            "\u001b[?25hDownloading cloudpickle-3.1.0-py3-none-any.whl (22 kB)\n",
            "Downloading datafusion-36.0.0-cp38-abi3-manylinux_2_17_x86_64.manylinux2014_x86_64.whl (17.8 MB)\n",
            "\u001b[2K   \u001b[90m━━━━━━━━━━━━━━━━━━━━━━━━━━━━━━━━━━━━━━━━\u001b[0m \u001b[32m17.8/17.8 MB\u001b[0m \u001b[31m12.5 MB/s\u001b[0m eta \u001b[36m0:00:00\u001b[0m\n",
            "\u001b[?25hDownloading duckdb-1.1.3-cp311-cp311-manylinux_2_17_x86_64.manylinux2014_x86_64.whl (20.1 MB)\n",
            "\u001b[2K   \u001b[90m━━━━━━━━━━━━━━━━━━━━━━━━━━━━━━━━━━━━━━━━\u001b[0m \u001b[32m20.1/20.1 MB\u001b[0m \u001b[31m53.0 MB/s\u001b[0m eta \u001b[36m0:00:00\u001b[0m\n",
            "\u001b[?25hDownloading ibis_framework-9.5.0-py3-none-any.whl (2.0 MB)\n",
            "\u001b[2K   \u001b[90m━━━━━━━━━━━━━━━━━━━━━━━━━━━━━━━━━━━━━━━━\u001b[0m \u001b[32m2.0/2.0 MB\u001b[0m \u001b[31m52.1 MB/s\u001b[0m eta \u001b[36m0:00:00\u001b[0m\n",
            "\u001b[?25hDownloading pandas-2.2.3-cp311-cp311-manylinux_2_17_x86_64.manylinux2014_x86_64.whl (13.1 MB)\n",
            "\u001b[2K   \u001b[90m━━━━━━━━━━━━━━━━━━━━━━━━━━━━━━━━━━━━━━━━\u001b[0m \u001b[32m13.1/13.1 MB\u001b[0m \u001b[31m69.3 MB/s\u001b[0m eta \u001b[36m0:00:00\u001b[0m\n",
            "\u001b[?25hDownloading plotly-5.24.1-py3-none-any.whl (19.1 MB)\n",
            "\u001b[2K   \u001b[90m━━━━━━━━━━━━━━━━━━━━━━━━━━━━━━━━━━━━━━━━\u001b[0m \u001b[32m19.1/19.1 MB\u001b[0m \u001b[31m26.5 MB/s\u001b[0m eta \u001b[36m0:00:00\u001b[0m\n",
            "\u001b[?25hDownloading protobuf-5.29.2-cp38-abi3-manylinux2014_x86_64.whl (319 kB)\n",
            "\u001b[2K   \u001b[90m━━━━━━━━━━━━━━━━━━━━━━━━━━━━━━━━━━━━━━━━\u001b[0m \u001b[32m319.7/319.7 kB\u001b[0m \u001b[31m18.5 MB/s\u001b[0m eta \u001b[36m0:00:00\u001b[0m\n",
            "\u001b[?25hDownloading protobuf_to_pydantic-0.3.0.3-py3-none-any.whl (157 kB)\n",
            "\u001b[2K   \u001b[90m━━━━━━━━━━━━━━━━━━━━━━━━━━━━━━━━━━━━━━━━\u001b[0m \u001b[32m157.1/157.1 kB\u001b[0m \u001b[31m10.8 MB/s\u001b[0m eta \u001b[36m0:00:00\u001b[0m\n",
            "\u001b[?25hDownloading psycopg-3.2.3-py3-none-any.whl (197 kB)\n",
            "\u001b[2K   \u001b[90m━━━━━━━━━━━━━━━━━━━━━━━━━━━━━━━━━━━━━━━━\u001b[0m \u001b[32m197.9/197.9 kB\u001b[0m \u001b[31m12.5 MB/s\u001b[0m eta \u001b[36m0:00:00\u001b[0m\n",
            "\u001b[?25hDownloading psycopg_pool-3.2.4-py3-none-any.whl (38 kB)\n",
            "Downloading psycopg2_binary-2.9.10-cp311-cp311-manylinux_2_17_x86_64.manylinux2014_x86_64.whl (3.0 MB)\n",
            "\u001b[2K   \u001b[90m━━━━━━━━━━━━━━━━━━━━━━━━━━━━━━━━━━━━━━━━\u001b[0m \u001b[32m3.0/3.0 MB\u001b[0m \u001b[31m69.2 MB/s\u001b[0m eta \u001b[36m0:00:00\u001b[0m\n",
            "\u001b[?25hDownloading psycopg_binary-3.2.3-cp311-cp311-manylinux_2_17_x86_64.manylinux2014_x86_64.whl (4.2 MB)\n",
            "\u001b[2K   \u001b[90m━━━━━━━━━━━━━━━━━━━━━━━━━━━━━━━━━━━━━━━━\u001b[0m \u001b[32m4.2/4.2 MB\u001b[0m \u001b[31m74.7 MB/s\u001b[0m eta \u001b[36m0:00:00\u001b[0m\n",
            "\u001b[?25hDownloading pyarrow-17.0.0-cp311-cp311-manylinux_2_28_x86_64.whl (39.9 MB)\n",
            "\u001b[2K   \u001b[90m━━━━━━━━━━━━━━━━━━━━━━━━━━━━━━━━━━━━━━━━\u001b[0m \u001b[32m39.9/39.9 MB\u001b[0m \u001b[31m15.6 MB/s\u001b[0m eta \u001b[36m0:00:00\u001b[0m\n",
            "\u001b[?25hDownloading pyarrow_hotfix-0.6-py3-none-any.whl (7.9 kB)\n",
            "Downloading pydantic-2.10.4-py3-none-any.whl (431 kB)\n",
            "\u001b[2K   \u001b[90m━━━━━━━━━━━━━━━━━━━━━━━━━━━━━━━━━━━━━━━━\u001b[0m \u001b[32m431.8/431.8 kB\u001b[0m \u001b[31m22.5 MB/s\u001b[0m eta \u001b[36m0:00:00\u001b[0m\n",
            "\u001b[?25hDownloading pydantic_core-2.27.2-cp311-cp311-manylinux_2_17_x86_64.manylinux2014_x86_64.whl (2.0 MB)\n",
            "\u001b[2K   \u001b[90m━━━━━━━━━━━━━━━━━━━━━━━━━━━━━━━━━━━━━━━━\u001b[0m \u001b[32m2.0/2.0 MB\u001b[0m \u001b[31m53.9 MB/s\u001b[0m eta \u001b[36m0:00:00\u001b[0m\n",
            "\u001b[?25hDownloading pydantic_settings-2.7.0-py3-none-any.whl (29 kB)\n",
            "Downloading PyJWT-2.10.1-py3-none-any.whl (22 kB)\n",
            "Downloading risingwave-0.1.1-py3-none-any.whl (11 kB)\n",
            "Downloading scikit_learn-1.6.0-cp311-cp311-manylinux_2_17_x86_64.manylinux2014_x86_64.whl (13.5 MB)\n",
            "\u001b[2K   \u001b[90m━━━━━━━━━━━━━━━━━━━━━━━━━━━━━━━━━━━━━━━━\u001b[0m \u001b[32m13.5/13.5 MB\u001b[0m \u001b[31m74.6 MB/s\u001b[0m eta \u001b[36m0:00:00\u001b[0m\n",
            "\u001b[?25hDownloading StrEnum-0.4.15-py3-none-any.whl (8.9 kB)\n",
            "Downloading tqdm-4.67.1-py3-none-any.whl (78 kB)\n",
            "\u001b[2K   \u001b[90m━━━━━━━━━━━━━━━━━━━━━━━━━━━━━━━━━━━━━━━━\u001b[0m \u001b[32m78.5/78.5 kB\u001b[0m \u001b[31m5.2 MB/s\u001b[0m eta \u001b[36m0:00:00\u001b[0m\n",
            "\u001b[?25hDownloading turboml_bindings-0.1.4-py311-none-manylinux_2_35_x86_64.whl (56.3 MB)\n",
            "\u001b[2K   \u001b[90m━━━━━━━━━━━━━━━━━━━━━━━━━━━━━━━━━━━━━━━━\u001b[0m \u001b[32m56.3/56.3 MB\u001b[0m \u001b[31m10.5 MB/s\u001b[0m eta \u001b[36m0:00:00\u001b[0m\n",
            "\u001b[?25hDownloading annotated_types-0.7.0-py3-none-any.whl (13 kB)\n",
            "Downloading atpublic-5.0-py3-none-any.whl (5.2 kB)\n",
            "Downloading cryptography-44.0.0-cp39-abi3-manylinux_2_28_x86_64.whl (4.2 MB)\n",
            "\u001b[2K   \u001b[90m━━━━━━━━━━━━━━━━━━━━━━━━━━━━━━━━━━━━━━━━\u001b[0m \u001b[32m4.2/4.2 MB\u001b[0m \u001b[31m72.0 MB/s\u001b[0m eta \u001b[36m0:00:00\u001b[0m\n",
            "\u001b[?25hDownloading joblib-1.4.2-py3-none-any.whl (301 kB)\n",
            "\u001b[2K   \u001b[90m━━━━━━━━━━━━━━━━━━━━━━━━━━━━━━━━━━━━━━━━\u001b[0m \u001b[32m301.8/301.8 kB\u001b[0m \u001b[31m20.4 MB/s\u001b[0m eta \u001b[36m0:00:00\u001b[0m\n",
            "\u001b[?25hDownloading parsy-2.1-py3-none-any.whl (9.1 kB)\n",
            "Downloading python_dotenv-1.0.1-py3-none-any.whl (19 kB)\n",
            "Downloading scipy-1.14.1-cp311-cp311-manylinux_2_17_x86_64.manylinux2014_x86_64.whl (41.2 MB)\n",
            "\u001b[2K   \u001b[90m━━━━━━━━━━━━━━━━━━━━━━━━━━━━━━━━━━━━━━━━\u001b[0m \u001b[32m41.2/41.2 MB\u001b[0m \u001b[31m10.9 MB/s\u001b[0m eta \u001b[36m0:00:00\u001b[0m\n",
            "\u001b[?25hDownloading sqlglot-25.20.2-py3-none-any.whl (411 kB)\n",
            "\u001b[2K   \u001b[90m━━━━━━━━━━━━━━━━━━━━━━━━━━━━━━━━━━━━━━━━\u001b[0m \u001b[32m411.2/411.2 kB\u001b[0m \u001b[31m23.0 MB/s\u001b[0m eta \u001b[36m0:00:00\u001b[0m\n",
            "\u001b[?25hDownloading tenacity-9.0.0-py3-none-any.whl (28 kB)\n",
            "Downloading threadpoolctl-3.5.0-py3-none-any.whl (18 kB)\n",
            "Downloading toolz-0.12.1-py3-none-any.whl (56 kB)\n",
            "\u001b[2K   \u001b[90m━━━━━━━━━━━━━━━━━━━━━━━━━━━━━━━━━━━━━━━━\u001b[0m \u001b[32m56.1/56.1 kB\u001b[0m \u001b[31m4.3 MB/s\u001b[0m eta \u001b[36m0:00:00\u001b[0m\n",
            "\u001b[?25hInstalling collected packages: strenum, turboml_bindings, tqdm, toolz, threadpoolctl, tenacity, sqlglot, scipy, python-dotenv, pyjwt, pydantic-core, pyarrow-hotfix, pyarrow, psycopg2-binary, psycopg_pool, psycopg-binary, psycopg, protobuf, parsy, joblib, duckdb, cloudpickle, atpublic, annotated-types, scikit-learn, risingwave, pydantic, plotly, pandas, ibis-framework, datafusion, cryptography, pydantic-settings, protobuf-to-pydantic, turboml-sdk\n",
            "  Attempting uninstall: tqdm\n",
            "    Found existing installation: tqdm 4.66.1\n",
            "    Uninstalling tqdm-4.66.1:\n",
            "      Successfully uninstalled tqdm-4.66.1\n",
            "  Attempting uninstall: protobuf\n",
            "    Found existing installation: protobuf 4.25.3\n",
            "    Uninstalling protobuf-4.25.3:\n",
            "      Successfully uninstalled protobuf-4.25.3\n",
            "  Attempting uninstall: pandas\n",
            "    Found existing installation: pandas 2.2.2\n",
            "    Uninstalling pandas-2.2.2:\n",
            "      Successfully uninstalled pandas-2.2.2\n",
            "\u001b[31mERROR: pip's dependency resolver does not currently take into account all the packages that are installed. This behaviour is the source of the following dependency conflicts.\n",
            "google-colab 1.0.0 requires pandas==2.2.2, but you have pandas 2.2.3 which is incompatible.\u001b[0m\u001b[31m\n",
            "\u001b[0mSuccessfully installed annotated-types-0.7.0 atpublic-5.0 cloudpickle-3.1.0 cryptography-44.0.0 datafusion-36.0.0 duckdb-1.1.3 ibis-framework-9.5.0 joblib-1.4.2 pandas-2.2.3 parsy-2.1 plotly-5.24.1 protobuf-5.29.2 protobuf-to-pydantic-0.3.0.3 psycopg-3.2.3 psycopg-binary-3.2.3 psycopg2-binary-2.9.10 psycopg_pool-3.2.4 pyarrow-17.0.0 pyarrow-hotfix-0.6 pydantic-2.10.4 pydantic-core-2.27.2 pydantic-settings-2.7.0 pyjwt-2.10.1 python-dotenv-1.0.1 risingwave-0.1.1 scikit-learn-1.6.0 scipy-1.14.1 sqlglot-25.20.2 strenum-0.4.15 tenacity-9.0.0 threadpoolctl-3.5.0 toolz-0.12.1 tqdm-4.67.1 turboml-sdk-0.1.4 turboml_bindings-0.1.4\n",
            "Installation complete!\n"
          ]
        }
      ],
      "source": [
        "!git clone https://github.com/TurboML-Inc/colab-notebooks.git\n",
        "!pip install -q condacolab\n",
        "import condacolab\n",
        "condacolab.install()\n",
        "!bash colab-notebooks/install_turboml.sh"
      ]
    },
    {
      "cell_type": "markdown",
      "source": [
        "Import and initialize the TurboML SDK"
      ],
      "metadata": {
        "id": "EgVLXAn0CyZH"
      }
    },
    {
      "cell_type": "code",
      "source": [
        "import pandas as pd\n",
        "import pickle\n",
        "import turboml as tb\n",
        "import os\n",
        "from sklearn.preprocessing import LabelEncoder\n",
        "import numpy as np\n",
        "import requests\n",
        "\n",
        "# Replace with your backend_url and api_key below\n",
        "tb.init(\n",
        "  backend_url=\"\",\n",
        "  api_key=\"\"\n",
        ")"
      ],
      "metadata": {
        "id": "wJcls4LtCv8S"
      },
      "execution_count": 1,
      "outputs": []
    },
    {
      "cell_type": "markdown",
      "source": [
        "Setup plotly"
      ],
      "metadata": {
        "id": "-61zaRbVDTGN"
      }
    },
    {
      "cell_type": "code",
      "source": [
        "! pip install --force-reinstall -U kaleido plotly"
      ],
      "metadata": {
        "colab": {
          "base_uri": "https://localhost:8080/"
        },
        "id": "6Iz_D_gVDTgg",
        "outputId": "1c2ae347-665a-4a8f-af9a-75c40c056d2c"
      },
      "execution_count": 2,
      "outputs": [
        {
          "output_type": "stream",
          "name": "stdout",
          "text": [
            "Collecting kaleido\n",
            "  Downloading kaleido-0.2.1-py2.py3-none-manylinux1_x86_64.whl.metadata (15 kB)\n",
            "Collecting plotly\n",
            "  Using cached plotly-5.24.1-py3-none-any.whl.metadata (7.3 kB)\n",
            "Collecting tenacity>=6.2.0 (from plotly)\n",
            "  Using cached tenacity-9.0.0-py3-none-any.whl.metadata (1.2 kB)\n",
            "Collecting packaging (from plotly)\n",
            "  Downloading packaging-24.2-py3-none-any.whl.metadata (3.2 kB)\n",
            "Downloading kaleido-0.2.1-py2.py3-none-manylinux1_x86_64.whl (79.9 MB)\n",
            "\u001b[2K   \u001b[90m━━━━━━━━━━━━━━━━━━━━━━━━━━━━━━━━━━━━━━━━\u001b[0m \u001b[32m79.9/79.9 MB\u001b[0m \u001b[31m8.9 MB/s\u001b[0m eta \u001b[36m0:00:00\u001b[0m\n",
            "\u001b[?25hUsing cached plotly-5.24.1-py3-none-any.whl (19.1 MB)\n",
            "Using cached tenacity-9.0.0-py3-none-any.whl (28 kB)\n",
            "Downloading packaging-24.2-py3-none-any.whl (65 kB)\n",
            "\u001b[2K   \u001b[90m━━━━━━━━━━━━━━━━━━━━━━━━━━━━━━━━━━━━━━━━\u001b[0m \u001b[32m65.5/65.5 kB\u001b[0m \u001b[31m4.3 MB/s\u001b[0m eta \u001b[36m0:00:00\u001b[0m\n",
            "\u001b[?25hInstalling collected packages: kaleido, tenacity, packaging, plotly\n",
            "  Attempting uninstall: tenacity\n",
            "    Found existing installation: tenacity 9.0.0\n",
            "    Uninstalling tenacity-9.0.0:\n",
            "      Successfully uninstalled tenacity-9.0.0\n",
            "  Attempting uninstall: packaging\n",
            "    Found existing installation: packaging 23.2\n",
            "    Uninstalling packaging-23.2:\n",
            "      Successfully uninstalled packaging-23.2\n",
            "  Attempting uninstall: plotly\n",
            "    Found existing installation: plotly 5.24.1\n",
            "    Uninstalling plotly-5.24.1:\n",
            "      Successfully uninstalled plotly-5.24.1\n",
            "Successfully installed kaleido-0.2.1 packaging-24.2 plotly-5.24.1 tenacity-9.0.0\n"
          ]
        }
      ]
    },
    {
      "cell_type": "code",
      "source": [
        "import matplotlib.pyplot as plt\n",
        "import plotly.express as px\n",
        "import plotly.graph_objects as go\n",
        "import plotly.io as pio\n",
        "\n",
        "\n",
        "pio.kaleido.scope.default_format = \"svg\""
      ],
      "metadata": {
        "id": "ZaNrKh1TDW0P"
      },
      "execution_count": 3,
      "outputs": []
    },
    {
      "cell_type": "markdown",
      "source": [
        "# Import `IEEE-CIS Fraud Detection` dataset using [amazon-science/FDB](https://github.com/amazon-science/fraud-dataset-benchmark)\n",
        "\n",
        "Kaggle token is needed to import the dataset, upload your `kaggle.json` to current directory and proceed."
      ],
      "metadata": {
        "id": "4l9PWflcDZr6"
      }
    },
    {
      "cell_type": "code",
      "source": [
        "! pip install kaggle faker\n",
        "! sudo mkdir /root/.config/kaggle\n",
        "! sudo cp kaggle.json /root/.config/kaggle/kaggle.json && sudo chmod 600 /root/.config/kaggle/kaggle.json\n",
        "! git clone https://github.com/amazon-science/fraud-dataset-benchmark.git && cd fraud-dataset-benchmark/ && pip install ."
      ],
      "metadata": {
        "colab": {
          "base_uri": "https://localhost:8080/"
        },
        "id": "g-oESEZNDZ9l",
        "outputId": "79126a62-9574-4178-fb88-e538e7f1b2b1"
      },
      "execution_count": 4,
      "outputs": [
        {
          "output_type": "stream",
          "name": "stdout",
          "text": [
            "Collecting kaggle\n",
            "  Downloading kaggle-1.6.17.tar.gz (82 kB)\n",
            "\u001b[?25l     \u001b[90m━━━━━━━━━━━━━━━━━━━━━━━━━━━━━━━━━━━━━━━━\u001b[0m \u001b[32m0.0/82.7 kB\u001b[0m \u001b[31m?\u001b[0m eta \u001b[36m-:--:--\u001b[0m\r\u001b[2K     \u001b[90m━━━━━━━━━━━━━━━━━━━━━━━━━━━━━━━━━━━━━━━━\u001b[0m \u001b[32m82.7/82.7 kB\u001b[0m \u001b[31m2.3 MB/s\u001b[0m eta \u001b[36m0:00:00\u001b[0m\n",
            "\u001b[?25h  Preparing metadata (setup.py) ... \u001b[?25l\u001b[?25hdone\n",
            "Collecting faker\n",
            "  Downloading Faker-33.1.0-py3-none-any.whl.metadata (15 kB)\n",
            "Requirement already satisfied: six>=1.10 in /usr/local/lib/python3.11/site-packages (from kaggle) (1.17.0)\n",
            "Requirement already satisfied: certifi>=2023.7.22 in /usr/local/lib/python3.11/site-packages (from kaggle) (2024.12.14)\n",
            "Requirement already satisfied: python-dateutil in /usr/local/lib/python3.11/site-packages (from kaggle) (2.9.0.post0)\n",
            "Requirement already satisfied: requests in /usr/local/lib/python3.11/site-packages (from kaggle) (2.32.3)\n",
            "Requirement already satisfied: tqdm in /usr/local/lib/python3.11/site-packages (from kaggle) (4.67.1)\n",
            "Collecting python-slugify (from kaggle)\n",
            "  Downloading python_slugify-8.0.4-py2.py3-none-any.whl.metadata (8.5 kB)\n",
            "Requirement already satisfied: urllib3 in /usr/local/lib/python3.11/site-packages (from kaggle) (2.1.0)\n",
            "Requirement already satisfied: bleach in /usr/local/lib/python3.11/site-packages (from kaggle) (6.2.0)\n",
            "Requirement already satisfied: typing-extensions in /usr/local/lib/python3.11/site-packages (from faker) (4.12.2)\n",
            "Requirement already satisfied: webencodings in /usr/local/lib/python3.11/site-packages (from bleach->kaggle) (0.5.1)\n",
            "Collecting text-unidecode>=1.3 (from python-slugify->kaggle)\n",
            "  Downloading text_unidecode-1.3-py2.py3-none-any.whl.metadata (2.4 kB)\n",
            "Requirement already satisfied: charset-normalizer<4,>=2 in /usr/local/lib/python3.11/site-packages (from requests->kaggle) (3.3.2)\n",
            "Requirement already satisfied: idna<4,>=2.5 in /usr/local/lib/python3.11/site-packages (from requests->kaggle) (3.6)\n",
            "Downloading Faker-33.1.0-py3-none-any.whl (1.9 MB)\n",
            "\u001b[2K   \u001b[90m━━━━━━━━━━━━━━━━━━━━━━━━━━━━━━━━━━━━━━━━\u001b[0m \u001b[32m1.9/1.9 MB\u001b[0m \u001b[31m25.9 MB/s\u001b[0m eta \u001b[36m0:00:00\u001b[0m\n",
            "\u001b[?25hDownloading python_slugify-8.0.4-py2.py3-none-any.whl (10 kB)\n",
            "Downloading text_unidecode-1.3-py2.py3-none-any.whl (78 kB)\n",
            "\u001b[2K   \u001b[90m━━━━━━━━━━━━━━━━━━━━━━━━━━━━━━━━━━━━━━━━\u001b[0m \u001b[32m78.2/78.2 kB\u001b[0m \u001b[31m5.9 MB/s\u001b[0m eta \u001b[36m0:00:00\u001b[0m\n",
            "\u001b[?25hBuilding wheels for collected packages: kaggle\n",
            "  Building wheel for kaggle (setup.py) ... \u001b[?25l\u001b[?25hdone\n",
            "  Created wheel for kaggle: filename=kaggle-1.6.17-py3-none-any.whl size=105786 sha256=d876a592d862be786412c5b0f4cc0ad912a95c020af20bc9f22fdfd8fc88e6ca\n",
            "  Stored in directory: /root/.cache/pip/wheels/ff/55/fb/b27a466be754d2a06ffe0e37b248d844f090a63b51becea85d\n",
            "Successfully built kaggle\n",
            "Installing collected packages: text-unidecode, python-slugify, kaggle, faker\n",
            "Successfully installed faker-33.1.0 kaggle-1.6.17 python-slugify-8.0.4 text-unidecode-1.3\n",
            "Cloning into 'fraud-dataset-benchmark'...\n",
            "remote: Enumerating objects: 258, done.\u001b[K\n",
            "remote: Counting objects: 100% (255/255), done.\u001b[K\n",
            "remote: Compressing objects: 100% (171/171), done.\u001b[K\n",
            "remote: Total 258 (delta 113), reused 170 (delta 75), pack-reused 3 (from 1)\u001b[K\n",
            "Receiving objects: 100% (258/258), 21.96 MiB | 30.85 MiB/s, done.\n",
            "Resolving deltas: 100% (113/113), done.\n",
            "Processing /content/fraud-dataset-benchmark\n",
            "  Preparing metadata (setup.py) ... \u001b[?25l\u001b[?25hdone\n",
            "Building wheels for collected packages: fraud-dataset-benchmark\n",
            "  Building wheel for fraud-dataset-benchmark (setup.py) ... \u001b[?25l\u001b[?25hdone\n",
            "  Created wheel for fraud-dataset-benchmark: filename=fraud_dataset_benchmark-1.0-py3-none-any.whl size=37012325 sha256=078dea1518f64849fa67f07301cce6ffd6818d9b4bddd46d14a4c4236dd6f932\n",
            "  Stored in directory: /root/.cache/pip/wheels/b4/f0/00/f9a721c437a762dadc400f0b838fa7b65771f7d41186a4a810\n",
            "Successfully built fraud-dataset-benchmark\n",
            "Installing collected packages: fraud-dataset-benchmark\n",
            "Successfully installed fraud-dataset-benchmark-1.0\n"
          ]
        }
      ]
    },
    {
      "cell_type": "code",
      "source": [
        "from fdb.datasets import FraudDatasetBenchmark\n",
        "\n",
        "key = 'ieeecis'\n",
        "\n",
        "obj = FraudDatasetBenchmark(\n",
        "    key=key,\n",
        "    delete_downloaded=False,\n",
        "    add_random_values_if_real_na = {\n",
        "        \"EVENT_TIMESTAMP\": True,\n",
        "        \"LABEL_TIMESTAMP\": True,\n",
        "        \"ENTITY_ID\": True,\n",
        "        \"ENTITY_TYPE\": True,\n",
        "        \"ENTITY_ID\": True,\n",
        "        \"EVENT_ID\": True\n",
        "        }\n",
        "    )\n",
        "print(obj.key)\n",
        "\n",
        "print('Train set: ')\n",
        "display(obj.train.head())\n",
        "print(len(obj.train.columns))\n",
        "print(obj.train.shape)\n",
        "\n",
        "print('Test set: ')\n",
        "display(obj.test.head())\n",
        "print(obj.test.shape)\n",
        "\n",
        "print('Test scores')\n",
        "display(obj.test_labels.head())\n",
        "print(obj.test_labels['EVENT_LABEL'].value_counts())\n",
        "print(obj.train['EVENT_LABEL'].value_counts(normalize=True))\n",
        "print('=========')"
      ],
      "metadata": {
        "colab": {
          "base_uri": "https://localhost:8080/",
          "height": 1000
        },
        "id": "JMMHMbQgDhg9",
        "outputId": "fe5e8cf1-0a03-4f74-c4d4-36cb10b4de8e"
      },
      "execution_count": 6,
      "outputs": [
        {
          "output_type": "stream",
          "name": "stdout",
          "text": [
            "Data download location /content/tmp\n"
          ]
        },
        {
          "output_type": "stream",
          "name": "stderr",
          "text": [
            "/usr/local/lib/python3.11/site-packages/fdb/preprocessing.py:260: SettingWithCopyWarning:\n",
            "\n",
            "\n",
            "A value is trying to be set on a copy of a slice from a DataFrame.\n",
            "Try using .loc[row_indexer,col_indexer] = value instead\n",
            "\n",
            "See the caveats in the documentation: https://pandas.pydata.org/pandas-docs/stable/user_guide/indexing.html#returning-a-view-versus-a-copy\n",
            "\n"
          ]
        },
        {
          "output_type": "stream",
          "name": "stdout",
          "text": [
            "ieeecis\n",
            "Train set: \n"
          ]
        },
        {
          "output_type": "display_data",
          "data": {
            "text/plain": [
              "               EVENT_LABEL  transactionamt productcd    card1  card2  card3  \\\n",
              "TransactionID                                                                 \n",
              "2987000.0                0            68.5         W  13926.0    NaN  150.0   \n",
              "2987001.0                0            29.0         W   2755.0  404.0  150.0   \n",
              "2987002.0                0            59.0         W   4663.0  490.0  150.0   \n",
              "2987003.0                0            50.0         W  18132.0  567.0  150.0   \n",
              "2987004.0                0            50.0         H   4497.0  514.0  150.0   \n",
              "\n",
              "               card5   card6  addr1  dist1  ...  id_17  id_19  id_20  \\\n",
              "TransactionID                               ...                        \n",
              "2987000.0      142.0  credit  315.0   19.0  ...    NaN    NaN    NaN   \n",
              "2987001.0      102.0  credit  325.0    NaN  ...    NaN    NaN    NaN   \n",
              "2987002.0      166.0   debit  330.0  287.0  ...    NaN    NaN    NaN   \n",
              "2987003.0      117.0   debit  476.0    NaN  ...    NaN    NaN    NaN   \n",
              "2987004.0      102.0  credit  420.0    NaN  ...  166.0  542.0  144.0   \n",
              "\n",
              "               devicetype                     deviceinfo  \\\n",
              "TransactionID                                              \n",
              "2987000.0             NaN                            NaN   \n",
              "2987001.0             NaN                            NaN   \n",
              "2987002.0             NaN                            NaN   \n",
              "2987003.0             NaN                            NaN   \n",
              "2987004.0          mobile  SAMSUNG SM-G892A Build/NRD90M   \n",
              "\n",
              "                                           EVENT_ID             ENTITY_ID  \\\n",
              "TransactionID                                                               \n",
              "2987000.0      7e2d7ef8-80d4-41fd-9e6b-374b257fa9bf   13926.0_315.0_-13.0   \n",
              "2987001.0      8ccd03c2-e096-4b4e-bf6d-0b7149d72d4d      2755.0_325.0_1.0   \n",
              "2987002.0      437a6180-09ff-4209-97f2-d934dc5b163d      4663.0_330.0_1.0   \n",
              "2987003.0      70877878-11d2-4000-8637-c4e4081c857f  18132.0_476.0_-111.0   \n",
              "2987004.0      107699fc-e9ed-4fb5-b6f6-1d095f7a8cd6      4497.0_420.0_1.0   \n",
              "\n",
              "                    EVENT_TIMESTAMP       LABEL_TIMESTAMP  ENTITY_TYPE  \n",
              "TransactionID                                                           \n",
              "2987000.0      2021-01-02T00:00:00Z  2024-12-31T07:13:11Z         user  \n",
              "2987001.0      2021-01-02T00:00:01Z  2024-12-31T07:13:11Z         user  \n",
              "2987002.0      2021-01-02T00:01:09Z  2024-12-31T07:13:11Z         user  \n",
              "2987003.0      2021-01-02T00:01:39Z  2024-12-31T07:13:11Z         user  \n",
              "2987004.0      2021-01-02T00:01:46Z  2024-12-31T07:13:11Z         user  \n",
              "\n",
              "[5 rows x 73 columns]"
            ],
            "text/html": [
              "\n",
              "  <div id=\"df-1ba33e5f-8c20-46c3-b8c2-b780597bacc6\" class=\"colab-df-container\">\n",
              "    <div>\n",
              "<style scoped>\n",
              "    .dataframe tbody tr th:only-of-type {\n",
              "        vertical-align: middle;\n",
              "    }\n",
              "\n",
              "    .dataframe tbody tr th {\n",
              "        vertical-align: top;\n",
              "    }\n",
              "\n",
              "    .dataframe thead th {\n",
              "        text-align: right;\n",
              "    }\n",
              "</style>\n",
              "<table border=\"1\" class=\"dataframe\">\n",
              "  <thead>\n",
              "    <tr style=\"text-align: right;\">\n",
              "      <th></th>\n",
              "      <th>EVENT_LABEL</th>\n",
              "      <th>transactionamt</th>\n",
              "      <th>productcd</th>\n",
              "      <th>card1</th>\n",
              "      <th>card2</th>\n",
              "      <th>card3</th>\n",
              "      <th>card5</th>\n",
              "      <th>card6</th>\n",
              "      <th>addr1</th>\n",
              "      <th>dist1</th>\n",
              "      <th>...</th>\n",
              "      <th>id_17</th>\n",
              "      <th>id_19</th>\n",
              "      <th>id_20</th>\n",
              "      <th>devicetype</th>\n",
              "      <th>deviceinfo</th>\n",
              "      <th>EVENT_ID</th>\n",
              "      <th>ENTITY_ID</th>\n",
              "      <th>EVENT_TIMESTAMP</th>\n",
              "      <th>LABEL_TIMESTAMP</th>\n",
              "      <th>ENTITY_TYPE</th>\n",
              "    </tr>\n",
              "    <tr>\n",
              "      <th>TransactionID</th>\n",
              "      <th></th>\n",
              "      <th></th>\n",
              "      <th></th>\n",
              "      <th></th>\n",
              "      <th></th>\n",
              "      <th></th>\n",
              "      <th></th>\n",
              "      <th></th>\n",
              "      <th></th>\n",
              "      <th></th>\n",
              "      <th></th>\n",
              "      <th></th>\n",
              "      <th></th>\n",
              "      <th></th>\n",
              "      <th></th>\n",
              "      <th></th>\n",
              "      <th></th>\n",
              "      <th></th>\n",
              "      <th></th>\n",
              "      <th></th>\n",
              "      <th></th>\n",
              "    </tr>\n",
              "  </thead>\n",
              "  <tbody>\n",
              "    <tr>\n",
              "      <th>2987000.0</th>\n",
              "      <td>0</td>\n",
              "      <td>68.5</td>\n",
              "      <td>W</td>\n",
              "      <td>13926.0</td>\n",
              "      <td>NaN</td>\n",
              "      <td>150.0</td>\n",
              "      <td>142.0</td>\n",
              "      <td>credit</td>\n",
              "      <td>315.0</td>\n",
              "      <td>19.0</td>\n",
              "      <td>...</td>\n",
              "      <td>NaN</td>\n",
              "      <td>NaN</td>\n",
              "      <td>NaN</td>\n",
              "      <td>NaN</td>\n",
              "      <td>NaN</td>\n",
              "      <td>7e2d7ef8-80d4-41fd-9e6b-374b257fa9bf</td>\n",
              "      <td>13926.0_315.0_-13.0</td>\n",
              "      <td>2021-01-02T00:00:00Z</td>\n",
              "      <td>2024-12-31T07:13:11Z</td>\n",
              "      <td>user</td>\n",
              "    </tr>\n",
              "    <tr>\n",
              "      <th>2987001.0</th>\n",
              "      <td>0</td>\n",
              "      <td>29.0</td>\n",
              "      <td>W</td>\n",
              "      <td>2755.0</td>\n",
              "      <td>404.0</td>\n",
              "      <td>150.0</td>\n",
              "      <td>102.0</td>\n",
              "      <td>credit</td>\n",
              "      <td>325.0</td>\n",
              "      <td>NaN</td>\n",
              "      <td>...</td>\n",
              "      <td>NaN</td>\n",
              "      <td>NaN</td>\n",
              "      <td>NaN</td>\n",
              "      <td>NaN</td>\n",
              "      <td>NaN</td>\n",
              "      <td>8ccd03c2-e096-4b4e-bf6d-0b7149d72d4d</td>\n",
              "      <td>2755.0_325.0_1.0</td>\n",
              "      <td>2021-01-02T00:00:01Z</td>\n",
              "      <td>2024-12-31T07:13:11Z</td>\n",
              "      <td>user</td>\n",
              "    </tr>\n",
              "    <tr>\n",
              "      <th>2987002.0</th>\n",
              "      <td>0</td>\n",
              "      <td>59.0</td>\n",
              "      <td>W</td>\n",
              "      <td>4663.0</td>\n",
              "      <td>490.0</td>\n",
              "      <td>150.0</td>\n",
              "      <td>166.0</td>\n",
              "      <td>debit</td>\n",
              "      <td>330.0</td>\n",
              "      <td>287.0</td>\n",
              "      <td>...</td>\n",
              "      <td>NaN</td>\n",
              "      <td>NaN</td>\n",
              "      <td>NaN</td>\n",
              "      <td>NaN</td>\n",
              "      <td>NaN</td>\n",
              "      <td>437a6180-09ff-4209-97f2-d934dc5b163d</td>\n",
              "      <td>4663.0_330.0_1.0</td>\n",
              "      <td>2021-01-02T00:01:09Z</td>\n",
              "      <td>2024-12-31T07:13:11Z</td>\n",
              "      <td>user</td>\n",
              "    </tr>\n",
              "    <tr>\n",
              "      <th>2987003.0</th>\n",
              "      <td>0</td>\n",
              "      <td>50.0</td>\n",
              "      <td>W</td>\n",
              "      <td>18132.0</td>\n",
              "      <td>567.0</td>\n",
              "      <td>150.0</td>\n",
              "      <td>117.0</td>\n",
              "      <td>debit</td>\n",
              "      <td>476.0</td>\n",
              "      <td>NaN</td>\n",
              "      <td>...</td>\n",
              "      <td>NaN</td>\n",
              "      <td>NaN</td>\n",
              "      <td>NaN</td>\n",
              "      <td>NaN</td>\n",
              "      <td>NaN</td>\n",
              "      <td>70877878-11d2-4000-8637-c4e4081c857f</td>\n",
              "      <td>18132.0_476.0_-111.0</td>\n",
              "      <td>2021-01-02T00:01:39Z</td>\n",
              "      <td>2024-12-31T07:13:11Z</td>\n",
              "      <td>user</td>\n",
              "    </tr>\n",
              "    <tr>\n",
              "      <th>2987004.0</th>\n",
              "      <td>0</td>\n",
              "      <td>50.0</td>\n",
              "      <td>H</td>\n",
              "      <td>4497.0</td>\n",
              "      <td>514.0</td>\n",
              "      <td>150.0</td>\n",
              "      <td>102.0</td>\n",
              "      <td>credit</td>\n",
              "      <td>420.0</td>\n",
              "      <td>NaN</td>\n",
              "      <td>...</td>\n",
              "      <td>166.0</td>\n",
              "      <td>542.0</td>\n",
              "      <td>144.0</td>\n",
              "      <td>mobile</td>\n",
              "      <td>SAMSUNG SM-G892A Build/NRD90M</td>\n",
              "      <td>107699fc-e9ed-4fb5-b6f6-1d095f7a8cd6</td>\n",
              "      <td>4497.0_420.0_1.0</td>\n",
              "      <td>2021-01-02T00:01:46Z</td>\n",
              "      <td>2024-12-31T07:13:11Z</td>\n",
              "      <td>user</td>\n",
              "    </tr>\n",
              "  </tbody>\n",
              "</table>\n",
              "<p>5 rows × 73 columns</p>\n",
              "</div>\n",
              "    <div class=\"colab-df-buttons\">\n",
              "\n",
              "  <div class=\"colab-df-container\">\n",
              "    <button class=\"colab-df-convert\" onclick=\"convertToInteractive('df-1ba33e5f-8c20-46c3-b8c2-b780597bacc6')\"\n",
              "            title=\"Convert this dataframe to an interactive table.\"\n",
              "            style=\"display:none;\">\n",
              "\n",
              "  <svg xmlns=\"http://www.w3.org/2000/svg\" height=\"24px\" viewBox=\"0 -960 960 960\">\n",
              "    <path d=\"M120-120v-720h720v720H120Zm60-500h600v-160H180v160Zm220 220h160v-160H400v160Zm0 220h160v-160H400v160ZM180-400h160v-160H180v160Zm440 0h160v-160H620v160ZM180-180h160v-160H180v160Zm440 0h160v-160H620v160Z\"/>\n",
              "  </svg>\n",
              "    </button>\n",
              "\n",
              "  <style>\n",
              "    .colab-df-container {\n",
              "      display:flex;\n",
              "      gap: 12px;\n",
              "    }\n",
              "\n",
              "    .colab-df-convert {\n",
              "      background-color: #E8F0FE;\n",
              "      border: none;\n",
              "      border-radius: 50%;\n",
              "      cursor: pointer;\n",
              "      display: none;\n",
              "      fill: #1967D2;\n",
              "      height: 32px;\n",
              "      padding: 0 0 0 0;\n",
              "      width: 32px;\n",
              "    }\n",
              "\n",
              "    .colab-df-convert:hover {\n",
              "      background-color: #E2EBFA;\n",
              "      box-shadow: 0px 1px 2px rgba(60, 64, 67, 0.3), 0px 1px 3px 1px rgba(60, 64, 67, 0.15);\n",
              "      fill: #174EA6;\n",
              "    }\n",
              "\n",
              "    .colab-df-buttons div {\n",
              "      margin-bottom: 4px;\n",
              "    }\n",
              "\n",
              "    [theme=dark] .colab-df-convert {\n",
              "      background-color: #3B4455;\n",
              "      fill: #D2E3FC;\n",
              "    }\n",
              "\n",
              "    [theme=dark] .colab-df-convert:hover {\n",
              "      background-color: #434B5C;\n",
              "      box-shadow: 0px 1px 3px 1px rgba(0, 0, 0, 0.15);\n",
              "      filter: drop-shadow(0px 1px 2px rgba(0, 0, 0, 0.3));\n",
              "      fill: #FFFFFF;\n",
              "    }\n",
              "  </style>\n",
              "\n",
              "    <script>\n",
              "      const buttonEl =\n",
              "        document.querySelector('#df-1ba33e5f-8c20-46c3-b8c2-b780597bacc6 button.colab-df-convert');\n",
              "      buttonEl.style.display =\n",
              "        google.colab.kernel.accessAllowed ? 'block' : 'none';\n",
              "\n",
              "      async function convertToInteractive(key) {\n",
              "        const element = document.querySelector('#df-1ba33e5f-8c20-46c3-b8c2-b780597bacc6');\n",
              "        const dataTable =\n",
              "          await google.colab.kernel.invokeFunction('convertToInteractive',\n",
              "                                                    [key], {});\n",
              "        if (!dataTable) return;\n",
              "\n",
              "        const docLinkHtml = 'Like what you see? Visit the ' +\n",
              "          '<a target=\"_blank\" href=https://colab.research.google.com/notebooks/data_table.ipynb>data table notebook</a>'\n",
              "          + ' to learn more about interactive tables.';\n",
              "        element.innerHTML = '';\n",
              "        dataTable['output_type'] = 'display_data';\n",
              "        await google.colab.output.renderOutput(dataTable, element);\n",
              "        const docLink = document.createElement('div');\n",
              "        docLink.innerHTML = docLinkHtml;\n",
              "        element.appendChild(docLink);\n",
              "      }\n",
              "    </script>\n",
              "  </div>\n",
              "\n",
              "\n",
              "<div id=\"df-344b4ea9-8baa-4cdf-82af-499feb91bf81\">\n",
              "  <button class=\"colab-df-quickchart\" onclick=\"quickchart('df-344b4ea9-8baa-4cdf-82af-499feb91bf81')\"\n",
              "            title=\"Suggest charts\"\n",
              "            style=\"display:none;\">\n",
              "\n",
              "<svg xmlns=\"http://www.w3.org/2000/svg\" height=\"24px\"viewBox=\"0 0 24 24\"\n",
              "     width=\"24px\">\n",
              "    <g>\n",
              "        <path d=\"M19 3H5c-1.1 0-2 .9-2 2v14c0 1.1.9 2 2 2h14c1.1 0 2-.9 2-2V5c0-1.1-.9-2-2-2zM9 17H7v-7h2v7zm4 0h-2V7h2v10zm4 0h-2v-4h2v4z\"/>\n",
              "    </g>\n",
              "</svg>\n",
              "  </button>\n",
              "\n",
              "<style>\n",
              "  .colab-df-quickchart {\n",
              "      --bg-color: #E8F0FE;\n",
              "      --fill-color: #1967D2;\n",
              "      --hover-bg-color: #E2EBFA;\n",
              "      --hover-fill-color: #174EA6;\n",
              "      --disabled-fill-color: #AAA;\n",
              "      --disabled-bg-color: #DDD;\n",
              "  }\n",
              "\n",
              "  [theme=dark] .colab-df-quickchart {\n",
              "      --bg-color: #3B4455;\n",
              "      --fill-color: #D2E3FC;\n",
              "      --hover-bg-color: #434B5C;\n",
              "      --hover-fill-color: #FFFFFF;\n",
              "      --disabled-bg-color: #3B4455;\n",
              "      --disabled-fill-color: #666;\n",
              "  }\n",
              "\n",
              "  .colab-df-quickchart {\n",
              "    background-color: var(--bg-color);\n",
              "    border: none;\n",
              "    border-radius: 50%;\n",
              "    cursor: pointer;\n",
              "    display: none;\n",
              "    fill: var(--fill-color);\n",
              "    height: 32px;\n",
              "    padding: 0;\n",
              "    width: 32px;\n",
              "  }\n",
              "\n",
              "  .colab-df-quickchart:hover {\n",
              "    background-color: var(--hover-bg-color);\n",
              "    box-shadow: 0 1px 2px rgba(60, 64, 67, 0.3), 0 1px 3px 1px rgba(60, 64, 67, 0.15);\n",
              "    fill: var(--button-hover-fill-color);\n",
              "  }\n",
              "\n",
              "  .colab-df-quickchart-complete:disabled,\n",
              "  .colab-df-quickchart-complete:disabled:hover {\n",
              "    background-color: var(--disabled-bg-color);\n",
              "    fill: var(--disabled-fill-color);\n",
              "    box-shadow: none;\n",
              "  }\n",
              "\n",
              "  .colab-df-spinner {\n",
              "    border: 2px solid var(--fill-color);\n",
              "    border-color: transparent;\n",
              "    border-bottom-color: var(--fill-color);\n",
              "    animation:\n",
              "      spin 1s steps(1) infinite;\n",
              "  }\n",
              "\n",
              "  @keyframes spin {\n",
              "    0% {\n",
              "      border-color: transparent;\n",
              "      border-bottom-color: var(--fill-color);\n",
              "      border-left-color: var(--fill-color);\n",
              "    }\n",
              "    20% {\n",
              "      border-color: transparent;\n",
              "      border-left-color: var(--fill-color);\n",
              "      border-top-color: var(--fill-color);\n",
              "    }\n",
              "    30% {\n",
              "      border-color: transparent;\n",
              "      border-left-color: var(--fill-color);\n",
              "      border-top-color: var(--fill-color);\n",
              "      border-right-color: var(--fill-color);\n",
              "    }\n",
              "    40% {\n",
              "      border-color: transparent;\n",
              "      border-right-color: var(--fill-color);\n",
              "      border-top-color: var(--fill-color);\n",
              "    }\n",
              "    60% {\n",
              "      border-color: transparent;\n",
              "      border-right-color: var(--fill-color);\n",
              "    }\n",
              "    80% {\n",
              "      border-color: transparent;\n",
              "      border-right-color: var(--fill-color);\n",
              "      border-bottom-color: var(--fill-color);\n",
              "    }\n",
              "    90% {\n",
              "      border-color: transparent;\n",
              "      border-bottom-color: var(--fill-color);\n",
              "    }\n",
              "  }\n",
              "</style>\n",
              "\n",
              "  <script>\n",
              "    async function quickchart(key) {\n",
              "      const quickchartButtonEl =\n",
              "        document.querySelector('#' + key + ' button');\n",
              "      quickchartButtonEl.disabled = true;  // To prevent multiple clicks.\n",
              "      quickchartButtonEl.classList.add('colab-df-spinner');\n",
              "      try {\n",
              "        const charts = await google.colab.kernel.invokeFunction(\n",
              "            'suggestCharts', [key], {});\n",
              "      } catch (error) {\n",
              "        console.error('Error during call to suggestCharts:', error);\n",
              "      }\n",
              "      quickchartButtonEl.classList.remove('colab-df-spinner');\n",
              "      quickchartButtonEl.classList.add('colab-df-quickchart-complete');\n",
              "    }\n",
              "    (() => {\n",
              "      let quickchartButtonEl =\n",
              "        document.querySelector('#df-344b4ea9-8baa-4cdf-82af-499feb91bf81 button');\n",
              "      quickchartButtonEl.style.display =\n",
              "        google.colab.kernel.accessAllowed ? 'block' : 'none';\n",
              "    })();\n",
              "  </script>\n",
              "</div>\n",
              "\n",
              "    </div>\n",
              "  </div>\n"
            ],
            "application/vnd.google.colaboratory.intrinsic+json": {
              "type": "dataframe"
            }
          },
          "metadata": {}
        },
        {
          "output_type": "stream",
          "name": "stdout",
          "text": [
            "73\n",
            "(561013, 73)\n",
            "Test set: \n"
          ]
        },
        {
          "output_type": "display_data",
          "data": {
            "text/plain": [
              "               transactionamt productcd    card1  card2  card3  card5   card6  \\\n",
              "TransactionID                                                                   \n",
              "3548013.0          125.000000         S  15775.0  481.0  150.0  102.0  credit   \n",
              "3548014.0          125.000000         S  15775.0  481.0  150.0  102.0  credit   \n",
              "3548015.0          125.000000         S  15775.0  481.0  150.0  102.0  credit   \n",
              "3548016.0          125.000000         S  15775.0  481.0  150.0  102.0  credit   \n",
              "3548017.0           31.950001         W   9500.0  321.0  150.0  226.0   debit   \n",
              "\n",
              "               addr1  dist1 p_emaildomain  ... id_13  id_17  id_19  id_20  \\\n",
              "TransactionID                              ...                              \n",
              "3548013.0      330.0    NaN           NaN  ...  52.0  166.0  633.0  533.0   \n",
              "3548014.0      330.0    NaN           NaN  ...  52.0  166.0  633.0  533.0   \n",
              "3548015.0      330.0    NaN           NaN  ...  52.0  166.0  633.0  533.0   \n",
              "3548016.0      330.0    NaN           NaN  ...  52.0  166.0  633.0  533.0   \n",
              "3548017.0      204.0   74.0           NaN  ...   NaN    NaN    NaN    NaN   \n",
              "\n",
              "               devicetype  deviceinfo                              EVENT_ID  \\\n",
              "TransactionID                                                                 \n",
              "3548013.0         desktop     Windows  f7694eae-43b9-4b6e-b2e4-fb7e54c7b775   \n",
              "3548014.0         desktop     Windows  5ac01558-a9de-4a13-ae69-2ffb2b371a05   \n",
              "3548015.0         desktop     Windows  609e04fb-5333-4215-98b4-93a469bf7a5e   \n",
              "3548016.0         desktop     Windows  b06da596-412a-4b3f-9e95-b03aedd7455a   \n",
              "3548017.0             NaN         NaN  e5808b15-9ead-4833-85b7-821a6f1f1f1d   \n",
              "\n",
              "                         ENTITY_ID       EVENT_TIMESTAMP  ENTITY_TYPE  \n",
              "TransactionID                                                          \n",
              "3548013.0      15775.0_330.0_129.0  2021-06-21T23:11:15Z         user  \n",
              "3548014.0      15775.0_330.0_129.0  2021-06-21T23:11:29Z         user  \n",
              "3548015.0      15775.0_330.0_129.0  2021-06-21T23:11:45Z         user  \n",
              "3548016.0      15775.0_330.0_129.0  2021-06-21T23:12:00Z         user  \n",
              "3548017.0       9500.0_204.0_150.0  2021-06-21T23:12:11Z         user  \n",
              "\n",
              "[5 rows x 71 columns]"
            ],
            "text/html": [
              "\n",
              "  <div id=\"df-a4542f49-972e-4749-b349-82f1353cc45b\" class=\"colab-df-container\">\n",
              "    <div>\n",
              "<style scoped>\n",
              "    .dataframe tbody tr th:only-of-type {\n",
              "        vertical-align: middle;\n",
              "    }\n",
              "\n",
              "    .dataframe tbody tr th {\n",
              "        vertical-align: top;\n",
              "    }\n",
              "\n",
              "    .dataframe thead th {\n",
              "        text-align: right;\n",
              "    }\n",
              "</style>\n",
              "<table border=\"1\" class=\"dataframe\">\n",
              "  <thead>\n",
              "    <tr style=\"text-align: right;\">\n",
              "      <th></th>\n",
              "      <th>transactionamt</th>\n",
              "      <th>productcd</th>\n",
              "      <th>card1</th>\n",
              "      <th>card2</th>\n",
              "      <th>card3</th>\n",
              "      <th>card5</th>\n",
              "      <th>card6</th>\n",
              "      <th>addr1</th>\n",
              "      <th>dist1</th>\n",
              "      <th>p_emaildomain</th>\n",
              "      <th>...</th>\n",
              "      <th>id_13</th>\n",
              "      <th>id_17</th>\n",
              "      <th>id_19</th>\n",
              "      <th>id_20</th>\n",
              "      <th>devicetype</th>\n",
              "      <th>deviceinfo</th>\n",
              "      <th>EVENT_ID</th>\n",
              "      <th>ENTITY_ID</th>\n",
              "      <th>EVENT_TIMESTAMP</th>\n",
              "      <th>ENTITY_TYPE</th>\n",
              "    </tr>\n",
              "    <tr>\n",
              "      <th>TransactionID</th>\n",
              "      <th></th>\n",
              "      <th></th>\n",
              "      <th></th>\n",
              "      <th></th>\n",
              "      <th></th>\n",
              "      <th></th>\n",
              "      <th></th>\n",
              "      <th></th>\n",
              "      <th></th>\n",
              "      <th></th>\n",
              "      <th></th>\n",
              "      <th></th>\n",
              "      <th></th>\n",
              "      <th></th>\n",
              "      <th></th>\n",
              "      <th></th>\n",
              "      <th></th>\n",
              "      <th></th>\n",
              "      <th></th>\n",
              "      <th></th>\n",
              "      <th></th>\n",
              "    </tr>\n",
              "  </thead>\n",
              "  <tbody>\n",
              "    <tr>\n",
              "      <th>3548013.0</th>\n",
              "      <td>125.000000</td>\n",
              "      <td>S</td>\n",
              "      <td>15775.0</td>\n",
              "      <td>481.0</td>\n",
              "      <td>150.0</td>\n",
              "      <td>102.0</td>\n",
              "      <td>credit</td>\n",
              "      <td>330.0</td>\n",
              "      <td>NaN</td>\n",
              "      <td>NaN</td>\n",
              "      <td>...</td>\n",
              "      <td>52.0</td>\n",
              "      <td>166.0</td>\n",
              "      <td>633.0</td>\n",
              "      <td>533.0</td>\n",
              "      <td>desktop</td>\n",
              "      <td>Windows</td>\n",
              "      <td>f7694eae-43b9-4b6e-b2e4-fb7e54c7b775</td>\n",
              "      <td>15775.0_330.0_129.0</td>\n",
              "      <td>2021-06-21T23:11:15Z</td>\n",
              "      <td>user</td>\n",
              "    </tr>\n",
              "    <tr>\n",
              "      <th>3548014.0</th>\n",
              "      <td>125.000000</td>\n",
              "      <td>S</td>\n",
              "      <td>15775.0</td>\n",
              "      <td>481.0</td>\n",
              "      <td>150.0</td>\n",
              "      <td>102.0</td>\n",
              "      <td>credit</td>\n",
              "      <td>330.0</td>\n",
              "      <td>NaN</td>\n",
              "      <td>NaN</td>\n",
              "      <td>...</td>\n",
              "      <td>52.0</td>\n",
              "      <td>166.0</td>\n",
              "      <td>633.0</td>\n",
              "      <td>533.0</td>\n",
              "      <td>desktop</td>\n",
              "      <td>Windows</td>\n",
              "      <td>5ac01558-a9de-4a13-ae69-2ffb2b371a05</td>\n",
              "      <td>15775.0_330.0_129.0</td>\n",
              "      <td>2021-06-21T23:11:29Z</td>\n",
              "      <td>user</td>\n",
              "    </tr>\n",
              "    <tr>\n",
              "      <th>3548015.0</th>\n",
              "      <td>125.000000</td>\n",
              "      <td>S</td>\n",
              "      <td>15775.0</td>\n",
              "      <td>481.0</td>\n",
              "      <td>150.0</td>\n",
              "      <td>102.0</td>\n",
              "      <td>credit</td>\n",
              "      <td>330.0</td>\n",
              "      <td>NaN</td>\n",
              "      <td>NaN</td>\n",
              "      <td>...</td>\n",
              "      <td>52.0</td>\n",
              "      <td>166.0</td>\n",
              "      <td>633.0</td>\n",
              "      <td>533.0</td>\n",
              "      <td>desktop</td>\n",
              "      <td>Windows</td>\n",
              "      <td>609e04fb-5333-4215-98b4-93a469bf7a5e</td>\n",
              "      <td>15775.0_330.0_129.0</td>\n",
              "      <td>2021-06-21T23:11:45Z</td>\n",
              "      <td>user</td>\n",
              "    </tr>\n",
              "    <tr>\n",
              "      <th>3548016.0</th>\n",
              "      <td>125.000000</td>\n",
              "      <td>S</td>\n",
              "      <td>15775.0</td>\n",
              "      <td>481.0</td>\n",
              "      <td>150.0</td>\n",
              "      <td>102.0</td>\n",
              "      <td>credit</td>\n",
              "      <td>330.0</td>\n",
              "      <td>NaN</td>\n",
              "      <td>NaN</td>\n",
              "      <td>...</td>\n",
              "      <td>52.0</td>\n",
              "      <td>166.0</td>\n",
              "      <td>633.0</td>\n",
              "      <td>533.0</td>\n",
              "      <td>desktop</td>\n",
              "      <td>Windows</td>\n",
              "      <td>b06da596-412a-4b3f-9e95-b03aedd7455a</td>\n",
              "      <td>15775.0_330.0_129.0</td>\n",
              "      <td>2021-06-21T23:12:00Z</td>\n",
              "      <td>user</td>\n",
              "    </tr>\n",
              "    <tr>\n",
              "      <th>3548017.0</th>\n",
              "      <td>31.950001</td>\n",
              "      <td>W</td>\n",
              "      <td>9500.0</td>\n",
              "      <td>321.0</td>\n",
              "      <td>150.0</td>\n",
              "      <td>226.0</td>\n",
              "      <td>debit</td>\n",
              "      <td>204.0</td>\n",
              "      <td>74.0</td>\n",
              "      <td>NaN</td>\n",
              "      <td>...</td>\n",
              "      <td>NaN</td>\n",
              "      <td>NaN</td>\n",
              "      <td>NaN</td>\n",
              "      <td>NaN</td>\n",
              "      <td>NaN</td>\n",
              "      <td>NaN</td>\n",
              "      <td>e5808b15-9ead-4833-85b7-821a6f1f1f1d</td>\n",
              "      <td>9500.0_204.0_150.0</td>\n",
              "      <td>2021-06-21T23:12:11Z</td>\n",
              "      <td>user</td>\n",
              "    </tr>\n",
              "  </tbody>\n",
              "</table>\n",
              "<p>5 rows × 71 columns</p>\n",
              "</div>\n",
              "    <div class=\"colab-df-buttons\">\n",
              "\n",
              "  <div class=\"colab-df-container\">\n",
              "    <button class=\"colab-df-convert\" onclick=\"convertToInteractive('df-a4542f49-972e-4749-b349-82f1353cc45b')\"\n",
              "            title=\"Convert this dataframe to an interactive table.\"\n",
              "            style=\"display:none;\">\n",
              "\n",
              "  <svg xmlns=\"http://www.w3.org/2000/svg\" height=\"24px\" viewBox=\"0 -960 960 960\">\n",
              "    <path d=\"M120-120v-720h720v720H120Zm60-500h600v-160H180v160Zm220 220h160v-160H400v160Zm0 220h160v-160H400v160ZM180-400h160v-160H180v160Zm440 0h160v-160H620v160ZM180-180h160v-160H180v160Zm440 0h160v-160H620v160Z\"/>\n",
              "  </svg>\n",
              "    </button>\n",
              "\n",
              "  <style>\n",
              "    .colab-df-container {\n",
              "      display:flex;\n",
              "      gap: 12px;\n",
              "    }\n",
              "\n",
              "    .colab-df-convert {\n",
              "      background-color: #E8F0FE;\n",
              "      border: none;\n",
              "      border-radius: 50%;\n",
              "      cursor: pointer;\n",
              "      display: none;\n",
              "      fill: #1967D2;\n",
              "      height: 32px;\n",
              "      padding: 0 0 0 0;\n",
              "      width: 32px;\n",
              "    }\n",
              "\n",
              "    .colab-df-convert:hover {\n",
              "      background-color: #E2EBFA;\n",
              "      box-shadow: 0px 1px 2px rgba(60, 64, 67, 0.3), 0px 1px 3px 1px rgba(60, 64, 67, 0.15);\n",
              "      fill: #174EA6;\n",
              "    }\n",
              "\n",
              "    .colab-df-buttons div {\n",
              "      margin-bottom: 4px;\n",
              "    }\n",
              "\n",
              "    [theme=dark] .colab-df-convert {\n",
              "      background-color: #3B4455;\n",
              "      fill: #D2E3FC;\n",
              "    }\n",
              "\n",
              "    [theme=dark] .colab-df-convert:hover {\n",
              "      background-color: #434B5C;\n",
              "      box-shadow: 0px 1px 3px 1px rgba(0, 0, 0, 0.15);\n",
              "      filter: drop-shadow(0px 1px 2px rgba(0, 0, 0, 0.3));\n",
              "      fill: #FFFFFF;\n",
              "    }\n",
              "  </style>\n",
              "\n",
              "    <script>\n",
              "      const buttonEl =\n",
              "        document.querySelector('#df-a4542f49-972e-4749-b349-82f1353cc45b button.colab-df-convert');\n",
              "      buttonEl.style.display =\n",
              "        google.colab.kernel.accessAllowed ? 'block' : 'none';\n",
              "\n",
              "      async function convertToInteractive(key) {\n",
              "        const element = document.querySelector('#df-a4542f49-972e-4749-b349-82f1353cc45b');\n",
              "        const dataTable =\n",
              "          await google.colab.kernel.invokeFunction('convertToInteractive',\n",
              "                                                    [key], {});\n",
              "        if (!dataTable) return;\n",
              "\n",
              "        const docLinkHtml = 'Like what you see? Visit the ' +\n",
              "          '<a target=\"_blank\" href=https://colab.research.google.com/notebooks/data_table.ipynb>data table notebook</a>'\n",
              "          + ' to learn more about interactive tables.';\n",
              "        element.innerHTML = '';\n",
              "        dataTable['output_type'] = 'display_data';\n",
              "        await google.colab.output.renderOutput(dataTable, element);\n",
              "        const docLink = document.createElement('div');\n",
              "        docLink.innerHTML = docLinkHtml;\n",
              "        element.appendChild(docLink);\n",
              "      }\n",
              "    </script>\n",
              "  </div>\n",
              "\n",
              "\n",
              "<div id=\"df-ae39b593-7119-4f4c-a9cf-26246867e442\">\n",
              "  <button class=\"colab-df-quickchart\" onclick=\"quickchart('df-ae39b593-7119-4f4c-a9cf-26246867e442')\"\n",
              "            title=\"Suggest charts\"\n",
              "            style=\"display:none;\">\n",
              "\n",
              "<svg xmlns=\"http://www.w3.org/2000/svg\" height=\"24px\"viewBox=\"0 0 24 24\"\n",
              "     width=\"24px\">\n",
              "    <g>\n",
              "        <path d=\"M19 3H5c-1.1 0-2 .9-2 2v14c0 1.1.9 2 2 2h14c1.1 0 2-.9 2-2V5c0-1.1-.9-2-2-2zM9 17H7v-7h2v7zm4 0h-2V7h2v10zm4 0h-2v-4h2v4z\"/>\n",
              "    </g>\n",
              "</svg>\n",
              "  </button>\n",
              "\n",
              "<style>\n",
              "  .colab-df-quickchart {\n",
              "      --bg-color: #E8F0FE;\n",
              "      --fill-color: #1967D2;\n",
              "      --hover-bg-color: #E2EBFA;\n",
              "      --hover-fill-color: #174EA6;\n",
              "      --disabled-fill-color: #AAA;\n",
              "      --disabled-bg-color: #DDD;\n",
              "  }\n",
              "\n",
              "  [theme=dark] .colab-df-quickchart {\n",
              "      --bg-color: #3B4455;\n",
              "      --fill-color: #D2E3FC;\n",
              "      --hover-bg-color: #434B5C;\n",
              "      --hover-fill-color: #FFFFFF;\n",
              "      --disabled-bg-color: #3B4455;\n",
              "      --disabled-fill-color: #666;\n",
              "  }\n",
              "\n",
              "  .colab-df-quickchart {\n",
              "    background-color: var(--bg-color);\n",
              "    border: none;\n",
              "    border-radius: 50%;\n",
              "    cursor: pointer;\n",
              "    display: none;\n",
              "    fill: var(--fill-color);\n",
              "    height: 32px;\n",
              "    padding: 0;\n",
              "    width: 32px;\n",
              "  }\n",
              "\n",
              "  .colab-df-quickchart:hover {\n",
              "    background-color: var(--hover-bg-color);\n",
              "    box-shadow: 0 1px 2px rgba(60, 64, 67, 0.3), 0 1px 3px 1px rgba(60, 64, 67, 0.15);\n",
              "    fill: var(--button-hover-fill-color);\n",
              "  }\n",
              "\n",
              "  .colab-df-quickchart-complete:disabled,\n",
              "  .colab-df-quickchart-complete:disabled:hover {\n",
              "    background-color: var(--disabled-bg-color);\n",
              "    fill: var(--disabled-fill-color);\n",
              "    box-shadow: none;\n",
              "  }\n",
              "\n",
              "  .colab-df-spinner {\n",
              "    border: 2px solid var(--fill-color);\n",
              "    border-color: transparent;\n",
              "    border-bottom-color: var(--fill-color);\n",
              "    animation:\n",
              "      spin 1s steps(1) infinite;\n",
              "  }\n",
              "\n",
              "  @keyframes spin {\n",
              "    0% {\n",
              "      border-color: transparent;\n",
              "      border-bottom-color: var(--fill-color);\n",
              "      border-left-color: var(--fill-color);\n",
              "    }\n",
              "    20% {\n",
              "      border-color: transparent;\n",
              "      border-left-color: var(--fill-color);\n",
              "      border-top-color: var(--fill-color);\n",
              "    }\n",
              "    30% {\n",
              "      border-color: transparent;\n",
              "      border-left-color: var(--fill-color);\n",
              "      border-top-color: var(--fill-color);\n",
              "      border-right-color: var(--fill-color);\n",
              "    }\n",
              "    40% {\n",
              "      border-color: transparent;\n",
              "      border-right-color: var(--fill-color);\n",
              "      border-top-color: var(--fill-color);\n",
              "    }\n",
              "    60% {\n",
              "      border-color: transparent;\n",
              "      border-right-color: var(--fill-color);\n",
              "    }\n",
              "    80% {\n",
              "      border-color: transparent;\n",
              "      border-right-color: var(--fill-color);\n",
              "      border-bottom-color: var(--fill-color);\n",
              "    }\n",
              "    90% {\n",
              "      border-color: transparent;\n",
              "      border-bottom-color: var(--fill-color);\n",
              "    }\n",
              "  }\n",
              "</style>\n",
              "\n",
              "  <script>\n",
              "    async function quickchart(key) {\n",
              "      const quickchartButtonEl =\n",
              "        document.querySelector('#' + key + ' button');\n",
              "      quickchartButtonEl.disabled = true;  // To prevent multiple clicks.\n",
              "      quickchartButtonEl.classList.add('colab-df-spinner');\n",
              "      try {\n",
              "        const charts = await google.colab.kernel.invokeFunction(\n",
              "            'suggestCharts', [key], {});\n",
              "      } catch (error) {\n",
              "        console.error('Error during call to suggestCharts:', error);\n",
              "      }\n",
              "      quickchartButtonEl.classList.remove('colab-df-spinner');\n",
              "      quickchartButtonEl.classList.add('colab-df-quickchart-complete');\n",
              "    }\n",
              "    (() => {\n",
              "      let quickchartButtonEl =\n",
              "        document.querySelector('#df-ae39b593-7119-4f4c-a9cf-26246867e442 button');\n",
              "      quickchartButtonEl.style.display =\n",
              "        google.colab.kernel.accessAllowed ? 'block' : 'none';\n",
              "    })();\n",
              "  </script>\n",
              "</div>\n",
              "\n",
              "    </div>\n",
              "  </div>\n"
            ],
            "application/vnd.google.colaboratory.intrinsic+json": {
              "type": "dataframe"
            }
          },
          "metadata": {}
        },
        {
          "output_type": "stream",
          "name": "stdout",
          "text": [
            "(29527, 71)\n",
            "Test scores\n"
          ]
        },
        {
          "output_type": "display_data",
          "data": {
            "text/plain": [
              "               EVENT_LABEL                              EVENT_ID\n",
              "TransactionID                                                   \n",
              "3548013.0                0  f7694eae-43b9-4b6e-b2e4-fb7e54c7b775\n",
              "3548014.0                0  5ac01558-a9de-4a13-ae69-2ffb2b371a05\n",
              "3548015.0                0  609e04fb-5333-4215-98b4-93a469bf7a5e\n",
              "3548016.0                0  b06da596-412a-4b3f-9e95-b03aedd7455a\n",
              "3548017.0                0  e5808b15-9ead-4833-85b7-821a6f1f1f1d"
            ],
            "text/html": [
              "\n",
              "  <div id=\"df-53740d1a-19c7-4a65-98e9-a122d5bdcb12\" class=\"colab-df-container\">\n",
              "    <div>\n",
              "<style scoped>\n",
              "    .dataframe tbody tr th:only-of-type {\n",
              "        vertical-align: middle;\n",
              "    }\n",
              "\n",
              "    .dataframe tbody tr th {\n",
              "        vertical-align: top;\n",
              "    }\n",
              "\n",
              "    .dataframe thead th {\n",
              "        text-align: right;\n",
              "    }\n",
              "</style>\n",
              "<table border=\"1\" class=\"dataframe\">\n",
              "  <thead>\n",
              "    <tr style=\"text-align: right;\">\n",
              "      <th></th>\n",
              "      <th>EVENT_LABEL</th>\n",
              "      <th>EVENT_ID</th>\n",
              "    </tr>\n",
              "    <tr>\n",
              "      <th>TransactionID</th>\n",
              "      <th></th>\n",
              "      <th></th>\n",
              "    </tr>\n",
              "  </thead>\n",
              "  <tbody>\n",
              "    <tr>\n",
              "      <th>3548013.0</th>\n",
              "      <td>0</td>\n",
              "      <td>f7694eae-43b9-4b6e-b2e4-fb7e54c7b775</td>\n",
              "    </tr>\n",
              "    <tr>\n",
              "      <th>3548014.0</th>\n",
              "      <td>0</td>\n",
              "      <td>5ac01558-a9de-4a13-ae69-2ffb2b371a05</td>\n",
              "    </tr>\n",
              "    <tr>\n",
              "      <th>3548015.0</th>\n",
              "      <td>0</td>\n",
              "      <td>609e04fb-5333-4215-98b4-93a469bf7a5e</td>\n",
              "    </tr>\n",
              "    <tr>\n",
              "      <th>3548016.0</th>\n",
              "      <td>0</td>\n",
              "      <td>b06da596-412a-4b3f-9e95-b03aedd7455a</td>\n",
              "    </tr>\n",
              "    <tr>\n",
              "      <th>3548017.0</th>\n",
              "      <td>0</td>\n",
              "      <td>e5808b15-9ead-4833-85b7-821a6f1f1f1d</td>\n",
              "    </tr>\n",
              "  </tbody>\n",
              "</table>\n",
              "</div>\n",
              "    <div class=\"colab-df-buttons\">\n",
              "\n",
              "  <div class=\"colab-df-container\">\n",
              "    <button class=\"colab-df-convert\" onclick=\"convertToInteractive('df-53740d1a-19c7-4a65-98e9-a122d5bdcb12')\"\n",
              "            title=\"Convert this dataframe to an interactive table.\"\n",
              "            style=\"display:none;\">\n",
              "\n",
              "  <svg xmlns=\"http://www.w3.org/2000/svg\" height=\"24px\" viewBox=\"0 -960 960 960\">\n",
              "    <path d=\"M120-120v-720h720v720H120Zm60-500h600v-160H180v160Zm220 220h160v-160H400v160Zm0 220h160v-160H400v160ZM180-400h160v-160H180v160Zm440 0h160v-160H620v160ZM180-180h160v-160H180v160Zm440 0h160v-160H620v160Z\"/>\n",
              "  </svg>\n",
              "    </button>\n",
              "\n",
              "  <style>\n",
              "    .colab-df-container {\n",
              "      display:flex;\n",
              "      gap: 12px;\n",
              "    }\n",
              "\n",
              "    .colab-df-convert {\n",
              "      background-color: #E8F0FE;\n",
              "      border: none;\n",
              "      border-radius: 50%;\n",
              "      cursor: pointer;\n",
              "      display: none;\n",
              "      fill: #1967D2;\n",
              "      height: 32px;\n",
              "      padding: 0 0 0 0;\n",
              "      width: 32px;\n",
              "    }\n",
              "\n",
              "    .colab-df-convert:hover {\n",
              "      background-color: #E2EBFA;\n",
              "      box-shadow: 0px 1px 2px rgba(60, 64, 67, 0.3), 0px 1px 3px 1px rgba(60, 64, 67, 0.15);\n",
              "      fill: #174EA6;\n",
              "    }\n",
              "\n",
              "    .colab-df-buttons div {\n",
              "      margin-bottom: 4px;\n",
              "    }\n",
              "\n",
              "    [theme=dark] .colab-df-convert {\n",
              "      background-color: #3B4455;\n",
              "      fill: #D2E3FC;\n",
              "    }\n",
              "\n",
              "    [theme=dark] .colab-df-convert:hover {\n",
              "      background-color: #434B5C;\n",
              "      box-shadow: 0px 1px 3px 1px rgba(0, 0, 0, 0.15);\n",
              "      filter: drop-shadow(0px 1px 2px rgba(0, 0, 0, 0.3));\n",
              "      fill: #FFFFFF;\n",
              "    }\n",
              "  </style>\n",
              "\n",
              "    <script>\n",
              "      const buttonEl =\n",
              "        document.querySelector('#df-53740d1a-19c7-4a65-98e9-a122d5bdcb12 button.colab-df-convert');\n",
              "      buttonEl.style.display =\n",
              "        google.colab.kernel.accessAllowed ? 'block' : 'none';\n",
              "\n",
              "      async function convertToInteractive(key) {\n",
              "        const element = document.querySelector('#df-53740d1a-19c7-4a65-98e9-a122d5bdcb12');\n",
              "        const dataTable =\n",
              "          await google.colab.kernel.invokeFunction('convertToInteractive',\n",
              "                                                    [key], {});\n",
              "        if (!dataTable) return;\n",
              "\n",
              "        const docLinkHtml = 'Like what you see? Visit the ' +\n",
              "          '<a target=\"_blank\" href=https://colab.research.google.com/notebooks/data_table.ipynb>data table notebook</a>'\n",
              "          + ' to learn more about interactive tables.';\n",
              "        element.innerHTML = '';\n",
              "        dataTable['output_type'] = 'display_data';\n",
              "        await google.colab.output.renderOutput(dataTable, element);\n",
              "        const docLink = document.createElement('div');\n",
              "        docLink.innerHTML = docLinkHtml;\n",
              "        element.appendChild(docLink);\n",
              "      }\n",
              "    </script>\n",
              "  </div>\n",
              "\n",
              "\n",
              "<div id=\"df-12c513ef-d52e-479a-9f08-8191771b5195\">\n",
              "  <button class=\"colab-df-quickchart\" onclick=\"quickchart('df-12c513ef-d52e-479a-9f08-8191771b5195')\"\n",
              "            title=\"Suggest charts\"\n",
              "            style=\"display:none;\">\n",
              "\n",
              "<svg xmlns=\"http://www.w3.org/2000/svg\" height=\"24px\"viewBox=\"0 0 24 24\"\n",
              "     width=\"24px\">\n",
              "    <g>\n",
              "        <path d=\"M19 3H5c-1.1 0-2 .9-2 2v14c0 1.1.9 2 2 2h14c1.1 0 2-.9 2-2V5c0-1.1-.9-2-2-2zM9 17H7v-7h2v7zm4 0h-2V7h2v10zm4 0h-2v-4h2v4z\"/>\n",
              "    </g>\n",
              "</svg>\n",
              "  </button>\n",
              "\n",
              "<style>\n",
              "  .colab-df-quickchart {\n",
              "      --bg-color: #E8F0FE;\n",
              "      --fill-color: #1967D2;\n",
              "      --hover-bg-color: #E2EBFA;\n",
              "      --hover-fill-color: #174EA6;\n",
              "      --disabled-fill-color: #AAA;\n",
              "      --disabled-bg-color: #DDD;\n",
              "  }\n",
              "\n",
              "  [theme=dark] .colab-df-quickchart {\n",
              "      --bg-color: #3B4455;\n",
              "      --fill-color: #D2E3FC;\n",
              "      --hover-bg-color: #434B5C;\n",
              "      --hover-fill-color: #FFFFFF;\n",
              "      --disabled-bg-color: #3B4455;\n",
              "      --disabled-fill-color: #666;\n",
              "  }\n",
              "\n",
              "  .colab-df-quickchart {\n",
              "    background-color: var(--bg-color);\n",
              "    border: none;\n",
              "    border-radius: 50%;\n",
              "    cursor: pointer;\n",
              "    display: none;\n",
              "    fill: var(--fill-color);\n",
              "    height: 32px;\n",
              "    padding: 0;\n",
              "    width: 32px;\n",
              "  }\n",
              "\n",
              "  .colab-df-quickchart:hover {\n",
              "    background-color: var(--hover-bg-color);\n",
              "    box-shadow: 0 1px 2px rgba(60, 64, 67, 0.3), 0 1px 3px 1px rgba(60, 64, 67, 0.15);\n",
              "    fill: var(--button-hover-fill-color);\n",
              "  }\n",
              "\n",
              "  .colab-df-quickchart-complete:disabled,\n",
              "  .colab-df-quickchart-complete:disabled:hover {\n",
              "    background-color: var(--disabled-bg-color);\n",
              "    fill: var(--disabled-fill-color);\n",
              "    box-shadow: none;\n",
              "  }\n",
              "\n",
              "  .colab-df-spinner {\n",
              "    border: 2px solid var(--fill-color);\n",
              "    border-color: transparent;\n",
              "    border-bottom-color: var(--fill-color);\n",
              "    animation:\n",
              "      spin 1s steps(1) infinite;\n",
              "  }\n",
              "\n",
              "  @keyframes spin {\n",
              "    0% {\n",
              "      border-color: transparent;\n",
              "      border-bottom-color: var(--fill-color);\n",
              "      border-left-color: var(--fill-color);\n",
              "    }\n",
              "    20% {\n",
              "      border-color: transparent;\n",
              "      border-left-color: var(--fill-color);\n",
              "      border-top-color: var(--fill-color);\n",
              "    }\n",
              "    30% {\n",
              "      border-color: transparent;\n",
              "      border-left-color: var(--fill-color);\n",
              "      border-top-color: var(--fill-color);\n",
              "      border-right-color: var(--fill-color);\n",
              "    }\n",
              "    40% {\n",
              "      border-color: transparent;\n",
              "      border-right-color: var(--fill-color);\n",
              "      border-top-color: var(--fill-color);\n",
              "    }\n",
              "    60% {\n",
              "      border-color: transparent;\n",
              "      border-right-color: var(--fill-color);\n",
              "    }\n",
              "    80% {\n",
              "      border-color: transparent;\n",
              "      border-right-color: var(--fill-color);\n",
              "      border-bottom-color: var(--fill-color);\n",
              "    }\n",
              "    90% {\n",
              "      border-color: transparent;\n",
              "      border-bottom-color: var(--fill-color);\n",
              "    }\n",
              "  }\n",
              "</style>\n",
              "\n",
              "  <script>\n",
              "    async function quickchart(key) {\n",
              "      const quickchartButtonEl =\n",
              "        document.querySelector('#' + key + ' button');\n",
              "      quickchartButtonEl.disabled = true;  // To prevent multiple clicks.\n",
              "      quickchartButtonEl.classList.add('colab-df-spinner');\n",
              "      try {\n",
              "        const charts = await google.colab.kernel.invokeFunction(\n",
              "            'suggestCharts', [key], {});\n",
              "      } catch (error) {\n",
              "        console.error('Error during call to suggestCharts:', error);\n",
              "      }\n",
              "      quickchartButtonEl.classList.remove('colab-df-spinner');\n",
              "      quickchartButtonEl.classList.add('colab-df-quickchart-complete');\n",
              "    }\n",
              "    (() => {\n",
              "      let quickchartButtonEl =\n",
              "        document.querySelector('#df-12c513ef-d52e-479a-9f08-8191771b5195 button');\n",
              "      quickchartButtonEl.style.display =\n",
              "        google.colab.kernel.accessAllowed ? 'block' : 'none';\n",
              "    })();\n",
              "  </script>\n",
              "</div>\n",
              "\n",
              "    </div>\n",
              "  </div>\n"
            ],
            "application/vnd.google.colaboratory.intrinsic+json": {
              "type": "dataframe",
              "summary": "{\n  \"name\": \"print('=========')\",\n  \"rows\": 5,\n  \"fields\": [\n    {\n      \"column\": \"TransactionID\",\n      \"properties\": {\n        \"dtype\": \"float32\",\n        \"num_unique_values\": 5,\n        \"samples\": [\n          3548014.0,\n          3548017.0,\n          3548015.0\n        ],\n        \"semantic_type\": \"\",\n        \"description\": \"\"\n      }\n    },\n    {\n      \"column\": \"EVENT_LABEL\",\n      \"properties\": {\n        \"dtype\": \"number\",\n        \"std\": 0,\n        \"min\": 0,\n        \"max\": 0,\n        \"num_unique_values\": 1,\n        \"samples\": [\n          0\n        ],\n        \"semantic_type\": \"\",\n        \"description\": \"\"\n      }\n    },\n    {\n      \"column\": \"EVENT_ID\",\n      \"properties\": {\n        \"dtype\": \"string\",\n        \"num_unique_values\": 5,\n        \"samples\": [\n          \"5ac01558-a9de-4a13-ae69-2ffb2b371a05\"\n        ],\n        \"semantic_type\": \"\",\n        \"description\": \"\"\n      }\n    }\n  ]\n}"
            }
          },
          "metadata": {}
        },
        {
          "output_type": "stream",
          "name": "stdout",
          "text": [
            "EVENT_LABEL\n",
            "0    28358\n",
            "1     1169\n",
            "Name: count, dtype: int64\n",
            "EVENT_LABEL\n",
            "0    0.965252\n",
            "1    0.034748\n",
            "Name: proportion, dtype: float64\n",
            "=========\n"
          ]
        }
      ]
    },
    {
      "cell_type": "markdown",
      "source": [
        "Encode categorical columns and preprocess dataset."
      ],
      "metadata": {
        "id": "JIGwmJcRDltD"
      }
    },
    {
      "cell_type": "code",
      "source": [
        "label_encoder = LabelEncoder()\n",
        "categorical_cols = ['productcd', 'card6', 'p_emaildomain','r_emaildomain', 'devicetype', 'deviceinfo']\n",
        "\n",
        "# encode categorical columns\n",
        "ieee_dataset_train = obj.train.reset_index()\n",
        "ieee_dataset_train[categorical_cols] = ieee_dataset_train[categorical_cols].apply(lambda col: label_encoder.fit_transform(col))\n",
        "\n",
        "ieee_dataset_train.replace([np.inf, -np.inf, np.nan], 0, inplace=True)\n",
        "ieee_dataset_train.dropna(inplace=True)"
      ],
      "metadata": {
        "id": "djPrCW2UDmJO"
      },
      "execution_count": 7,
      "outputs": []
    },
    {
      "cell_type": "markdown",
      "source": [
        "Uploading datasets."
      ],
      "metadata": {
        "id": "Q6HVPguhEwOa"
      }
    },
    {
      "cell_type": "code",
      "source": [
        "ieee_features_df = ieee_dataset_train.drop(columns=['EVENT_LABEL', 'EVENT_ID', 'ENTITY_ID', 'EVENT_TIMESTAMP', 'LABEL_TIMESTAMP', 'ENTITY_TYPE','TransactionID']).reset_index()\n",
        "ieee_labels_df = ieee_dataset_train['EVENT_LABEL'].reset_index()\n",
        "\n",
        "\n",
        "ieee_features = tb.PandasDataset(\n",
        "  dataset_name=\"ieee_features\",\n",
        "  key_field=\"index\",\n",
        "  dataframe=ieee_features_df,\n",
        "  upload=True,\n",
        ")\n",
        "\n",
        "ieee_labels = tb.PandasDataset(\n",
        "  dataset_name=\"ieee_labels\",\n",
        "  key_field=\"index\",\n",
        "  dataframe=ieee_labels_df,\n",
        "  upload=True,\n",
        ")"
      ],
      "metadata": {
        "colab": {
          "base_uri": "https://localhost:8080/"
        },
        "id": "cekwekW_EUZK",
        "outputId": "ac0610b8-78df-4259-d327-5782662ac7b1"
      },
      "execution_count": 8,
      "outputs": [
        {
          "output_type": "stream",
          "name": "stderr",
          "text": [
            "INFO:turboml.common.dataloader:Uploading 561013 rows to dataset ieee_features\n",
            "Progress: 100%|██████████| 561k/561k [00:20<00:00, 26.8krows/s]\n",
            "INFO:turboml.common.dataloader:Upload complete. Waiting for server to process messages.\n",
            "INFO:turboml.common.dataloader:Uploading 561013 rows to dataset ieee_labels\n",
            "Progress: 100%|██████████| 561k/561k [00:02<00:00, 195krows/s]\n",
            "INFO:turboml.common.dataloader:Upload complete. Waiting for server to process messages.\n"
          ]
        }
      ]
    },
    {
      "cell_type": "markdown",
      "source": [
        "# Benchmarking Models"
      ],
      "metadata": {
        "id": "hKOz5um9Es1S"
      }
    },
    {
      "cell_type": "code",
      "source": [
        "numerical_fields = [\n",
        "    \"transactionamt\", \"productcd\", \"card1\", \"card2\", \"card3\", \"card5\", \"card6\",\n",
        "    \"addr1\", \"dist1\", \"p_emaildomain\", \"r_emaildomain\", \"c1\", \"c2\", \"c4\", \"c5\", \"c6\", \"c7\", \"c8\", \"c9\", \"c10\",\n",
        "    \"c11\", \"c12\", \"c13\", \"c14\", \"v62\", \"v70\", \"v76\", \"v78\", \"v82\", \"v91\", \"v127\", \"v130\", \"v139\", \"v160\", \"v165\",\n",
        "    \"v187\", \"v203\", \"v207\", \"v209\", \"v210\", \"v221\", \"v234\", \"v257\", \"v258\", \"v261\", \"v264\", \"v266\", \"v267\",\n",
        "    \"v271\", \"v274\", \"v277\", \"v283\", \"v285\", \"v289\", \"v291\", \"v294\", \"id_01\", \"id_02\", \"id_05\", \"id_06\", \"id_09\",\n",
        "    \"id_13\", \"id_17\", \"id_19\", \"id_20\", \"devicetype\", \"deviceinfo\"\n",
        "]\n",
        "features = ieee_features.get_input_fields(numerical_fields=numerical_fields)\n",
        "label = ieee_labels.get_label_field(label_field=\"EVENT_LABEL\")"
      ],
      "metadata": {
        "id": "OPopWCyxEugM"
      },
      "execution_count": 9,
      "outputs": []
    },
    {
      "cell_type": "markdown",
      "source": [
        "Use TurboML models"
      ],
      "metadata": {
        "id": "O3RaWWFEFNrb"
      }
    },
    {
      "cell_type": "code",
      "source": [
        "axgb_model =  tb.AdaptiveXGBoost(n_classes=2, max_depth=12,learning_rate=0.05)\n",
        "htc_model = tb.HoeffdingTreeClassifier(n_classes=2)"
      ],
      "metadata": {
        "id": "6qnIYARlE-j1"
      },
      "execution_count": 10,
      "outputs": []
    },
    {
      "cell_type": "markdown",
      "source": [
        "Deploy Models"
      ],
      "metadata": {
        "id": "9QpO12kJFRRo"
      }
    },
    {
      "cell_type": "code",
      "source": [
        "deployed_axgb_model = axgb_model.deploy(name=\"axgb_model\", input=features, labels=label)\n",
        "deployed_htc_model = htc_model.deploy(name=\"htc_model\", input=features, labels=label)"
      ],
      "metadata": {
        "id": "yFf_zdGCFS2U"
      },
      "execution_count": 11,
      "outputs": []
    },
    {
      "cell_type": "code",
      "source": [
        "output_axgb = deployed_axgb_model.get_outputs()\n",
        "output_htc = deployed_htc_model.get_outputs()"
      ],
      "metadata": {
        "colab": {
          "base_uri": "https://localhost:8080/"
        },
        "id": "QrIH0-vcFZDM",
        "outputId": "dd85f356-1d07-454e-a124-cbd90dcb4f66"
      },
      "execution_count": 12,
      "outputs": [
        {
          "metadata": {
            "tags": null
          },
          "name": "stderr",
          "output_type": "stream",
          "text": [
            "INFO:turboml.common.dataloader:Yielded 5000 records (1 batches) in 1 seconds\n",
            "INFO:turboml.common.dataloader:Yielded 195000 records (39 batches) in 5 seconds\n",
            "INFO:turboml.common.dataloader:Yielded 215000 records (43 batches) in 8 seconds\n",
            "INFO:turboml.common.dataloader:Yielded 250000 records (50 batches) in 12 seconds\n",
            "INFO:turboml.common.dataloader:Yielded 275000 records (55 batches) in 15 seconds\n",
            "INFO:turboml.common.dataloader:Yielded 305000 records (61 batches) in 18 seconds\n",
            "INFO:turboml.common.dataloader:Yielded 335000 records (67 batches) in 21 seconds\n",
            "INFO:turboml.common.dataloader:Yielded 365000 records (73 batches) in 24 seconds\n",
            "INFO:turboml.common.dataloader:Yielded 395000 records (79 batches) in 27 seconds\n",
            "INFO:turboml.common.dataloader:Yielded 425000 records (85 batches) in 31 seconds\n",
            "INFO:turboml.common.dataloader:Yielded 455000 records (91 batches) in 34 seconds\n",
            "INFO:turboml.common.dataloader:Yielded 485000 records (97 batches) in 37 seconds\n",
            "INFO:turboml.common.dataloader:Yielded 515000 records (103 batches) in 40 seconds\n",
            "INFO:turboml.common.dataloader:Yielded 535000 records (107 batches) in 43 seconds\n",
            "INFO:turboml.common.dataloader:Yielded 560000 records (112 batches) in 47 seconds\n",
            "INFO:turboml.common.dataloader:Yielded 561013 records (113 batches) in 49 seconds\n",
            "INFO:turboml.common.dataloader:Yielded 5000 records (1 batches) in 1 seconds\n",
            "INFO:turboml.common.dataloader:Yielded 485000 records (97 batches) in 4 seconds\n",
            "INFO:turboml.common.dataloader:Yielded 561013 records (113 batches) in 6 seconds\n"
          ]
        }
      ]
    },
    {
      "cell_type": "code",
      "source": [
        "deployed_axgb_model.add_metric(\"WindowedAccuracy\")\n",
        "deployed_htc_model.add_metric(\"WindowedAccuracy\")"
      ],
      "metadata": {
        "id": "qvFZO0DQFtZt"
      },
      "execution_count": 15,
      "outputs": []
    },
    {
      "cell_type": "markdown",
      "source": [
        "Get WindowedAccuracy for last 100 windows."
      ],
      "metadata": {
        "id": "DJGFUEKYF5D6"
      }
    },
    {
      "cell_type": "code",
      "source": [
        "# Taking middle 50 window accuracies\n",
        "axgb_accuracy = deployed_axgb_model.get_evaluation(\"WindowedAccuracy\")[-100:-50]\n",
        "htc_accuracy = deployed_htc_model.get_evaluation(\"WindowedAccuracy\")[-100:-50]\n",
        "print(f\"Adaptive XGBoost:  {axgb_accuracy[-1].metric}\")\n",
        "print(f\"Hoeffding Tree Classifier:  {htc_accuracy[-1].metric}\")"
      ],
      "metadata": {
        "colab": {
          "base_uri": "https://localhost:8080/"
        },
        "id": "5_6o_ioeFzF1",
        "outputId": "5ed45075-1d6a-4a6d-d239-afca57eb7168"
      },
      "execution_count": 29,
      "outputs": [
        {
          "output_type": "stream",
          "name": "stdout",
          "text": [
            "Adaptive XGBoost:  0.9639999866485596\n",
            "Hoeffding Tree Classifier:  0.9639999866485596\n"
          ]
        }
      ]
    },
    {
      "cell_type": "markdown",
      "source": [
        "# Plot Graph: Accuracy Comparison"
      ],
      "metadata": {
        "id": "Gk1nV0V4GKq0"
      }
    },
    {
      "cell_type": "code",
      "source": [
        "fig = go.Figure()\n",
        "\n",
        "fig.add_trace(go.Scatter(\n",
        "    x=[item.index for item in axgb_accuracy],\n",
        "    y=[item.metric for item in axgb_accuracy],\n",
        "    mode='lines+markers',\n",
        "    name='axgb accuracy'\n",
        "))\n",
        "\n",
        "fig.add_trace(go.Scatter(\n",
        "    x=[item.index for item in htc_accuracy],\n",
        "    y=[item.metric for item in htc_accuracy],\n",
        "    mode='lines+markers',\n",
        "    name='htc accuracy'\n",
        "))\n",
        "\n",
        "\n",
        "fig.update_layout(\n",
        "    title=\"Accuracy Comparison\",\n",
        "    xaxis_title=\"Window\",\n",
        "    yaxis_title=\"Accuracy\",\n",
        "    template=\"plotly_dark\"\n",
        ")\n",
        "\n",
        "fig.show(\"svg\")"
      ],
      "metadata": {
        "colab": {
          "base_uri": "https://localhost:8080/",
          "height": 521
        },
        "id": "7lOcD5v5GNKJ",
        "outputId": "21ae89b2-290d-4104-d96f-e7a795d0a996"
      },
      "execution_count": 31,
      "outputs": [
        {
          "output_type": "display_data",
          "data": {
            "image/svg+xml": "<svg class=\"main-svg\" xmlns=\"http://www.w3.org/2000/svg\" xmlns:xlink=\"http://www.w3.org/1999/xlink\" width=\"700\" height=\"500\" style=\"\" viewBox=\"0 0 700 500\"><rect x=\"0\" y=\"0\" width=\"700\" height=\"500\" style=\"fill: rgb(17, 17, 17); fill-opacity: 1;\"/><defs id=\"defs-3d04d9\"><g class=\"clips\"><clipPath id=\"clip3d04d9xyplot\" class=\"plotclip\"><rect width=\"475\" height=\"320\"/></clipPath><clipPath class=\"axesclip\" id=\"clip3d04d9x\"><rect x=\"80\" y=\"0\" width=\"475\" height=\"500\"/></clipPath><clipPath class=\"axesclip\" id=\"clip3d04d9y\"><rect x=\"0\" y=\"100\" width=\"700\" height=\"320\"/></clipPath><clipPath class=\"axesclip\" id=\"clip3d04d9xy\"><rect x=\"80\" y=\"100\" width=\"475\" height=\"320\"/></clipPath></g><g class=\"gradients\"/><g class=\"patterns\"/></defs><g class=\"bglayer\"/><g class=\"layer-below\"><g class=\"imagelayer\"/><g class=\"shapelayer\"/></g><g class=\"cartesianlayer\"><g class=\"subplot xy\"><g class=\"layer-subplot\"><g class=\"shapelayer\"/><g class=\"imagelayer\"/></g><g class=\"minor-gridlayer\"><g class=\"x\"/><g class=\"y\"/></g><g class=\"gridlayer\"><g class=\"x\"><path class=\"xgrid crisp\" transform=\"translate(81.79,0)\" d=\"M0,100v320\" style=\"stroke: rgb(40, 52, 66); stroke-opacity: 1; stroke-width: 1px;\"/><path class=\"xgrid crisp\" transform=\"translate(167.5,0)\" d=\"M0,100v320\" style=\"stroke: rgb(40, 52, 66); stroke-opacity: 1; stroke-width: 1px;\"/><path class=\"xgrid crisp\" transform=\"translate(253.21,0)\" d=\"M0,100v320\" style=\"stroke: rgb(40, 52, 66); stroke-opacity: 1; stroke-width: 1px;\"/><path class=\"xgrid crisp\" transform=\"translate(338.93,0)\" d=\"M0,100v320\" style=\"stroke: rgb(40, 52, 66); stroke-opacity: 1; stroke-width: 1px;\"/><path class=\"xgrid crisp\" transform=\"translate(424.64,0)\" d=\"M0,100v320\" style=\"stroke: rgb(40, 52, 66); stroke-opacity: 1; stroke-width: 1px;\"/><path class=\"xgrid crisp\" transform=\"translate(510.36,0)\" d=\"M0,100v320\" style=\"stroke: rgb(40, 52, 66); stroke-opacity: 1; stroke-width: 1px;\"/></g><g class=\"y\"><path class=\"ygrid crisp\" transform=\"translate(0,388.05)\" d=\"M80,0h475\" style=\"stroke: rgb(40, 52, 66); stroke-opacity: 1; stroke-width: 1px;\"/><path class=\"ygrid crisp\" transform=\"translate(0,339.27)\" d=\"M80,0h475\" style=\"stroke: rgb(40, 52, 66); stroke-opacity: 1; stroke-width: 1px;\"/><path class=\"ygrid crisp\" transform=\"translate(0,290.49)\" d=\"M80,0h475\" style=\"stroke: rgb(40, 52, 66); stroke-opacity: 1; stroke-width: 1px;\"/><path class=\"ygrid crisp\" transform=\"translate(0,241.71)\" d=\"M80,0h475\" style=\"stroke: rgb(40, 52, 66); stroke-opacity: 1; stroke-width: 1px;\"/><path class=\"ygrid crisp\" transform=\"translate(0,192.92000000000002)\" d=\"M80,0h475\" style=\"stroke: rgb(40, 52, 66); stroke-opacity: 1; stroke-width: 1px;\"/><path class=\"ygrid crisp\" transform=\"translate(0,144.14)\" d=\"M80,0h475\" style=\"stroke: rgb(40, 52, 66); stroke-opacity: 1; stroke-width: 1px;\"/></g></g><g class=\"zerolinelayer\"/><g class=\"layer-between\"><g class=\"shapelayer\"/><g class=\"imagelayer\"/></g><path class=\"xlines-below\"/><path class=\"ylines-below\"/><g class=\"overlines-below\"/><g class=\"xaxislayer-below\"/><g class=\"yaxislayer-below\"/><g class=\"overaxes-below\"/><g class=\"overplot\"><g class=\"xy\" transform=\"translate(80,100)\" clip-path=\"url(#clip3d04d9xyplot)\"><g class=\"scatterlayer mlayer\"><g class=\"trace scatter tracefa090c\" style=\"stroke-miterlimit: 2; opacity: 1;\"><g class=\"fills\"/><g class=\"errorbars\"/><g class=\"lines\"><path class=\"js-line\" d=\"M27.5,85.61L36.07,80.73L44.64,170.98L53.21,88.05L61.79,124.63L70.36,85.61L78.93,83.17L87.5,141.71L96.07,107.56L104.64,88.05L113.21,127.07L121.79,105.12L130.36,117.32L138.93,131.95L147.5,85.61L156.07,100.24L164.64,68.53L173.21,90.48L181.79,117.32L190.36,80.73L198.93,88.05L207.5,63.65L216.07,85.61L224.64,136.83L233.21,83.17L241.79,95.36L250.36,112.44L258.93,85.61L267.5,92.92L276.07,97.8L284.64,300.25L293.21,129.51L301.79,73.41L310.36,78.29L318.93,90.48L327.5,112.44L336.07,68.53L344.64,88.05L353.21,63.65L361.79,66.09L370.36,44.14L378.93,95.36L387.5,95.36L396.07,83.17L404.64,56.34L413.21,58.78L421.79,73.41L430.36,80.73L438.93,68.53L447.5,83.17\" style=\"vector-effect: none; fill: none; stroke: rgb(99, 110, 250); stroke-opacity: 1; stroke-width: 2px; opacity: 1;\"/></g><g class=\"points\"><path class=\"point\" transform=\"translate(27.5,85.61)\" d=\"M3,0A3,3 0 1,1 0,-3A3,3 0 0,1 3,0Z\" style=\"opacity: 1; stroke-width: 0px; fill: rgb(99, 110, 250); fill-opacity: 1;\"/><path class=\"point\" transform=\"translate(36.07,80.73)\" d=\"M3,0A3,3 0 1,1 0,-3A3,3 0 0,1 3,0Z\" style=\"opacity: 1; stroke-width: 0px; fill: rgb(99, 110, 250); fill-opacity: 1;\"/><path class=\"point\" transform=\"translate(44.64,170.98)\" d=\"M3,0A3,3 0 1,1 0,-3A3,3 0 0,1 3,0Z\" style=\"opacity: 1; stroke-width: 0px; fill: rgb(99, 110, 250); fill-opacity: 1;\"/><path class=\"point\" transform=\"translate(53.21,88.05)\" d=\"M3,0A3,3 0 1,1 0,-3A3,3 0 0,1 3,0Z\" style=\"opacity: 1; stroke-width: 0px; fill: rgb(99, 110, 250); fill-opacity: 1;\"/><path class=\"point\" transform=\"translate(61.79,124.63)\" d=\"M3,0A3,3 0 1,1 0,-3A3,3 0 0,1 3,0Z\" style=\"opacity: 1; stroke-width: 0px; fill: rgb(99, 110, 250); fill-opacity: 1;\"/><path class=\"point\" transform=\"translate(70.36,85.61)\" d=\"M3,0A3,3 0 1,1 0,-3A3,3 0 0,1 3,0Z\" style=\"opacity: 1; stroke-width: 0px; fill: rgb(99, 110, 250); fill-opacity: 1;\"/><path class=\"point\" transform=\"translate(78.93,83.17)\" d=\"M3,0A3,3 0 1,1 0,-3A3,3 0 0,1 3,0Z\" style=\"opacity: 1; stroke-width: 0px; fill: rgb(99, 110, 250); fill-opacity: 1;\"/><path class=\"point\" transform=\"translate(87.5,141.71)\" d=\"M3,0A3,3 0 1,1 0,-3A3,3 0 0,1 3,0Z\" style=\"opacity: 1; stroke-width: 0px; fill: rgb(99, 110, 250); fill-opacity: 1;\"/><path class=\"point\" transform=\"translate(96.07,107.56)\" d=\"M3,0A3,3 0 1,1 0,-3A3,3 0 0,1 3,0Z\" style=\"opacity: 1; stroke-width: 0px; fill: rgb(99, 110, 250); fill-opacity: 1;\"/><path class=\"point\" transform=\"translate(104.64,88.05)\" d=\"M3,0A3,3 0 1,1 0,-3A3,3 0 0,1 3,0Z\" style=\"opacity: 1; stroke-width: 0px; fill: rgb(99, 110, 250); fill-opacity: 1;\"/><path class=\"point\" transform=\"translate(113.21,127.07)\" d=\"M3,0A3,3 0 1,1 0,-3A3,3 0 0,1 3,0Z\" style=\"opacity: 1; stroke-width: 0px; fill: rgb(99, 110, 250); fill-opacity: 1;\"/><path class=\"point\" transform=\"translate(121.79,105.12)\" d=\"M3,0A3,3 0 1,1 0,-3A3,3 0 0,1 3,0Z\" style=\"opacity: 1; stroke-width: 0px; fill: rgb(99, 110, 250); fill-opacity: 1;\"/><path class=\"point\" transform=\"translate(130.36,117.32)\" d=\"M3,0A3,3 0 1,1 0,-3A3,3 0 0,1 3,0Z\" style=\"opacity: 1; stroke-width: 0px; fill: rgb(99, 110, 250); fill-opacity: 1;\"/><path class=\"point\" transform=\"translate(138.93,131.95)\" d=\"M3,0A3,3 0 1,1 0,-3A3,3 0 0,1 3,0Z\" style=\"opacity: 1; stroke-width: 0px; fill: rgb(99, 110, 250); fill-opacity: 1;\"/><path class=\"point\" transform=\"translate(147.5,85.61)\" d=\"M3,0A3,3 0 1,1 0,-3A3,3 0 0,1 3,0Z\" style=\"opacity: 1; stroke-width: 0px; fill: rgb(99, 110, 250); fill-opacity: 1;\"/><path class=\"point\" transform=\"translate(156.07,100.24)\" d=\"M3,0A3,3 0 1,1 0,-3A3,3 0 0,1 3,0Z\" style=\"opacity: 1; stroke-width: 0px; fill: rgb(99, 110, 250); fill-opacity: 1;\"/><path class=\"point\" transform=\"translate(164.64,68.53)\" d=\"M3,0A3,3 0 1,1 0,-3A3,3 0 0,1 3,0Z\" style=\"opacity: 1; stroke-width: 0px; fill: rgb(99, 110, 250); fill-opacity: 1;\"/><path class=\"point\" transform=\"translate(173.21,90.48)\" d=\"M3,0A3,3 0 1,1 0,-3A3,3 0 0,1 3,0Z\" style=\"opacity: 1; stroke-width: 0px; fill: rgb(99, 110, 250); fill-opacity: 1;\"/><path class=\"point\" transform=\"translate(181.79,117.32)\" d=\"M3,0A3,3 0 1,1 0,-3A3,3 0 0,1 3,0Z\" style=\"opacity: 1; stroke-width: 0px; fill: rgb(99, 110, 250); fill-opacity: 1;\"/><path class=\"point\" transform=\"translate(190.36,80.73)\" d=\"M3,0A3,3 0 1,1 0,-3A3,3 0 0,1 3,0Z\" style=\"opacity: 1; stroke-width: 0px; fill: rgb(99, 110, 250); fill-opacity: 1;\"/><path class=\"point\" transform=\"translate(198.93,88.05)\" d=\"M3,0A3,3 0 1,1 0,-3A3,3 0 0,1 3,0Z\" style=\"opacity: 1; stroke-width: 0px; fill: rgb(99, 110, 250); fill-opacity: 1;\"/><path class=\"point\" transform=\"translate(207.5,63.65)\" d=\"M3,0A3,3 0 1,1 0,-3A3,3 0 0,1 3,0Z\" style=\"opacity: 1; stroke-width: 0px; fill: rgb(99, 110, 250); fill-opacity: 1;\"/><path class=\"point\" transform=\"translate(216.07,85.61)\" d=\"M3,0A3,3 0 1,1 0,-3A3,3 0 0,1 3,0Z\" style=\"opacity: 1; stroke-width: 0px; fill: rgb(99, 110, 250); fill-opacity: 1;\"/><path class=\"point\" transform=\"translate(224.64,136.83)\" d=\"M3,0A3,3 0 1,1 0,-3A3,3 0 0,1 3,0Z\" style=\"opacity: 1; stroke-width: 0px; fill: rgb(99, 110, 250); fill-opacity: 1;\"/><path class=\"point\" transform=\"translate(233.21,83.17)\" d=\"M3,0A3,3 0 1,1 0,-3A3,3 0 0,1 3,0Z\" style=\"opacity: 1; stroke-width: 0px; fill: rgb(99, 110, 250); fill-opacity: 1;\"/><path class=\"point\" transform=\"translate(241.79,95.36)\" d=\"M3,0A3,3 0 1,1 0,-3A3,3 0 0,1 3,0Z\" style=\"opacity: 1; stroke-width: 0px; fill: rgb(99, 110, 250); fill-opacity: 1;\"/><path class=\"point\" transform=\"translate(250.36,112.44)\" d=\"M3,0A3,3 0 1,1 0,-3A3,3 0 0,1 3,0Z\" style=\"opacity: 1; stroke-width: 0px; fill: rgb(99, 110, 250); fill-opacity: 1;\"/><path class=\"point\" transform=\"translate(258.93,85.61)\" d=\"M3,0A3,3 0 1,1 0,-3A3,3 0 0,1 3,0Z\" style=\"opacity: 1; stroke-width: 0px; fill: rgb(99, 110, 250); fill-opacity: 1;\"/><path class=\"point\" transform=\"translate(267.5,92.92)\" d=\"M3,0A3,3 0 1,1 0,-3A3,3 0 0,1 3,0Z\" style=\"opacity: 1; stroke-width: 0px; fill: rgb(99, 110, 250); fill-opacity: 1;\"/><path class=\"point\" transform=\"translate(276.07,97.8)\" d=\"M3,0A3,3 0 1,1 0,-3A3,3 0 0,1 3,0Z\" style=\"opacity: 1; stroke-width: 0px; fill: rgb(99, 110, 250); fill-opacity: 1;\"/><path class=\"point\" transform=\"translate(284.64,300.25)\" d=\"M3,0A3,3 0 1,1 0,-3A3,3 0 0,1 3,0Z\" style=\"opacity: 1; stroke-width: 0px; fill: rgb(99, 110, 250); fill-opacity: 1;\"/><path class=\"point\" transform=\"translate(293.21,129.51)\" d=\"M3,0A3,3 0 1,1 0,-3A3,3 0 0,1 3,0Z\" style=\"opacity: 1; stroke-width: 0px; fill: rgb(99, 110, 250); fill-opacity: 1;\"/><path class=\"point\" transform=\"translate(301.79,73.41)\" d=\"M3,0A3,3 0 1,1 0,-3A3,3 0 0,1 3,0Z\" style=\"opacity: 1; stroke-width: 0px; fill: rgb(99, 110, 250); fill-opacity: 1;\"/><path class=\"point\" transform=\"translate(310.36,78.29)\" d=\"M3,0A3,3 0 1,1 0,-3A3,3 0 0,1 3,0Z\" style=\"opacity: 1; stroke-width: 0px; fill: rgb(99, 110, 250); fill-opacity: 1;\"/><path class=\"point\" transform=\"translate(318.93,90.48)\" d=\"M3,0A3,3 0 1,1 0,-3A3,3 0 0,1 3,0Z\" style=\"opacity: 1; stroke-width: 0px; fill: rgb(99, 110, 250); fill-opacity: 1;\"/><path class=\"point\" transform=\"translate(327.5,112.44)\" d=\"M3,0A3,3 0 1,1 0,-3A3,3 0 0,1 3,0Z\" style=\"opacity: 1; stroke-width: 0px; fill: rgb(99, 110, 250); fill-opacity: 1;\"/><path class=\"point\" transform=\"translate(336.07,68.53)\" d=\"M3,0A3,3 0 1,1 0,-3A3,3 0 0,1 3,0Z\" style=\"opacity: 1; stroke-width: 0px; fill: rgb(99, 110, 250); fill-opacity: 1;\"/><path class=\"point\" transform=\"translate(344.64,88.05)\" d=\"M3,0A3,3 0 1,1 0,-3A3,3 0 0,1 3,0Z\" style=\"opacity: 1; stroke-width: 0px; fill: rgb(99, 110, 250); fill-opacity: 1;\"/><path class=\"point\" transform=\"translate(353.21,63.65)\" d=\"M3,0A3,3 0 1,1 0,-3A3,3 0 0,1 3,0Z\" style=\"opacity: 1; stroke-width: 0px; fill: rgb(99, 110, 250); fill-opacity: 1;\"/><path class=\"point\" transform=\"translate(361.79,66.09)\" d=\"M3,0A3,3 0 1,1 0,-3A3,3 0 0,1 3,0Z\" style=\"opacity: 1; stroke-width: 0px; fill: rgb(99, 110, 250); fill-opacity: 1;\"/><path class=\"point\" transform=\"translate(370.36,44.14)\" d=\"M3,0A3,3 0 1,1 0,-3A3,3 0 0,1 3,0Z\" style=\"opacity: 1; stroke-width: 0px; fill: rgb(99, 110, 250); fill-opacity: 1;\"/><path class=\"point\" transform=\"translate(378.93,95.36)\" d=\"M3,0A3,3 0 1,1 0,-3A3,3 0 0,1 3,0Z\" style=\"opacity: 1; stroke-width: 0px; fill: rgb(99, 110, 250); fill-opacity: 1;\"/><path class=\"point\" transform=\"translate(387.5,95.36)\" d=\"M3,0A3,3 0 1,1 0,-3A3,3 0 0,1 3,0Z\" style=\"opacity: 1; stroke-width: 0px; fill: rgb(99, 110, 250); fill-opacity: 1;\"/><path class=\"point\" transform=\"translate(396.07,83.17)\" d=\"M3,0A3,3 0 1,1 0,-3A3,3 0 0,1 3,0Z\" style=\"opacity: 1; stroke-width: 0px; fill: rgb(99, 110, 250); fill-opacity: 1;\"/><path class=\"point\" transform=\"translate(404.64,56.34)\" d=\"M3,0A3,3 0 1,1 0,-3A3,3 0 0,1 3,0Z\" style=\"opacity: 1; stroke-width: 0px; fill: rgb(99, 110, 250); fill-opacity: 1;\"/><path class=\"point\" transform=\"translate(413.21,58.78)\" d=\"M3,0A3,3 0 1,1 0,-3A3,3 0 0,1 3,0Z\" style=\"opacity: 1; stroke-width: 0px; fill: rgb(99, 110, 250); fill-opacity: 1;\"/><path class=\"point\" transform=\"translate(421.79,73.41)\" d=\"M3,0A3,3 0 1,1 0,-3A3,3 0 0,1 3,0Z\" style=\"opacity: 1; stroke-width: 0px; fill: rgb(99, 110, 250); fill-opacity: 1;\"/><path class=\"point\" transform=\"translate(430.36,80.73)\" d=\"M3,0A3,3 0 1,1 0,-3A3,3 0 0,1 3,0Z\" style=\"opacity: 1; stroke-width: 0px; fill: rgb(99, 110, 250); fill-opacity: 1;\"/><path class=\"point\" transform=\"translate(438.93,68.53)\" d=\"M3,0A3,3 0 1,1 0,-3A3,3 0 0,1 3,0Z\" style=\"opacity: 1; stroke-width: 0px; fill: rgb(99, 110, 250); fill-opacity: 1;\"/><path class=\"point\" transform=\"translate(447.5,83.17)\" d=\"M3,0A3,3 0 1,1 0,-3A3,3 0 0,1 3,0Z\" style=\"opacity: 1; stroke-width: 0px; fill: rgb(99, 110, 250); fill-opacity: 1;\"/></g><g class=\"text\"/></g><g class=\"trace scatter trace22a9b5\" style=\"stroke-miterlimit: 2; opacity: 1;\"><g class=\"fills\"/><g class=\"errorbars\"/><g class=\"lines\"><path class=\"js-line\" d=\"M27.5,44.14L36.07,53.9L44.64,102.68L53.21,70.97L61.79,83.17L70.36,46.58L78.93,51.46L87.5,105.12L96.07,70.97L113.21,110L121.79,95.36L130.36,97.8L138.93,117.32L147.5,97.8L156.07,105.12L164.64,51.46L173.21,66.09L181.79,85.61L190.36,85.61L198.93,80.73L207.5,39.26L216.07,66.09L224.64,97.8L233.21,56.34L241.79,61.22L250.36,100.24L258.93,53.9L267.5,49.02L276.07,49.02L284.64,88.05L293.21,78.29L301.79,61.22L310.36,56.34L318.93,49.02L327.5,110L336.07,88.05L344.64,61.22L353.21,66.09L361.79,75.85L370.36,41.7L378.93,63.65L387.5,80.73L396.07,49.02L404.64,46.58L413.21,139.27L421.79,85.61L430.36,51.46L438.93,19.75L447.5,83.17\" style=\"vector-effect: none; fill: none; stroke: rgb(239, 85, 59); stroke-opacity: 1; stroke-width: 2px; opacity: 1;\"/></g><g class=\"points\"><path class=\"point\" transform=\"translate(27.5,44.14)\" d=\"M3,0A3,3 0 1,1 0,-3A3,3 0 0,1 3,0Z\" style=\"opacity: 1; stroke-width: 0px; fill: rgb(239, 85, 59); fill-opacity: 1;\"/><path class=\"point\" transform=\"translate(36.07,53.9)\" d=\"M3,0A3,3 0 1,1 0,-3A3,3 0 0,1 3,0Z\" style=\"opacity: 1; stroke-width: 0px; fill: rgb(239, 85, 59); fill-opacity: 1;\"/><path class=\"point\" transform=\"translate(44.64,102.68)\" d=\"M3,0A3,3 0 1,1 0,-3A3,3 0 0,1 3,0Z\" style=\"opacity: 1; stroke-width: 0px; fill: rgb(239, 85, 59); fill-opacity: 1;\"/><path class=\"point\" transform=\"translate(53.21,70.97)\" d=\"M3,0A3,3 0 1,1 0,-3A3,3 0 0,1 3,0Z\" style=\"opacity: 1; stroke-width: 0px; fill: rgb(239, 85, 59); fill-opacity: 1;\"/><path class=\"point\" transform=\"translate(61.79,83.17)\" d=\"M3,0A3,3 0 1,1 0,-3A3,3 0 0,1 3,0Z\" style=\"opacity: 1; stroke-width: 0px; fill: rgb(239, 85, 59); fill-opacity: 1;\"/><path class=\"point\" transform=\"translate(70.36,46.58)\" d=\"M3,0A3,3 0 1,1 0,-3A3,3 0 0,1 3,0Z\" style=\"opacity: 1; stroke-width: 0px; fill: rgb(239, 85, 59); fill-opacity: 1;\"/><path class=\"point\" transform=\"translate(78.93,51.46)\" d=\"M3,0A3,3 0 1,1 0,-3A3,3 0 0,1 3,0Z\" style=\"opacity: 1; stroke-width: 0px; fill: rgb(239, 85, 59); fill-opacity: 1;\"/><path class=\"point\" transform=\"translate(87.5,105.12)\" d=\"M3,0A3,3 0 1,1 0,-3A3,3 0 0,1 3,0Z\" style=\"opacity: 1; stroke-width: 0px; fill: rgb(239, 85, 59); fill-opacity: 1;\"/><path class=\"point\" transform=\"translate(96.07,70.97)\" d=\"M3,0A3,3 0 1,1 0,-3A3,3 0 0,1 3,0Z\" style=\"opacity: 1; stroke-width: 0px; fill: rgb(239, 85, 59); fill-opacity: 1;\"/><path class=\"point\" transform=\"translate(104.64,90.48)\" d=\"M3,0A3,3 0 1,1 0,-3A3,3 0 0,1 3,0Z\" style=\"opacity: 1; stroke-width: 0px; fill: rgb(239, 85, 59); fill-opacity: 1;\"/><path class=\"point\" transform=\"translate(113.21,110)\" d=\"M3,0A3,3 0 1,1 0,-3A3,3 0 0,1 3,0Z\" style=\"opacity: 1; stroke-width: 0px; fill: rgb(239, 85, 59); fill-opacity: 1;\"/><path class=\"point\" transform=\"translate(121.79,95.36)\" d=\"M3,0A3,3 0 1,1 0,-3A3,3 0 0,1 3,0Z\" style=\"opacity: 1; stroke-width: 0px; fill: rgb(239, 85, 59); fill-opacity: 1;\"/><path class=\"point\" transform=\"translate(130.36,97.8)\" d=\"M3,0A3,3 0 1,1 0,-3A3,3 0 0,1 3,0Z\" style=\"opacity: 1; stroke-width: 0px; fill: rgb(239, 85, 59); fill-opacity: 1;\"/><path class=\"point\" transform=\"translate(138.93,117.32)\" d=\"M3,0A3,3 0 1,1 0,-3A3,3 0 0,1 3,0Z\" style=\"opacity: 1; stroke-width: 0px; fill: rgb(239, 85, 59); fill-opacity: 1;\"/><path class=\"point\" transform=\"translate(147.5,97.8)\" d=\"M3,0A3,3 0 1,1 0,-3A3,3 0 0,1 3,0Z\" style=\"opacity: 1; stroke-width: 0px; fill: rgb(239, 85, 59); fill-opacity: 1;\"/><path class=\"point\" transform=\"translate(156.07,105.12)\" d=\"M3,0A3,3 0 1,1 0,-3A3,3 0 0,1 3,0Z\" style=\"opacity: 1; stroke-width: 0px; fill: rgb(239, 85, 59); fill-opacity: 1;\"/><path class=\"point\" transform=\"translate(164.64,51.46)\" d=\"M3,0A3,3 0 1,1 0,-3A3,3 0 0,1 3,0Z\" style=\"opacity: 1; stroke-width: 0px; fill: rgb(239, 85, 59); fill-opacity: 1;\"/><path class=\"point\" transform=\"translate(173.21,66.09)\" d=\"M3,0A3,3 0 1,1 0,-3A3,3 0 0,1 3,0Z\" style=\"opacity: 1; stroke-width: 0px; fill: rgb(239, 85, 59); fill-opacity: 1;\"/><path class=\"point\" transform=\"translate(181.79,85.61)\" d=\"M3,0A3,3 0 1,1 0,-3A3,3 0 0,1 3,0Z\" style=\"opacity: 1; stroke-width: 0px; fill: rgb(239, 85, 59); fill-opacity: 1;\"/><path class=\"point\" transform=\"translate(190.36,85.61)\" d=\"M3,0A3,3 0 1,1 0,-3A3,3 0 0,1 3,0Z\" style=\"opacity: 1; stroke-width: 0px; fill: rgb(239, 85, 59); fill-opacity: 1;\"/><path class=\"point\" transform=\"translate(198.93,80.73)\" d=\"M3,0A3,3 0 1,1 0,-3A3,3 0 0,1 3,0Z\" style=\"opacity: 1; stroke-width: 0px; fill: rgb(239, 85, 59); fill-opacity: 1;\"/><path class=\"point\" transform=\"translate(207.5,39.26)\" d=\"M3,0A3,3 0 1,1 0,-3A3,3 0 0,1 3,0Z\" style=\"opacity: 1; stroke-width: 0px; fill: rgb(239, 85, 59); fill-opacity: 1;\"/><path class=\"point\" transform=\"translate(216.07,66.09)\" d=\"M3,0A3,3 0 1,1 0,-3A3,3 0 0,1 3,0Z\" style=\"opacity: 1; stroke-width: 0px; fill: rgb(239, 85, 59); fill-opacity: 1;\"/><path class=\"point\" transform=\"translate(224.64,97.8)\" d=\"M3,0A3,3 0 1,1 0,-3A3,3 0 0,1 3,0Z\" style=\"opacity: 1; stroke-width: 0px; fill: rgb(239, 85, 59); fill-opacity: 1;\"/><path class=\"point\" transform=\"translate(233.21,56.34)\" d=\"M3,0A3,3 0 1,1 0,-3A3,3 0 0,1 3,0Z\" style=\"opacity: 1; stroke-width: 0px; fill: rgb(239, 85, 59); fill-opacity: 1;\"/><path class=\"point\" transform=\"translate(241.79,61.22)\" d=\"M3,0A3,3 0 1,1 0,-3A3,3 0 0,1 3,0Z\" style=\"opacity: 1; stroke-width: 0px; fill: rgb(239, 85, 59); fill-opacity: 1;\"/><path class=\"point\" transform=\"translate(250.36,100.24)\" d=\"M3,0A3,3 0 1,1 0,-3A3,3 0 0,1 3,0Z\" style=\"opacity: 1; stroke-width: 0px; fill: rgb(239, 85, 59); fill-opacity: 1;\"/><path class=\"point\" transform=\"translate(258.93,53.9)\" d=\"M3,0A3,3 0 1,1 0,-3A3,3 0 0,1 3,0Z\" style=\"opacity: 1; stroke-width: 0px; fill: rgb(239, 85, 59); fill-opacity: 1;\"/><path class=\"point\" transform=\"translate(267.5,49.02)\" d=\"M3,0A3,3 0 1,1 0,-3A3,3 0 0,1 3,0Z\" style=\"opacity: 1; stroke-width: 0px; fill: rgb(239, 85, 59); fill-opacity: 1;\"/><path class=\"point\" transform=\"translate(276.07,49.02)\" d=\"M3,0A3,3 0 1,1 0,-3A3,3 0 0,1 3,0Z\" style=\"opacity: 1; stroke-width: 0px; fill: rgb(239, 85, 59); fill-opacity: 1;\"/><path class=\"point\" transform=\"translate(284.64,88.05)\" d=\"M3,0A3,3 0 1,1 0,-3A3,3 0 0,1 3,0Z\" style=\"opacity: 1; stroke-width: 0px; fill: rgb(239, 85, 59); fill-opacity: 1;\"/><path class=\"point\" transform=\"translate(293.21,78.29)\" d=\"M3,0A3,3 0 1,1 0,-3A3,3 0 0,1 3,0Z\" style=\"opacity: 1; stroke-width: 0px; fill: rgb(239, 85, 59); fill-opacity: 1;\"/><path class=\"point\" transform=\"translate(301.79,61.22)\" d=\"M3,0A3,3 0 1,1 0,-3A3,3 0 0,1 3,0Z\" style=\"opacity: 1; stroke-width: 0px; fill: rgb(239, 85, 59); fill-opacity: 1;\"/><path class=\"point\" transform=\"translate(310.36,56.34)\" d=\"M3,0A3,3 0 1,1 0,-3A3,3 0 0,1 3,0Z\" style=\"opacity: 1; stroke-width: 0px; fill: rgb(239, 85, 59); fill-opacity: 1;\"/><path class=\"point\" transform=\"translate(318.93,49.02)\" d=\"M3,0A3,3 0 1,1 0,-3A3,3 0 0,1 3,0Z\" style=\"opacity: 1; stroke-width: 0px; fill: rgb(239, 85, 59); fill-opacity: 1;\"/><path class=\"point\" transform=\"translate(327.5,110)\" d=\"M3,0A3,3 0 1,1 0,-3A3,3 0 0,1 3,0Z\" style=\"opacity: 1; stroke-width: 0px; fill: rgb(239, 85, 59); fill-opacity: 1;\"/><path class=\"point\" transform=\"translate(336.07,88.05)\" d=\"M3,0A3,3 0 1,1 0,-3A3,3 0 0,1 3,0Z\" style=\"opacity: 1; stroke-width: 0px; fill: rgb(239, 85, 59); fill-opacity: 1;\"/><path class=\"point\" transform=\"translate(344.64,61.22)\" d=\"M3,0A3,3 0 1,1 0,-3A3,3 0 0,1 3,0Z\" style=\"opacity: 1; stroke-width: 0px; fill: rgb(239, 85, 59); fill-opacity: 1;\"/><path class=\"point\" transform=\"translate(353.21,66.09)\" d=\"M3,0A3,3 0 1,1 0,-3A3,3 0 0,1 3,0Z\" style=\"opacity: 1; stroke-width: 0px; fill: rgb(239, 85, 59); fill-opacity: 1;\"/><path class=\"point\" transform=\"translate(361.79,75.85)\" d=\"M3,0A3,3 0 1,1 0,-3A3,3 0 0,1 3,0Z\" style=\"opacity: 1; stroke-width: 0px; fill: rgb(239, 85, 59); fill-opacity: 1;\"/><path class=\"point\" transform=\"translate(370.36,41.7)\" d=\"M3,0A3,3 0 1,1 0,-3A3,3 0 0,1 3,0Z\" style=\"opacity: 1; stroke-width: 0px; fill: rgb(239, 85, 59); fill-opacity: 1;\"/><path class=\"point\" transform=\"translate(378.93,63.65)\" d=\"M3,0A3,3 0 1,1 0,-3A3,3 0 0,1 3,0Z\" style=\"opacity: 1; stroke-width: 0px; fill: rgb(239, 85, 59); fill-opacity: 1;\"/><path class=\"point\" transform=\"translate(387.5,80.73)\" d=\"M3,0A3,3 0 1,1 0,-3A3,3 0 0,1 3,0Z\" style=\"opacity: 1; stroke-width: 0px; fill: rgb(239, 85, 59); fill-opacity: 1;\"/><path class=\"point\" transform=\"translate(396.07,49.02)\" d=\"M3,0A3,3 0 1,1 0,-3A3,3 0 0,1 3,0Z\" style=\"opacity: 1; stroke-width: 0px; fill: rgb(239, 85, 59); fill-opacity: 1;\"/><path class=\"point\" transform=\"translate(404.64,46.58)\" d=\"M3,0A3,3 0 1,1 0,-3A3,3 0 0,1 3,0Z\" style=\"opacity: 1; stroke-width: 0px; fill: rgb(239, 85, 59); fill-opacity: 1;\"/><path class=\"point\" transform=\"translate(413.21,139.27)\" d=\"M3,0A3,3 0 1,1 0,-3A3,3 0 0,1 3,0Z\" style=\"opacity: 1; stroke-width: 0px; fill: rgb(239, 85, 59); fill-opacity: 1;\"/><path class=\"point\" transform=\"translate(421.79,85.61)\" d=\"M3,0A3,3 0 1,1 0,-3A3,3 0 0,1 3,0Z\" style=\"opacity: 1; stroke-width: 0px; fill: rgb(239, 85, 59); fill-opacity: 1;\"/><path class=\"point\" transform=\"translate(430.36,51.46)\" d=\"M3,0A3,3 0 1,1 0,-3A3,3 0 0,1 3,0Z\" style=\"opacity: 1; stroke-width: 0px; fill: rgb(239, 85, 59); fill-opacity: 1;\"/><path class=\"point\" transform=\"translate(438.93,19.75)\" d=\"M3,0A3,3 0 1,1 0,-3A3,3 0 0,1 3,0Z\" style=\"opacity: 1; stroke-width: 0px; fill: rgb(239, 85, 59); fill-opacity: 1;\"/><path class=\"point\" transform=\"translate(447.5,83.17)\" d=\"M3,0A3,3 0 1,1 0,-3A3,3 0 0,1 3,0Z\" style=\"opacity: 1; stroke-width: 0px; fill: rgb(239, 85, 59); fill-opacity: 1;\"/></g><g class=\"text\"/></g></g></g></g><path class=\"xlines-above crisp\" d=\"M0,0\" style=\"fill: none;\"/><path class=\"ylines-above crisp\" d=\"M0,0\" style=\"fill: none;\"/><g class=\"overlines-above\"/><g class=\"xaxislayer-above\"><g class=\"xtick\"><text text-anchor=\"middle\" x=\"0\" y=\"433\" transform=\"translate(81.79,0)\" style=\"font-family: 'Open Sans', verdana, arial, sans-serif; font-size: 12px; fill: rgb(242, 245, 250); fill-opacity: 1; white-space: pre; opacity: 1;\">460</text></g><g class=\"xtick\"><text text-anchor=\"middle\" x=\"0\" y=\"433\" style=\"font-family: 'Open Sans', verdana, arial, sans-serif; font-size: 12px; fill: rgb(242, 245, 250); fill-opacity: 1; white-space: pre; opacity: 1;\" transform=\"translate(167.5,0)\">470</text></g><g class=\"xtick\"><text text-anchor=\"middle\" x=\"0\" y=\"433\" style=\"font-family: 'Open Sans', verdana, arial, sans-serif; font-size: 12px; fill: rgb(242, 245, 250); fill-opacity: 1; white-space: pre; opacity: 1;\" transform=\"translate(253.21,0)\">480</text></g><g class=\"xtick\"><text text-anchor=\"middle\" x=\"0\" y=\"433\" style=\"font-family: 'Open Sans', verdana, arial, sans-serif; font-size: 12px; fill: rgb(242, 245, 250); fill-opacity: 1; white-space: pre; opacity: 1;\" transform=\"translate(338.93,0)\">490</text></g><g class=\"xtick\"><text text-anchor=\"middle\" x=\"0\" y=\"433\" style=\"font-family: 'Open Sans', verdana, arial, sans-serif; font-size: 12px; fill: rgb(242, 245, 250); fill-opacity: 1; white-space: pre; opacity: 1;\" transform=\"translate(424.64,0)\">500</text></g><g class=\"xtick\"><text text-anchor=\"middle\" x=\"0\" y=\"433\" style=\"font-family: 'Open Sans', verdana, arial, sans-serif; font-size: 12px; fill: rgb(242, 245, 250); fill-opacity: 1; white-space: pre; opacity: 1;\" transform=\"translate(510.36,0)\">510</text></g></g><g class=\"yaxislayer-above\"><g class=\"ytick\"><text text-anchor=\"end\" x=\"79\" y=\"4.199999999999999\" transform=\"translate(0,388.05)\" style=\"font-family: 'Open Sans', verdana, arial, sans-serif; font-size: 12px; fill: rgb(242, 245, 250); fill-opacity: 1; white-space: pre; opacity: 1;\">0.88</text></g><g class=\"ytick\"><text text-anchor=\"end\" x=\"79\" y=\"4.199999999999999\" style=\"font-family: 'Open Sans', verdana, arial, sans-serif; font-size: 12px; fill: rgb(242, 245, 250); fill-opacity: 1; white-space: pre; opacity: 1;\" transform=\"translate(0,339.27)\">0.9</text></g><g class=\"ytick\"><text text-anchor=\"end\" x=\"79\" y=\"4.199999999999999\" style=\"font-family: 'Open Sans', verdana, arial, sans-serif; font-size: 12px; fill: rgb(242, 245, 250); fill-opacity: 1; white-space: pre; opacity: 1;\" transform=\"translate(0,290.49)\">0.92</text></g><g class=\"ytick\"><text text-anchor=\"end\" x=\"79\" y=\"4.199999999999999\" style=\"font-family: 'Open Sans', verdana, arial, sans-serif; font-size: 12px; fill: rgb(242, 245, 250); fill-opacity: 1; white-space: pre; opacity: 1;\" transform=\"translate(0,241.71)\">0.94</text></g><g class=\"ytick\"><text text-anchor=\"end\" x=\"79\" y=\"4.199999999999999\" style=\"font-family: 'Open Sans', verdana, arial, sans-serif; font-size: 12px; fill: rgb(242, 245, 250); fill-opacity: 1; white-space: pre; opacity: 1;\" transform=\"translate(0,192.92000000000002)\">0.96</text></g><g class=\"ytick\"><text text-anchor=\"end\" x=\"79\" y=\"4.199999999999999\" style=\"font-family: 'Open Sans', verdana, arial, sans-serif; font-size: 12px; fill: rgb(242, 245, 250); fill-opacity: 1; white-space: pre; opacity: 1;\" transform=\"translate(0,144.14)\">0.98</text></g></g><g class=\"overaxes-above\"/></g></g><g class=\"polarlayer\"/><g class=\"smithlayer\"/><g class=\"ternarylayer\"/><g class=\"geolayer\"/><g class=\"funnelarealayer\"/><g class=\"pielayer\"/><g class=\"iciclelayer\"/><g class=\"treemaplayer\"/><g class=\"sunburstlayer\"/><g class=\"glimages\"/><defs id=\"topdefs-3d04d9\"><g class=\"clips\"/><clipPath id=\"legend3d04d9\"><rect width=\"123\" height=\"48\" x=\"0\" y=\"0\"/></clipPath></defs><g class=\"layer-above\"><g class=\"imagelayer\"/><g class=\"shapelayer\"/></g><g class=\"infolayer\"><g class=\"legend\" pointer-events=\"all\" transform=\"translate(564.5,100)\"><rect class=\"bg\" shape-rendering=\"crispEdges\" width=\"123\" height=\"48\" x=\"0\" y=\"0\" style=\"stroke: rgb(68, 68, 68); stroke-opacity: 1; fill: rgb(17, 17, 17); fill-opacity: 1; stroke-width: 0px;\"/><g class=\"scrollbox\" transform=\"\" clip-path=\"url(#legend3d04d9)\"><g class=\"groups\"><g class=\"traces\" transform=\"translate(0,14.5)\" style=\"opacity: 1;\"><text class=\"legendtext\" text-anchor=\"start\" x=\"40\" y=\"4.680000000000001\" style=\"font-family: 'Open Sans', verdana, arial, sans-serif; font-size: 12px; fill: rgb(242, 245, 250); fill-opacity: 1; white-space: pre;\">axgb accuracy</text><g class=\"layers\" style=\"opacity: 1;\"><g class=\"legendfill\"/><g class=\"legendlines\"><path class=\"js-line\" d=\"M5,0h30\" style=\"fill: none; stroke: rgb(99, 110, 250); stroke-opacity: 1; stroke-width: 2px;\"/></g><g class=\"legendsymbols\"><g class=\"legendpoints\"><path class=\"scatterpts\" transform=\"translate(20,0)\" d=\"M3,0A3,3 0 1,1 0,-3A3,3 0 0,1 3,0Z\" style=\"opacity: 1; stroke-width: 0px; fill: rgb(99, 110, 250); fill-opacity: 1;\"/></g></g></g><rect class=\"legendtoggle\" x=\"0\" y=\"-9.5\" width=\"117.375\" height=\"19\" style=\"fill: rgb(0, 0, 0); fill-opacity: 0;\"/></g><g class=\"traces\" transform=\"translate(0,33.5)\" style=\"opacity: 1;\"><text class=\"legendtext\" text-anchor=\"start\" x=\"40\" y=\"4.680000000000001\" style=\"font-family: 'Open Sans', verdana, arial, sans-serif; font-size: 12px; fill: rgb(242, 245, 250); fill-opacity: 1; white-space: pre;\">htc accuracy</text><g class=\"layers\" style=\"opacity: 1;\"><g class=\"legendfill\"/><g class=\"legendlines\"><path class=\"js-line\" d=\"M5,0h30\" style=\"fill: none; stroke: rgb(239, 85, 59); stroke-opacity: 1; stroke-width: 2px;\"/></g><g class=\"legendsymbols\"><g class=\"legendpoints\"><path class=\"scatterpts\" transform=\"translate(20,0)\" d=\"M3,0A3,3 0 1,1 0,-3A3,3 0 0,1 3,0Z\" style=\"opacity: 1; stroke-width: 0px; fill: rgb(239, 85, 59); fill-opacity: 1;\"/></g></g></g><rect class=\"legendtoggle\" x=\"0\" y=\"-9.5\" width=\"117.375\" height=\"19\" style=\"fill: rgb(0, 0, 0); fill-opacity: 0;\"/></g></g></g><rect class=\"scrollbar\" rx=\"20\" ry=\"3\" width=\"0\" height=\"0\" x=\"0\" y=\"0\" style=\"fill: rgb(128, 139, 164); fill-opacity: 1;\"/></g><g class=\"g-gtitle\"><text class=\"gtitle\" x=\"35\" y=\"50\" text-anchor=\"start\" dy=\"0em\" style=\"opacity: 1; font-family: 'Open Sans', verdana, arial, sans-serif; font-size: 17px; fill: rgb(242, 245, 250); fill-opacity: 1; white-space: pre;\">Accuracy Comparison</text></g><g class=\"g-xtitle\"><text class=\"xtitle\" x=\"317.5\" y=\"460.3\" text-anchor=\"middle\" style=\"opacity: 1; font-family: 'Open Sans', verdana, arial, sans-serif; font-size: 14px; fill: rgb(242, 245, 250); fill-opacity: 1; white-space: pre;\">Window</text></g><g class=\"g-ytitle\"><text class=\"ytitle\" transform=\"rotate(-90,36.240625,260)\" x=\"36.240625\" y=\"260\" text-anchor=\"middle\" style=\"opacity: 1; font-family: 'Open Sans', verdana, arial, sans-serif; font-size: 14px; fill: rgb(242, 245, 250); fill-opacity: 1; white-space: pre;\">Accuracy</text></g></g></svg>"
          },
          "metadata": {}
        }
      ]
    },
    {
      "cell_type": "markdown",
      "source": [
        "## Model Inference Response Time"
      ],
      "metadata": {
        "id": "WITUAaqGGjnT"
      }
    },
    {
      "cell_type": "markdown",
      "source": [
        "Initialize timer"
      ],
      "metadata": {
        "id": "U-LioK8FHLxx"
      }
    },
    {
      "cell_type": "code",
      "source": [
        "import time\n",
        "\n",
        "class TimeTracker:\n",
        "    def __init__(self):\n",
        "        self.start_times = {}\n",
        "        self.end_times = {}\n",
        "        self.checkpoints = {}\n",
        "        self.intervals = {}\n",
        "\n",
        "    def start(self, label=\"default\"):\n",
        "        \"\"\"Start the timer for a specific label.\"\"\"\n",
        "        self.start_times[label] = time.time()\n",
        "        self.checkpoints[label] = [self.start_times[label]]\n",
        "        self.intervals[label] = []\n",
        "        print(f\"Timer '{label}' started.\")\n",
        "\n",
        "    def checkpoint(self, label=\"default\", note=None):\n",
        "        \"\"\"Record an intermediate checkpoint for the specified label.\"\"\"\n",
        "        if label not in self.start_times:\n",
        "            raise ValueError(f\"Timer '{label}' has not been started.\")\n",
        "        now = time.time()\n",
        "        elapsed = now - self.checkpoints[label][-1]\n",
        "        self.checkpoints[label].append(now)\n",
        "        self.intervals[label].append(elapsed)\n",
        "        time_elapsed_msg = f\"Time elapsed {elapsed:.4f} seconds\"\n",
        "        if note:\n",
        "            time_elapsed_msg += f\" - {note}\"\n",
        "        print(time_elapsed_msg)\n",
        "\n",
        "    def stop(self, label=\"default\"):\n",
        "        \"\"\"Stop the timer for a specific label and return elapsed time.\"\"\"\n",
        "        if label not in self.start_times:\n",
        "            raise ValueError(f\"Timer '{label}' has not been started.\")\n",
        "        self.end_times[label] = time.time()\n",
        "        elapsed = self.end_times[label] - self.start_times[label]\n",
        "        print(f\"Timer '{label}' stopped. Elapsed time: {elapsed:.4f} seconds\")\n",
        "        return elapsed\n",
        "\n",
        "    def total_time(self, label=\"default\"):\n",
        "        \"\"\"Get total elapsed time between start and stop for a label.\"\"\"\n",
        "        if label not in self.start_times or label not in self.end_times:\n",
        "            raise ValueError(f\"Timer '{label}' must be started and stopped.\")\n",
        "        return self.end_times[label] - self.start_times[label]\n",
        "\n",
        "    def reset(self, label=\"default\"):\n",
        "        \"\"\"Reset the timer for the specified label.\"\"\"\n",
        "        self.start_times.pop(label, None)\n",
        "        self.end_times.pop(label, None)\n",
        "        self.checkpoints.pop(label, None)\n",
        "        print(f\"Timer '{label}' has been reset.\")\n",
        "\n",
        "    def get_intervals(self, label=\"default\"):\n",
        "        \"\"\"Get intervals for a specific label.\"\"\"\n",
        "        return self.intervals[label]\n",
        "\n",
        "    def get_intervals_starts_with(self, label=\"default\"):\n",
        "        \"\"\"Get intervals for label that starts with a specific prefix.\"\"\"\n",
        "        return {k: v for k, v in self.intervals.items() if k.startswith(label)}\n",
        "\n",
        "# initialize timer\n",
        "timer = TimeTracker()"
      ],
      "metadata": {
        "id": "uFH3IJgBHaNf"
      },
      "execution_count": 32,
      "outputs": []
    },
    {
      "cell_type": "markdown",
      "source": [
        "Model endpoints are used to get inference for single datapoint."
      ],
      "metadata": {
        "id": "K8kYGDwfGywG"
      }
    },
    {
      "cell_type": "code",
      "source": [
        "axgb_model_endpoint = deployed_axgb_model.get_endpoints()[0]\n",
        "htc_model_endpoint = deployed_htc_model.get_endpoints()[0]\n",
        "print(axgb_model_endpoint)\n",
        "print(htc_model_endpoint)"
      ],
      "metadata": {
        "colab": {
          "base_uri": "https://localhost:8080/"
        },
        "id": "L9SC7bVsGxRb",
        "outputId": "07832fc3-de9a-4dfe-a08f-277e14430ca8"
      },
      "execution_count": 33,
      "outputs": [
        {
          "output_type": "stream",
          "name": "stdout",
          "text": [
            "https://crouching-chowchow.api.turboml.online/model/_turboml.axgb_model/predict\n",
            "https://crouching-chowchow.api.turboml.online/model/_turboml.htc_model/predict\n"
          ]
        }
      ]
    },
    {
      "cell_type": "markdown",
      "source": [
        "# Single datapoint inference using model endpoint"
      ],
      "metadata": {
        "id": "ENOC9553JlPU"
      }
    },
    {
      "cell_type": "code",
      "source": [
        "with requests.Session() as session:\n",
        "    test_resp = session.post(\n",
        "      axgb_model_endpoint, json=ieee_features_df.iloc[0].to_dict(), headers=tb.common.api.headers\n",
        "    )\n",
        "    timer.reset(\"axgb_response_time\")\n",
        "    timer.start(\"axgb_response_time\")\n",
        "    for i in range(20):\n",
        "      resp = session.post(\n",
        "        axgb_model_endpoint, json=ieee_features_df.iloc[i].to_dict(), headers=tb.common.api.headers\n",
        "      )\n",
        "      timer.checkpoint(\"axgb_response_time\")\n",
        "    timer.stop(\"axgb_response_time\")\n",
        "\n",
        "with requests.Session() as session:\n",
        "    test_resp = session.post(\n",
        "      htc_model_endpoint, json=ieee_features_df.iloc[0].to_dict(), headers=tb.common.api.headers\n",
        "    )\n",
        "    timer.reset(\"htc_response_time\")\n",
        "    timer.start(\"htc_response_time\")\n",
        "    for i in range(20):\n",
        "      resp = session.post(\n",
        "        htc_model_endpoint, json=ieee_features_df.iloc[i].to_dict(), headers=tb.common.api.headers\n",
        "      )\n",
        "      timer.checkpoint(\"htc_response_time\")\n",
        "    timer.stop(\"htc_response_time\")\n"
      ],
      "metadata": {
        "colab": {
          "base_uri": "https://localhost:8080/"
        },
        "id": "DCpLUdPbHGS-",
        "outputId": "8972a7d2-af30-460f-b1c4-075c67d860a5"
      },
      "execution_count": 34,
      "outputs": [
        {
          "output_type": "stream",
          "name": "stdout",
          "text": [
            "Timer 'axgb_response_time' has been reset.\n",
            "Timer 'axgb_response_time' started.\n",
            "Time elapsed 0.2581 seconds\n",
            "Time elapsed 0.2581 seconds\n",
            "Time elapsed 0.2575 seconds\n",
            "Time elapsed 0.2584 seconds\n",
            "Time elapsed 0.2594 seconds\n",
            "Time elapsed 0.2592 seconds\n",
            "Time elapsed 0.2592 seconds\n",
            "Time elapsed 0.2601 seconds\n",
            "Time elapsed 0.2601 seconds\n",
            "Time elapsed 0.2604 seconds\n",
            "Time elapsed 0.2599 seconds\n",
            "Time elapsed 0.2596 seconds\n",
            "Time elapsed 0.2592 seconds\n",
            "Time elapsed 0.2597 seconds\n",
            "Time elapsed 0.2585 seconds\n",
            "Time elapsed 0.2593 seconds\n",
            "Time elapsed 0.2601 seconds\n",
            "Time elapsed 0.2603 seconds\n",
            "Time elapsed 0.2594 seconds\n",
            "Time elapsed 0.2594 seconds\n",
            "Timer 'axgb_response_time' stopped. Elapsed time: 5.1867 seconds\n",
            "Timer 'htc_response_time' has been reset.\n",
            "Timer 'htc_response_time' started.\n",
            "Time elapsed 0.2643 seconds\n",
            "Time elapsed 0.2651 seconds\n",
            "Time elapsed 0.2647 seconds\n",
            "Time elapsed 0.2646 seconds\n",
            "Time elapsed 0.2646 seconds\n",
            "Time elapsed 0.2646 seconds\n",
            "Time elapsed 0.2644 seconds\n",
            "Time elapsed 0.2645 seconds\n",
            "Time elapsed 0.2623 seconds\n",
            "Time elapsed 0.2623 seconds\n",
            "Time elapsed 0.2619 seconds\n",
            "Time elapsed 0.2624 seconds\n",
            "Time elapsed 0.2626 seconds\n",
            "Time elapsed 0.2622 seconds\n",
            "Time elapsed 0.2619 seconds\n",
            "Time elapsed 0.2624 seconds\n",
            "Time elapsed 0.2629 seconds\n",
            "Time elapsed 0.2631 seconds\n",
            "Time elapsed 0.2632 seconds\n",
            "Time elapsed 0.2625 seconds\n",
            "Timer 'htc_response_time' stopped. Elapsed time: 5.2667 seconds\n"
          ]
        }
      ]
    },
    {
      "cell_type": "code",
      "source": [
        "average_axgb = sum(timer.get_intervals(\"axgb_response_time\")) / len(timer.get_intervals(\"axgb_response_time\"))\n",
        "average_htc = sum(timer.get_intervals(\"htc_response_time\")) / len(timer.get_intervals(\"htc_response_time\"))\n",
        "\n",
        "print(\"  Summary:   \")\n",
        "print(\"=============\")\n",
        "print(f\"Average response time for Adaptive XGBoost Model: {average_axgb:.4f} seconds\")\n",
        "print(f\"Average response time for Hoeffding Tree Classifier Model: {average_htc:.4f} seconds\")"
      ],
      "metadata": {
        "colab": {
          "base_uri": "https://localhost:8080/"
        },
        "id": "hnNMrabMoEwk",
        "outputId": "420edf23-2640-411c-da69-306921ccb699"
      },
      "execution_count": 40,
      "outputs": [
        {
          "output_type": "stream",
          "name": "stdout",
          "text": [
            "  Summary:   \n",
            "=============\n",
            "Average response time for Adaptive XGBoost Model: 0.2593 seconds\n",
            "Average response time for Hoeffding Tree Classifier Model: 0.2633 seconds\n"
          ]
        }
      ]
    },
    {
      "cell_type": "markdown",
      "source": [
        "## Plot graph\n",
        "Model Inference Response Time (Single Datapoint)"
      ],
      "metadata": {
        "id": "uPieF-waf1ow"
      }
    },
    {
      "cell_type": "code",
      "source": [
        "# Create the Plotly figure\n",
        "fig = go.Figure()\n",
        "\n",
        "# Add traces for each response time\n",
        "for model_name, response_times in timer.intervals.items():\n",
        "    fig.add_trace(go.Scatter(\n",
        "        x=list(range(len(response_times))),\n",
        "        y=response_times,\n",
        "        mode='lines+markers',\n",
        "        name=model_name\n",
        "    ))\n",
        "\n",
        "# Update layout\n",
        "fig.update_layout(\n",
        "    title='Model Inference Response Time (Single Datapoint)',\n",
        "    xaxis_title='Request Number',\n",
        "    yaxis_title='Response Time (seconds)',\n",
        "    template=\"plotly_dark\"\n",
        ")\n",
        "\n",
        "# Show the plot\n",
        "fig.show(\"svg\")"
      ],
      "metadata": {
        "colab": {
          "base_uri": "https://localhost:8080/",
          "height": 521
        },
        "id": "Ip8OoEZMfJ_7",
        "outputId": "f2bb962e-b214-42f4-c8ee-72179468c7ff"
      },
      "execution_count": 35,
      "outputs": [
        {
          "output_type": "display_data",
          "data": {
            "image/svg+xml": "<svg class=\"main-svg\" xmlns=\"http://www.w3.org/2000/svg\" xmlns:xlink=\"http://www.w3.org/1999/xlink\" width=\"700\" height=\"500\" style=\"\" viewBox=\"0 0 700 500\"><rect x=\"0\" y=\"0\" width=\"700\" height=\"500\" style=\"fill: rgb(17, 17, 17); fill-opacity: 1;\"/><defs id=\"defs-d146e6\"><g class=\"clips\"><clipPath id=\"clipd146e6xyplot\" class=\"plotclip\"><rect width=\"442\" height=\"320\"/></clipPath><clipPath class=\"axesclip\" id=\"clipd146e6x\"><rect x=\"80\" y=\"0\" width=\"442\" height=\"500\"/></clipPath><clipPath class=\"axesclip\" id=\"clipd146e6y\"><rect x=\"0\" y=\"100\" width=\"700\" height=\"320\"/></clipPath><clipPath class=\"axesclip\" id=\"clipd146e6xy\"><rect x=\"80\" y=\"100\" width=\"442\" height=\"320\"/></clipPath></g><g class=\"gradients\"/><g class=\"patterns\"/></defs><g class=\"bglayer\"/><g class=\"layer-below\"><g class=\"imagelayer\"/><g class=\"shapelayer\"/></g><g class=\"cartesianlayer\"><g class=\"subplot xy\"><g class=\"layer-subplot\"><g class=\"shapelayer\"/><g class=\"imagelayer\"/></g><g class=\"minor-gridlayer\"><g class=\"x\"/><g class=\"y\"/></g><g class=\"gridlayer\"><g class=\"x\"><path class=\"xgrid crisp\" transform=\"translate(208.56,0)\" d=\"M0,100v320\" style=\"stroke: rgb(40, 52, 66); stroke-opacity: 1; stroke-width: 1px;\"/><path class=\"xgrid crisp\" transform=\"translate(311.27,0)\" d=\"M0,100v320\" style=\"stroke: rgb(40, 52, 66); stroke-opacity: 1; stroke-width: 1px;\"/><path class=\"xgrid crisp\" transform=\"translate(413.98,0)\" d=\"M0,100v320\" style=\"stroke: rgb(40, 52, 66); stroke-opacity: 1; stroke-width: 1px;\"/><path class=\"xgrid crisp\" transform=\"translate(516.69,0)\" d=\"M0,100v320\" style=\"stroke: rgb(40, 52, 66); stroke-opacity: 1; stroke-width: 1px;\"/></g><g class=\"y\"><path class=\"ygrid crisp\" transform=\"translate(0,382.84)\" d=\"M80,0h442\" style=\"stroke: rgb(40, 52, 66); stroke-opacity: 1; stroke-width: 1px;\"/><path class=\"ygrid crisp\" transform=\"translate(0,346.03999999999996)\" d=\"M80,0h442\" style=\"stroke: rgb(40, 52, 66); stroke-opacity: 1; stroke-width: 1px;\"/><path class=\"ygrid crisp\" transform=\"translate(0,309.24)\" d=\"M80,0h442\" style=\"stroke: rgb(40, 52, 66); stroke-opacity: 1; stroke-width: 1px;\"/><path class=\"ygrid crisp\" transform=\"translate(0,272.44)\" d=\"M80,0h442\" style=\"stroke: rgb(40, 52, 66); stroke-opacity: 1; stroke-width: 1px;\"/><path class=\"ygrid crisp\" transform=\"translate(0,235.64)\" d=\"M80,0h442\" style=\"stroke: rgb(40, 52, 66); stroke-opacity: 1; stroke-width: 1px;\"/><path class=\"ygrid crisp\" transform=\"translate(0,198.84)\" d=\"M80,0h442\" style=\"stroke: rgb(40, 52, 66); stroke-opacity: 1; stroke-width: 1px;\"/><path class=\"ygrid crisp\" transform=\"translate(0,162.04)\" d=\"M80,0h442\" style=\"stroke: rgb(40, 52, 66); stroke-opacity: 1; stroke-width: 1px;\"/><path class=\"ygrid crisp\" transform=\"translate(0,125.24)\" d=\"M80,0h442\" style=\"stroke: rgb(40, 52, 66); stroke-opacity: 1; stroke-width: 1px;\"/></g></g><g class=\"zerolinelayer\"><path class=\"xzl zl crisp\" transform=\"translate(105.85,0)\" d=\"M0,100v320\" style=\"stroke: rgb(40, 52, 66); stroke-opacity: 1; stroke-width: 2px;\"/></g><g class=\"layer-between\"><g class=\"shapelayer\"/><g class=\"imagelayer\"/></g><path class=\"xlines-below\"/><path class=\"ylines-below\"/><g class=\"overlines-below\"/><g class=\"xaxislayer-below\"/><g class=\"yaxislayer-below\"/><g class=\"overaxes-below\"/><g class=\"overplot\"><g class=\"xy\" transform=\"translate(80,100)\" clip-path=\"url(#clipd146e6xyplot)\"><g class=\"scatterlayer mlayer\"><g class=\"trace scatter trace571b92\" style=\"stroke-miterlimit: 2; opacity: 1;\"><g class=\"fills\"/><g class=\"errorbars\"/><g class=\"lines\"><path class=\"js-line\" d=\"M25.85,277.7L46.39,277.93L66.93,300.25L87.48,268.17L108.02,229.77L128.56,238.75L149.1,239.73L169.64,206.4L190.19,206.38L210.73,196.19L231.27,213.44L251.81,224.22L272.36,238.5L292.9,218.81L313.44,264.4L333.98,236.78L354.52,205.14L375.07,197.26L395.61,231.75L416.15,230.2\" style=\"vector-effect: none; fill: none; stroke: rgb(99, 110, 250); stroke-opacity: 1; stroke-width: 2px; opacity: 1;\"/></g><g class=\"points\"><path class=\"point\" transform=\"translate(25.85,277.7)\" d=\"M3,0A3,3 0 1,1 0,-3A3,3 0 0,1 3,0Z\" style=\"opacity: 1; stroke-width: 0px; fill: rgb(99, 110, 250); fill-opacity: 1;\"/><path class=\"point\" transform=\"translate(46.39,277.93)\" d=\"M3,0A3,3 0 1,1 0,-3A3,3 0 0,1 3,0Z\" style=\"opacity: 1; stroke-width: 0px; fill: rgb(99, 110, 250); fill-opacity: 1;\"/><path class=\"point\" transform=\"translate(66.93,300.25)\" d=\"M3,0A3,3 0 1,1 0,-3A3,3 0 0,1 3,0Z\" style=\"opacity: 1; stroke-width: 0px; fill: rgb(99, 110, 250); fill-opacity: 1;\"/><path class=\"point\" transform=\"translate(87.48,268.17)\" d=\"M3,0A3,3 0 1,1 0,-3A3,3 0 0,1 3,0Z\" style=\"opacity: 1; stroke-width: 0px; fill: rgb(99, 110, 250); fill-opacity: 1;\"/><path class=\"point\" transform=\"translate(108.02,229.77)\" d=\"M3,0A3,3 0 1,1 0,-3A3,3 0 0,1 3,0Z\" style=\"opacity: 1; stroke-width: 0px; fill: rgb(99, 110, 250); fill-opacity: 1;\"/><path class=\"point\" transform=\"translate(128.56,238.75)\" d=\"M3,0A3,3 0 1,1 0,-3A3,3 0 0,1 3,0Z\" style=\"opacity: 1; stroke-width: 0px; fill: rgb(99, 110, 250); fill-opacity: 1;\"/><path class=\"point\" transform=\"translate(149.1,239.73)\" d=\"M3,0A3,3 0 1,1 0,-3A3,3 0 0,1 3,0Z\" style=\"opacity: 1; stroke-width: 0px; fill: rgb(99, 110, 250); fill-opacity: 1;\"/><path class=\"point\" transform=\"translate(169.64,206.4)\" d=\"M3,0A3,3 0 1,1 0,-3A3,3 0 0,1 3,0Z\" style=\"opacity: 1; stroke-width: 0px; fill: rgb(99, 110, 250); fill-opacity: 1;\"/><path class=\"point\" transform=\"translate(190.19,206.38)\" d=\"M3,0A3,3 0 1,1 0,-3A3,3 0 0,1 3,0Z\" style=\"opacity: 1; stroke-width: 0px; fill: rgb(99, 110, 250); fill-opacity: 1;\"/><path class=\"point\" transform=\"translate(210.73,196.19)\" d=\"M3,0A3,3 0 1,1 0,-3A3,3 0 0,1 3,0Z\" style=\"opacity: 1; stroke-width: 0px; fill: rgb(99, 110, 250); fill-opacity: 1;\"/><path class=\"point\" transform=\"translate(231.27,213.44)\" d=\"M3,0A3,3 0 1,1 0,-3A3,3 0 0,1 3,0Z\" style=\"opacity: 1; stroke-width: 0px; fill: rgb(99, 110, 250); fill-opacity: 1;\"/><path class=\"point\" transform=\"translate(251.81,224.22)\" d=\"M3,0A3,3 0 1,1 0,-3A3,3 0 0,1 3,0Z\" style=\"opacity: 1; stroke-width: 0px; fill: rgb(99, 110, 250); fill-opacity: 1;\"/><path class=\"point\" transform=\"translate(272.36,238.5)\" d=\"M3,0A3,3 0 1,1 0,-3A3,3 0 0,1 3,0Z\" style=\"opacity: 1; stroke-width: 0px; fill: rgb(99, 110, 250); fill-opacity: 1;\"/><path class=\"point\" transform=\"translate(292.9,218.81)\" d=\"M3,0A3,3 0 1,1 0,-3A3,3 0 0,1 3,0Z\" style=\"opacity: 1; stroke-width: 0px; fill: rgb(99, 110, 250); fill-opacity: 1;\"/><path class=\"point\" transform=\"translate(313.44,264.4)\" d=\"M3,0A3,3 0 1,1 0,-3A3,3 0 0,1 3,0Z\" style=\"opacity: 1; stroke-width: 0px; fill: rgb(99, 110, 250); fill-opacity: 1;\"/><path class=\"point\" transform=\"translate(333.98,236.78)\" d=\"M3,0A3,3 0 1,1 0,-3A3,3 0 0,1 3,0Z\" style=\"opacity: 1; stroke-width: 0px; fill: rgb(99, 110, 250); fill-opacity: 1;\"/><path class=\"point\" transform=\"translate(354.52,205.14)\" d=\"M3,0A3,3 0 1,1 0,-3A3,3 0 0,1 3,0Z\" style=\"opacity: 1; stroke-width: 0px; fill: rgb(99, 110, 250); fill-opacity: 1;\"/><path class=\"point\" transform=\"translate(375.07,197.26)\" d=\"M3,0A3,3 0 1,1 0,-3A3,3 0 0,1 3,0Z\" style=\"opacity: 1; stroke-width: 0px; fill: rgb(99, 110, 250); fill-opacity: 1;\"/><path class=\"point\" transform=\"translate(395.61,231.75)\" d=\"M3,0A3,3 0 1,1 0,-3A3,3 0 0,1 3,0Z\" style=\"opacity: 1; stroke-width: 0px; fill: rgb(99, 110, 250); fill-opacity: 1;\"/><path class=\"point\" transform=\"translate(416.15,230.2)\" d=\"M3,0A3,3 0 1,1 0,-3A3,3 0 0,1 3,0Z\" style=\"opacity: 1; stroke-width: 0px; fill: rgb(99, 110, 250); fill-opacity: 1;\"/></g><g class=\"text\"/></g><g class=\"trace scatter trace624a63\" style=\"stroke-miterlimit: 2; opacity: 1;\"><g class=\"fills\"/><g class=\"errorbars\"/><g class=\"lines\"><path class=\"js-line\" d=\"M25.85,49.56L46.39,19.75L66.93,37.99L87.48,38.73L108.02,40.49L128.56,40.24L149.1,47.3L169.64,43.97L190.19,125.6L210.73,122.81L231.27,138.38L251.81,120.68L272.36,112.3L292.9,128.55L313.44,140.82L333.98,119.39L354.52,102.55L375.07,96.53L395.61,91.33L416.15,118.9\" style=\"vector-effect: none; fill: none; stroke: rgb(239, 85, 59); stroke-opacity: 1; stroke-width: 2px; opacity: 1;\"/></g><g class=\"points\"><path class=\"point\" transform=\"translate(25.85,49.56)\" d=\"M3,0A3,3 0 1,1 0,-3A3,3 0 0,1 3,0Z\" style=\"opacity: 1; stroke-width: 0px; fill: rgb(239, 85, 59); fill-opacity: 1;\"/><path class=\"point\" transform=\"translate(46.39,19.75)\" d=\"M3,0A3,3 0 1,1 0,-3A3,3 0 0,1 3,0Z\" style=\"opacity: 1; stroke-width: 0px; fill: rgb(239, 85, 59); fill-opacity: 1;\"/><path class=\"point\" transform=\"translate(66.93,37.99)\" d=\"M3,0A3,3 0 1,1 0,-3A3,3 0 0,1 3,0Z\" style=\"opacity: 1; stroke-width: 0px; fill: rgb(239, 85, 59); fill-opacity: 1;\"/><path class=\"point\" transform=\"translate(87.48,38.73)\" d=\"M3,0A3,3 0 1,1 0,-3A3,3 0 0,1 3,0Z\" style=\"opacity: 1; stroke-width: 0px; fill: rgb(239, 85, 59); fill-opacity: 1;\"/><path class=\"point\" transform=\"translate(108.02,40.49)\" d=\"M3,0A3,3 0 1,1 0,-3A3,3 0 0,1 3,0Z\" style=\"opacity: 1; stroke-width: 0px; fill: rgb(239, 85, 59); fill-opacity: 1;\"/><path class=\"point\" transform=\"translate(128.56,40.24)\" d=\"M3,0A3,3 0 1,1 0,-3A3,3 0 0,1 3,0Z\" style=\"opacity: 1; stroke-width: 0px; fill: rgb(239, 85, 59); fill-opacity: 1;\"/><path class=\"point\" transform=\"translate(149.1,47.3)\" d=\"M3,0A3,3 0 1,1 0,-3A3,3 0 0,1 3,0Z\" style=\"opacity: 1; stroke-width: 0px; fill: rgb(239, 85, 59); fill-opacity: 1;\"/><path class=\"point\" transform=\"translate(169.64,43.97)\" d=\"M3,0A3,3 0 1,1 0,-3A3,3 0 0,1 3,0Z\" style=\"opacity: 1; stroke-width: 0px; fill: rgb(239, 85, 59); fill-opacity: 1;\"/><path class=\"point\" transform=\"translate(190.19,125.6)\" d=\"M3,0A3,3 0 1,1 0,-3A3,3 0 0,1 3,0Z\" style=\"opacity: 1; stroke-width: 0px; fill: rgb(239, 85, 59); fill-opacity: 1;\"/><path class=\"point\" transform=\"translate(210.73,122.81)\" d=\"M3,0A3,3 0 1,1 0,-3A3,3 0 0,1 3,0Z\" style=\"opacity: 1; stroke-width: 0px; fill: rgb(239, 85, 59); fill-opacity: 1;\"/><path class=\"point\" transform=\"translate(231.27,138.38)\" d=\"M3,0A3,3 0 1,1 0,-3A3,3 0 0,1 3,0Z\" style=\"opacity: 1; stroke-width: 0px; fill: rgb(239, 85, 59); fill-opacity: 1;\"/><path class=\"point\" transform=\"translate(251.81,120.68)\" d=\"M3,0A3,3 0 1,1 0,-3A3,3 0 0,1 3,0Z\" style=\"opacity: 1; stroke-width: 0px; fill: rgb(239, 85, 59); fill-opacity: 1;\"/><path class=\"point\" transform=\"translate(272.36,112.3)\" d=\"M3,0A3,3 0 1,1 0,-3A3,3 0 0,1 3,0Z\" style=\"opacity: 1; stroke-width: 0px; fill: rgb(239, 85, 59); fill-opacity: 1;\"/><path class=\"point\" transform=\"translate(292.9,128.55)\" d=\"M3,0A3,3 0 1,1 0,-3A3,3 0 0,1 3,0Z\" style=\"opacity: 1; stroke-width: 0px; fill: rgb(239, 85, 59); fill-opacity: 1;\"/><path class=\"point\" transform=\"translate(313.44,140.82)\" d=\"M3,0A3,3 0 1,1 0,-3A3,3 0 0,1 3,0Z\" style=\"opacity: 1; stroke-width: 0px; fill: rgb(239, 85, 59); fill-opacity: 1;\"/><path class=\"point\" transform=\"translate(333.98,119.39)\" d=\"M3,0A3,3 0 1,1 0,-3A3,3 0 0,1 3,0Z\" style=\"opacity: 1; stroke-width: 0px; fill: rgb(239, 85, 59); fill-opacity: 1;\"/><path class=\"point\" transform=\"translate(354.52,102.55)\" d=\"M3,0A3,3 0 1,1 0,-3A3,3 0 0,1 3,0Z\" style=\"opacity: 1; stroke-width: 0px; fill: rgb(239, 85, 59); fill-opacity: 1;\"/><path class=\"point\" transform=\"translate(375.07,96.53)\" d=\"M3,0A3,3 0 1,1 0,-3A3,3 0 0,1 3,0Z\" style=\"opacity: 1; stroke-width: 0px; fill: rgb(239, 85, 59); fill-opacity: 1;\"/><path class=\"point\" transform=\"translate(395.61,91.33)\" d=\"M3,0A3,3 0 1,1 0,-3A3,3 0 0,1 3,0Z\" style=\"opacity: 1; stroke-width: 0px; fill: rgb(239, 85, 59); fill-opacity: 1;\"/><path class=\"point\" transform=\"translate(416.15,118.9)\" d=\"M3,0A3,3 0 1,1 0,-3A3,3 0 0,1 3,0Z\" style=\"opacity: 1; stroke-width: 0px; fill: rgb(239, 85, 59); fill-opacity: 1;\"/></g><g class=\"text\"/></g></g></g></g><path class=\"xlines-above crisp\" d=\"M0,0\" style=\"fill: none;\"/><path class=\"ylines-above crisp\" d=\"M0,0\" style=\"fill: none;\"/><g class=\"overlines-above\"/><g class=\"xaxislayer-above\"><g class=\"xtick\"><text text-anchor=\"middle\" x=\"0\" y=\"433\" transform=\"translate(105.85,0)\" style=\"font-family: 'Open Sans', verdana, arial, sans-serif; font-size: 12px; fill: rgb(242, 245, 250); fill-opacity: 1; white-space: pre; opacity: 1;\">0</text></g><g class=\"xtick\"><text text-anchor=\"middle\" x=\"0\" y=\"433\" style=\"font-family: 'Open Sans', verdana, arial, sans-serif; font-size: 12px; fill: rgb(242, 245, 250); fill-opacity: 1; white-space: pre; opacity: 1;\" transform=\"translate(208.56,0)\">5</text></g><g class=\"xtick\"><text text-anchor=\"middle\" x=\"0\" y=\"433\" style=\"font-family: 'Open Sans', verdana, arial, sans-serif; font-size: 12px; fill: rgb(242, 245, 250); fill-opacity: 1; white-space: pre; opacity: 1;\" transform=\"translate(311.27,0)\">10</text></g><g class=\"xtick\"><text text-anchor=\"middle\" x=\"0\" y=\"433\" style=\"font-family: 'Open Sans', verdana, arial, sans-serif; font-size: 12px; fill: rgb(242, 245, 250); fill-opacity: 1; white-space: pre; opacity: 1;\" transform=\"translate(413.98,0)\">15</text></g><g class=\"xtick\"><text text-anchor=\"middle\" x=\"0\" y=\"433\" style=\"font-family: 'Open Sans', verdana, arial, sans-serif; font-size: 12px; fill: rgb(242, 245, 250); fill-opacity: 1; white-space: pre; opacity: 1;\" transform=\"translate(516.69,0)\">20</text></g></g><g class=\"yaxislayer-above\"><g class=\"ytick\"><text text-anchor=\"end\" x=\"79\" y=\"4.199999999999999\" transform=\"translate(0,419.64)\" style=\"font-family: 'Open Sans', verdana, arial, sans-serif; font-size: 12px; fill: rgb(242, 245, 250); fill-opacity: 1; white-space: pre; opacity: 1;\">0.257</text></g><g class=\"ytick\"><text text-anchor=\"end\" x=\"79\" y=\"4.199999999999999\" style=\"font-family: 'Open Sans', verdana, arial, sans-serif; font-size: 12px; fill: rgb(242, 245, 250); fill-opacity: 1; white-space: pre; opacity: 1;\" transform=\"translate(0,382.84)\">0.258</text></g><g class=\"ytick\"><text text-anchor=\"end\" x=\"79\" y=\"4.199999999999999\" style=\"font-family: 'Open Sans', verdana, arial, sans-serif; font-size: 12px; fill: rgb(242, 245, 250); fill-opacity: 1; white-space: pre; opacity: 1;\" transform=\"translate(0,346.03999999999996)\">0.259</text></g><g class=\"ytick\"><text text-anchor=\"end\" x=\"79\" y=\"4.199999999999999\" style=\"font-family: 'Open Sans', verdana, arial, sans-serif; font-size: 12px; fill: rgb(242, 245, 250); fill-opacity: 1; white-space: pre; opacity: 1;\" transform=\"translate(0,309.24)\">0.26</text></g><g class=\"ytick\"><text text-anchor=\"end\" x=\"79\" y=\"4.199999999999999\" style=\"font-family: 'Open Sans', verdana, arial, sans-serif; font-size: 12px; fill: rgb(242, 245, 250); fill-opacity: 1; white-space: pre; opacity: 1;\" transform=\"translate(0,272.44)\">0.261</text></g><g class=\"ytick\"><text text-anchor=\"end\" x=\"79\" y=\"4.199999999999999\" style=\"font-family: 'Open Sans', verdana, arial, sans-serif; font-size: 12px; fill: rgb(242, 245, 250); fill-opacity: 1; white-space: pre; opacity: 1;\" transform=\"translate(0,235.64)\">0.262</text></g><g class=\"ytick\"><text text-anchor=\"end\" x=\"79\" y=\"4.199999999999999\" style=\"font-family: 'Open Sans', verdana, arial, sans-serif; font-size: 12px; fill: rgb(242, 245, 250); fill-opacity: 1; white-space: pre; opacity: 1;\" transform=\"translate(0,198.84)\">0.263</text></g><g class=\"ytick\"><text text-anchor=\"end\" x=\"79\" y=\"4.199999999999999\" style=\"font-family: 'Open Sans', verdana, arial, sans-serif; font-size: 12px; fill: rgb(242, 245, 250); fill-opacity: 1; white-space: pre; opacity: 1;\" transform=\"translate(0,162.04)\">0.264</text></g><g class=\"ytick\"><text text-anchor=\"end\" x=\"79\" y=\"4.199999999999999\" style=\"font-family: 'Open Sans', verdana, arial, sans-serif; font-size: 12px; fill: rgb(242, 245, 250); fill-opacity: 1; white-space: pre; opacity: 1;\" transform=\"translate(0,125.24)\">0.265</text></g></g><g class=\"overaxes-above\"/></g></g><g class=\"polarlayer\"/><g class=\"smithlayer\"/><g class=\"ternarylayer\"/><g class=\"geolayer\"/><g class=\"funnelarealayer\"/><g class=\"pielayer\"/><g class=\"iciclelayer\"/><g class=\"treemaplayer\"/><g class=\"sunburstlayer\"/><g class=\"glimages\"/><defs id=\"topdefs-d146e6\"><g class=\"clips\"/><clipPath id=\"legendd146e6\"><rect width=\"157\" height=\"48\" x=\"0\" y=\"0\"/></clipPath></defs><g class=\"layer-above\"><g class=\"imagelayer\"/><g class=\"shapelayer\"/></g><g class=\"infolayer\"><g class=\"legend\" pointer-events=\"all\" transform=\"translate(530.84,100)\"><rect class=\"bg\" shape-rendering=\"crispEdges\" style=\"stroke: rgb(68, 68, 68); stroke-opacity: 1; fill: rgb(17, 17, 17); fill-opacity: 1; stroke-width: 0px;\" width=\"157\" height=\"48\" x=\"0\" y=\"0\"/><g class=\"scrollbox\" transform=\"\" clip-path=\"url(#legendd146e6)\"><g class=\"groups\"><g class=\"traces\" transform=\"translate(0,14.5)\" style=\"opacity: 1;\"><text class=\"legendtext\" text-anchor=\"start\" x=\"40\" y=\"4.680000000000001\" style=\"font-family: 'Open Sans', verdana, arial, sans-serif; font-size: 12px; fill: rgb(242, 245, 250); fill-opacity: 1; white-space: pre;\">axgb_response_time</text><g class=\"layers\" style=\"opacity: 1;\"><g class=\"legendfill\"/><g class=\"legendlines\"><path class=\"js-line\" d=\"M5,0h30\" style=\"fill: none; stroke: rgb(99, 110, 250); stroke-opacity: 1; stroke-width: 2px;\"/></g><g class=\"legendsymbols\"><g class=\"legendpoints\"><path class=\"scatterpts\" transform=\"translate(20,0)\" d=\"M3,0A3,3 0 1,1 0,-3A3,3 0 0,1 3,0Z\" style=\"opacity: 1; stroke-width: 0px; fill: rgb(99, 110, 250); fill-opacity: 1;\"/></g></g></g><rect class=\"legendtoggle\" x=\"0\" y=\"-9.5\" width=\"151.734375\" height=\"19\" style=\"fill: rgb(0, 0, 0); fill-opacity: 0;\"/></g><g class=\"traces\" transform=\"translate(0,33.5)\" style=\"opacity: 1;\"><text class=\"legendtext\" text-anchor=\"start\" x=\"40\" y=\"4.680000000000001\" style=\"font-family: 'Open Sans', verdana, arial, sans-serif; font-size: 12px; fill: rgb(242, 245, 250); fill-opacity: 1; white-space: pre;\">htc_response_time</text><g class=\"layers\" style=\"opacity: 1;\"><g class=\"legendfill\"/><g class=\"legendlines\"><path class=\"js-line\" d=\"M5,0h30\" style=\"fill: none; stroke: rgb(239, 85, 59); stroke-opacity: 1; stroke-width: 2px;\"/></g><g class=\"legendsymbols\"><g class=\"legendpoints\"><path class=\"scatterpts\" transform=\"translate(20,0)\" d=\"M3,0A3,3 0 1,1 0,-3A3,3 0 0,1 3,0Z\" style=\"opacity: 1; stroke-width: 0px; fill: rgb(239, 85, 59); fill-opacity: 1;\"/></g></g></g><rect class=\"legendtoggle\" x=\"0\" y=\"-9.5\" width=\"151.734375\" height=\"19\" style=\"fill: rgb(0, 0, 0); fill-opacity: 0;\"/></g></g></g><rect class=\"scrollbar\" rx=\"20\" ry=\"3\" width=\"0\" height=\"0\" style=\"fill: rgb(128, 139, 164); fill-opacity: 1;\" x=\"0\" y=\"0\"/></g><g class=\"g-gtitle\"><text class=\"gtitle\" x=\"35\" y=\"50\" text-anchor=\"start\" dy=\"0em\" style=\"opacity: 1; font-family: 'Open Sans', verdana, arial, sans-serif; font-size: 17px; fill: rgb(242, 245, 250); fill-opacity: 1; white-space: pre;\">Model Inference Response Time (Single Datapoint)</text></g><g class=\"g-xtitle\"><text class=\"xtitle\" x=\"301\" y=\"460.3\" text-anchor=\"middle\" style=\"opacity: 1; font-family: 'Open Sans', verdana, arial, sans-serif; font-size: 14px; fill: rgb(242, 245, 250); fill-opacity: 1; white-space: pre;\">Request Number</text></g><g class=\"g-ytitle\"><text class=\"ytitle\" transform=\"rotate(-90,29.56875,260)\" x=\"29.56875\" y=\"260\" text-anchor=\"middle\" style=\"opacity: 1; font-family: 'Open Sans', verdana, arial, sans-serif; font-size: 14px; fill: rgb(242, 245, 250); fill-opacity: 1; white-space: pre;\">Response Time (seconds)</text></g></g></svg>"
          },
          "metadata": {}
        }
      ]
    },
    {
      "cell_type": "markdown",
      "source": [
        "# Batch Model Inference"
      ],
      "metadata": {
        "id": "tgTkL3NuJuo7"
      }
    },
    {
      "cell_type": "code",
      "source": [
        "upload_sizes = [100,1000,5000,10000,50000,100000]\n",
        "\n",
        "\n",
        "# check if intervals already stored\n",
        "filename = \"batch_inference_time_intervals.pkl\"\n",
        "if not os.path.exists(filename):\n",
        "    batch_sizes = [100,1000,5000,10000,50000,100000]\n",
        "\n",
        "    for size in batch_sizes:\n",
        "      timer.start(f\"inference_axgb_model_{size}\")\n",
        "      for i in range(5):\n",
        "        outputs = deployed_axgb_model.get_inference(ieee_features_df.head(size))\n",
        "        timer.checkpoint(f\"inference_axgb_model_{size}\")\n",
        "      timer.stop(f\"inference_axgb_model_{size}\")\n",
        "\n",
        "    for size in upload_sizes:\n",
        "      timer.start(f\"inference_htc_model_{size}\")\n",
        "      for i in range(5):\n",
        "        outputs = deployed_htc_model.get_inference(ieee_features_df.head(size))\n",
        "        timer.checkpoint(f\"inference_htc_model_{size}\")\n",
        "      timer.stop(f\"inference_htc_model_{size}\")\n",
        "\n",
        "    intervals = timer.intervals\n",
        "    with open(filename, \"wb\") as f:\n",
        "      pickle.dump(intervals, f)\n",
        "\n",
        "else:\n",
        "    with open(filename, \"rb\") as f:\n",
        "      intervals = pickle.load(f)"
      ],
      "metadata": {
        "colab": {
          "base_uri": "https://localhost:8080/"
        },
        "id": "tRVdb61oIhd4",
        "outputId": "3b088159-f789-404f-98ae-6bf659f1f72f"
      },
      "execution_count": 36,
      "outputs": [
        {
          "output_type": "stream",
          "name": "stdout",
          "text": [
            "Timer 'inference_axgb_model_100' started.\n"
          ]
        },
        {
          "output_type": "stream",
          "name": "stderr",
          "text": [
            "INFO:turboml.common.internal:Starting to upload data... Total rows: 100\n",
            "Progress: 100%|██████████| 1.00/1.00 [00:00<00:00, 444chunk/s]\n",
            "INFO:turboml.common.internal:Completed data upload.\n",
            "INFO:turboml.common.internal:Starting to upload data... Total rows: 100\n",
            "Progress: 100%|██████████| 1.00/1.00 [00:00<00:00, 624chunk/s]\n",
            "INFO:turboml.common.internal:Completed data upload.\n"
          ]
        },
        {
          "output_type": "stream",
          "name": "stdout",
          "text": [
            "Time elapsed 4.0645 seconds\n"
          ]
        },
        {
          "output_type": "stream",
          "name": "stderr",
          "text": [
            "INFO:turboml.common.internal:Starting to upload data... Total rows: 100\n",
            "Progress: 100%|██████████| 1.00/1.00 [00:00<00:00, 496chunk/s]\n",
            "INFO:turboml.common.internal:Completed data upload.\n",
            "INFO:turboml.common.internal:Starting to upload data... Total rows: 100\n",
            "Progress: 100%|██████████| 1.00/1.00 [00:00<00:00, 771chunk/s]\n",
            "INFO:turboml.common.internal:Completed data upload.\n"
          ]
        },
        {
          "output_type": "stream",
          "name": "stdout",
          "text": [
            "Time elapsed 3.9307 seconds\n"
          ]
        },
        {
          "output_type": "stream",
          "name": "stderr",
          "text": [
            "INFO:turboml.common.internal:Starting to upload data... Total rows: 100\n",
            "Progress: 100%|██████████| 1.00/1.00 [00:00<00:00, 835chunk/s]\n",
            "INFO:turboml.common.internal:Completed data upload.\n",
            "INFO:turboml.common.internal:Starting to upload data... Total rows: 100\n",
            "Progress: 100%|██████████| 1.00/1.00 [00:00<00:00, 873chunk/s]\n",
            "INFO:turboml.common.internal:Completed data upload.\n"
          ]
        },
        {
          "output_type": "stream",
          "name": "stdout",
          "text": [
            "Time elapsed 3.9274 seconds\n"
          ]
        },
        {
          "output_type": "stream",
          "name": "stderr",
          "text": [
            "INFO:turboml.common.internal:Starting to upload data... Total rows: 100\n",
            "Progress: 100%|██████████| 1.00/1.00 [00:00<00:00, 701chunk/s]\n",
            "INFO:turboml.common.internal:Completed data upload.\n",
            "INFO:turboml.common.internal:Starting to upload data... Total rows: 100\n",
            "Progress: 100%|██████████| 1.00/1.00 [00:00<00:00, 758chunk/s]\n",
            "INFO:turboml.common.internal:Completed data upload.\n"
          ]
        },
        {
          "output_type": "stream",
          "name": "stdout",
          "text": [
            "Time elapsed 3.9533 seconds\n"
          ]
        },
        {
          "output_type": "stream",
          "name": "stderr",
          "text": [
            "INFO:turboml.common.internal:Starting to upload data... Total rows: 100\n",
            "Progress: 100%|██████████| 1.00/1.00 [00:00<00:00, 734chunk/s]\n",
            "INFO:turboml.common.internal:Completed data upload.\n",
            "INFO:turboml.common.internal:Starting to upload data... Total rows: 100\n",
            "Progress: 100%|██████████| 1.00/1.00 [00:00<00:00, 910chunk/s]\n",
            "INFO:turboml.common.internal:Completed data upload.\n"
          ]
        },
        {
          "output_type": "stream",
          "name": "stdout",
          "text": [
            "Time elapsed 3.8790 seconds\n",
            "Timer 'inference_axgb_model_100' stopped. Elapsed time: 19.7550 seconds\n",
            "Timer 'inference_axgb_model_1000' started.\n"
          ]
        },
        {
          "output_type": "stream",
          "name": "stderr",
          "text": [
            "INFO:turboml.common.internal:Starting to upload data... Total rows: 1000\n",
            "Progress: 100%|██████████| 1.00/1.00 [00:00<00:00, 1.32chunk/s]\n",
            "INFO:turboml.common.internal:Completed data upload.\n",
            "INFO:turboml.common.internal:Starting to upload data... Total rows: 1000\n",
            "Progress: 100%|██████████| 1.00/1.00 [00:00<00:00, 1.37chunk/s]\n",
            "INFO:turboml.common.internal:Completed data upload.\n"
          ]
        },
        {
          "output_type": "stream",
          "name": "stdout",
          "text": [
            "Time elapsed 5.9856 seconds\n"
          ]
        },
        {
          "output_type": "stream",
          "name": "stderr",
          "text": [
            "INFO:turboml.common.internal:Starting to upload data... Total rows: 1000\n",
            "Progress: 100%|██████████| 1.00/1.00 [00:00<00:00, 1.33chunk/s]\n",
            "INFO:turboml.common.internal:Completed data upload.\n",
            "INFO:turboml.common.internal:Starting to upload data... Total rows: 1000\n",
            "Progress: 100%|██████████| 1.00/1.00 [00:00<00:00, 1.33chunk/s]\n",
            "INFO:turboml.common.internal:Completed data upload.\n"
          ]
        },
        {
          "output_type": "stream",
          "name": "stdout",
          "text": [
            "Time elapsed 6.0873 seconds\n"
          ]
        },
        {
          "output_type": "stream",
          "name": "stderr",
          "text": [
            "INFO:turboml.common.internal:Starting to upload data... Total rows: 1000\n",
            "Progress: 100%|██████████| 1.00/1.00 [00:00<00:00, 1.35chunk/s]\n",
            "INFO:turboml.common.internal:Completed data upload.\n",
            "INFO:turboml.common.internal:Starting to upload data... Total rows: 1000\n",
            "Progress: 100%|██████████| 1.00/1.00 [00:00<00:00, 1.29chunk/s]\n",
            "INFO:turboml.common.internal:Completed data upload.\n"
          ]
        },
        {
          "output_type": "stream",
          "name": "stdout",
          "text": [
            "Time elapsed 6.0706 seconds\n"
          ]
        },
        {
          "output_type": "stream",
          "name": "stderr",
          "text": [
            "INFO:turboml.common.internal:Starting to upload data... Total rows: 1000\n",
            "Progress: 100%|██████████| 1.00/1.00 [00:00<00:00, 1.30chunk/s]\n",
            "INFO:turboml.common.internal:Completed data upload.\n",
            "INFO:turboml.common.internal:Starting to upload data... Total rows: 1000\n",
            "Progress: 100%|██████████| 1.00/1.00 [00:01<00:00, 1.00s/chunk]\n",
            "INFO:turboml.common.internal:Completed data upload.\n"
          ]
        },
        {
          "output_type": "stream",
          "name": "stdout",
          "text": [
            "Time elapsed 6.5098 seconds\n"
          ]
        },
        {
          "output_type": "stream",
          "name": "stderr",
          "text": [
            "INFO:turboml.common.internal:Starting to upload data... Total rows: 1000\n",
            "Progress: 100%|██████████| 1.00/1.00 [00:00<00:00, 1.01chunk/s]\n",
            "INFO:turboml.common.internal:Completed data upload.\n",
            "INFO:turboml.common.internal:Starting to upload data... Total rows: 1000\n",
            "Progress: 100%|██████████| 1.00/1.00 [00:00<00:00, 1.38chunk/s]\n",
            "INFO:turboml.common.internal:Completed data upload.\n"
          ]
        },
        {
          "output_type": "stream",
          "name": "stdout",
          "text": [
            "Time elapsed 6.3338 seconds\n",
            "Timer 'inference_axgb_model_1000' stopped. Elapsed time: 30.9878 seconds\n",
            "Timer 'inference_axgb_model_5000' started.\n"
          ]
        },
        {
          "output_type": "stream",
          "name": "stderr",
          "text": [
            "INFO:turboml.common.internal:Starting to upload data... Total rows: 5000\n",
            "Progress: 100%|██████████| 1.00/1.00 [00:01<00:00, 1.77s/chunk]\n",
            "INFO:turboml.common.internal:Completed data upload.\n",
            "INFO:turboml.common.internal:Starting to upload data... Total rows: 5000\n",
            "Progress: 100%|██████████| 5.00/5.00 [00:01<00:00, 2.80chunk/s]\n",
            "INFO:turboml.common.internal:Completed data upload.\n"
          ]
        },
        {
          "output_type": "stream",
          "name": "stdout",
          "text": [
            "Time elapsed 9.8325 seconds\n"
          ]
        },
        {
          "output_type": "stream",
          "name": "stderr",
          "text": [
            "INFO:turboml.common.internal:Starting to upload data... Total rows: 5000\n",
            "Progress: 100%|██████████| 1.00/1.00 [00:01<00:00, 1.74s/chunk]\n",
            "INFO:turboml.common.internal:Completed data upload.\n",
            "INFO:turboml.common.internal:Starting to upload data... Total rows: 5000\n",
            "Progress: 100%|██████████| 5.00/5.00 [00:01<00:00, 3.97chunk/s]\n",
            "INFO:turboml.common.internal:Completed data upload.\n"
          ]
        },
        {
          "output_type": "stream",
          "name": "stdout",
          "text": [
            "Time elapsed 8.5415 seconds\n"
          ]
        },
        {
          "output_type": "stream",
          "name": "stderr",
          "text": [
            "INFO:turboml.common.internal:Starting to upload data... Total rows: 5000\n",
            "Progress: 100%|██████████| 1.00/1.00 [00:01<00:00, 1.74s/chunk]\n",
            "INFO:turboml.common.internal:Completed data upload.\n",
            "INFO:turboml.common.internal:Starting to upload data... Total rows: 5000\n",
            "Progress: 100%|██████████| 5.00/5.00 [00:01<00:00, 3.89chunk/s]\n",
            "INFO:turboml.common.internal:Completed data upload.\n"
          ]
        },
        {
          "output_type": "stream",
          "name": "stdout",
          "text": [
            "Time elapsed 8.5657 seconds\n"
          ]
        },
        {
          "output_type": "stream",
          "name": "stderr",
          "text": [
            "INFO:turboml.common.internal:Starting to upload data... Total rows: 5000\n",
            "Progress: 100%|██████████| 1.00/1.00 [00:01<00:00, 1.76s/chunk]\n",
            "INFO:turboml.common.internal:Completed data upload.\n",
            "INFO:turboml.common.internal:Starting to upload data... Total rows: 5000\n",
            "Progress: 100%|██████████| 5.00/5.00 [00:01<00:00, 3.95chunk/s]\n",
            "INFO:turboml.common.internal:Completed data upload.\n"
          ]
        },
        {
          "output_type": "stream",
          "name": "stdout",
          "text": [
            "Time elapsed 8.7037 seconds\n"
          ]
        },
        {
          "output_type": "stream",
          "name": "stderr",
          "text": [
            "INFO:turboml.common.internal:Starting to upload data... Total rows: 5000\n",
            "Progress: 100%|██████████| 1.00/1.00 [00:01<00:00, 1.76s/chunk]\n",
            "INFO:turboml.common.internal:Completed data upload.\n",
            "INFO:turboml.common.internal:Starting to upload data... Total rows: 5000\n",
            "Progress: 100%|██████████| 5.00/5.00 [00:01<00:00, 3.87chunk/s]\n",
            "INFO:turboml.common.internal:Completed data upload.\n"
          ]
        },
        {
          "output_type": "stream",
          "name": "stdout",
          "text": [
            "Time elapsed 9.4790 seconds\n",
            "Timer 'inference_axgb_model_5000' stopped. Elapsed time: 45.1227 seconds\n",
            "Timer 'inference_axgb_model_10000' started.\n"
          ]
        },
        {
          "output_type": "stream",
          "name": "stderr",
          "text": [
            "INFO:turboml.common.internal:Starting to upload data... Total rows: 10000\n",
            "Progress:  50%|█████     | 1.00/2.00 [00:02<00:02, 2.06s/chunk]\n",
            "INFO:turboml.common.internal:Completed data upload.\n",
            "INFO:turboml.common.internal:Starting to upload data... Total rows: 10000\n",
            "Progress: 100%|██████████| 10.0/10.0 [00:01<00:00, 6.53chunk/s]\n",
            "INFO:turboml.common.internal:Completed data upload.\n"
          ]
        },
        {
          "output_type": "stream",
          "name": "stdout",
          "text": [
            "Time elapsed 10.2670 seconds\n"
          ]
        },
        {
          "output_type": "stream",
          "name": "stderr",
          "text": [
            "INFO:turboml.common.internal:Starting to upload data... Total rows: 10000\n",
            "Progress:  50%|█████     | 1.00/2.00 [00:02<00:02, 2.26s/chunk]\n",
            "INFO:turboml.common.internal:Completed data upload.\n",
            "INFO:turboml.common.internal:Starting to upload data... Total rows: 10000\n",
            "Progress: 100%|██████████| 10.0/10.0 [00:01<00:00, 6.44chunk/s]\n",
            "INFO:turboml.common.internal:Completed data upload.\n"
          ]
        },
        {
          "output_type": "stream",
          "name": "stdout",
          "text": [
            "Time elapsed 10.2782 seconds\n"
          ]
        },
        {
          "output_type": "stream",
          "name": "stderr",
          "text": [
            "INFO:turboml.common.internal:Starting to upload data... Total rows: 10000\n",
            "Progress:  50%|█████     | 1.00/2.00 [00:02<00:02, 2.27s/chunk]\n",
            "INFO:turboml.common.internal:Completed data upload.\n",
            "INFO:turboml.common.internal:Starting to upload data... Total rows: 10000\n",
            "Progress: 100%|██████████| 10.0/10.0 [00:01<00:00, 6.58chunk/s]\n",
            "INFO:turboml.common.internal:Completed data upload.\n"
          ]
        },
        {
          "output_type": "stream",
          "name": "stdout",
          "text": [
            "Time elapsed 10.5444 seconds\n"
          ]
        },
        {
          "output_type": "stream",
          "name": "stderr",
          "text": [
            "INFO:turboml.common.internal:Starting to upload data... Total rows: 10000\n",
            "Progress:  50%|█████     | 1.00/2.00 [00:02<00:02, 2.27s/chunk]\n",
            "INFO:turboml.common.internal:Completed data upload.\n",
            "INFO:turboml.common.internal:Starting to upload data... Total rows: 10000\n",
            "Progress: 100%|██████████| 10.0/10.0 [00:01<00:00, 6.67chunk/s]\n",
            "INFO:turboml.common.internal:Completed data upload.\n"
          ]
        },
        {
          "output_type": "stream",
          "name": "stdout",
          "text": [
            "Time elapsed 10.3848 seconds\n"
          ]
        },
        {
          "output_type": "stream",
          "name": "stderr",
          "text": [
            "INFO:turboml.common.internal:Starting to upload data... Total rows: 10000\n",
            "Progress:  50%|█████     | 1.00/2.00 [00:02<00:02, 2.29s/chunk]\n",
            "INFO:turboml.common.internal:Completed data upload.\n",
            "INFO:turboml.common.internal:Starting to upload data... Total rows: 10000\n",
            "Progress: 100%|██████████| 10.0/10.0 [00:02<00:00, 4.95chunk/s]\n",
            "INFO:turboml.common.internal:Completed data upload.\n"
          ]
        },
        {
          "output_type": "stream",
          "name": "stdout",
          "text": [
            "Time elapsed 10.6192 seconds\n",
            "Timer 'inference_axgb_model_10000' stopped. Elapsed time: 52.0938 seconds\n",
            "Timer 'inference_axgb_model_50000' started.\n"
          ]
        },
        {
          "output_type": "stream",
          "name": "stderr",
          "text": [
            "INFO:turboml.common.internal:Starting to upload data... Total rows: 50000\n",
            "Progress:  83%|████████▎ | 5.00/6.00 [00:08<00:01, 1.76s/chunk]\n",
            "INFO:turboml.common.internal:Completed data upload.\n",
            "INFO:turboml.common.internal:Starting to upload data... Total rows: 50000\n",
            "Progress: 100%|██████████| 49.0/49.0 [00:03<00:00, 15.9chunk/s]\n",
            "INFO:turboml.common.internal:Completed data upload.\n"
          ]
        },
        {
          "output_type": "stream",
          "name": "stdout",
          "text": [
            "Time elapsed 19.4134 seconds\n"
          ]
        },
        {
          "output_type": "stream",
          "name": "stderr",
          "text": [
            "INFO:turboml.common.internal:Starting to upload data... Total rows: 50000\n",
            "Progress:  83%|████████▎ | 5.00/6.00 [00:08<00:01, 1.71s/chunk]\n",
            "INFO:turboml.common.internal:Completed data upload.\n",
            "INFO:turboml.common.internal:Starting to upload data... Total rows: 50000\n",
            "Progress: 100%|██████████| 49.0/49.0 [00:03<00:00, 15.9chunk/s]\n",
            "INFO:turboml.common.internal:Completed data upload.\n"
          ]
        },
        {
          "output_type": "stream",
          "name": "stdout",
          "text": [
            "Time elapsed 18.9964 seconds\n"
          ]
        },
        {
          "output_type": "stream",
          "name": "stderr",
          "text": [
            "INFO:turboml.common.internal:Starting to upload data... Total rows: 50000\n",
            "Progress:  83%|████████▎ | 5.00/6.00 [00:08<00:01, 1.64s/chunk]\n",
            "INFO:turboml.common.internal:Completed data upload.\n",
            "INFO:turboml.common.internal:Starting to upload data... Total rows: 50000\n",
            "Progress: 100%|██████████| 49.0/49.0 [00:03<00:00, 16.1chunk/s]\n",
            "INFO:turboml.common.internal:Completed data upload.\n"
          ]
        },
        {
          "output_type": "stream",
          "name": "stdout",
          "text": [
            "Time elapsed 19.4033 seconds\n"
          ]
        },
        {
          "output_type": "stream",
          "name": "stderr",
          "text": [
            "INFO:turboml.common.internal:Starting to upload data... Total rows: 50000\n",
            "Progress:  83%|████████▎ | 5.00/6.00 [00:08<00:01, 1.61s/chunk]\n",
            "INFO:turboml.common.internal:Completed data upload.\n",
            "INFO:turboml.common.internal:Starting to upload data... Total rows: 50000\n",
            "Progress: 100%|██████████| 49.0/49.0 [00:03<00:00, 15.8chunk/s]\n",
            "INFO:turboml.common.internal:Completed data upload.\n"
          ]
        },
        {
          "output_type": "stream",
          "name": "stdout",
          "text": [
            "Time elapsed 18.6752 seconds\n"
          ]
        },
        {
          "output_type": "stream",
          "name": "stderr",
          "text": [
            "INFO:turboml.common.internal:Starting to upload data... Total rows: 50000\n",
            "Progress:  83%|████████▎ | 5.00/6.00 [00:08<00:01, 1.65s/chunk]\n",
            "INFO:turboml.common.internal:Completed data upload.\n",
            "INFO:turboml.common.internal:Starting to upload data... Total rows: 50000\n",
            "Progress: 100%|██████████| 49.0/49.0 [00:03<00:00, 15.8chunk/s]\n",
            "INFO:turboml.common.internal:Completed data upload.\n"
          ]
        },
        {
          "output_type": "stream",
          "name": "stdout",
          "text": [
            "Time elapsed 18.9047 seconds\n",
            "Timer 'inference_axgb_model_50000' stopped. Elapsed time: 95.3933 seconds\n",
            "Timer 'inference_axgb_model_100000' started.\n"
          ]
        },
        {
          "output_type": "stream",
          "name": "stderr",
          "text": [
            "INFO:turboml.common.internal:Starting to upload data... Total rows: 100000\n",
            "Progress:  91%|█████████ | 10.0/11.0 [00:13<00:01, 1.33s/chunk]\n",
            "INFO:turboml.common.internal:Completed data upload.\n",
            "INFO:turboml.common.internal:Starting to upload data... Total rows: 100000\n",
            "Progress: 100%|██████████| 98.0/98.0 [00:04<00:00, 20.1chunk/s]\n",
            "INFO:turboml.common.internal:Completed data upload.\n"
          ]
        },
        {
          "output_type": "stream",
          "name": "stdout",
          "text": [
            "Time elapsed 30.1925 seconds\n"
          ]
        },
        {
          "output_type": "stream",
          "name": "stderr",
          "text": [
            "INFO:turboml.common.internal:Starting to upload data... Total rows: 100000\n",
            "Progress:  91%|█████████ | 10.0/11.0 [00:13<00:01, 1.37s/chunk]\n",
            "INFO:turboml.common.internal:Completed data upload.\n",
            "INFO:turboml.common.internal:Starting to upload data... Total rows: 100000\n",
            "Progress: 100%|██████████| 98.0/98.0 [00:04<00:00, 20.1chunk/s]\n",
            "INFO:turboml.common.internal:Completed data upload.\n"
          ]
        },
        {
          "output_type": "stream",
          "name": "stdout",
          "text": [
            "Time elapsed 28.1139 seconds\n"
          ]
        },
        {
          "output_type": "stream",
          "name": "stderr",
          "text": [
            "INFO:turboml.common.internal:Starting to upload data... Total rows: 100000\n",
            "Progress:  91%|█████████ | 10.0/11.0 [00:13<00:01, 1.37s/chunk]\n",
            "INFO:turboml.common.internal:Completed data upload.\n",
            "INFO:turboml.common.internal:Starting to upload data... Total rows: 100000\n",
            "Progress: 100%|██████████| 98.0/98.0 [00:04<00:00, 20.2chunk/s]\n",
            "INFO:turboml.common.internal:Completed data upload.\n"
          ]
        },
        {
          "output_type": "stream",
          "name": "stdout",
          "text": [
            "Time elapsed 29.6018 seconds\n"
          ]
        },
        {
          "output_type": "stream",
          "name": "stderr",
          "text": [
            "INFO:turboml.common.internal:Starting to upload data... Total rows: 100000\n",
            "Progress:  91%|█████████ | 10.0/11.0 [00:13<00:01, 1.40s/chunk]\n",
            "INFO:turboml.common.internal:Completed data upload.\n",
            "INFO:turboml.common.internal:Starting to upload data... Total rows: 100000\n",
            "Progress: 100%|██████████| 98.0/98.0 [00:05<00:00, 19.3chunk/s]\n",
            "INFO:turboml.common.internal:Completed data upload.\n"
          ]
        },
        {
          "output_type": "stream",
          "name": "stdout",
          "text": [
            "Time elapsed 29.5318 seconds\n"
          ]
        },
        {
          "output_type": "stream",
          "name": "stderr",
          "text": [
            "INFO:turboml.common.internal:Starting to upload data... Total rows: 100000\n",
            "Progress:  91%|█████████ | 10.0/11.0 [00:13<00:01, 1.33s/chunk]\n",
            "INFO:turboml.common.internal:Completed data upload.\n",
            "INFO:turboml.common.internal:Starting to upload data... Total rows: 100000\n",
            "Progress: 100%|██████████| 98.0/98.0 [00:04<00:00, 20.4chunk/s]\n",
            "INFO:turboml.common.internal:Completed data upload.\n"
          ]
        },
        {
          "output_type": "stream",
          "name": "stdout",
          "text": [
            "Time elapsed 28.8763 seconds\n",
            "Timer 'inference_axgb_model_100000' stopped. Elapsed time: 146.3165 seconds\n",
            "Timer 'inference_htc_model_100' started.\n"
          ]
        },
        {
          "output_type": "stream",
          "name": "stderr",
          "text": [
            "INFO:turboml.common.internal:Starting to upload data... Total rows: 100\n",
            "Progress: 100%|██████████| 1.00/1.00 [00:00<00:00, 753chunk/s]\n",
            "INFO:turboml.common.internal:Completed data upload.\n",
            "INFO:turboml.common.internal:Starting to upload data... Total rows: 100\n",
            "Progress: 100%|██████████| 1.00/1.00 [00:00<00:00, 314chunk/s]\n",
            "INFO:turboml.common.internal:Completed data upload.\n"
          ]
        },
        {
          "output_type": "stream",
          "name": "stdout",
          "text": [
            "Time elapsed 3.9611 seconds\n"
          ]
        },
        {
          "output_type": "stream",
          "name": "stderr",
          "text": [
            "INFO:turboml.common.internal:Starting to upload data... Total rows: 100\n",
            "Progress: 100%|██████████| 1.00/1.00 [00:00<00:00, 789chunk/s]\n",
            "INFO:turboml.common.internal:Completed data upload.\n",
            "INFO:turboml.common.internal:Starting to upload data... Total rows: 100\n",
            "Progress: 100%|██████████| 1.00/1.00 [00:00<00:00, 790chunk/s]\n",
            "INFO:turboml.common.internal:Completed data upload.\n"
          ]
        },
        {
          "output_type": "stream",
          "name": "stdout",
          "text": [
            "Time elapsed 3.9152 seconds\n"
          ]
        },
        {
          "output_type": "stream",
          "name": "stderr",
          "text": [
            "INFO:turboml.common.internal:Starting to upload data... Total rows: 100\n",
            "Progress: 100%|██████████| 1.00/1.00 [00:00<00:00, 852chunk/s]\n",
            "INFO:turboml.common.internal:Completed data upload.\n",
            "INFO:turboml.common.internal:Starting to upload data... Total rows: 100\n",
            "Progress: 100%|██████████| 1.00/1.00 [00:00<00:00, 707chunk/s]\n",
            "INFO:turboml.common.internal:Completed data upload.\n"
          ]
        },
        {
          "output_type": "stream",
          "name": "stdout",
          "text": [
            "Time elapsed 3.9276 seconds\n"
          ]
        },
        {
          "output_type": "stream",
          "name": "stderr",
          "text": [
            "INFO:turboml.common.internal:Starting to upload data... Total rows: 100\n",
            "Progress: 100%|██████████| 1.00/1.00 [00:00<00:00, 808chunk/s]\n",
            "INFO:turboml.common.internal:Completed data upload.\n",
            "INFO:turboml.common.internal:Starting to upload data... Total rows: 100\n",
            "Progress: 100%|██████████| 1.00/1.00 [00:00<00:00, 813chunk/s]\n",
            "INFO:turboml.common.internal:Completed data upload.\n"
          ]
        },
        {
          "output_type": "stream",
          "name": "stdout",
          "text": [
            "Time elapsed 3.9284 seconds\n"
          ]
        },
        {
          "output_type": "stream",
          "name": "stderr",
          "text": [
            "INFO:turboml.common.internal:Starting to upload data... Total rows: 100\n",
            "Progress: 100%|██████████| 1.00/1.00 [00:00<00:00, 935chunk/s]\n",
            "INFO:turboml.common.internal:Completed data upload.\n",
            "INFO:turboml.common.internal:Starting to upload data... Total rows: 100\n",
            "Progress: 100%|██████████| 1.00/1.00 [00:00<00:00, 851chunk/s]\n",
            "INFO:turboml.common.internal:Completed data upload.\n"
          ]
        },
        {
          "output_type": "stream",
          "name": "stdout",
          "text": [
            "Time elapsed 3.9371 seconds\n",
            "Timer 'inference_htc_model_100' stopped. Elapsed time: 19.6696 seconds\n",
            "Timer 'inference_htc_model_1000' started.\n"
          ]
        },
        {
          "output_type": "stream",
          "name": "stderr",
          "text": [
            "INFO:turboml.common.internal:Starting to upload data... Total rows: 1000\n",
            "Progress: 100%|██████████| 1.00/1.00 [00:00<00:00, 1.30chunk/s]\n",
            "INFO:turboml.common.internal:Completed data upload.\n",
            "INFO:turboml.common.internal:Starting to upload data... Total rows: 1000\n",
            "Progress: 100%|██████████| 1.00/1.00 [00:00<00:00, 1.32chunk/s]\n",
            "INFO:turboml.common.internal:Completed data upload.\n"
          ]
        },
        {
          "output_type": "stream",
          "name": "stdout",
          "text": [
            "Time elapsed 6.0800 seconds\n"
          ]
        },
        {
          "output_type": "stream",
          "name": "stderr",
          "text": [
            "INFO:turboml.common.internal:Starting to upload data... Total rows: 1000\n",
            "Progress: 100%|██████████| 1.00/1.00 [00:00<00:00, 1.31chunk/s]\n",
            "INFO:turboml.common.internal:Completed data upload.\n",
            "INFO:turboml.common.internal:Starting to upload data... Total rows: 1000\n",
            "Progress: 100%|██████████| 1.00/1.00 [00:00<00:00, 1.33chunk/s]\n",
            "INFO:turboml.common.internal:Completed data upload.\n"
          ]
        },
        {
          "output_type": "stream",
          "name": "stdout",
          "text": [
            "Time elapsed 6.0045 seconds\n"
          ]
        },
        {
          "output_type": "stream",
          "name": "stderr",
          "text": [
            "INFO:turboml.common.internal:Starting to upload data... Total rows: 1000\n",
            "Progress: 100%|██████████| 1.00/1.00 [00:00<00:00, 1.31chunk/s]\n",
            "INFO:turboml.common.internal:Completed data upload.\n",
            "INFO:turboml.common.internal:Starting to upload data... Total rows: 1000\n",
            "Progress: 100%|██████████| 1.00/1.00 [00:00<00:00, 1.33chunk/s]\n",
            "INFO:turboml.common.internal:Completed data upload.\n"
          ]
        },
        {
          "output_type": "stream",
          "name": "stdout",
          "text": [
            "Time elapsed 6.2626 seconds\n"
          ]
        },
        {
          "output_type": "stream",
          "name": "stderr",
          "text": [
            "INFO:turboml.common.internal:Starting to upload data... Total rows: 1000\n",
            "Progress: 100%|██████████| 1.00/1.00 [00:00<00:00, 1.34chunk/s]\n",
            "INFO:turboml.common.internal:Completed data upload.\n",
            "INFO:turboml.common.internal:Starting to upload data... Total rows: 1000\n",
            "Progress: 100%|██████████| 1.00/1.00 [00:00<00:00, 1.32chunk/s]\n",
            "INFO:turboml.common.internal:Completed data upload.\n"
          ]
        },
        {
          "output_type": "stream",
          "name": "stdout",
          "text": [
            "Time elapsed 6.1438 seconds\n"
          ]
        },
        {
          "output_type": "stream",
          "name": "stderr",
          "text": [
            "INFO:turboml.common.internal:Starting to upload data... Total rows: 1000\n",
            "Progress: 100%|██████████| 1.00/1.00 [00:01<00:00, 1.01s/chunk]\n",
            "INFO:turboml.common.internal:Completed data upload.\n",
            "INFO:turboml.common.internal:Starting to upload data... Total rows: 1000\n",
            "Progress: 100%|██████████| 1.00/1.00 [00:00<00:00, 1.33chunk/s]\n",
            "INFO:turboml.common.internal:Completed data upload.\n"
          ]
        },
        {
          "output_type": "stream",
          "name": "stdout",
          "text": [
            "Time elapsed 6.2461 seconds\n",
            "Timer 'inference_htc_model_1000' stopped. Elapsed time: 30.7372 seconds\n",
            "Timer 'inference_htc_model_5000' started.\n"
          ]
        },
        {
          "output_type": "stream",
          "name": "stderr",
          "text": [
            "INFO:turboml.common.internal:Starting to upload data... Total rows: 5000\n",
            "Progress: 100%|██████████| 1.00/1.00 [00:01<00:00, 1.57s/chunk]\n",
            "INFO:turboml.common.internal:Completed data upload.\n",
            "INFO:turboml.common.internal:Starting to upload data... Total rows: 5000\n",
            "Progress: 100%|██████████| 5.00/5.00 [00:01<00:00, 3.90chunk/s]\n",
            "INFO:turboml.common.internal:Completed data upload.\n"
          ]
        },
        {
          "output_type": "stream",
          "name": "stdout",
          "text": [
            "Time elapsed 8.7086 seconds\n"
          ]
        },
        {
          "output_type": "stream",
          "name": "stderr",
          "text": [
            "INFO:turboml.common.internal:Starting to upload data... Total rows: 5000\n",
            "Progress: 100%|██████████| 1.00/1.00 [00:01<00:00, 1.77s/chunk]\n",
            "INFO:turboml.common.internal:Completed data upload.\n",
            "INFO:turboml.common.internal:Starting to upload data... Total rows: 5000\n",
            "Progress: 100%|██████████| 5.00/5.00 [00:01<00:00, 3.95chunk/s]\n",
            "INFO:turboml.common.internal:Completed data upload.\n"
          ]
        },
        {
          "output_type": "stream",
          "name": "stdout",
          "text": [
            "Time elapsed 8.5879 seconds\n"
          ]
        },
        {
          "output_type": "stream",
          "name": "stderr",
          "text": [
            "INFO:turboml.common.internal:Starting to upload data... Total rows: 5000\n",
            "Progress: 100%|██████████| 1.00/1.00 [00:01<00:00, 1.80s/chunk]\n",
            "INFO:turboml.common.internal:Completed data upload.\n",
            "INFO:turboml.common.internal:Starting to upload data... Total rows: 5000\n",
            "Progress: 100%|██████████| 5.00/5.00 [00:01<00:00, 3.89chunk/s]\n",
            "INFO:turboml.common.internal:Completed data upload.\n"
          ]
        },
        {
          "output_type": "stream",
          "name": "stdout",
          "text": [
            "Time elapsed 8.7350 seconds\n"
          ]
        },
        {
          "output_type": "stream",
          "name": "stderr",
          "text": [
            "INFO:turboml.common.internal:Starting to upload data... Total rows: 5000\n",
            "Progress: 100%|██████████| 1.00/1.00 [00:01<00:00, 1.77s/chunk]\n",
            "INFO:turboml.common.internal:Completed data upload.\n",
            "INFO:turboml.common.internal:Starting to upload data... Total rows: 5000\n",
            "Progress: 100%|██████████| 5.00/5.00 [00:01<00:00, 3.94chunk/s]\n",
            "INFO:turboml.common.internal:Completed data upload.\n"
          ]
        },
        {
          "output_type": "stream",
          "name": "stdout",
          "text": [
            "Time elapsed 8.3195 seconds\n"
          ]
        },
        {
          "output_type": "stream",
          "name": "stderr",
          "text": [
            "INFO:turboml.common.internal:Starting to upload data... Total rows: 5000\n",
            "Progress: 100%|██████████| 1.00/1.00 [00:01<00:00, 1.76s/chunk]\n",
            "INFO:turboml.common.internal:Completed data upload.\n",
            "INFO:turboml.common.internal:Starting to upload data... Total rows: 5000\n",
            "Progress: 100%|██████████| 5.00/5.00 [00:01<00:00, 3.94chunk/s]\n",
            "INFO:turboml.common.internal:Completed data upload.\n"
          ]
        },
        {
          "output_type": "stream",
          "name": "stdout",
          "text": [
            "Time elapsed 8.3989 seconds\n",
            "Timer 'inference_htc_model_5000' stopped. Elapsed time: 42.7501 seconds\n",
            "Timer 'inference_htc_model_10000' started.\n"
          ]
        },
        {
          "output_type": "stream",
          "name": "stderr",
          "text": [
            "INFO:turboml.common.internal:Starting to upload data... Total rows: 10000\n",
            "Progress:  50%|█████     | 1.00/2.00 [00:02<00:02, 2.28s/chunk]\n",
            "INFO:turboml.common.internal:Completed data upload.\n",
            "INFO:turboml.common.internal:Starting to upload data... Total rows: 10000\n",
            "Progress: 100%|██████████| 10.0/10.0 [00:01<00:00, 6.54chunk/s]\n",
            "INFO:turboml.common.internal:Completed data upload.\n"
          ]
        },
        {
          "output_type": "stream",
          "name": "stdout",
          "text": [
            "Time elapsed 9.9626 seconds\n"
          ]
        },
        {
          "output_type": "stream",
          "name": "stderr",
          "text": [
            "INFO:turboml.common.internal:Starting to upload data... Total rows: 10000\n",
            "Progress:  50%|█████     | 1.00/2.00 [00:02<00:02, 2.24s/chunk]\n",
            "INFO:turboml.common.internal:Completed data upload.\n",
            "INFO:turboml.common.internal:Starting to upload data... Total rows: 10000\n",
            "Progress: 100%|██████████| 10.0/10.0 [00:01<00:00, 6.60chunk/s]\n",
            "INFO:turboml.common.internal:Completed data upload.\n"
          ]
        },
        {
          "output_type": "stream",
          "name": "stdout",
          "text": [
            "Time elapsed 10.6790 seconds\n"
          ]
        },
        {
          "output_type": "stream",
          "name": "stderr",
          "text": [
            "INFO:turboml.common.internal:Starting to upload data... Total rows: 10000\n",
            "Progress:  50%|█████     | 1.00/2.00 [00:02<00:02, 2.27s/chunk]\n",
            "INFO:turboml.common.internal:Completed data upload.\n",
            "INFO:turboml.common.internal:Starting to upload data... Total rows: 10000\n",
            "Progress: 100%|██████████| 10.0/10.0 [00:01<00:00, 6.56chunk/s]\n",
            "INFO:turboml.common.internal:Completed data upload.\n"
          ]
        },
        {
          "output_type": "stream",
          "name": "stdout",
          "text": [
            "Time elapsed 9.9045 seconds\n"
          ]
        },
        {
          "output_type": "stream",
          "name": "stderr",
          "text": [
            "INFO:turboml.common.internal:Starting to upload data... Total rows: 10000\n",
            "Progress:  50%|█████     | 1.00/2.00 [00:02<00:02, 2.28s/chunk]\n",
            "INFO:turboml.common.internal:Completed data upload.\n",
            "INFO:turboml.common.internal:Starting to upload data... Total rows: 10000\n",
            "Progress: 100%|██████████| 10.0/10.0 [00:01<00:00, 6.62chunk/s]\n",
            "INFO:turboml.common.internal:Completed data upload.\n"
          ]
        },
        {
          "output_type": "stream",
          "name": "stdout",
          "text": [
            "Time elapsed 9.7190 seconds\n"
          ]
        },
        {
          "output_type": "stream",
          "name": "stderr",
          "text": [
            "INFO:turboml.common.internal:Starting to upload data... Total rows: 10000\n",
            "Progress:  50%|█████     | 1.00/2.00 [00:02<00:02, 2.31s/chunk]\n",
            "INFO:turboml.common.internal:Completed data upload.\n",
            "INFO:turboml.common.internal:Starting to upload data... Total rows: 10000\n",
            "Progress: 100%|██████████| 10.0/10.0 [00:01<00:00, 5.55chunk/s]\n",
            "INFO:turboml.common.internal:Completed data upload.\n"
          ]
        },
        {
          "output_type": "stream",
          "name": "stdout",
          "text": [
            "Time elapsed 10.0832 seconds\n",
            "Timer 'inference_htc_model_10000' stopped. Elapsed time: 50.3485 seconds\n",
            "Timer 'inference_htc_model_50000' started.\n"
          ]
        },
        {
          "output_type": "stream",
          "name": "stderr",
          "text": [
            "INFO:turboml.common.internal:Starting to upload data... Total rows: 50000\n",
            "Progress:  83%|████████▎ | 5.00/6.00 [00:08<00:01, 1.73s/chunk]\n",
            "INFO:turboml.common.internal:Completed data upload.\n",
            "INFO:turboml.common.internal:Starting to upload data... Total rows: 50000\n",
            "Progress: 100%|██████████| 49.0/49.0 [00:03<00:00, 15.8chunk/s]\n",
            "INFO:turboml.common.internal:Completed data upload.\n"
          ]
        },
        {
          "output_type": "stream",
          "name": "stdout",
          "text": [
            "Time elapsed 16.9204 seconds\n"
          ]
        },
        {
          "output_type": "stream",
          "name": "stderr",
          "text": [
            "INFO:turboml.common.internal:Starting to upload data... Total rows: 50000\n",
            "Progress:  83%|████████▎ | 5.00/6.00 [00:08<00:01, 1.64s/chunk]\n",
            "INFO:turboml.common.internal:Completed data upload.\n",
            "INFO:turboml.common.internal:Starting to upload data... Total rows: 50000\n",
            "Progress: 100%|██████████| 49.0/49.0 [00:03<00:00, 15.9chunk/s]\n",
            "INFO:turboml.common.internal:Completed data upload.\n"
          ]
        },
        {
          "output_type": "stream",
          "name": "stdout",
          "text": [
            "Time elapsed 16.7048 seconds\n"
          ]
        },
        {
          "output_type": "stream",
          "name": "stderr",
          "text": [
            "INFO:turboml.common.internal:Starting to upload data... Total rows: 50000\n",
            "Progress:  83%|████████▎ | 5.00/6.00 [00:08<00:01, 1.68s/chunk]\n",
            "INFO:turboml.common.internal:Completed data upload.\n",
            "INFO:turboml.common.internal:Starting to upload data... Total rows: 50000\n",
            "Progress: 100%|██████████| 49.0/49.0 [00:03<00:00, 15.8chunk/s]\n",
            "INFO:turboml.common.internal:Completed data upload.\n"
          ]
        },
        {
          "output_type": "stream",
          "name": "stdout",
          "text": [
            "Time elapsed 18.3192 seconds\n"
          ]
        },
        {
          "output_type": "stream",
          "name": "stderr",
          "text": [
            "INFO:turboml.common.internal:Starting to upload data... Total rows: 50000\n",
            "Progress:  83%|████████▎ | 5.00/6.00 [00:08<00:01, 1.65s/chunk]\n",
            "INFO:turboml.common.internal:Completed data upload.\n",
            "INFO:turboml.common.internal:Starting to upload data... Total rows: 50000\n",
            "Progress: 100%|██████████| 49.0/49.0 [00:03<00:00, 16.0chunk/s]\n",
            "INFO:turboml.common.internal:Completed data upload.\n"
          ]
        },
        {
          "output_type": "stream",
          "name": "stdout",
          "text": [
            "Time elapsed 16.9904 seconds\n"
          ]
        },
        {
          "output_type": "stream",
          "name": "stderr",
          "text": [
            "INFO:turboml.common.internal:Starting to upload data... Total rows: 50000\n",
            "Progress:  83%|████████▎ | 5.00/6.00 [00:08<00:01, 1.68s/chunk]\n",
            "INFO:turboml.common.internal:Completed data upload.\n",
            "INFO:turboml.common.internal:Starting to upload data... Total rows: 50000\n",
            "Progress: 100%|██████████| 49.0/49.0 [00:03<00:00, 15.8chunk/s]\n",
            "INFO:turboml.common.internal:Completed data upload.\n"
          ]
        },
        {
          "output_type": "stream",
          "name": "stdout",
          "text": [
            "Time elapsed 17.0088 seconds\n",
            "Timer 'inference_htc_model_50000' stopped. Elapsed time: 85.9444 seconds\n",
            "Timer 'inference_htc_model_100000' started.\n"
          ]
        },
        {
          "output_type": "stream",
          "name": "stderr",
          "text": [
            "INFO:turboml.common.internal:Starting to upload data... Total rows: 100000\n",
            "Progress:  91%|█████████ | 10.0/11.0 [00:13<00:01, 1.37s/chunk]\n",
            "INFO:turboml.common.internal:Completed data upload.\n",
            "INFO:turboml.common.internal:Starting to upload data... Total rows: 100000\n",
            "Progress: 100%|██████████| 98.0/98.0 [00:04<00:00, 20.8chunk/s]\n",
            "INFO:turboml.common.internal:Completed data upload.\n"
          ]
        },
        {
          "output_type": "stream",
          "name": "stdout",
          "text": [
            "Time elapsed 26.3191 seconds\n"
          ]
        },
        {
          "output_type": "stream",
          "name": "stderr",
          "text": [
            "INFO:turboml.common.internal:Starting to upload data... Total rows: 100000\n",
            "Progress:  91%|█████████ | 10.0/11.0 [00:13<00:01, 1.37s/chunk]\n",
            "INFO:turboml.common.internal:Completed data upload.\n",
            "INFO:turboml.common.internal:Starting to upload data... Total rows: 100000\n",
            "Progress: 100%|██████████| 98.0/98.0 [00:04<00:00, 20.4chunk/s]\n",
            "INFO:turboml.common.internal:Completed data upload.\n"
          ]
        },
        {
          "output_type": "stream",
          "name": "stdout",
          "text": [
            "Time elapsed 25.0784 seconds\n"
          ]
        },
        {
          "output_type": "stream",
          "name": "stderr",
          "text": [
            "INFO:turboml.common.internal:Starting to upload data... Total rows: 100000\n",
            "Progress:  91%|█████████ | 10.0/11.0 [00:13<00:01, 1.39s/chunk]\n",
            "INFO:turboml.common.internal:Completed data upload.\n",
            "INFO:turboml.common.internal:Starting to upload data... Total rows: 100000\n",
            "Progress: 100%|██████████| 98.0/98.0 [00:04<00:00, 20.4chunk/s]\n",
            "INFO:turboml.common.internal:Completed data upload.\n"
          ]
        },
        {
          "output_type": "stream",
          "name": "stdout",
          "text": [
            "Time elapsed 25.2770 seconds\n"
          ]
        },
        {
          "output_type": "stream",
          "name": "stderr",
          "text": [
            "INFO:turboml.common.internal:Starting to upload data... Total rows: 100000\n",
            "Progress:  91%|█████████ | 10.0/11.0 [00:13<00:01, 1.37s/chunk]\n",
            "INFO:turboml.common.internal:Completed data upload.\n",
            "INFO:turboml.common.internal:Starting to upload data... Total rows: 100000\n",
            "Progress: 100%|██████████| 98.0/98.0 [00:04<00:00, 20.1chunk/s]\n",
            "INFO:turboml.common.internal:Completed data upload.\n"
          ]
        },
        {
          "output_type": "stream",
          "name": "stdout",
          "text": [
            "Time elapsed 25.2774 seconds\n"
          ]
        },
        {
          "output_type": "stream",
          "name": "stderr",
          "text": [
            "INFO:turboml.common.internal:Starting to upload data... Total rows: 100000\n",
            "Progress:  91%|█████████ | 10.0/11.0 [00:13<00:01, 1.37s/chunk]\n",
            "INFO:turboml.common.internal:Completed data upload.\n",
            "INFO:turboml.common.internal:Starting to upload data... Total rows: 100000\n",
            "Progress: 100%|██████████| 98.0/98.0 [00:04<00:00, 21.2chunk/s]\n",
            "INFO:turboml.common.internal:Completed data upload.\n"
          ]
        },
        {
          "output_type": "stream",
          "name": "stdout",
          "text": [
            "Time elapsed 25.2736 seconds\n",
            "Timer 'inference_htc_model_100000' stopped. Elapsed time: 127.2257 seconds\n"
          ]
        }
      ]
    },
    {
      "cell_type": "markdown",
      "source": [
        "# Plot graphs"
      ],
      "metadata": {
        "id": "aEzWlAeSK6uN"
      }
    },
    {
      "cell_type": "markdown",
      "source": [
        "Model Batch Inference Time"
      ],
      "metadata": {
        "id": "oKLAIYvzfctZ"
      }
    },
    {
      "cell_type": "code",
      "source": [
        "intervals_axgb = {key: values for key, values in intervals.items() if \"inference_axgb\" in key}\n",
        "intervals_htc = {key: values for key, values in intervals.items() if \"inference_htc\" in key}\n",
        "\n",
        "# Calculate averages for each size\n",
        "averages_axgb = {key: sum(values) / len(values) for key, values in intervals_axgb.items()}\n",
        "sizes_axgb = [int(key.split('_')[3]) for key in averages_axgb.keys()]\n",
        "average_times_axgb = list(averages_axgb.values())\n",
        "\n",
        "averages_htc = {key: sum(values) / len(values) for key, values in intervals_htc.items()}\n",
        "sizes_htc = [int(key.split('_')[3]) for key in averages_htc.keys()]\n",
        "average_times_htc = list(averages_htc.values())\n",
        "\n",
        "# Plot individual graphs and a combined graph\n",
        "fig = go.Figure()\n",
        "\n",
        "# Add the average line\n",
        "fig.add_trace(go.Scatter(\n",
        "    x=sizes_axgb,\n",
        "    y=average_times_axgb,\n",
        "    mode='lines+markers',\n",
        "    name='AXGBoost Model',\n",
        "    line=dict(color='blue', width=2)\n",
        "))\n",
        "\n",
        "# Add the average line\n",
        "fig.add_trace(go.Scatter(\n",
        "    x=sizes_htc,\n",
        "    y=average_times_htc,\n",
        "    mode='lines+markers',\n",
        "    name='HTC Model',\n",
        "    line=dict(color='red', width=2)\n",
        "))\n",
        "\n",
        "# Customize the layout\n",
        "fig.update_layout(\n",
        "    title=\"Model Batch Inference Time\",\n",
        "    xaxis_title=f\"Batch Size \",\n",
        "    yaxis_title=\"Average Time Taken (seconds)\",\n",
        "    template=\"plotly_dark\",\n",
        "    legend=dict(title=\"Legend\", orientation=\"h\", yanchor=\"bottom\", y=-0.3, xanchor=\"center\", x=0.5),\n",
        "    margin=dict(l=40, r=40, t=40, b=40)\n",
        ")\n",
        "\n",
        "# Show the figure\n",
        "fig.show(\"svg\")"
      ],
      "metadata": {
        "colab": {
          "base_uri": "https://localhost:8080/",
          "height": 521
        },
        "id": "NVjK87hCK-Vy",
        "outputId": "167e6bee-c788-4920-ba8c-daf04817d55d"
      },
      "execution_count": 44,
      "outputs": [
        {
          "output_type": "display_data",
          "data": {
            "image/svg+xml": "<svg class=\"main-svg\" xmlns=\"http://www.w3.org/2000/svg\" xmlns:xlink=\"http://www.w3.org/1999/xlink\" width=\"700\" height=\"500\" style=\"\" viewBox=\"0 0 700 500\"><rect x=\"0\" y=\"0\" width=\"700\" height=\"500\" style=\"fill: rgb(17, 17, 17); fill-opacity: 1;\"/><defs id=\"defs-e7e87c\"><g class=\"clips\"><clipPath id=\"clipe7e87cxyplot\" class=\"plotclip\"><rect width=\"609\" height=\"345\"/></clipPath><clipPath class=\"axesclip\" id=\"clipe7e87cx\"><rect x=\"51\" y=\"0\" width=\"609\" height=\"500\"/></clipPath><clipPath class=\"axesclip\" id=\"clipe7e87cy\"><rect x=\"0\" y=\"40\" width=\"700\" height=\"345\"/></clipPath><clipPath class=\"axesclip\" id=\"clipe7e87cxy\"><rect x=\"51\" y=\"40\" width=\"609\" height=\"345\"/></clipPath></g><g class=\"gradients\"/><g class=\"patterns\"/></defs><g class=\"bglayer\"/><g class=\"layer-below\"><g class=\"imagelayer\"/><g class=\"shapelayer\"/></g><g class=\"cartesianlayer\"><g class=\"subplot xy\"><g class=\"layer-subplot\"><g class=\"shapelayer\"/><g class=\"imagelayer\"/></g><g class=\"minor-gridlayer\"><g class=\"x\"/><g class=\"y\"/></g><g class=\"gridlayer\"><g class=\"x\"><path class=\"xgrid crisp\" transform=\"translate(192.89,0)\" d=\"M0,40v345\" style=\"stroke: rgb(40, 52, 66); stroke-opacity: 1; stroke-width: 1px;\"/><path class=\"xgrid crisp\" transform=\"translate(301.12,0)\" d=\"M0,40v345\" style=\"stroke: rgb(40, 52, 66); stroke-opacity: 1; stroke-width: 1px;\"/><path class=\"xgrid crisp\" transform=\"translate(409.34,0)\" d=\"M0,40v345\" style=\"stroke: rgb(40, 52, 66); stroke-opacity: 1; stroke-width: 1px;\"/><path class=\"xgrid crisp\" transform=\"translate(517.5699999999999,0)\" d=\"M0,40v345\" style=\"stroke: rgb(40, 52, 66); stroke-opacity: 1; stroke-width: 1px;\"/><path class=\"xgrid crisp\" transform=\"translate(625.8,0)\" d=\"M0,40v345\" style=\"stroke: rgb(40, 52, 66); stroke-opacity: 1; stroke-width: 1px;\"/></g><g class=\"y\"><path class=\"ygrid crisp\" transform=\"translate(0,351.25)\" d=\"M51,0h609\" style=\"stroke: rgb(40, 52, 66); stroke-opacity: 1; stroke-width: 1px;\"/><path class=\"ygrid crisp\" transform=\"translate(0,291.43)\" d=\"M51,0h609\" style=\"stroke: rgb(40, 52, 66); stroke-opacity: 1; stroke-width: 1px;\"/><path class=\"ygrid crisp\" transform=\"translate(0,231.62)\" d=\"M51,0h609\" style=\"stroke: rgb(40, 52, 66); stroke-opacity: 1; stroke-width: 1px;\"/><path class=\"ygrid crisp\" transform=\"translate(0,171.81)\" d=\"M51,0h609\" style=\"stroke: rgb(40, 52, 66); stroke-opacity: 1; stroke-width: 1px;\"/><path class=\"ygrid crisp\" transform=\"translate(0,112)\" d=\"M51,0h609\" style=\"stroke: rgb(40, 52, 66); stroke-opacity: 1; stroke-width: 1px;\"/><path class=\"ygrid crisp\" transform=\"translate(0,52.19)\" d=\"M51,0h609\" style=\"stroke: rgb(40, 52, 66); stroke-opacity: 1; stroke-width: 1px;\"/></g></g><g class=\"zerolinelayer\"><path class=\"xzl zl crisp\" transform=\"translate(84.66,0)\" d=\"M0,40v345\" style=\"stroke: rgb(40, 52, 66); stroke-opacity: 1; stroke-width: 2px;\"/></g><g class=\"layer-between\"><g class=\"shapelayer\"/><g class=\"imagelayer\"/></g><path class=\"xlines-below\"/><path class=\"ylines-below\"/><g class=\"overlines-below\"/><g class=\"xaxislayer-below\"/><g class=\"yaxislayer-below\"/><g class=\"overaxes-below\"/><g class=\"overplot\"><g class=\"xy\" transform=\"translate(51,40)\" clip-path=\"url(#clipe7e87cxyplot)\"><g class=\"scatterlayer mlayer\"><g class=\"trace scatter trace5681bb\" style=\"stroke-miterlimit: 2; opacity: 1;\"><g class=\"fills\"/><g class=\"errorbars\"/><g class=\"lines\"><path class=\"js-line\" d=\"M34.2,323.8L39.07,296.92L60.72,263.1L87.77,246.43L304.23,142.83L574.8,21\" style=\"vector-effect: none; fill: none; stroke: rgb(0, 0, 255); stroke-opacity: 1; stroke-width: 2px; opacity: 1;\"/></g><g class=\"points\"><path class=\"point\" transform=\"translate(34.2,323.8)\" d=\"M3,0A3,3 0 1,1 0,-3A3,3 0 0,1 3,0Z\" style=\"opacity: 1; stroke-width: 0px; fill: rgb(0, 0, 255); fill-opacity: 1;\"/><path class=\"point\" transform=\"translate(39.07,296.92)\" d=\"M3,0A3,3 0 1,1 0,-3A3,3 0 0,1 3,0Z\" style=\"opacity: 1; stroke-width: 0px; fill: rgb(0, 0, 255); fill-opacity: 1;\"/><path class=\"point\" transform=\"translate(60.72,263.1)\" d=\"M3,0A3,3 0 1,1 0,-3A3,3 0 0,1 3,0Z\" style=\"opacity: 1; stroke-width: 0px; fill: rgb(0, 0, 255); fill-opacity: 1;\"/><path class=\"point\" transform=\"translate(87.77,246.43)\" d=\"M3,0A3,3 0 1,1 0,-3A3,3 0 0,1 3,0Z\" style=\"opacity: 1; stroke-width: 0px; fill: rgb(0, 0, 255); fill-opacity: 1;\"/><path class=\"point\" transform=\"translate(304.23,142.83)\" d=\"M3,0A3,3 0 1,1 0,-3A3,3 0 0,1 3,0Z\" style=\"opacity: 1; stroke-width: 0px; fill: rgb(0, 0, 255); fill-opacity: 1;\"/><path class=\"point\" transform=\"translate(574.8,21)\" d=\"M3,0A3,3 0 1,1 0,-3A3,3 0 0,1 3,0Z\" style=\"opacity: 1; stroke-width: 0px; fill: rgb(0, 0, 255); fill-opacity: 1;\"/></g><g class=\"text\"/></g><g class=\"trace scatter trace74c33f\" style=\"stroke-miterlimit: 2; opacity: 1;\"><g class=\"fills\"/><g class=\"errorbars\"/><g class=\"lines\"><path class=\"js-line\" d=\"M34.2,324L39.07,297.52L60.72,268.78L87.77,250.6L304.23,165.44L574.8,66.67\" style=\"vector-effect: none; fill: none; stroke: rgb(255, 0, 0); stroke-opacity: 1; stroke-width: 2px; opacity: 1;\"/></g><g class=\"points\"><path class=\"point\" transform=\"translate(34.2,324)\" d=\"M3,0A3,3 0 1,1 0,-3A3,3 0 0,1 3,0Z\" style=\"opacity: 1; stroke-width: 0px; fill: rgb(255, 0, 0); fill-opacity: 1;\"/><path class=\"point\" transform=\"translate(39.07,297.52)\" d=\"M3,0A3,3 0 1,1 0,-3A3,3 0 0,1 3,0Z\" style=\"opacity: 1; stroke-width: 0px; fill: rgb(255, 0, 0); fill-opacity: 1;\"/><path class=\"point\" transform=\"translate(60.72,268.78)\" d=\"M3,0A3,3 0 1,1 0,-3A3,3 0 0,1 3,0Z\" style=\"opacity: 1; stroke-width: 0px; fill: rgb(255, 0, 0); fill-opacity: 1;\"/><path class=\"point\" transform=\"translate(87.77,250.6)\" d=\"M3,0A3,3 0 1,1 0,-3A3,3 0 0,1 3,0Z\" style=\"opacity: 1; stroke-width: 0px; fill: rgb(255, 0, 0); fill-opacity: 1;\"/><path class=\"point\" transform=\"translate(304.23,165.44)\" d=\"M3,0A3,3 0 1,1 0,-3A3,3 0 0,1 3,0Z\" style=\"opacity: 1; stroke-width: 0px; fill: rgb(255, 0, 0); fill-opacity: 1;\"/><path class=\"point\" transform=\"translate(574.8,66.67)\" d=\"M3,0A3,3 0 1,1 0,-3A3,3 0 0,1 3,0Z\" style=\"opacity: 1; stroke-width: 0px; fill: rgb(255, 0, 0); fill-opacity: 1;\"/></g><g class=\"text\"/></g></g></g></g><path class=\"xlines-above crisp\" d=\"M0,0\" style=\"fill: none;\"/><path class=\"ylines-above crisp\" d=\"M0,0\" style=\"fill: none;\"/><g class=\"overlines-above\"/><g class=\"xaxislayer-above\"><g class=\"xtick\"><text text-anchor=\"middle\" x=\"0\" y=\"398\" transform=\"translate(84.66,0)\" style=\"font-family: 'Open Sans', verdana, arial, sans-serif; font-size: 12px; fill: rgb(242, 245, 250); fill-opacity: 1; white-space: pre; opacity: 1;\">0</text></g><g class=\"xtick\"><text text-anchor=\"middle\" x=\"0\" y=\"398\" style=\"font-family: 'Open Sans', verdana, arial, sans-serif; font-size: 12px; fill: rgb(242, 245, 250); fill-opacity: 1; white-space: pre; opacity: 1;\" transform=\"translate(192.89,0)\">20k</text></g><g class=\"xtick\"><text text-anchor=\"middle\" x=\"0\" y=\"398\" style=\"font-family: 'Open Sans', verdana, arial, sans-serif; font-size: 12px; fill: rgb(242, 245, 250); fill-opacity: 1; white-space: pre; opacity: 1;\" transform=\"translate(301.12,0)\">40k</text></g><g class=\"xtick\"><text text-anchor=\"middle\" x=\"0\" y=\"398\" style=\"font-family: 'Open Sans', verdana, arial, sans-serif; font-size: 12px; fill: rgb(242, 245, 250); fill-opacity: 1; white-space: pre; opacity: 1;\" transform=\"translate(409.34,0)\">60k</text></g><g class=\"xtick\"><text text-anchor=\"middle\" x=\"0\" y=\"398\" style=\"font-family: 'Open Sans', verdana, arial, sans-serif; font-size: 12px; fill: rgb(242, 245, 250); fill-opacity: 1; white-space: pre; opacity: 1;\" transform=\"translate(517.5699999999999,0)\">80k</text></g><g class=\"xtick\"><text text-anchor=\"middle\" x=\"0\" y=\"398\" style=\"font-family: 'Open Sans', verdana, arial, sans-serif; font-size: 12px; fill: rgb(242, 245, 250); fill-opacity: 1; white-space: pre; opacity: 1;\" transform=\"translate(625.8,0)\">100k</text></g></g><g class=\"yaxislayer-above\"><g class=\"ytick\"><text text-anchor=\"end\" x=\"50\" y=\"4.199999999999999\" transform=\"translate(0,351.25)\" style=\"font-family: 'Open Sans', verdana, arial, sans-serif; font-size: 12px; fill: rgb(242, 245, 250); fill-opacity: 1; white-space: pre; opacity: 1;\">5</text></g><g class=\"ytick\"><text text-anchor=\"end\" x=\"50\" y=\"4.199999999999999\" style=\"font-family: 'Open Sans', verdana, arial, sans-serif; font-size: 12px; fill: rgb(242, 245, 250); fill-opacity: 1; white-space: pre; opacity: 1;\" transform=\"translate(0,291.43)\">10</text></g><g class=\"ytick\"><text text-anchor=\"end\" x=\"50\" y=\"4.199999999999999\" style=\"font-family: 'Open Sans', verdana, arial, sans-serif; font-size: 12px; fill: rgb(242, 245, 250); fill-opacity: 1; white-space: pre; opacity: 1;\" transform=\"translate(0,231.62)\">15</text></g><g class=\"ytick\"><text text-anchor=\"end\" x=\"50\" y=\"4.199999999999999\" style=\"font-family: 'Open Sans', verdana, arial, sans-serif; font-size: 12px; fill: rgb(242, 245, 250); fill-opacity: 1; white-space: pre; opacity: 1;\" transform=\"translate(0,171.81)\">20</text></g><g class=\"ytick\"><text text-anchor=\"end\" x=\"50\" y=\"4.199999999999999\" style=\"font-family: 'Open Sans', verdana, arial, sans-serif; font-size: 12px; fill: rgb(242, 245, 250); fill-opacity: 1; white-space: pre; opacity: 1;\" transform=\"translate(0,112)\">25</text></g><g class=\"ytick\"><text text-anchor=\"end\" x=\"50\" y=\"4.199999999999999\" style=\"font-family: 'Open Sans', verdana, arial, sans-serif; font-size: 12px; fill: rgb(242, 245, 250); fill-opacity: 1; white-space: pre; opacity: 1;\" transform=\"translate(0,52.19)\">30</text></g></g><g class=\"overaxes-above\"/></g></g><g class=\"polarlayer\"/><g class=\"smithlayer\"/><g class=\"ternarylayer\"/><g class=\"geolayer\"/><g class=\"funnelarealayer\"/><g class=\"pielayer\"/><g class=\"iciclelayer\"/><g class=\"treemaplayer\"/><g class=\"sunburstlayer\"/><g class=\"glimages\"/><defs id=\"topdefs-e7e87c\"><g class=\"clips\"/><clipPath id=\"legende7e87c\"><rect width=\"300\" height=\"29\" x=\"0\" y=\"0\"/></clipPath></defs><g class=\"layer-above\"><g class=\"imagelayer\"/><g class=\"shapelayer\"/></g><g class=\"infolayer\"><g class=\"legend\" pointer-events=\"all\" transform=\"translate(205.5,459.5)\"><rect class=\"bg\" shape-rendering=\"crispEdges\" width=\"300\" height=\"29\" x=\"0\" y=\"0\" style=\"stroke: rgb(68, 68, 68); stroke-opacity: 1; fill: rgb(17, 17, 17); fill-opacity: 1; stroke-width: 0px;\"/><g class=\"scrollbox\" transform=\"\" clip-path=\"url(#legende7e87c)\"><text class=\"legendtitletext\" text-anchor=\"start\" x=\"2\" y=\"18.2\" style=\"font-family: 'Open Sans', verdana, arial, sans-serif; font-size: 14px; fill: rgb(242, 245, 250); fill-opacity: 1; white-space: pre;\">Legend</text><g class=\"groups\"><g class=\"traces\" transform=\"translate(56.71875,14.5)\" style=\"opacity: 1;\"><text class=\"legendtext\" text-anchor=\"start\" x=\"40\" y=\"4.680000000000001\" style=\"font-family: 'Open Sans', verdana, arial, sans-serif; font-size: 12px; fill: rgb(242, 245, 250); fill-opacity: 1; white-space: pre;\">AXGBoost Model</text><g class=\"layers\" style=\"opacity: 1;\"><g class=\"legendfill\"/><g class=\"legendlines\"><path class=\"js-line\" d=\"M5,0h30\" style=\"fill: none; stroke: rgb(0, 0, 255); stroke-opacity: 1; stroke-width: 2px;\"/></g><g class=\"legendsymbols\"><g class=\"legendpoints\"><path class=\"scatterpts\" transform=\"translate(20,0)\" d=\"M3,0A3,3 0 1,1 0,-3A3,3 0 0,1 3,0Z\" style=\"opacity: 1; stroke-width: 0px; fill: rgb(0, 0, 255); fill-opacity: 1;\"/></g></g></g><rect class=\"legendtoggle\" x=\"0\" y=\"-9.5\" width=\"134.546875\" height=\"19\" style=\"fill: rgb(0, 0, 0); fill-opacity: 0;\"/></g><g class=\"traces\" transform=\"translate(193.765625,14.5)\" style=\"opacity: 1;\"><text class=\"legendtext\" text-anchor=\"start\" x=\"40\" y=\"4.680000000000001\" style=\"font-family: 'Open Sans', verdana, arial, sans-serif; font-size: 12px; fill: rgb(242, 245, 250); fill-opacity: 1; white-space: pre;\">HTC Model</text><g class=\"layers\" style=\"opacity: 1;\"><g class=\"legendfill\"/><g class=\"legendlines\"><path class=\"js-line\" d=\"M5,0h30\" style=\"fill: none; stroke: rgb(255, 0, 0); stroke-opacity: 1; stroke-width: 2px;\"/></g><g class=\"legendsymbols\"><g class=\"legendpoints\"><path class=\"scatterpts\" transform=\"translate(20,0)\" d=\"M3,0A3,3 0 1,1 0,-3A3,3 0 0,1 3,0Z\" style=\"opacity: 1; stroke-width: 0px; fill: rgb(255, 0, 0); fill-opacity: 1;\"/></g></g></g><rect class=\"legendtoggle\" x=\"0\" y=\"-9.5\" width=\"103.1875\" height=\"19\" style=\"fill: rgb(0, 0, 0); fill-opacity: 0;\"/></g></g></g><rect class=\"scrollbar\" rx=\"20\" ry=\"3\" width=\"0\" height=\"0\" x=\"0\" y=\"0\" style=\"fill: rgb(128, 139, 164); fill-opacity: 1;\"/></g><g class=\"g-gtitle\"><text class=\"gtitle\" x=\"35\" y=\"20\" text-anchor=\"start\" dy=\"0em\" style=\"opacity: 1; font-family: 'Open Sans', verdana, arial, sans-serif; font-size: 17px; fill: rgb(242, 245, 250); fill-opacity: 1; white-space: pre;\">Model Batch Inference Time</text></g><g class=\"g-xtitle\"><text class=\"xtitle\" x=\"355.5\" y=\"425.3\" text-anchor=\"middle\" style=\"opacity: 1; font-family: 'Open Sans', verdana, arial, sans-serif; font-size: 14px; fill: rgb(242, 245, 250); fill-opacity: 1; white-space: pre;\">Batch Size</text></g><g class=\"g-ytitle\"><text class=\"ytitle\" transform=\"rotate(-90,17.240625,212.5)\" x=\"17.240625\" y=\"212.5\" text-anchor=\"middle\" style=\"opacity: 1; font-family: 'Open Sans', verdana, arial, sans-serif; font-size: 14px; fill: rgb(242, 245, 250); fill-opacity: 1; white-space: pre;\">Average Time Taken (seconds)</text></g></g></svg>"
          },
          "metadata": {}
        }
      ]
    },
    {
      "cell_type": "markdown",
      "source": [
        "Model Batch Inference Time: Rows Per Second"
      ],
      "metadata": {
        "id": "EZKsh2lgfbs8"
      }
    },
    {
      "cell_type": "code",
      "source": [
        "# Calculate Rows Per Second (RPS)\n",
        "rps_axgb = {size: size / avg_time for size, avg_time in zip(sizes_axgb, averages_axgb.values())}\n",
        "rps_htc = {size: size / avg_time for size, avg_time in zip(sizes_htc, averages_htc.values())}\n",
        "\n",
        "\n",
        "# Plot individual graphs and a combined graph\n",
        "fig = go.Figure()\n",
        "\n",
        "\n",
        "# Add the average line\n",
        "fig.add_trace(go.Scatter(\n",
        "    x=sizes_axgb,\n",
        "    y=[rps_axgb[size] for size in sizes_axgb],\n",
        "    mode='lines+markers',\n",
        "    name='AXGBoost Model',\n",
        "    line=dict(color='blue', width=2)\n",
        "))\n",
        "\n",
        "# Add the average line\n",
        "fig.add_trace(go.Scatter(\n",
        "    x=sizes_htc,\n",
        "    y=[rps_htc[size] for size in sizes_htc],\n",
        "    mode='lines+markers',\n",
        "    name='HTC Model',\n",
        "    line=dict(color='red', width=2)\n",
        "))\n",
        "\n",
        "# Customize the layout\n",
        "fig.update_layout(\n",
        "    title=\"Model Batch Inference Time: Rows Per Second\",\n",
        "    xaxis_title=f\"Batch Size\",\n",
        "    yaxis_title=\"Rows Per Second\",\n",
        "    template=\"plotly_dark\",\n",
        "    legend=dict(title=\"Legend\", orientation=\"h\", yanchor=\"bottom\", y=-0.3, xanchor=\"center\", x=0.5),\n",
        "    margin=dict(l=40, r=40, t=40, b=40)\n",
        ")\n",
        "\n",
        "# Show the figure\n",
        "fig.show(\"svg\")"
      ],
      "metadata": {
        "colab": {
          "base_uri": "https://localhost:8080/",
          "height": 521
        },
        "id": "qTcdKsgVe18l",
        "outputId": "181c0fc2-59c7-4300-ca08-06abfc74c13e"
      },
      "execution_count": 43,
      "outputs": [
        {
          "output_type": "display_data",
          "data": {
            "image/svg+xml": "<svg class=\"main-svg\" xmlns=\"http://www.w3.org/2000/svg\" xmlns:xlink=\"http://www.w3.org/1999/xlink\" width=\"700\" height=\"500\" style=\"\" viewBox=\"0 0 700 500\"><rect x=\"0\" y=\"0\" width=\"700\" height=\"500\" style=\"fill: rgb(17, 17, 17); fill-opacity: 1;\"/><defs id=\"defs-5f4e23\"><g class=\"clips\"><clipPath id=\"clip5f4e23xyplot\" class=\"plotclip\"><rect width=\"595\" height=\"345\"/></clipPath><clipPath class=\"axesclip\" id=\"clip5f4e23x\"><rect x=\"65\" y=\"0\" width=\"595\" height=\"500\"/></clipPath><clipPath class=\"axesclip\" id=\"clip5f4e23y\"><rect x=\"0\" y=\"40\" width=\"700\" height=\"345\"/></clipPath><clipPath class=\"axesclip\" id=\"clip5f4e23xy\"><rect x=\"65\" y=\"40\" width=\"595\" height=\"345\"/></clipPath></g><g class=\"gradients\"/><g class=\"patterns\"/></defs><g class=\"bglayer\"/><g class=\"layer-below\"><g class=\"imagelayer\"/><g class=\"shapelayer\"/></g><g class=\"cartesianlayer\"><g class=\"subplot xy\"><g class=\"layer-subplot\"><g class=\"shapelayer\"/><g class=\"imagelayer\"/></g><g class=\"minor-gridlayer\"><g class=\"x\"/><g class=\"y\"/></g><g class=\"gridlayer\"><g class=\"x\"><path class=\"xgrid crisp\" transform=\"translate(203.68,0)\" d=\"M0,40v345\" style=\"stroke: rgb(40, 52, 66); stroke-opacity: 1; stroke-width: 1px;\"/><path class=\"xgrid crisp\" transform=\"translate(309.38,0)\" d=\"M0,40v345\" style=\"stroke: rgb(40, 52, 66); stroke-opacity: 1; stroke-width: 1px;\"/><path class=\"xgrid crisp\" transform=\"translate(415.09,0)\" d=\"M0,40v345\" style=\"stroke: rgb(40, 52, 66); stroke-opacity: 1; stroke-width: 1px;\"/><path class=\"xgrid crisp\" transform=\"translate(520.79,0)\" d=\"M0,40v345\" style=\"stroke: rgb(40, 52, 66); stroke-opacity: 1; stroke-width: 1px;\"/><path class=\"xgrid crisp\" transform=\"translate(626.5,0)\" d=\"M0,40v345\" style=\"stroke: rgb(40, 52, 66); stroke-opacity: 1; stroke-width: 1px;\"/></g><g class=\"y\"><path class=\"ygrid crisp\" transform=\"translate(0,327.16)\" d=\"M65,0h595\" style=\"stroke: rgb(40, 52, 66); stroke-opacity: 1; stroke-width: 1px;\"/><path class=\"ygrid crisp\" transform=\"translate(0,288.37)\" d=\"M65,0h595\" style=\"stroke: rgb(40, 52, 66); stroke-opacity: 1; stroke-width: 1px;\"/><path class=\"ygrid crisp\" transform=\"translate(0,249.57)\" d=\"M65,0h595\" style=\"stroke: rgb(40, 52, 66); stroke-opacity: 1; stroke-width: 1px;\"/><path class=\"ygrid crisp\" transform=\"translate(0,210.77)\" d=\"M65,0h595\" style=\"stroke: rgb(40, 52, 66); stroke-opacity: 1; stroke-width: 1px;\"/><path class=\"ygrid crisp\" transform=\"translate(0,171.97)\" d=\"M65,0h595\" style=\"stroke: rgb(40, 52, 66); stroke-opacity: 1; stroke-width: 1px;\"/><path class=\"ygrid crisp\" transform=\"translate(0,133.17000000000002)\" d=\"M65,0h595\" style=\"stroke: rgb(40, 52, 66); stroke-opacity: 1; stroke-width: 1px;\"/><path class=\"ygrid crisp\" transform=\"translate(0,94.37)\" d=\"M65,0h595\" style=\"stroke: rgb(40, 52, 66); stroke-opacity: 1; stroke-width: 1px;\"/><path class=\"ygrid crisp\" transform=\"translate(0,55.57)\" d=\"M65,0h595\" style=\"stroke: rgb(40, 52, 66); stroke-opacity: 1; stroke-width: 1px;\"/></g></g><g class=\"zerolinelayer\"><path class=\"xzl zl crisp\" transform=\"translate(97.97,0)\" d=\"M0,40v345\" style=\"stroke: rgb(40, 52, 66); stroke-opacity: 1; stroke-width: 2px;\"/><path class=\"yzl zl crisp\" transform=\"translate(0,365.96)\" d=\"M65,0h595\" style=\"stroke: rgb(40, 52, 66); stroke-opacity: 1; stroke-width: 2px;\"/></g><g class=\"layer-between\"><g class=\"shapelayer\"/><g class=\"imagelayer\"/></g><path class=\"xlines-below\"/><path class=\"ylines-below\"/><g class=\"overlines-below\"/><g class=\"xaxislayer-below\"/><g class=\"yaxislayer-below\"/><g class=\"overaxes-below\"/><g class=\"overplot\"><g class=\"xy\" transform=\"translate(65,40)\" clip-path=\"url(#clip5f4e23xyplot)\"><g class=\"scatterlayer mlayer\"><g class=\"trace scatter tracecc7d66\" style=\"stroke-miterlimit: 2; opacity: 1;\"><g class=\"fills\"/><g class=\"errorbars\"/><g class=\"lines\"><path class=\"js-line\" d=\"M33.5,324L38.26,313.44L59.4,282.97L85.82,251.48L297.24,122.6L561.5,60.79\" style=\"vector-effect: none; fill: none; stroke: rgb(0, 0, 255); stroke-opacity: 1; stroke-width: 2px; opacity: 1;\"/></g><g class=\"points\"><path class=\"point\" transform=\"translate(33.5,324)\" d=\"M3,0A3,3 0 1,1 0,-3A3,3 0 0,1 3,0Z\" style=\"opacity: 1; stroke-width: 0px; fill: rgb(0, 0, 255); fill-opacity: 1;\"/><path class=\"point\" transform=\"translate(38.26,313.44)\" d=\"M3,0A3,3 0 1,1 0,-3A3,3 0 0,1 3,0Z\" style=\"opacity: 1; stroke-width: 0px; fill: rgb(0, 0, 255); fill-opacity: 1;\"/><path class=\"point\" transform=\"translate(59.4,282.97)\" d=\"M3,0A3,3 0 1,1 0,-3A3,3 0 0,1 3,0Z\" style=\"opacity: 1; stroke-width: 0px; fill: rgb(0, 0, 255); fill-opacity: 1;\"/><path class=\"point\" transform=\"translate(85.82,251.48)\" d=\"M3,0A3,3 0 1,1 0,-3A3,3 0 0,1 3,0Z\" style=\"opacity: 1; stroke-width: 0px; fill: rgb(0, 0, 255); fill-opacity: 1;\"/><path class=\"point\" transform=\"translate(297.24,122.6)\" d=\"M3,0A3,3 0 1,1 0,-3A3,3 0 0,1 3,0Z\" style=\"opacity: 1; stroke-width: 0px; fill: rgb(0, 0, 255); fill-opacity: 1;\"/><path class=\"point\" transform=\"translate(561.5,60.79)\" d=\"M3,0A3,3 0 1,1 0,-3A3,3 0 0,1 3,0Z\" style=\"opacity: 1; stroke-width: 0px; fill: rgb(0, 0, 255); fill-opacity: 1;\"/></g><g class=\"text\"/></g><g class=\"trace scatter trace8a1689\" style=\"stroke-miterlimit: 2; opacity: 1;\"><g class=\"fills\"/><g class=\"errorbars\"/><g class=\"lines\"><path class=\"js-line\" d=\"M33.5,323.99L38.26,313.34L59.4,280.58L85.82,248.9L297.24,100.24L561.5,21\" style=\"vector-effect: none; fill: none; stroke: rgb(255, 0, 0); stroke-opacity: 1; stroke-width: 2px; opacity: 1;\"/></g><g class=\"points\"><path class=\"point\" transform=\"translate(33.5,323.99)\" d=\"M3,0A3,3 0 1,1 0,-3A3,3 0 0,1 3,0Z\" style=\"opacity: 1; stroke-width: 0px; fill: rgb(255, 0, 0); fill-opacity: 1;\"/><path class=\"point\" transform=\"translate(38.26,313.34)\" d=\"M3,0A3,3 0 1,1 0,-3A3,3 0 0,1 3,0Z\" style=\"opacity: 1; stroke-width: 0px; fill: rgb(255, 0, 0); fill-opacity: 1;\"/><path class=\"point\" transform=\"translate(59.4,280.58)\" d=\"M3,0A3,3 0 1,1 0,-3A3,3 0 0,1 3,0Z\" style=\"opacity: 1; stroke-width: 0px; fill: rgb(255, 0, 0); fill-opacity: 1;\"/><path class=\"point\" transform=\"translate(85.82,248.9)\" d=\"M3,0A3,3 0 1,1 0,-3A3,3 0 0,1 3,0Z\" style=\"opacity: 1; stroke-width: 0px; fill: rgb(255, 0, 0); fill-opacity: 1;\"/><path class=\"point\" transform=\"translate(297.24,100.24)\" d=\"M3,0A3,3 0 1,1 0,-3A3,3 0 0,1 3,0Z\" style=\"opacity: 1; stroke-width: 0px; fill: rgb(255, 0, 0); fill-opacity: 1;\"/><path class=\"point\" transform=\"translate(561.5,21)\" d=\"M3,0A3,3 0 1,1 0,-3A3,3 0 0,1 3,0Z\" style=\"opacity: 1; stroke-width: 0px; fill: rgb(255, 0, 0); fill-opacity: 1;\"/></g><g class=\"text\"/></g></g></g></g><path class=\"xlines-above crisp\" d=\"M0,0\" style=\"fill: none;\"/><path class=\"ylines-above crisp\" d=\"M0,0\" style=\"fill: none;\"/><g class=\"overlines-above\"/><g class=\"xaxislayer-above\"><g class=\"xtick\"><text text-anchor=\"middle\" x=\"0\" y=\"398\" transform=\"translate(97.97,0)\" style=\"font-family: 'Open Sans', verdana, arial, sans-serif; font-size: 12px; fill: rgb(242, 245, 250); fill-opacity: 1; white-space: pre; opacity: 1;\">0</text></g><g class=\"xtick\"><text text-anchor=\"middle\" x=\"0\" y=\"398\" style=\"font-family: 'Open Sans', verdana, arial, sans-serif; font-size: 12px; fill: rgb(242, 245, 250); fill-opacity: 1; white-space: pre; opacity: 1;\" transform=\"translate(203.68,0)\">20k</text></g><g class=\"xtick\"><text text-anchor=\"middle\" x=\"0\" y=\"398\" style=\"font-family: 'Open Sans', verdana, arial, sans-serif; font-size: 12px; fill: rgb(242, 245, 250); fill-opacity: 1; white-space: pre; opacity: 1;\" transform=\"translate(309.38,0)\">40k</text></g><g class=\"xtick\"><text text-anchor=\"middle\" x=\"0\" y=\"398\" style=\"font-family: 'Open Sans', verdana, arial, sans-serif; font-size: 12px; fill: rgb(242, 245, 250); fill-opacity: 1; white-space: pre; opacity: 1;\" transform=\"translate(415.09,0)\">60k</text></g><g class=\"xtick\"><text text-anchor=\"middle\" x=\"0\" y=\"398\" style=\"font-family: 'Open Sans', verdana, arial, sans-serif; font-size: 12px; fill: rgb(242, 245, 250); fill-opacity: 1; white-space: pre; opacity: 1;\" transform=\"translate(520.79,0)\">80k</text></g><g class=\"xtick\"><text text-anchor=\"middle\" x=\"0\" y=\"398\" style=\"font-family: 'Open Sans', verdana, arial, sans-serif; font-size: 12px; fill: rgb(242, 245, 250); fill-opacity: 1; white-space: pre; opacity: 1;\" transform=\"translate(626.5,0)\">100k</text></g></g><g class=\"yaxislayer-above\"><g class=\"ytick\"><text text-anchor=\"end\" x=\"64\" y=\"4.199999999999999\" transform=\"translate(0,365.96)\" style=\"font-family: 'Open Sans', verdana, arial, sans-serif; font-size: 12px; fill: rgb(242, 245, 250); fill-opacity: 1; white-space: pre; opacity: 1;\">0</text></g><g class=\"ytick\"><text text-anchor=\"end\" x=\"64\" y=\"4.199999999999999\" style=\"font-family: 'Open Sans', verdana, arial, sans-serif; font-size: 12px; fill: rgb(242, 245, 250); fill-opacity: 1; white-space: pre; opacity: 1;\" transform=\"translate(0,327.16)\">500</text></g><g class=\"ytick\"><text text-anchor=\"end\" x=\"64\" y=\"4.199999999999999\" style=\"font-family: 'Open Sans', verdana, arial, sans-serif; font-size: 12px; fill: rgb(242, 245, 250); fill-opacity: 1; white-space: pre; opacity: 1;\" transform=\"translate(0,288.37)\">1000</text></g><g class=\"ytick\"><text text-anchor=\"end\" x=\"64\" y=\"4.199999999999999\" style=\"font-family: 'Open Sans', verdana, arial, sans-serif; font-size: 12px; fill: rgb(242, 245, 250); fill-opacity: 1; white-space: pre; opacity: 1;\" transform=\"translate(0,249.57)\">1500</text></g><g class=\"ytick\"><text text-anchor=\"end\" x=\"64\" y=\"4.199999999999999\" style=\"font-family: 'Open Sans', verdana, arial, sans-serif; font-size: 12px; fill: rgb(242, 245, 250); fill-opacity: 1; white-space: pre; opacity: 1;\" transform=\"translate(0,210.77)\">2000</text></g><g class=\"ytick\"><text text-anchor=\"end\" x=\"64\" y=\"4.199999999999999\" style=\"font-family: 'Open Sans', verdana, arial, sans-serif; font-size: 12px; fill: rgb(242, 245, 250); fill-opacity: 1; white-space: pre; opacity: 1;\" transform=\"translate(0,171.97)\">2500</text></g><g class=\"ytick\"><text text-anchor=\"end\" x=\"64\" y=\"4.199999999999999\" style=\"font-family: 'Open Sans', verdana, arial, sans-serif; font-size: 12px; fill: rgb(242, 245, 250); fill-opacity: 1; white-space: pre; opacity: 1;\" transform=\"translate(0,133.17000000000002)\">3000</text></g><g class=\"ytick\"><text text-anchor=\"end\" x=\"64\" y=\"4.199999999999999\" style=\"font-family: 'Open Sans', verdana, arial, sans-serif; font-size: 12px; fill: rgb(242, 245, 250); fill-opacity: 1; white-space: pre; opacity: 1;\" transform=\"translate(0,94.37)\">3500</text></g><g class=\"ytick\"><text text-anchor=\"end\" x=\"64\" y=\"4.199999999999999\" style=\"font-family: 'Open Sans', verdana, arial, sans-serif; font-size: 12px; fill: rgb(242, 245, 250); fill-opacity: 1; white-space: pre; opacity: 1;\" transform=\"translate(0,55.57)\">4000</text></g></g><g class=\"overaxes-above\"/></g></g><g class=\"polarlayer\"/><g class=\"smithlayer\"/><g class=\"ternarylayer\"/><g class=\"geolayer\"/><g class=\"funnelarealayer\"/><g class=\"pielayer\"/><g class=\"iciclelayer\"/><g class=\"treemaplayer\"/><g class=\"sunburstlayer\"/><g class=\"glimages\"/><defs id=\"topdefs-5f4e23\"><g class=\"clips\"/><clipPath id=\"legend5f4e23\"><rect width=\"300\" height=\"29\" x=\"0\" y=\"0\"/></clipPath></defs><g class=\"layer-above\"><g class=\"imagelayer\"/><g class=\"shapelayer\"/></g><g class=\"infolayer\"><g class=\"legend\" pointer-events=\"all\" transform=\"translate(212.5,459.5)\"><rect class=\"bg\" shape-rendering=\"crispEdges\" style=\"stroke: rgb(68, 68, 68); stroke-opacity: 1; fill: rgb(17, 17, 17); fill-opacity: 1; stroke-width: 0px;\" width=\"300\" height=\"29\" x=\"0\" y=\"0\"/><g class=\"scrollbox\" transform=\"\" clip-path=\"url(#legend5f4e23)\"><text class=\"legendtitletext\" text-anchor=\"start\" x=\"2\" y=\"18.2\" style=\"font-family: 'Open Sans', verdana, arial, sans-serif; font-size: 14px; fill: rgb(242, 245, 250); fill-opacity: 1; white-space: pre;\">Legend</text><g class=\"groups\"><g class=\"traces\" transform=\"translate(56.71875,14.5)\" style=\"opacity: 1;\"><text class=\"legendtext\" text-anchor=\"start\" x=\"40\" y=\"4.680000000000001\" style=\"font-family: 'Open Sans', verdana, arial, sans-serif; font-size: 12px; fill: rgb(242, 245, 250); fill-opacity: 1; white-space: pre;\">AXGBoost Model</text><g class=\"layers\" style=\"opacity: 1;\"><g class=\"legendfill\"/><g class=\"legendlines\"><path class=\"js-line\" d=\"M5,0h30\" style=\"fill: none; stroke: rgb(0, 0, 255); stroke-opacity: 1; stroke-width: 2px;\"/></g><g class=\"legendsymbols\"><g class=\"legendpoints\"><path class=\"scatterpts\" transform=\"translate(20,0)\" d=\"M3,0A3,3 0 1,1 0,-3A3,3 0 0,1 3,0Z\" style=\"opacity: 1; stroke-width: 0px; fill: rgb(0, 0, 255); fill-opacity: 1;\"/></g></g></g><rect class=\"legendtoggle\" x=\"0\" y=\"-9.5\" width=\"134.546875\" height=\"19\" style=\"fill: rgb(0, 0, 0); fill-opacity: 0;\"/></g><g class=\"traces\" transform=\"translate(193.765625,14.5)\" style=\"opacity: 1;\"><text class=\"legendtext\" text-anchor=\"start\" x=\"40\" y=\"4.680000000000001\" style=\"font-family: 'Open Sans', verdana, arial, sans-serif; font-size: 12px; fill: rgb(242, 245, 250); fill-opacity: 1; white-space: pre;\">HTC Model</text><g class=\"layers\" style=\"opacity: 1;\"><g class=\"legendfill\"/><g class=\"legendlines\"><path class=\"js-line\" d=\"M5,0h30\" style=\"fill: none; stroke: rgb(255, 0, 0); stroke-opacity: 1; stroke-width: 2px;\"/></g><g class=\"legendsymbols\"><g class=\"legendpoints\"><path class=\"scatterpts\" transform=\"translate(20,0)\" d=\"M3,0A3,3 0 1,1 0,-3A3,3 0 0,1 3,0Z\" style=\"opacity: 1; stroke-width: 0px; fill: rgb(255, 0, 0); fill-opacity: 1;\"/></g></g></g><rect class=\"legendtoggle\" x=\"0\" y=\"-9.5\" width=\"103.1875\" height=\"19\" style=\"fill: rgb(0, 0, 0); fill-opacity: 0;\"/></g></g></g><rect class=\"scrollbar\" rx=\"20\" ry=\"3\" width=\"0\" height=\"0\" style=\"fill: rgb(128, 139, 164); fill-opacity: 1;\" x=\"0\" y=\"0\"/></g><g class=\"g-gtitle\"><text class=\"gtitle\" x=\"35\" y=\"20\" text-anchor=\"start\" dy=\"0em\" style=\"opacity: 1; font-family: 'Open Sans', verdana, arial, sans-serif; font-size: 17px; fill: rgb(242, 245, 250); fill-opacity: 1; white-space: pre;\">Model Batch Inference Time: Rows Per Second</text></g><g class=\"g-xtitle\"><text class=\"xtitle\" x=\"362.5\" y=\"425.3\" text-anchor=\"middle\" style=\"opacity: 1; font-family: 'Open Sans', verdana, arial, sans-serif; font-size: 14px; fill: rgb(242, 245, 250); fill-opacity: 1; white-space: pre;\">Batch Size</text></g><g class=\"g-ytitle\"><text class=\"ytitle\" transform=\"rotate(-90,17.896875,212.5)\" x=\"17.896875\" y=\"212.5\" text-anchor=\"middle\" style=\"opacity: 1; font-family: 'Open Sans', verdana, arial, sans-serif; font-size: 14px; fill: rgb(242, 245, 250); fill-opacity: 1; white-space: pre;\">Rows Per Second</text></g></g></svg>"
          },
          "metadata": {}
        }
      ]
    }
  ]
}