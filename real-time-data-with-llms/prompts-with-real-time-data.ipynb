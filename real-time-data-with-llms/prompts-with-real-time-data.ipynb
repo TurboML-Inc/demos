{
  "cells": [
    {
      "cell_type": "markdown",
      "metadata": {
        "id": "pXe6XAtCPdFM"
      },
      "source": [
        "## Real-time data for LLMs"
      ]
    },
    {
      "cell_type": "markdown",
      "metadata": {
        "id": "ZvOvOkU5PdFN"
      },
      "source": [
        "Clone the repo with notebooks and corresponding data."
      ]
    },
    {
      "cell_type": "code",
      "execution_count": null,
      "metadata": {
        "id": "A-O9XsM3PdFN"
      },
      "outputs": [],
      "source": [
        "!git clone https://github.com/TurboML-Inc/colab-notebooks.git"
      ]
    },
    {
      "cell_type": "markdown",
      "metadata": {
        "id": "yGTDXiy-PdFN"
      },
      "source": [
        "Set up the environment and install TurboML's SDK."
      ]
    },
    {
      "cell_type": "code",
      "execution_count": null,
      "metadata": {
        "id": "TE9IUJHHPdFN"
      },
      "outputs": [],
      "source": [
        "!pip install -q condacolab\n",
        "import condacolab\n",
        "condacolab.install()\n",
        "!bash colab-notebooks/install_turboml.sh"
      ]
    },
    {
      "cell_type": "markdown",
      "metadata": {
        "id": "F2C83ut5PdFN"
      },
      "source": [
        "The kernel should now be restarted with TurboML's SDK installed."
      ]
    },
    {
      "cell_type": "code",
      "execution_count": null,
      "metadata": {
        "id": "YDxTr3ElPdFO"
      },
      "outputs": [],
      "source": [
        "cd colab-notebooks"
      ]
    },
    {
      "cell_type": "markdown",
      "metadata": {
        "id": "aF7tkNhZPdFO"
      },
      "source": [
        "Login to your TurboML instance."
      ]
    },
    {
      "cell_type": "code",
      "execution_count": null,
      "metadata": {
        "id": "WoDMmaFQPdFO"
      },
      "outputs": [],
      "source": [
        "import pandas as pd\n",
        "import turboml as tb\n",
        "\n",
        "tb.init(backend_url=BACKEND_URL, api_key=API_KEY)"
      ]
    },
    {
      "cell_type": "code",
      "source": [
        "try:\n",
        "    transactions = tb.PandasDataset(\n",
        "        dataset_name=\"transactions_prompt\",\n",
        "        key_field=\"index\",\n",
        "        dataframe=pd.read_csv(\"data/transactions.csv\").reset_index(),\n",
        "        upload=True,\n",
        "    )\n",
        "except:\n",
        "    transactions = tb.PandasDataset(dataset_name=\"transactions_prompt\")"
      ],
      "metadata": {
        "id": "XzeLWP9-PsZ1"
      },
      "execution_count": null,
      "outputs": []
    },
    {
      "cell_type": "code",
      "source": [
        "transactions.feature_engineering.register_timestamp(column_name=\"timestamp\", format_type=\"epoch_seconds\")"
      ],
      "metadata": {
        "id": "WrnPuEGcPx5V"
      },
      "execution_count": null,
      "outputs": []
    },
    {
      "cell_type": "code",
      "source": [
        "transactions.feature_engineering.create_aggregate_features(\n",
        "    column_to_operate=\"transactionAmount\",\n",
        "    column_to_group=\"accountID\",\n",
        "    operation=\"SUM\",\n",
        "    new_feature_name=\"my_sum_feat\",\n",
        "    timestamp_column=\"timestamp\",\n",
        "    window_duration=24,\n",
        "    window_unit=\"hours\"\n",
        ")\n",
        "transactions.feature_engineering.materialize_features([\"my_sum_feat\"])"
      ],
      "metadata": {
        "id": "pM0ZBePqPzQK"
      },
      "execution_count": null,
      "outputs": []
    },
    {
      "cell_type": "code",
      "source": [
        "from typing import List, Dict\n",
        "import pandas as pd\n",
        "from turboml.common.feature_engineering import retrieve_features\n",
        "\n",
        "class TurboMLPromptTemplate:\n",
        "    def __init__(\n",
        "        self,\n",
        "        template: str,\n",
        "        dataset_id: str,\n",
        "    ):\n",
        "        self.dataset_id = dataset_id\n",
        "        self.template = template\n",
        "\n",
        "    def get_prompts(self, df: pd.DataFrame) -> List[str]:\n",
        "        prompts = []\n",
        "        for prompt_data in retrieve_features(self.dataset_id, df).to_dict('records'):\n",
        "            prompt = self.template.format(**prompt_data)\n",
        "            prompts.append(prompt)\n",
        "        return prompts"
      ],
      "metadata": {
        "id": "f-5_vpW-P34r"
      },
      "execution_count": null,
      "outputs": []
    },
    {
      "cell_type": "code",
      "source": [
        "template_str = \"Give the likelihood of fraud for account {accountID} for the transaction of amount {transactionAmount} performed at time {transactionTime} from the location {paymentBillingState}, given the total transacted amount in the last 24 hours is {my_sum_feat}: \"\n",
        "turbo_prompt = TurboMLPromptTemplate(\n",
        "    template=template_str,\n",
        "    dataset_id=\"transactions_prompt\",\n",
        ")\n",
        "\n",
        "prompts = turbo_prompt.get_prompts(df=transactions.input_df[-5:])\n",
        "for prompt in prompts:\n",
        "    print(prompt)\n",
        "    print(\"---\")"
      ],
      "metadata": {
        "id": "U2GOk2UWP4bh"
      },
      "execution_count": null,
      "outputs": []
    },
    {
      "cell_type": "code",
      "source": [],
      "metadata": {
        "id": "F2aEH23ASCuD"
      },
      "execution_count": null,
      "outputs": []
    }
  ],
  "metadata": {
    "kernelspec": {
      "display_name": "Python 3 (ipykernel)",
      "language": "python",
      "name": "python3"
    },
    "language_info": {
      "codemirror_mode": {
        "name": "ipython",
        "version": 3
      },
      "file_extension": ".py",
      "mimetype": "text/x-python",
      "name": "python",
      "nbconvert_exporter": "python",
      "pygments_lexer": "ipython3",
      "version": "3.11.9"
    },
    "colab": {
      "provenance": []
    }
  },
  "nbformat": 4,
  "nbformat_minor": 0
}
